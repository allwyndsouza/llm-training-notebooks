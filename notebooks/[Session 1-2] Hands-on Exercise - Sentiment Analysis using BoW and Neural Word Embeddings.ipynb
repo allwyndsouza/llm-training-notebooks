{
 "cells": [
  {
   "cell_type": "code",
   "execution_count": 1,
   "id": "5ef7f1e7",
   "metadata": {},
   "outputs": [
    {
     "name": "stderr",
     "output_type": "stream",
     "text": [
      "/Users/anantagarwal/opt/anaconda3/lib/python3.8/site-packages/xgboost/compat.py:36: FutureWarning: pandas.Int64Index is deprecated and will be removed from pandas in a future version. Use pandas.Index with the appropriate dtype instead.\n",
      "  from pandas import MultiIndex, Int64Index\n"
     ]
    }
   ],
   "source": [
    "#Importing libraries\n",
    "from gensim.parsing.preprocessing import remove_stopwords\n",
    "from gensim.utils import simple_preprocess\n",
    "from gensim.parsing.porter import PorterStemmer\n",
    "from gensim.models import Word2Vec\n",
    "from absl import logging\n",
    "from yellowbrick.text import TSNEVisualizer\n",
    "from sklearn.datasets import load_files\n",
    "from sklearn.feature_extraction.text import CountVectorizer, TfidfVectorizer \n",
    "from sklearn.model_selection import GridSearchCV, RandomizedSearchCV\n",
    "from sklearn.pipeline import Pipeline\n",
    "from sklearn.linear_model import LogisticRegression\n",
    "from sklearn.naive_bayes import MultinomialNB\n",
    "from sklearn.svm import LinearSVC\n",
    "from sklearn.model_selection import train_test_split\n",
    "from sklearn.ensemble import RandomForestClassifier\n",
    "from sklearn.neighbors import KNeighborsClassifier\n",
    "from sklearn.preprocessing import MinMaxScaler\n",
    "from scipy import spatial\n",
    "from sklearn.manifold import TSNE\n",
    "\n",
    "import tensorflow_hub as hub\n",
    "import tensorflow as tf\n",
    "import xgboost as xgb\n",
    "import pandas as pd\n",
    "import numpy as np\n",
    "import warnings\n",
    "import urllib.request\n",
    "import matplotlib.pyplot as plt\n",
    "\n",
    "warnings.filterwarnings('ignore')\n",
    "%matplotlib inline"
   ]
  },
  {
   "cell_type": "code",
   "execution_count": 3,
   "id": "8205b3eb",
   "metadata": {},
   "outputs": [],
   "source": [
    "#Loading movie reviews data\n",
    "data = load_files('datasets/txt_sentoken')"
   ]
  },
  {
   "cell_type": "code",
   "execution_count": 4,
   "id": "d2c72bb4",
   "metadata": {
    "scrolled": true
   },
   "outputs": [
    {
     "name": "stdout",
     "output_type": "stream",
     "text": [
      "b\"arnold schwarzenegger has been an icon for action enthusiasts , since the late 80's , but lately his films have been very sloppy and the one-liners are getting worse . \\nit's hard seeing arnold as mr . freeze in batman and robin , especially when he says tons of ice jokes , but hey he got 15 million , what's it matter to him ? \\nonce again arnold has signed to do another expensive blockbuster , that can't compare with the likes of the terminator series , true lies and even eraser . \\nin this so cal\"\n"
     ]
    }
   ],
   "source": [
    "print(data.data[0][:500])"
   ]
  },
  {
   "cell_type": "code",
   "execution_count": 5,
   "id": "ead50196",
   "metadata": {},
   "outputs": [
    {
     "name": "stdout",
     "output_type": "stream",
     "text": [
      "dict_keys(['data', 'filenames', 'target_names', 'target', 'DESCR'])\n",
      "2000\n",
      "['neg', 'pos']\n",
      "[0 1 1 ... 1 0 0]\n"
     ]
    }
   ],
   "source": [
    "#Understand data\n",
    "print(data.keys())\n",
    "print(len(data.data))\n",
    "print(data.target_names)\n",
    "print(data.target)"
   ]
  },
  {
   "cell_type": "code",
   "execution_count": 6,
   "id": "6378dea5",
   "metadata": {},
   "outputs": [
    {
     "data": {
      "text/html": [
       "<div>\n",
       "<style scoped>\n",
       "    .dataframe tbody tr th:only-of-type {\n",
       "        vertical-align: middle;\n",
       "    }\n",
       "\n",
       "    .dataframe tbody tr th {\n",
       "        vertical-align: top;\n",
       "    }\n",
       "\n",
       "    .dataframe thead th {\n",
       "        text-align: right;\n",
       "    }\n",
       "</style>\n",
       "<table border=\"1\" class=\"dataframe\">\n",
       "  <thead>\n",
       "    <tr style=\"text-align: right;\">\n",
       "      <th></th>\n",
       "      <th>Logistic Regression</th>\n",
       "      <th>Naive Bayes</th>\n",
       "      <th>K-Nearest Neighbours</th>\n",
       "      <th>Support Vector Machine</th>\n",
       "      <th>Random Forest</th>\n",
       "    </tr>\n",
       "  </thead>\n",
       "  <tbody>\n",
       "    <tr>\n",
       "      <th>BoW</th>\n",
       "      <td>NaN</td>\n",
       "      <td>NaN</td>\n",
       "      <td>NaN</td>\n",
       "      <td>NaN</td>\n",
       "      <td>NaN</td>\n",
       "    </tr>\n",
       "    <tr>\n",
       "      <th>TF-IDF</th>\n",
       "      <td>NaN</td>\n",
       "      <td>NaN</td>\n",
       "      <td>NaN</td>\n",
       "      <td>NaN</td>\n",
       "      <td>NaN</td>\n",
       "    </tr>\n",
       "    <tr>\n",
       "      <th>Word2Vec(CBoW)</th>\n",
       "      <td>NaN</td>\n",
       "      <td>NaN</td>\n",
       "      <td>NaN</td>\n",
       "      <td>NaN</td>\n",
       "      <td>NaN</td>\n",
       "    </tr>\n",
       "    <tr>\n",
       "      <th>Word2Vec(Skip-Gram)</th>\n",
       "      <td>NaN</td>\n",
       "      <td>NaN</td>\n",
       "      <td>NaN</td>\n",
       "      <td>NaN</td>\n",
       "      <td>NaN</td>\n",
       "    </tr>\n",
       "    <tr>\n",
       "      <th>ELMo</th>\n",
       "      <td>NaN</td>\n",
       "      <td>NaN</td>\n",
       "      <td>NaN</td>\n",
       "      <td>NaN</td>\n",
       "      <td>NaN</td>\n",
       "    </tr>\n",
       "    <tr>\n",
       "      <th>USE</th>\n",
       "      <td>NaN</td>\n",
       "      <td>NaN</td>\n",
       "      <td>NaN</td>\n",
       "      <td>NaN</td>\n",
       "      <td>NaN</td>\n",
       "    </tr>\n",
       "  </tbody>\n",
       "</table>\n",
       "</div>"
      ],
      "text/plain": [
       "                    Logistic Regression Naive Bayes K-Nearest Neighbours  \\\n",
       "BoW                                 NaN         NaN                  NaN   \n",
       "TF-IDF                              NaN         NaN                  NaN   \n",
       "Word2Vec(CBoW)                      NaN         NaN                  NaN   \n",
       "Word2Vec(Skip-Gram)                 NaN         NaN                  NaN   \n",
       "ELMo                                NaN         NaN                  NaN   \n",
       "USE                                 NaN         NaN                  NaN   \n",
       "\n",
       "                    Support Vector Machine Random Forest  \n",
       "BoW                                    NaN           NaN  \n",
       "TF-IDF                                 NaN           NaN  \n",
       "Word2Vec(CBoW)                         NaN           NaN  \n",
       "Word2Vec(Skip-Gram)                    NaN           NaN  \n",
       "ELMo                                   NaN           NaN  \n",
       "USE                                    NaN           NaN  "
      ]
     },
     "execution_count": 6,
     "metadata": {},
     "output_type": "execute_result"
    }
   ],
   "source": [
    "#Initializing result matrix\n",
    "result_df = pd.DataFrame(index = [\"BoW\",\"TF-IDF\",\"Word2Vec(CBoW)\",\"Word2Vec(Skip-Gram)\",\"ELMo\",\"USE\"], columns = [\"Logistic Regression\",\"Naive Bayes\",\"K-Nearest Neighbours\",\"Support Vector Machine\",\"Random Forest\"])\n",
    "result_df"
   ]
  },
  {
   "cell_type": "markdown",
   "id": "6913588a",
   "metadata": {},
   "source": [
    "## CountVectorizer (Bag-of-Words)"
   ]
  },
  {
   "cell_type": "markdown",
   "id": "33358d22",
   "metadata": {},
   "source": [
    "### Basic Syntax"
   ]
  },
  {
   "cell_type": "code",
   "execution_count": 7,
   "id": "05de5caa",
   "metadata": {
    "scrolled": true
   },
   "outputs": [
    {
     "data": {
      "text/html": [
       "<div>\n",
       "<style scoped>\n",
       "    .dataframe tbody tr th:only-of-type {\n",
       "        vertical-align: middle;\n",
       "    }\n",
       "\n",
       "    .dataframe tbody tr th {\n",
       "        vertical-align: top;\n",
       "    }\n",
       "\n",
       "    .dataframe thead th {\n",
       "        text-align: right;\n",
       "    }\n",
       "</style>\n",
       "<table border=\"1\" class=\"dataframe\">\n",
       "  <thead>\n",
       "    <tr style=\"text-align: right;\">\n",
       "      <th></th>\n",
       "      <th>character</th>\n",
       "      <th>characters</th>\n",
       "      <th>film</th>\n",
       "      <th>good</th>\n",
       "      <th>just</th>\n",
       "      <th>like</th>\n",
       "      <th>movie</th>\n",
       "      <th>story</th>\n",
       "      <th>time</th>\n",
       "      <th>way</th>\n",
       "      <th>target</th>\n",
       "    </tr>\n",
       "  </thead>\n",
       "  <tbody>\n",
       "    <tr>\n",
       "      <th>0</th>\n",
       "      <td>1</td>\n",
       "      <td>0</td>\n",
       "      <td>8</td>\n",
       "      <td>0</td>\n",
       "      <td>3</td>\n",
       "      <td>6</td>\n",
       "      <td>4</td>\n",
       "      <td>0</td>\n",
       "      <td>0</td>\n",
       "      <td>0</td>\n",
       "      <td>0</td>\n",
       "    </tr>\n",
       "    <tr>\n",
       "      <th>1</th>\n",
       "      <td>4</td>\n",
       "      <td>1</td>\n",
       "      <td>8</td>\n",
       "      <td>1</td>\n",
       "      <td>0</td>\n",
       "      <td>0</td>\n",
       "      <td>3</td>\n",
       "      <td>4</td>\n",
       "      <td>0</td>\n",
       "      <td>0</td>\n",
       "      <td>1</td>\n",
       "    </tr>\n",
       "    <tr>\n",
       "      <th>2</th>\n",
       "      <td>0</td>\n",
       "      <td>0</td>\n",
       "      <td>0</td>\n",
       "      <td>0</td>\n",
       "      <td>0</td>\n",
       "      <td>0</td>\n",
       "      <td>5</td>\n",
       "      <td>0</td>\n",
       "      <td>1</td>\n",
       "      <td>0</td>\n",
       "      <td>1</td>\n",
       "    </tr>\n",
       "    <tr>\n",
       "      <th>3</th>\n",
       "      <td>2</td>\n",
       "      <td>2</td>\n",
       "      <td>1</td>\n",
       "      <td>1</td>\n",
       "      <td>0</td>\n",
       "      <td>2</td>\n",
       "      <td>1</td>\n",
       "      <td>2</td>\n",
       "      <td>0</td>\n",
       "      <td>0</td>\n",
       "      <td>0</td>\n",
       "    </tr>\n",
       "    <tr>\n",
       "      <th>4</th>\n",
       "      <td>0</td>\n",
       "      <td>1</td>\n",
       "      <td>1</td>\n",
       "      <td>0</td>\n",
       "      <td>0</td>\n",
       "      <td>0</td>\n",
       "      <td>0</td>\n",
       "      <td>0</td>\n",
       "      <td>2</td>\n",
       "      <td>0</td>\n",
       "      <td>1</td>\n",
       "    </tr>\n",
       "  </tbody>\n",
       "</table>\n",
       "</div>"
      ],
      "text/plain": [
       "   character  characters  film  good  just  like  movie  story  time  way  \\\n",
       "0          1           0     8     0     3     6      4      0     0    0   \n",
       "1          4           1     8     1     0     0      3      4     0    0   \n",
       "2          0           0     0     0     0     0      5      0     1    0   \n",
       "3          2           2     1     1     0     2      1      2     0    0   \n",
       "4          0           1     1     0     0     0      0      0     2    0   \n",
       "\n",
       "   target  \n",
       "0       0  \n",
       "1       1  \n",
       "2       1  \n",
       "3       0  \n",
       "4       1  "
      ]
     },
     "execution_count": 7,
     "metadata": {},
     "output_type": "execute_result"
    }
   ],
   "source": [
    "#Fitting CountVectorizer with 10 features\n",
    "count_vect = CountVectorizer(max_features=10, stop_words='english')\n",
    "X = count_vect.fit_transform(data.data).toarray()  # Returns a sparse matric which we convert to an array\n",
    "\n",
    "#Put together a df with the results\n",
    "bow_df = pd.DataFrame(X, columns=count_vect.get_feature_names_out(), index=range(0,len(data.data)))\n",
    "bow_df['target'] = data.target \n",
    "bow_df.head()"
   ]
  },
  {
   "cell_type": "markdown",
   "id": "792e883e",
   "metadata": {},
   "source": [
    "### Naive Bayes"
   ]
  },
  {
   "cell_type": "code",
   "execution_count": 8,
   "id": "94314365",
   "metadata": {},
   "outputs": [],
   "source": [
    "params = {\"count_vectorizer__max_features\": [5,10,20],\n",
    "          \"naivebayes__alpha\": [1, 0.1, 0.01, 0.001, 0.0001, 0.00001]}\n",
    "\n",
    "clf = Pipeline([(\"count_vectorizer\", CountVectorizer(stop_words='english')),\n",
    "                (\"naivebayes\", MultinomialNB())])"
   ]
  },
  {
   "cell_type": "code",
   "execution_count": 9,
   "id": "a297c1b2",
   "metadata": {},
   "outputs": [
    {
     "name": "stdout",
     "output_type": "stream",
     "text": [
      "Fitting 5 folds for each of 18 candidates, totalling 90 fits\n",
      "Pipeline(steps=[('count_vectorizer',\n",
      "                 CountVectorizer(max_features=20, stop_words='english')),\n",
      "                ('naivebayes', MultinomialNB(alpha=0.1))])\n",
      "0.6369999999999999\n"
     ]
    }
   ],
   "source": [
    "gs = GridSearchCV(clf, params, verbose=2, n_jobs=-1)\n",
    "gs.fit(data.data, data.target)\n",
    "print(gs.best_estimator_)\n",
    "print(gs.best_score_)"
   ]
  },
  {
   "cell_type": "code",
   "execution_count": 10,
   "id": "4dcf1af2",
   "metadata": {},
   "outputs": [
    {
     "name": "stdout",
     "output_type": "stream",
     "text": [
      "Fitting 5 folds for each of 10 candidates, totalling 50 fits\n",
      "Pipeline(steps=[('count_vectorizer',\n",
      "                 CountVectorizer(max_features=20, stop_words='english')),\n",
      "                ('naivebayes', MultinomialNB(alpha=0.01))])\n",
      "0.6369999999999999\n"
     ]
    }
   ],
   "source": [
    "rs = RandomizedSearchCV(clf, params, verbose=2, n_jobs=-1)\n",
    "rs.fit(data.data, data.target)\n",
    "print(rs.best_estimator_)\n",
    "print(rs.best_score_)"
   ]
  },
  {
   "cell_type": "code",
   "execution_count": 11,
   "id": "c61f297e",
   "metadata": {},
   "outputs": [
    {
     "data": {
      "text/html": [
       "<div>\n",
       "<style scoped>\n",
       "    .dataframe tbody tr th:only-of-type {\n",
       "        vertical-align: middle;\n",
       "    }\n",
       "\n",
       "    .dataframe tbody tr th {\n",
       "        vertical-align: top;\n",
       "    }\n",
       "\n",
       "    .dataframe thead th {\n",
       "        text-align: right;\n",
       "    }\n",
       "</style>\n",
       "<table border=\"1\" class=\"dataframe\">\n",
       "  <thead>\n",
       "    <tr style=\"text-align: right;\">\n",
       "      <th></th>\n",
       "      <th>Logistic Regression</th>\n",
       "      <th>Naive Bayes</th>\n",
       "      <th>K-Nearest Neighbours</th>\n",
       "      <th>Support Vector Machine</th>\n",
       "      <th>Random Forest</th>\n",
       "    </tr>\n",
       "  </thead>\n",
       "  <tbody>\n",
       "    <tr>\n",
       "      <th>BoW</th>\n",
       "      <td>NaN</td>\n",
       "      <td>0.637</td>\n",
       "      <td>NaN</td>\n",
       "      <td>NaN</td>\n",
       "      <td>NaN</td>\n",
       "    </tr>\n",
       "    <tr>\n",
       "      <th>TF-IDF</th>\n",
       "      <td>NaN</td>\n",
       "      <td>NaN</td>\n",
       "      <td>NaN</td>\n",
       "      <td>NaN</td>\n",
       "      <td>NaN</td>\n",
       "    </tr>\n",
       "    <tr>\n",
       "      <th>Word2Vec(CBoW)</th>\n",
       "      <td>NaN</td>\n",
       "      <td>NaN</td>\n",
       "      <td>NaN</td>\n",
       "      <td>NaN</td>\n",
       "      <td>NaN</td>\n",
       "    </tr>\n",
       "    <tr>\n",
       "      <th>Word2Vec(Skip-Gram)</th>\n",
       "      <td>NaN</td>\n",
       "      <td>NaN</td>\n",
       "      <td>NaN</td>\n",
       "      <td>NaN</td>\n",
       "      <td>NaN</td>\n",
       "    </tr>\n",
       "    <tr>\n",
       "      <th>ELMo</th>\n",
       "      <td>NaN</td>\n",
       "      <td>NaN</td>\n",
       "      <td>NaN</td>\n",
       "      <td>NaN</td>\n",
       "      <td>NaN</td>\n",
       "    </tr>\n",
       "    <tr>\n",
       "      <th>USE</th>\n",
       "      <td>NaN</td>\n",
       "      <td>NaN</td>\n",
       "      <td>NaN</td>\n",
       "      <td>NaN</td>\n",
       "      <td>NaN</td>\n",
       "    </tr>\n",
       "  </tbody>\n",
       "</table>\n",
       "</div>"
      ],
      "text/plain": [
       "                    Logistic Regression Naive Bayes K-Nearest Neighbours  \\\n",
       "BoW                                 NaN       0.637                  NaN   \n",
       "TF-IDF                              NaN         NaN                  NaN   \n",
       "Word2Vec(CBoW)                      NaN         NaN                  NaN   \n",
       "Word2Vec(Skip-Gram)                 NaN         NaN                  NaN   \n",
       "ELMo                                NaN         NaN                  NaN   \n",
       "USE                                 NaN         NaN                  NaN   \n",
       "\n",
       "                    Support Vector Machine Random Forest  \n",
       "BoW                                    NaN           NaN  \n",
       "TF-IDF                                 NaN           NaN  \n",
       "Word2Vec(CBoW)                         NaN           NaN  \n",
       "Word2Vec(Skip-Gram)                    NaN           NaN  \n",
       "ELMo                                   NaN           NaN  \n",
       "USE                                    NaN           NaN  "
      ]
     },
     "execution_count": 11,
     "metadata": {},
     "output_type": "execute_result"
    }
   ],
   "source": [
    "#Save best score\n",
    "result_df.loc[\"BoW\",\"Naive Bayes\"] = max(rs.best_score_,gs.best_score_)\n",
    "result_df"
   ]
  },
  {
   "cell_type": "markdown",
   "id": "5f456b26",
   "metadata": {},
   "source": [
    "### Logistic Regression"
   ]
  },
  {
   "cell_type": "code",
   "execution_count": 12,
   "id": "949e01cb",
   "metadata": {},
   "outputs": [],
   "source": [
    "params = {\"count_vectorizer__max_features\": [5,10,20],\n",
    "          \"logreg__C\": np.logspace(-3,3,7),\n",
    "          \"logreg__penalty\":[\"l1\",\"l2\"]}\n",
    "\n",
    "clf = Pipeline([(\"count_vectorizer\", CountVectorizer(stop_words='english')),\n",
    "                (\"logreg\", LogisticRegression())])"
   ]
  },
  {
   "cell_type": "code",
   "execution_count": 13,
   "id": "a04db0ba",
   "metadata": {},
   "outputs": [
    {
     "name": "stdout",
     "output_type": "stream",
     "text": [
      "Fitting 5 folds for each of 42 candidates, totalling 210 fits\n",
      "Pipeline(steps=[('count_vectorizer',\n",
      "                 CountVectorizer(max_features=20, stop_words='english')),\n",
      "                ('logreg', LogisticRegression(C=0.01))])\n",
      "0.658\n"
     ]
    }
   ],
   "source": [
    "gs = GridSearchCV(clf, params, verbose=2, n_jobs=-1)\n",
    "gs.fit(data.data, data.target)\n",
    "print(gs.best_estimator_)\n",
    "print(gs.best_score_)"
   ]
  },
  {
   "cell_type": "code",
   "execution_count": 14,
   "id": "c7f73ce5",
   "metadata": {},
   "outputs": [
    {
     "name": "stdout",
     "output_type": "stream",
     "text": [
      "Fitting 5 folds for each of 10 candidates, totalling 50 fits\n",
      "Pipeline(steps=[('count_vectorizer',\n",
      "                 CountVectorizer(max_features=20, stop_words='english')),\n",
      "                ('logreg', LogisticRegression(C=0.01))])\n",
      "0.658\n"
     ]
    }
   ],
   "source": [
    "rs = RandomizedSearchCV(clf, params, verbose=2, n_jobs=-1)\n",
    "rs.fit(data.data, data.target)\n",
    "print(rs.best_estimator_)\n",
    "print(rs.best_score_)"
   ]
  },
  {
   "cell_type": "code",
   "execution_count": 15,
   "id": "1e78bac2",
   "metadata": {},
   "outputs": [
    {
     "data": {
      "text/html": [
       "<div>\n",
       "<style scoped>\n",
       "    .dataframe tbody tr th:only-of-type {\n",
       "        vertical-align: middle;\n",
       "    }\n",
       "\n",
       "    .dataframe tbody tr th {\n",
       "        vertical-align: top;\n",
       "    }\n",
       "\n",
       "    .dataframe thead th {\n",
       "        text-align: right;\n",
       "    }\n",
       "</style>\n",
       "<table border=\"1\" class=\"dataframe\">\n",
       "  <thead>\n",
       "    <tr style=\"text-align: right;\">\n",
       "      <th></th>\n",
       "      <th>Logistic Regression</th>\n",
       "      <th>Naive Bayes</th>\n",
       "      <th>K-Nearest Neighbours</th>\n",
       "      <th>Support Vector Machine</th>\n",
       "      <th>Random Forest</th>\n",
       "    </tr>\n",
       "  </thead>\n",
       "  <tbody>\n",
       "    <tr>\n",
       "      <th>BoW</th>\n",
       "      <td>0.658</td>\n",
       "      <td>0.637</td>\n",
       "      <td>NaN</td>\n",
       "      <td>NaN</td>\n",
       "      <td>NaN</td>\n",
       "    </tr>\n",
       "    <tr>\n",
       "      <th>TF-IDF</th>\n",
       "      <td>NaN</td>\n",
       "      <td>NaN</td>\n",
       "      <td>NaN</td>\n",
       "      <td>NaN</td>\n",
       "      <td>NaN</td>\n",
       "    </tr>\n",
       "    <tr>\n",
       "      <th>Word2Vec(CBoW)</th>\n",
       "      <td>NaN</td>\n",
       "      <td>NaN</td>\n",
       "      <td>NaN</td>\n",
       "      <td>NaN</td>\n",
       "      <td>NaN</td>\n",
       "    </tr>\n",
       "    <tr>\n",
       "      <th>Word2Vec(Skip-Gram)</th>\n",
       "      <td>NaN</td>\n",
       "      <td>NaN</td>\n",
       "      <td>NaN</td>\n",
       "      <td>NaN</td>\n",
       "      <td>NaN</td>\n",
       "    </tr>\n",
       "    <tr>\n",
       "      <th>ELMo</th>\n",
       "      <td>NaN</td>\n",
       "      <td>NaN</td>\n",
       "      <td>NaN</td>\n",
       "      <td>NaN</td>\n",
       "      <td>NaN</td>\n",
       "    </tr>\n",
       "    <tr>\n",
       "      <th>USE</th>\n",
       "      <td>NaN</td>\n",
       "      <td>NaN</td>\n",
       "      <td>NaN</td>\n",
       "      <td>NaN</td>\n",
       "      <td>NaN</td>\n",
       "    </tr>\n",
       "  </tbody>\n",
       "</table>\n",
       "</div>"
      ],
      "text/plain": [
       "                    Logistic Regression Naive Bayes K-Nearest Neighbours  \\\n",
       "BoW                               0.658       0.637                  NaN   \n",
       "TF-IDF                              NaN         NaN                  NaN   \n",
       "Word2Vec(CBoW)                      NaN         NaN                  NaN   \n",
       "Word2Vec(Skip-Gram)                 NaN         NaN                  NaN   \n",
       "ELMo                                NaN         NaN                  NaN   \n",
       "USE                                 NaN         NaN                  NaN   \n",
       "\n",
       "                    Support Vector Machine Random Forest  \n",
       "BoW                                    NaN           NaN  \n",
       "TF-IDF                                 NaN           NaN  \n",
       "Word2Vec(CBoW)                         NaN           NaN  \n",
       "Word2Vec(Skip-Gram)                    NaN           NaN  \n",
       "ELMo                                   NaN           NaN  \n",
       "USE                                    NaN           NaN  "
      ]
     },
     "execution_count": 15,
     "metadata": {},
     "output_type": "execute_result"
    }
   ],
   "source": [
    "#Save best score\n",
    "result_df.loc[\"BoW\",\"Logistic Regression\"] = max(rs.best_score_,gs.best_score_)\n",
    "result_df"
   ]
  },
  {
   "cell_type": "markdown",
   "id": "0269440b",
   "metadata": {},
   "source": [
    "### K-Nearest Neighbours"
   ]
  },
  {
   "cell_type": "code",
   "execution_count": 16,
   "id": "f98cf89f",
   "metadata": {},
   "outputs": [],
   "source": [
    "params = {\"count_vectorizer__max_features\": [5,10,20],\n",
    "          \"knn__n_neighbors\": [1,5,10,20]}\n",
    "\n",
    "clf = Pipeline([(\"count_vectorizer\", CountVectorizer(stop_words='english')),\n",
    "                (\"knn\", KNeighborsClassifier())])"
   ]
  },
  {
   "cell_type": "code",
   "execution_count": 17,
   "id": "d7302534",
   "metadata": {},
   "outputs": [
    {
     "name": "stdout",
     "output_type": "stream",
     "text": [
      "Fitting 5 folds for each of 12 candidates, totalling 60 fits\n",
      "Pipeline(steps=[('count_vectorizer',\n",
      "                 CountVectorizer(max_features=20, stop_words='english')),\n",
      "                ('knn', KNeighborsClassifier(n_neighbors=10))])\n",
      "0.5725\n"
     ]
    }
   ],
   "source": [
    "gs = GridSearchCV(clf, params, verbose=2, n_jobs=-1)\n",
    "gs.fit(data.data, data.target)\n",
    "print(gs.best_estimator_)\n",
    "print(gs.best_score_)"
   ]
  },
  {
   "cell_type": "code",
   "execution_count": 18,
   "id": "0c661876",
   "metadata": {},
   "outputs": [
    {
     "name": "stdout",
     "output_type": "stream",
     "text": [
      "Fitting 5 folds for each of 10 candidates, totalling 50 fits\n",
      "Pipeline(steps=[('count_vectorizer',\n",
      "                 CountVectorizer(max_features=20, stop_words='english')),\n",
      "                ('knn', KNeighborsClassifier(n_neighbors=10))])\n",
      "0.5725\n"
     ]
    }
   ],
   "source": [
    "rs = RandomizedSearchCV(clf, params, verbose=2, n_jobs=-1)\n",
    "rs.fit(data.data, data.target)\n",
    "print(rs.best_estimator_)\n",
    "print(rs.best_score_)"
   ]
  },
  {
   "cell_type": "code",
   "execution_count": 19,
   "id": "dbc88901",
   "metadata": {},
   "outputs": [
    {
     "data": {
      "text/html": [
       "<div>\n",
       "<style scoped>\n",
       "    .dataframe tbody tr th:only-of-type {\n",
       "        vertical-align: middle;\n",
       "    }\n",
       "\n",
       "    .dataframe tbody tr th {\n",
       "        vertical-align: top;\n",
       "    }\n",
       "\n",
       "    .dataframe thead th {\n",
       "        text-align: right;\n",
       "    }\n",
       "</style>\n",
       "<table border=\"1\" class=\"dataframe\">\n",
       "  <thead>\n",
       "    <tr style=\"text-align: right;\">\n",
       "      <th></th>\n",
       "      <th>Logistic Regression</th>\n",
       "      <th>Naive Bayes</th>\n",
       "      <th>K-Nearest Neighbours</th>\n",
       "      <th>Support Vector Machine</th>\n",
       "      <th>Random Forest</th>\n",
       "    </tr>\n",
       "  </thead>\n",
       "  <tbody>\n",
       "    <tr>\n",
       "      <th>BoW</th>\n",
       "      <td>0.658</td>\n",
       "      <td>0.637</td>\n",
       "      <td>0.5725</td>\n",
       "      <td>NaN</td>\n",
       "      <td>NaN</td>\n",
       "    </tr>\n",
       "    <tr>\n",
       "      <th>TF-IDF</th>\n",
       "      <td>NaN</td>\n",
       "      <td>NaN</td>\n",
       "      <td>NaN</td>\n",
       "      <td>NaN</td>\n",
       "      <td>NaN</td>\n",
       "    </tr>\n",
       "    <tr>\n",
       "      <th>Word2Vec(CBoW)</th>\n",
       "      <td>NaN</td>\n",
       "      <td>NaN</td>\n",
       "      <td>NaN</td>\n",
       "      <td>NaN</td>\n",
       "      <td>NaN</td>\n",
       "    </tr>\n",
       "    <tr>\n",
       "      <th>Word2Vec(Skip-Gram)</th>\n",
       "      <td>NaN</td>\n",
       "      <td>NaN</td>\n",
       "      <td>NaN</td>\n",
       "      <td>NaN</td>\n",
       "      <td>NaN</td>\n",
       "    </tr>\n",
       "    <tr>\n",
       "      <th>ELMo</th>\n",
       "      <td>NaN</td>\n",
       "      <td>NaN</td>\n",
       "      <td>NaN</td>\n",
       "      <td>NaN</td>\n",
       "      <td>NaN</td>\n",
       "    </tr>\n",
       "    <tr>\n",
       "      <th>USE</th>\n",
       "      <td>NaN</td>\n",
       "      <td>NaN</td>\n",
       "      <td>NaN</td>\n",
       "      <td>NaN</td>\n",
       "      <td>NaN</td>\n",
       "    </tr>\n",
       "  </tbody>\n",
       "</table>\n",
       "</div>"
      ],
      "text/plain": [
       "                    Logistic Regression Naive Bayes K-Nearest Neighbours  \\\n",
       "BoW                               0.658       0.637               0.5725   \n",
       "TF-IDF                              NaN         NaN                  NaN   \n",
       "Word2Vec(CBoW)                      NaN         NaN                  NaN   \n",
       "Word2Vec(Skip-Gram)                 NaN         NaN                  NaN   \n",
       "ELMo                                NaN         NaN                  NaN   \n",
       "USE                                 NaN         NaN                  NaN   \n",
       "\n",
       "                    Support Vector Machine Random Forest  \n",
       "BoW                                    NaN           NaN  \n",
       "TF-IDF                                 NaN           NaN  \n",
       "Word2Vec(CBoW)                         NaN           NaN  \n",
       "Word2Vec(Skip-Gram)                    NaN           NaN  \n",
       "ELMo                                   NaN           NaN  \n",
       "USE                                    NaN           NaN  "
      ]
     },
     "execution_count": 19,
     "metadata": {},
     "output_type": "execute_result"
    }
   ],
   "source": [
    "#Save best score\n",
    "result_df.loc[\"BoW\",\"K-Nearest Neighbours\"] = max(rs.best_score_,gs.best_score_)\n",
    "result_df"
   ]
  },
  {
   "cell_type": "markdown",
   "id": "194781af",
   "metadata": {},
   "source": [
    "### SVM"
   ]
  },
  {
   "cell_type": "code",
   "execution_count": 20,
   "id": "e9c13d5b",
   "metadata": {},
   "outputs": [],
   "source": [
    "params = {\"count_vectorizer__max_features\": [5,10,20],\n",
    "          \"svc__C\": [.01, .1, 1, 10, 100]}\n",
    "\n",
    "clf = Pipeline([(\"count_vectorizer\", CountVectorizer(stop_words='english')),\n",
    "                (\"svc\", LinearSVC())])"
   ]
  },
  {
   "cell_type": "code",
   "execution_count": 21,
   "id": "0d22b8a7",
   "metadata": {},
   "outputs": [
    {
     "name": "stdout",
     "output_type": "stream",
     "text": [
      "Fitting 5 folds for each of 15 candidates, totalling 75 fits\n",
      "Pipeline(steps=[('count_vectorizer',\n",
      "                 CountVectorizer(max_features=20, stop_words='english')),\n",
      "                ('svc', LinearSVC(C=0.1))])\n",
      "0.654\n"
     ]
    }
   ],
   "source": [
    "gs = GridSearchCV(clf, params, verbose=2, n_jobs=-1)\n",
    "gs.fit(data.data, data.target)\n",
    "print(gs.best_estimator_)\n",
    "print(gs.best_score_)"
   ]
  },
  {
   "cell_type": "code",
   "execution_count": 22,
   "id": "3267c8ba",
   "metadata": {},
   "outputs": [
    {
     "name": "stdout",
     "output_type": "stream",
     "text": [
      "Fitting 5 folds for each of 10 candidates, totalling 50 fits\n",
      "Pipeline(steps=[('count_vectorizer',\n",
      "                 CountVectorizer(max_features=20, stop_words='english')),\n",
      "                ('svc', LinearSVC(C=0.1))])\n",
      "0.6545\n"
     ]
    }
   ],
   "source": [
    "rs = RandomizedSearchCV(clf, params, verbose=2, n_jobs=-1)\n",
    "rs.fit(data.data, data.target)\n",
    "print(rs.best_estimator_)\n",
    "print(rs.best_score_)"
   ]
  },
  {
   "cell_type": "code",
   "execution_count": 23,
   "id": "0ec2413f",
   "metadata": {},
   "outputs": [
    {
     "data": {
      "text/html": [
       "<div>\n",
       "<style scoped>\n",
       "    .dataframe tbody tr th:only-of-type {\n",
       "        vertical-align: middle;\n",
       "    }\n",
       "\n",
       "    .dataframe tbody tr th {\n",
       "        vertical-align: top;\n",
       "    }\n",
       "\n",
       "    .dataframe thead th {\n",
       "        text-align: right;\n",
       "    }\n",
       "</style>\n",
       "<table border=\"1\" class=\"dataframe\">\n",
       "  <thead>\n",
       "    <tr style=\"text-align: right;\">\n",
       "      <th></th>\n",
       "      <th>Logistic Regression</th>\n",
       "      <th>Naive Bayes</th>\n",
       "      <th>K-Nearest Neighbours</th>\n",
       "      <th>Support Vector Machine</th>\n",
       "      <th>Random Forest</th>\n",
       "    </tr>\n",
       "  </thead>\n",
       "  <tbody>\n",
       "    <tr>\n",
       "      <th>BoW</th>\n",
       "      <td>0.658</td>\n",
       "      <td>0.637</td>\n",
       "      <td>0.5725</td>\n",
       "      <td>0.6545</td>\n",
       "      <td>NaN</td>\n",
       "    </tr>\n",
       "    <tr>\n",
       "      <th>TF-IDF</th>\n",
       "      <td>NaN</td>\n",
       "      <td>NaN</td>\n",
       "      <td>NaN</td>\n",
       "      <td>NaN</td>\n",
       "      <td>NaN</td>\n",
       "    </tr>\n",
       "    <tr>\n",
       "      <th>Word2Vec(CBoW)</th>\n",
       "      <td>NaN</td>\n",
       "      <td>NaN</td>\n",
       "      <td>NaN</td>\n",
       "      <td>NaN</td>\n",
       "      <td>NaN</td>\n",
       "    </tr>\n",
       "    <tr>\n",
       "      <th>Word2Vec(Skip-Gram)</th>\n",
       "      <td>NaN</td>\n",
       "      <td>NaN</td>\n",
       "      <td>NaN</td>\n",
       "      <td>NaN</td>\n",
       "      <td>NaN</td>\n",
       "    </tr>\n",
       "    <tr>\n",
       "      <th>ELMo</th>\n",
       "      <td>NaN</td>\n",
       "      <td>NaN</td>\n",
       "      <td>NaN</td>\n",
       "      <td>NaN</td>\n",
       "      <td>NaN</td>\n",
       "    </tr>\n",
       "    <tr>\n",
       "      <th>USE</th>\n",
       "      <td>NaN</td>\n",
       "      <td>NaN</td>\n",
       "      <td>NaN</td>\n",
       "      <td>NaN</td>\n",
       "      <td>NaN</td>\n",
       "    </tr>\n",
       "  </tbody>\n",
       "</table>\n",
       "</div>"
      ],
      "text/plain": [
       "                    Logistic Regression Naive Bayes K-Nearest Neighbours  \\\n",
       "BoW                               0.658       0.637               0.5725   \n",
       "TF-IDF                              NaN         NaN                  NaN   \n",
       "Word2Vec(CBoW)                      NaN         NaN                  NaN   \n",
       "Word2Vec(Skip-Gram)                 NaN         NaN                  NaN   \n",
       "ELMo                                NaN         NaN                  NaN   \n",
       "USE                                 NaN         NaN                  NaN   \n",
       "\n",
       "                    Support Vector Machine Random Forest  \n",
       "BoW                                 0.6545           NaN  \n",
       "TF-IDF                                 NaN           NaN  \n",
       "Word2Vec(CBoW)                         NaN           NaN  \n",
       "Word2Vec(Skip-Gram)                    NaN           NaN  \n",
       "ELMo                                   NaN           NaN  \n",
       "USE                                    NaN           NaN  "
      ]
     },
     "execution_count": 23,
     "metadata": {},
     "output_type": "execute_result"
    }
   ],
   "source": [
    "#Save best score\n",
    "result_df.loc[\"BoW\",\"Support Vector Machine\"] = max(rs.best_score_,gs.best_score_)\n",
    "result_df"
   ]
  },
  {
   "cell_type": "markdown",
   "id": "a14e1dac",
   "metadata": {},
   "source": [
    "### Random Forest"
   ]
  },
  {
   "cell_type": "code",
   "execution_count": 24,
   "id": "4f9fe147",
   "metadata": {},
   "outputs": [],
   "source": [
    "params = {\"count_vectorizer__max_features\": [5,10,20],\n",
    "          \"rf__n_estimators\": [10,100,1000]}\n",
    "\n",
    "clf = Pipeline([(\"count_vectorizer\", CountVectorizer(stop_words='english')),\n",
    "                (\"rf\", RandomForestClassifier())])"
   ]
  },
  {
   "cell_type": "code",
   "execution_count": 25,
   "id": "c938fdcd",
   "metadata": {},
   "outputs": [
    {
     "name": "stdout",
     "output_type": "stream",
     "text": [
      "Fitting 5 folds for each of 9 candidates, totalling 45 fits\n",
      "Pipeline(steps=[('count_vectorizer',\n",
      "                 CountVectorizer(max_features=20, stop_words='english')),\n",
      "                ('rf', RandomForestClassifier(n_estimators=1000))])\n",
      "0.631\n"
     ]
    }
   ],
   "source": [
    "gs = GridSearchCV(clf, params, verbose=2, n_jobs=-1)\n",
    "gs.fit(data.data, data.target)\n",
    "print(gs.best_estimator_)\n",
    "print(gs.best_score_)"
   ]
  },
  {
   "cell_type": "code",
   "execution_count": 26,
   "id": "f088eda0",
   "metadata": {},
   "outputs": [
    {
     "name": "stdout",
     "output_type": "stream",
     "text": [
      "Fitting 5 folds for each of 9 candidates, totalling 45 fits\n",
      "Pipeline(steps=[('count_vectorizer',\n",
      "                 CountVectorizer(max_features=20, stop_words='english')),\n",
      "                ('rf', RandomForestClassifier(n_estimators=1000))])\n",
      "0.6285\n"
     ]
    }
   ],
   "source": [
    "rs = RandomizedSearchCV(clf, params, verbose=2, n_jobs=-1)\n",
    "rs.fit(data.data, data.target)\n",
    "print(rs.best_estimator_)\n",
    "print(rs.best_score_)"
   ]
  },
  {
   "cell_type": "code",
   "execution_count": 27,
   "id": "858d8766",
   "metadata": {},
   "outputs": [
    {
     "data": {
      "text/html": [
       "<div>\n",
       "<style scoped>\n",
       "    .dataframe tbody tr th:only-of-type {\n",
       "        vertical-align: middle;\n",
       "    }\n",
       "\n",
       "    .dataframe tbody tr th {\n",
       "        vertical-align: top;\n",
       "    }\n",
       "\n",
       "    .dataframe thead th {\n",
       "        text-align: right;\n",
       "    }\n",
       "</style>\n",
       "<table border=\"1\" class=\"dataframe\">\n",
       "  <thead>\n",
       "    <tr style=\"text-align: right;\">\n",
       "      <th></th>\n",
       "      <th>Logistic Regression</th>\n",
       "      <th>Naive Bayes</th>\n",
       "      <th>K-Nearest Neighbours</th>\n",
       "      <th>Support Vector Machine</th>\n",
       "      <th>Random Forest</th>\n",
       "    </tr>\n",
       "  </thead>\n",
       "  <tbody>\n",
       "    <tr>\n",
       "      <th>BoW</th>\n",
       "      <td>0.658</td>\n",
       "      <td>0.637</td>\n",
       "      <td>0.5725</td>\n",
       "      <td>0.6545</td>\n",
       "      <td>0.631</td>\n",
       "    </tr>\n",
       "    <tr>\n",
       "      <th>TF-IDF</th>\n",
       "      <td>NaN</td>\n",
       "      <td>NaN</td>\n",
       "      <td>NaN</td>\n",
       "      <td>NaN</td>\n",
       "      <td>NaN</td>\n",
       "    </tr>\n",
       "    <tr>\n",
       "      <th>Word2Vec(CBoW)</th>\n",
       "      <td>NaN</td>\n",
       "      <td>NaN</td>\n",
       "      <td>NaN</td>\n",
       "      <td>NaN</td>\n",
       "      <td>NaN</td>\n",
       "    </tr>\n",
       "    <tr>\n",
       "      <th>Word2Vec(Skip-Gram)</th>\n",
       "      <td>NaN</td>\n",
       "      <td>NaN</td>\n",
       "      <td>NaN</td>\n",
       "      <td>NaN</td>\n",
       "      <td>NaN</td>\n",
       "    </tr>\n",
       "    <tr>\n",
       "      <th>ELMo</th>\n",
       "      <td>NaN</td>\n",
       "      <td>NaN</td>\n",
       "      <td>NaN</td>\n",
       "      <td>NaN</td>\n",
       "      <td>NaN</td>\n",
       "    </tr>\n",
       "    <tr>\n",
       "      <th>USE</th>\n",
       "      <td>NaN</td>\n",
       "      <td>NaN</td>\n",
       "      <td>NaN</td>\n",
       "      <td>NaN</td>\n",
       "      <td>NaN</td>\n",
       "    </tr>\n",
       "  </tbody>\n",
       "</table>\n",
       "</div>"
      ],
      "text/plain": [
       "                    Logistic Regression Naive Bayes K-Nearest Neighbours  \\\n",
       "BoW                               0.658       0.637               0.5725   \n",
       "TF-IDF                              NaN         NaN                  NaN   \n",
       "Word2Vec(CBoW)                      NaN         NaN                  NaN   \n",
       "Word2Vec(Skip-Gram)                 NaN         NaN                  NaN   \n",
       "ELMo                                NaN         NaN                  NaN   \n",
       "USE                                 NaN         NaN                  NaN   \n",
       "\n",
       "                    Support Vector Machine Random Forest  \n",
       "BoW                                 0.6545         0.631  \n",
       "TF-IDF                                 NaN           NaN  \n",
       "Word2Vec(CBoW)                         NaN           NaN  \n",
       "Word2Vec(Skip-Gram)                    NaN           NaN  \n",
       "ELMo                                   NaN           NaN  \n",
       "USE                                    NaN           NaN  "
      ]
     },
     "execution_count": 27,
     "metadata": {},
     "output_type": "execute_result"
    }
   ],
   "source": [
    "#Save best score\n",
    "result_df.loc[\"BoW\",\"Random Forest\"] = max(rs.best_score_,gs.best_score_)\n",
    "result_df"
   ]
  },
  {
   "cell_type": "markdown",
   "id": "43b6ae8f",
   "metadata": {},
   "source": [
    "## TFIDF Vectorizer"
   ]
  },
  {
   "cell_type": "markdown",
   "id": "97789a8c",
   "metadata": {},
   "source": [
    "### Basic Syntax"
   ]
  },
  {
   "cell_type": "code",
   "execution_count": 28,
   "id": "0d11fac6",
   "metadata": {},
   "outputs": [
    {
     "data": {
      "text/plain": [
       "<2000x39659 sparse matrix of type '<class 'numpy.float64'>'\n",
       "\twith 666842 stored elements in Compressed Sparse Row format>"
      ]
     },
     "execution_count": 28,
     "metadata": {},
     "output_type": "execute_result"
    }
   ],
   "source": [
    "#Initializing Tf-Idf vectorizer\n",
    "vect = TfidfVectorizer()\n",
    "\n",
    "#Fitting vectorizer\n",
    "X = vect.fit_transform(data.data)\n",
    "y = data.target\n",
    "\n",
    "X"
   ]
  },
  {
   "cell_type": "markdown",
   "id": "d70211ff",
   "metadata": {},
   "source": [
    "### t-SNE for Visualization"
   ]
  },
  {
   "cell_type": "markdown",
   "id": "cef1b5a1",
   "metadata": {},
   "source": [
    "One very popular method for visualizing document similarity is to use t-distributed stochastic neighbor embedding, t-SNE. By decomposing high-dimensional document vectors into 2 dimensions using probability distributions from both the original dimensionality and the decomposed dimensionality, t-SNE is able to effectively cluster similar documents. By decomposing to 2 or 3 dimensions, the documents can be visualized with a scatter plot."
   ]
  },
  {
   "cell_type": "code",
   "execution_count": 29,
   "id": "74c99b90",
   "metadata": {},
   "outputs": [
    {
     "name": "stderr",
     "output_type": "stream",
     "text": [
      "*c* argument looks like a single numeric RGB or RGBA sequence, which should be avoided as value-mapping will have precedence in case its length matches with *x* & *y*.  Please use the *color* keyword-argument or provide a 2D array with a single row if you intend to specify the same RGB or RGBA value for all points.\n",
      "*c* argument looks like a single numeric RGB or RGBA sequence, which should be avoided as value-mapping will have precedence in case its length matches with *x* & *y*.  Please use the *color* keyword-argument or provide a 2D array with a single row if you intend to specify the same RGB or RGBA value for all points.\n"
     ]
    },
    {
     "data": {
      "image/png": "[encoded data removed]",
      "text/plain": [
       "<Figure size 800x550 with 1 Axes>"
      ]
     },
     "metadata": {},
     "output_type": "display_data"
    },
    {
     "data": {
      "text/plain": [
       "<AxesSubplot:title={'center':'TSNE Projection of 2000 Documents'}>"
      ]
     },
     "execution_count": 29,
     "metadata": {},
     "output_type": "execute_result"
    }
   ],
   "source": [
    "#Using t-SNE to visualize\n",
    "tsne = TSNEVisualizer(labels=data.target_names)\n",
    "tsne.fit(X,y)\n",
    "tsne.show()"
   ]
  },
  {
   "cell_type": "markdown",
   "id": "8d11d9c8",
   "metadata": {},
   "source": [
    "### Naive Bayes"
   ]
  },
  {
   "cell_type": "code",
   "execution_count": 30,
   "id": "2c61c2b7",
   "metadata": {},
   "outputs": [],
   "source": [
    "params = {\"tfidf__ngram_range\": [(1, 1), (1, 2)],\n",
    "          \"naivebayes__alpha\": [1, 0.1, 0.01, 0.001, 0.0001, 0.00001]}\n",
    "\n",
    "clf = Pipeline([(\"tfidf\", TfidfVectorizer(sublinear_tf=True)),\n",
    "                (\"naivebayes\", MultinomialNB())])"
   ]
  },
  {
   "cell_type": "code",
   "execution_count": 31,
   "id": "132ffe72",
   "metadata": {},
   "outputs": [
    {
     "name": "stdout",
     "output_type": "stream",
     "text": [
      "Fitting 5 folds for each of 12 candidates, totalling 60 fits\n",
      "Pipeline(steps=[('tfidf',\n",
      "                 TfidfVectorizer(ngram_range=(1, 2), sublinear_tf=True)),\n",
      "                ('naivebayes', MultinomialNB(alpha=1))])\n",
      "0.8484999999999999\n"
     ]
    }
   ],
   "source": [
    "gs = GridSearchCV(clf, params, verbose=2, n_jobs=-1)\n",
    "gs.fit(data.data, data.target)\n",
    "print(gs.best_estimator_)\n",
    "print(gs.best_score_)"
   ]
  },
  {
   "cell_type": "code",
   "execution_count": 32,
   "id": "b838286c",
   "metadata": {},
   "outputs": [
    {
     "name": "stdout",
     "output_type": "stream",
     "text": [
      "Fitting 5 folds for each of 10 candidates, totalling 50 fits\n",
      "Pipeline(steps=[('tfidf',\n",
      "                 TfidfVectorizer(ngram_range=(1, 2), sublinear_tf=True)),\n",
      "                ('naivebayes', MultinomialNB(alpha=0.01))])\n",
      "0.8375\n"
     ]
    }
   ],
   "source": [
    "rs = RandomizedSearchCV(clf, params, verbose=2, n_jobs=-1)\n",
    "rs.fit(data.data, data.target)\n",
    "print(rs.best_estimator_)\n",
    "print(rs.best_score_)"
   ]
  },
  {
   "cell_type": "code",
   "execution_count": 33,
   "id": "d9261db0",
   "metadata": {},
   "outputs": [
    {
     "data": {
      "text/html": [
       "<div>\n",
       "<style scoped>\n",
       "    .dataframe tbody tr th:only-of-type {\n",
       "        vertical-align: middle;\n",
       "    }\n",
       "\n",
       "    .dataframe tbody tr th {\n",
       "        vertical-align: top;\n",
       "    }\n",
       "\n",
       "    .dataframe thead th {\n",
       "        text-align: right;\n",
       "    }\n",
       "</style>\n",
       "<table border=\"1\" class=\"dataframe\">\n",
       "  <thead>\n",
       "    <tr style=\"text-align: right;\">\n",
       "      <th></th>\n",
       "      <th>Logistic Regression</th>\n",
       "      <th>Naive Bayes</th>\n",
       "      <th>K-Nearest Neighbours</th>\n",
       "      <th>Support Vector Machine</th>\n",
       "      <th>Random Forest</th>\n",
       "    </tr>\n",
       "  </thead>\n",
       "  <tbody>\n",
       "    <tr>\n",
       "      <th>BoW</th>\n",
       "      <td>0.658</td>\n",
       "      <td>0.637</td>\n",
       "      <td>0.5725</td>\n",
       "      <td>0.6545</td>\n",
       "      <td>0.631</td>\n",
       "    </tr>\n",
       "    <tr>\n",
       "      <th>TF-IDF</th>\n",
       "      <td>NaN</td>\n",
       "      <td>0.8485</td>\n",
       "      <td>NaN</td>\n",
       "      <td>NaN</td>\n",
       "      <td>NaN</td>\n",
       "    </tr>\n",
       "    <tr>\n",
       "      <th>Word2Vec(CBoW)</th>\n",
       "      <td>NaN</td>\n",
       "      <td>NaN</td>\n",
       "      <td>NaN</td>\n",
       "      <td>NaN</td>\n",
       "      <td>NaN</td>\n",
       "    </tr>\n",
       "    <tr>\n",
       "      <th>Word2Vec(Skip-Gram)</th>\n",
       "      <td>NaN</td>\n",
       "      <td>NaN</td>\n",
       "      <td>NaN</td>\n",
       "      <td>NaN</td>\n",
       "      <td>NaN</td>\n",
       "    </tr>\n",
       "    <tr>\n",
       "      <th>ELMo</th>\n",
       "      <td>NaN</td>\n",
       "      <td>NaN</td>\n",
       "      <td>NaN</td>\n",
       "      <td>NaN</td>\n",
       "      <td>NaN</td>\n",
       "    </tr>\n",
       "    <tr>\n",
       "      <th>USE</th>\n",
       "      <td>NaN</td>\n",
       "      <td>NaN</td>\n",
       "      <td>NaN</td>\n",
       "      <td>NaN</td>\n",
       "      <td>NaN</td>\n",
       "    </tr>\n",
       "  </tbody>\n",
       "</table>\n",
       "</div>"
      ],
      "text/plain": [
       "                    Logistic Regression Naive Bayes K-Nearest Neighbours  \\\n",
       "BoW                               0.658       0.637               0.5725   \n",
       "TF-IDF                              NaN      0.8485                  NaN   \n",
       "Word2Vec(CBoW)                      NaN         NaN                  NaN   \n",
       "Word2Vec(Skip-Gram)                 NaN         NaN                  NaN   \n",
       "ELMo                                NaN         NaN                  NaN   \n",
       "USE                                 NaN         NaN                  NaN   \n",
       "\n",
       "                    Support Vector Machine Random Forest  \n",
       "BoW                                 0.6545         0.631  \n",
       "TF-IDF                                 NaN           NaN  \n",
       "Word2Vec(CBoW)                         NaN           NaN  \n",
       "Word2Vec(Skip-Gram)                    NaN           NaN  \n",
       "ELMo                                   NaN           NaN  \n",
       "USE                                    NaN           NaN  "
      ]
     },
     "execution_count": 33,
     "metadata": {},
     "output_type": "execute_result"
    }
   ],
   "source": [
    "#Save best score\n",
    "result_df.loc[\"TF-IDF\",\"Naive Bayes\"] = max(rs.best_score_,gs.best_score_)\n",
    "result_df"
   ]
  },
  {
   "cell_type": "markdown",
   "id": "959a2f1d",
   "metadata": {},
   "source": [
    "### Logistic Regression"
   ]
  },
  {
   "cell_type": "code",
   "execution_count": 34,
   "id": "686d4e9d",
   "metadata": {},
   "outputs": [],
   "source": [
    "params = {\"tfidf__ngram_range\": [(1, 1), (1, 2)],\n",
    "          \"logreg__C\": np.logspace(-3,3,7),\n",
    "          \"logreg__penalty\":[\"l1\",\"l2\"]}\n",
    "\n",
    "clf = Pipeline([(\"tfidf\", TfidfVectorizer(sublinear_tf=True)),\n",
    "                (\"logreg\", LogisticRegression())])"
   ]
  },
  {
   "cell_type": "code",
   "execution_count": 35,
   "id": "9748f11e",
   "metadata": {},
   "outputs": [
    {
     "name": "stdout",
     "output_type": "stream",
     "text": [
      "Fitting 5 folds for each of 28 candidates, totalling 140 fits\n",
      "Pipeline(steps=[('tfidf', TfidfVectorizer(sublinear_tf=True)),\n",
      "                ('logreg', LogisticRegression(C=10.0))])\n",
      "0.8795\n"
     ]
    }
   ],
   "source": [
    "gs = GridSearchCV(clf, params, verbose=2, n_jobs=-1)\n",
    "gs.fit(data.data, data.target)\n",
    "print(gs.best_estimator_)\n",
    "print(gs.best_score_)"
   ]
  },
  {
   "cell_type": "code",
   "execution_count": 36,
   "id": "9b48bfd1",
   "metadata": {},
   "outputs": [
    {
     "name": "stdout",
     "output_type": "stream",
     "text": [
      "Fitting 5 folds for each of 10 candidates, totalling 50 fits\n",
      "Pipeline(steps=[('tfidf', TfidfVectorizer(sublinear_tf=True)),\n",
      "                ('logreg', LogisticRegression(C=10.0))])\n",
      "0.8795\n"
     ]
    }
   ],
   "source": [
    "rs = RandomizedSearchCV(clf, params, verbose=2, n_jobs=-1)\n",
    "rs.fit(data.data, data.target)\n",
    "print(rs.best_estimator_)\n",
    "print(rs.best_score_)"
   ]
  },
  {
   "cell_type": "code",
   "execution_count": 37,
   "id": "a522e534",
   "metadata": {},
   "outputs": [
    {
     "data": {
      "text/html": [
       "<div>\n",
       "<style scoped>\n",
       "    .dataframe tbody tr th:only-of-type {\n",
       "        vertical-align: middle;\n",
       "    }\n",
       "\n",
       "    .dataframe tbody tr th {\n",
       "        vertical-align: top;\n",
       "    }\n",
       "\n",
       "    .dataframe thead th {\n",
       "        text-align: right;\n",
       "    }\n",
       "</style>\n",
       "<table border=\"1\" class=\"dataframe\">\n",
       "  <thead>\n",
       "    <tr style=\"text-align: right;\">\n",
       "      <th></th>\n",
       "      <th>Logistic Regression</th>\n",
       "      <th>Naive Bayes</th>\n",
       "      <th>K-Nearest Neighbours</th>\n",
       "      <th>Support Vector Machine</th>\n",
       "      <th>Random Forest</th>\n",
       "    </tr>\n",
       "  </thead>\n",
       "  <tbody>\n",
       "    <tr>\n",
       "      <th>BoW</th>\n",
       "      <td>0.658</td>\n",
       "      <td>0.637</td>\n",
       "      <td>0.5725</td>\n",
       "      <td>0.6545</td>\n",
       "      <td>0.631</td>\n",
       "    </tr>\n",
       "    <tr>\n",
       "      <th>TF-IDF</th>\n",
       "      <td>0.8795</td>\n",
       "      <td>0.8485</td>\n",
       "      <td>NaN</td>\n",
       "      <td>NaN</td>\n",
       "      <td>NaN</td>\n",
       "    </tr>\n",
       "    <tr>\n",
       "      <th>Word2Vec(CBoW)</th>\n",
       "      <td>NaN</td>\n",
       "      <td>NaN</td>\n",
       "      <td>NaN</td>\n",
       "      <td>NaN</td>\n",
       "      <td>NaN</td>\n",
       "    </tr>\n",
       "    <tr>\n",
       "      <th>Word2Vec(Skip-Gram)</th>\n",
       "      <td>NaN</td>\n",
       "      <td>NaN</td>\n",
       "      <td>NaN</td>\n",
       "      <td>NaN</td>\n",
       "      <td>NaN</td>\n",
       "    </tr>\n",
       "    <tr>\n",
       "      <th>ELMo</th>\n",
       "      <td>NaN</td>\n",
       "      <td>NaN</td>\n",
       "      <td>NaN</td>\n",
       "      <td>NaN</td>\n",
       "      <td>NaN</td>\n",
       "    </tr>\n",
       "    <tr>\n",
       "      <th>USE</th>\n",
       "      <td>NaN</td>\n",
       "      <td>NaN</td>\n",
       "      <td>NaN</td>\n",
       "      <td>NaN</td>\n",
       "      <td>NaN</td>\n",
       "    </tr>\n",
       "  </tbody>\n",
       "</table>\n",
       "</div>"
      ],
      "text/plain": [
       "                    Logistic Regression Naive Bayes K-Nearest Neighbours  \\\n",
       "BoW                               0.658       0.637               0.5725   \n",
       "TF-IDF                           0.8795      0.8485                  NaN   \n",
       "Word2Vec(CBoW)                      NaN         NaN                  NaN   \n",
       "Word2Vec(Skip-Gram)                 NaN         NaN                  NaN   \n",
       "ELMo                                NaN         NaN                  NaN   \n",
       "USE                                 NaN         NaN                  NaN   \n",
       "\n",
       "                    Support Vector Machine Random Forest  \n",
       "BoW                                 0.6545         0.631  \n",
       "TF-IDF                                 NaN           NaN  \n",
       "Word2Vec(CBoW)                         NaN           NaN  \n",
       "Word2Vec(Skip-Gram)                    NaN           NaN  \n",
       "ELMo                                   NaN           NaN  \n",
       "USE                                    NaN           NaN  "
      ]
     },
     "execution_count": 37,
     "metadata": {},
     "output_type": "execute_result"
    }
   ],
   "source": [
    "#Save best score\n",
    "result_df.loc[\"TF-IDF\",\"Logistic Regression\"] = max(rs.best_score_,gs.best_score_)\n",
    "result_df"
   ]
  },
  {
   "cell_type": "markdown",
   "id": "8e51cf95",
   "metadata": {},
   "source": [
    "### K-Nearest Neighbours"
   ]
  },
  {
   "cell_type": "code",
   "execution_count": 38,
   "id": "dd62bf46",
   "metadata": {},
   "outputs": [],
   "source": [
    "params = {\"tfidf__ngram_range\": [(1, 1), (1, 2)],\n",
    "          \"knn__n_neighbors\":  [1,5,10,20]}\n",
    "\n",
    "clf = Pipeline([(\"tfidf\", TfidfVectorizer(sublinear_tf=True)),\n",
    "                (\"knn\", KNeighborsClassifier())])"
   ]
  },
  {
   "cell_type": "code",
   "execution_count": 39,
   "id": "ddae2210",
   "metadata": {},
   "outputs": [
    {
     "name": "stdout",
     "output_type": "stream",
     "text": [
      "Fitting 5 folds for each of 8 candidates, totalling 40 fits\n",
      "Pipeline(steps=[('tfidf',\n",
      "                 TfidfVectorizer(ngram_range=(1, 2), sublinear_tf=True)),\n",
      "                ('knn', KNeighborsClassifier(n_neighbors=20))])\n",
      "0.7709999999999999\n"
     ]
    }
   ],
   "source": [
    "# gs = GridSearchCV(clf, params, verbose=2, n_jobs=-1)\n",
    "# gs.fit(data.data, data.target)\n",
    "# print(gs.best_estimator_)\n",
    "# print(gs.best_score_)"
   ]
  },
  {
   "cell_type": "code",
   "execution_count": 40,
   "id": "25a64e09",
   "metadata": {},
   "outputs": [
    {
     "name": "stdout",
     "output_type": "stream",
     "text": [
      "Fitting 5 folds for each of 8 candidates, totalling 40 fits\n",
      "Pipeline(steps=[('tfidf',\n",
      "                 TfidfVectorizer(ngram_range=(1, 2), sublinear_tf=True)),\n",
      "                ('knn', KNeighborsClassifier(n_neighbors=20))])\n",
      "0.7709999999999999\n"
     ]
    }
   ],
   "source": [
    "# rs = RandomizedSearchCV(clf, params, verbose=2, n_jobs=-1)\n",
    "# rs.fit(data.data, data.target)\n",
    "# print(rs.best_estimator_)\n",
    "# print(rs.best_score_)"
   ]
  },
  {
   "cell_type": "code",
   "execution_count": 41,
   "id": "970d4c81",
   "metadata": {},
   "outputs": [
    {
     "data": {
      "text/html": [
       "<div>\n",
       "<style scoped>\n",
       "    .dataframe tbody tr th:only-of-type {\n",
       "        vertical-align: middle;\n",
       "    }\n",
       "\n",
       "    .dataframe tbody tr th {\n",
       "        vertical-align: top;\n",
       "    }\n",
       "\n",
       "    .dataframe thead th {\n",
       "        text-align: right;\n",
       "    }\n",
       "</style>\n",
       "<table border=\"1\" class=\"dataframe\">\n",
       "  <thead>\n",
       "    <tr style=\"text-align: right;\">\n",
       "      <th></th>\n",
       "      <th>Logistic Regression</th>\n",
       "      <th>Naive Bayes</th>\n",
       "      <th>K-Nearest Neighbours</th>\n",
       "      <th>Support Vector Machine</th>\n",
       "      <th>Random Forest</th>\n",
       "    </tr>\n",
       "  </thead>\n",
       "  <tbody>\n",
       "    <tr>\n",
       "      <th>BoW</th>\n",
       "      <td>0.658</td>\n",
       "      <td>0.637</td>\n",
       "      <td>0.5725</td>\n",
       "      <td>0.6545</td>\n",
       "      <td>0.631</td>\n",
       "    </tr>\n",
       "    <tr>\n",
       "      <th>TF-IDF</th>\n",
       "      <td>0.8795</td>\n",
       "      <td>0.8485</td>\n",
       "      <td>0.771</td>\n",
       "      <td>NaN</td>\n",
       "      <td>NaN</td>\n",
       "    </tr>\n",
       "    <tr>\n",
       "      <th>Word2Vec(CBoW)</th>\n",
       "      <td>NaN</td>\n",
       "      <td>NaN</td>\n",
       "      <td>NaN</td>\n",
       "      <td>NaN</td>\n",
       "      <td>NaN</td>\n",
       "    </tr>\n",
       "    <tr>\n",
       "      <th>Word2Vec(Skip-Gram)</th>\n",
       "      <td>NaN</td>\n",
       "      <td>NaN</td>\n",
       "      <td>NaN</td>\n",
       "      <td>NaN</td>\n",
       "      <td>NaN</td>\n",
       "    </tr>\n",
       "    <tr>\n",
       "      <th>ELMo</th>\n",
       "      <td>NaN</td>\n",
       "      <td>NaN</td>\n",
       "      <td>NaN</td>\n",
       "      <td>NaN</td>\n",
       "      <td>NaN</td>\n",
       "    </tr>\n",
       "    <tr>\n",
       "      <th>USE</th>\n",
       "      <td>NaN</td>\n",
       "      <td>NaN</td>\n",
       "      <td>NaN</td>\n",
       "      <td>NaN</td>\n",
       "      <td>NaN</td>\n",
       "    </tr>\n",
       "  </tbody>\n",
       "</table>\n",
       "</div>"
      ],
      "text/plain": [
       "                    Logistic Regression Naive Bayes K-Nearest Neighbours  \\\n",
       "BoW                               0.658       0.637               0.5725   \n",
       "TF-IDF                           0.8795      0.8485                0.771   \n",
       "Word2Vec(CBoW)                      NaN         NaN                  NaN   \n",
       "Word2Vec(Skip-Gram)                 NaN         NaN                  NaN   \n",
       "ELMo                                NaN         NaN                  NaN   \n",
       "USE                                 NaN         NaN                  NaN   \n",
       "\n",
       "                    Support Vector Machine Random Forest  \n",
       "BoW                                 0.6545         0.631  \n",
       "TF-IDF                                 NaN           NaN  \n",
       "Word2Vec(CBoW)                         NaN           NaN  \n",
       "Word2Vec(Skip-Gram)                    NaN           NaN  \n",
       "ELMo                                   NaN           NaN  \n",
       "USE                                    NaN           NaN  "
      ]
     },
     "execution_count": 41,
     "metadata": {},
     "output_type": "execute_result"
    }
   ],
   "source": [
    "# #Save best score\n",
    "# result_df.loc[\"TF-IDF\",\"K-Nearest Neighbours\"] = max(rs.best_score_,gs.best_score_)\n",
    "# result_df"
   ]
  },
  {
   "cell_type": "markdown",
   "id": "6414d13f",
   "metadata": {},
   "source": [
    "### SVM"
   ]
  },
  {
   "cell_type": "code",
   "execution_count": 42,
   "id": "7efee862",
   "metadata": {},
   "outputs": [],
   "source": [
    "params = {\"tfidf__ngram_range\": [(1, 1), (1, 2)],\n",
    "          \"svc__C\": [.01, .1, 1, 10, 100]}\n",
    "\n",
    "clf = Pipeline([(\"tfidf\", TfidfVectorizer(sublinear_tf=True)),\n",
    "                (\"svc\", LinearSVC())])"
   ]
  },
  {
   "cell_type": "code",
   "execution_count": 43,
   "id": "14b39026",
   "metadata": {},
   "outputs": [
    {
     "name": "stdout",
     "output_type": "stream",
     "text": [
      "Fitting 5 folds for each of 10 candidates, totalling 50 fits\n",
      "Pipeline(steps=[('tfidf', TfidfVectorizer(sublinear_tf=True)),\n",
      "                ('svc', LinearSVC(C=1))])\n",
      "0.8770000000000001\n"
     ]
    }
   ],
   "source": [
    "gs = GridSearchCV(clf, params, verbose=2, n_jobs=-1)\n",
    "gs.fit(data.data, data.target)\n",
    "print(gs.best_estimator_)\n",
    "print(gs.best_score_)"
   ]
  },
  {
   "cell_type": "code",
   "execution_count": 44,
   "id": "923b9b53",
   "metadata": {},
   "outputs": [
    {
     "name": "stdout",
     "output_type": "stream",
     "text": [
      "Fitting 5 folds for each of 10 candidates, totalling 50 fits\n",
      "Pipeline(steps=[('tfidf', TfidfVectorizer(sublinear_tf=True)),\n",
      "                ('svc', LinearSVC(C=1))])\n",
      "0.8770000000000001\n"
     ]
    }
   ],
   "source": [
    "rs = RandomizedSearchCV(clf, params, verbose=2, n_jobs=-1)\n",
    "rs.fit(data.data, data.target)\n",
    "print(rs.best_estimator_)\n",
    "print(rs.best_score_)"
   ]
  },
  {
   "cell_type": "code",
   "execution_count": 45,
   "id": "ecf64593",
   "metadata": {},
   "outputs": [
    {
     "data": {
      "text/html": [
       "<div>\n",
       "<style scoped>\n",
       "    .dataframe tbody tr th:only-of-type {\n",
       "        vertical-align: middle;\n",
       "    }\n",
       "\n",
       "    .dataframe tbody tr th {\n",
       "        vertical-align: top;\n",
       "    }\n",
       "\n",
       "    .dataframe thead th {\n",
       "        text-align: right;\n",
       "    }\n",
       "</style>\n",
       "<table border=\"1\" class=\"dataframe\">\n",
       "  <thead>\n",
       "    <tr style=\"text-align: right;\">\n",
       "      <th></th>\n",
       "      <th>Logistic Regression</th>\n",
       "      <th>Naive Bayes</th>\n",
       "      <th>K-Nearest Neighbours</th>\n",
       "      <th>Support Vector Machine</th>\n",
       "      <th>Random Forest</th>\n",
       "    </tr>\n",
       "  </thead>\n",
       "  <tbody>\n",
       "    <tr>\n",
       "      <th>BoW</th>\n",
       "      <td>0.658</td>\n",
       "      <td>0.637</td>\n",
       "      <td>0.5725</td>\n",
       "      <td>0.6545</td>\n",
       "      <td>0.631</td>\n",
       "    </tr>\n",
       "    <tr>\n",
       "      <th>TF-IDF</th>\n",
       "      <td>0.8795</td>\n",
       "      <td>0.8485</td>\n",
       "      <td>0.771</td>\n",
       "      <td>0.877</td>\n",
       "      <td>NaN</td>\n",
       "    </tr>\n",
       "    <tr>\n",
       "      <th>Word2Vec(CBoW)</th>\n",
       "      <td>NaN</td>\n",
       "      <td>NaN</td>\n",
       "      <td>NaN</td>\n",
       "      <td>NaN</td>\n",
       "      <td>NaN</td>\n",
       "    </tr>\n",
       "    <tr>\n",
       "      <th>Word2Vec(Skip-Gram)</th>\n",
       "      <td>NaN</td>\n",
       "      <td>NaN</td>\n",
       "      <td>NaN</td>\n",
       "      <td>NaN</td>\n",
       "      <td>NaN</td>\n",
       "    </tr>\n",
       "    <tr>\n",
       "      <th>ELMo</th>\n",
       "      <td>NaN</td>\n",
       "      <td>NaN</td>\n",
       "      <td>NaN</td>\n",
       "      <td>NaN</td>\n",
       "      <td>NaN</td>\n",
       "    </tr>\n",
       "    <tr>\n",
       "      <th>USE</th>\n",
       "      <td>NaN</td>\n",
       "      <td>NaN</td>\n",
       "      <td>NaN</td>\n",
       "      <td>NaN</td>\n",
       "      <td>NaN</td>\n",
       "    </tr>\n",
       "  </tbody>\n",
       "</table>\n",
       "</div>"
      ],
      "text/plain": [
       "                    Logistic Regression Naive Bayes K-Nearest Neighbours  \\\n",
       "BoW                               0.658       0.637               0.5725   \n",
       "TF-IDF                           0.8795      0.8485                0.771   \n",
       "Word2Vec(CBoW)                      NaN         NaN                  NaN   \n",
       "Word2Vec(Skip-Gram)                 NaN         NaN                  NaN   \n",
       "ELMo                                NaN         NaN                  NaN   \n",
       "USE                                 NaN         NaN                  NaN   \n",
       "\n",
       "                    Support Vector Machine Random Forest  \n",
       "BoW                                 0.6545         0.631  \n",
       "TF-IDF                               0.877           NaN  \n",
       "Word2Vec(CBoW)                         NaN           NaN  \n",
       "Word2Vec(Skip-Gram)                    NaN           NaN  \n",
       "ELMo                                   NaN           NaN  \n",
       "USE                                    NaN           NaN  "
      ]
     },
     "execution_count": 45,
     "metadata": {},
     "output_type": "execute_result"
    }
   ],
   "source": [
    "#Save best score\n",
    "result_df.loc[\"TF-IDF\",\"Support Vector Machine\"] = max(rs.best_score_,gs.best_score_)\n",
    "result_df"
   ]
  },
  {
   "cell_type": "markdown",
   "id": "a7d38a0c",
   "metadata": {},
   "source": [
    "### Random Forest"
   ]
  },
  {
   "cell_type": "code",
   "execution_count": 46,
   "id": "e59fbfd7",
   "metadata": {},
   "outputs": [],
   "source": [
    "params = {\"tfidf__ngram_range\": [(1, 1), (1, 2)],\n",
    "          \"rf__n_estimators\": [10,100,1000]}\n",
    "\n",
    "clf = Pipeline([(\"tfidf\", TfidfVectorizer(sublinear_tf=True)),\n",
    "                (\"rf\", RandomForestClassifier())])"
   ]
  },
  {
   "cell_type": "code",
   "execution_count": 47,
   "id": "7eb0c29a",
   "metadata": {},
   "outputs": [
    {
     "name": "stdout",
     "output_type": "stream",
     "text": [
      "Fitting 5 folds for each of 6 candidates, totalling 30 fits\n",
      "Pipeline(steps=[('tfidf', TfidfVectorizer(sublinear_tf=True)),\n",
      "                ('rf', RandomForestClassifier(n_estimators=1000))])\n",
      "0.8240000000000001\n"
     ]
    }
   ],
   "source": [
    "gs = GridSearchCV(clf, params, verbose=2, n_jobs=-1)\n",
    "gs.fit(data.data, data.target)\n",
    "print(gs.best_estimator_)\n",
    "print(gs.best_score_)"
   ]
  },
  {
   "cell_type": "code",
   "execution_count": 48,
   "id": "fb43ca79",
   "metadata": {},
   "outputs": [
    {
     "name": "stdout",
     "output_type": "stream",
     "text": [
      "Fitting 5 folds for each of 6 candidates, totalling 30 fits\n",
      "Pipeline(steps=[('tfidf', TfidfVectorizer(sublinear_tf=True)),\n",
      "                ('rf', RandomForestClassifier(n_estimators=1000))])\n",
      "0.8184999999999999\n"
     ]
    }
   ],
   "source": [
    "rs = RandomizedSearchCV(clf, params, verbose=2, n_jobs=-1)\n",
    "rs.fit(data.data, data.target)\n",
    "print(rs.best_estimator_)\n",
    "print(rs.best_score_)"
   ]
  },
  {
   "cell_type": "code",
   "execution_count": 49,
   "id": "90d4d077",
   "metadata": {},
   "outputs": [
    {
     "data": {
      "text/html": [
       "<div>\n",
       "<style scoped>\n",
       "    .dataframe tbody tr th:only-of-type {\n",
       "        vertical-align: middle;\n",
       "    }\n",
       "\n",
       "    .dataframe tbody tr th {\n",
       "        vertical-align: top;\n",
       "    }\n",
       "\n",
       "    .dataframe thead th {\n",
       "        text-align: right;\n",
       "    }\n",
       "</style>\n",
       "<table border=\"1\" class=\"dataframe\">\n",
       "  <thead>\n",
       "    <tr style=\"text-align: right;\">\n",
       "      <th></th>\n",
       "      <th>Logistic Regression</th>\n",
       "      <th>Naive Bayes</th>\n",
       "      <th>K-Nearest Neighbours</th>\n",
       "      <th>Support Vector Machine</th>\n",
       "      <th>Random Forest</th>\n",
       "    </tr>\n",
       "  </thead>\n",
       "  <tbody>\n",
       "    <tr>\n",
       "      <th>BoW</th>\n",
       "      <td>0.658</td>\n",
       "      <td>0.637</td>\n",
       "      <td>0.5725</td>\n",
       "      <td>0.6545</td>\n",
       "      <td>0.631</td>\n",
       "    </tr>\n",
       "    <tr>\n",
       "      <th>TF-IDF</th>\n",
       "      <td>0.8795</td>\n",
       "      <td>0.8485</td>\n",
       "      <td>0.771</td>\n",
       "      <td>0.877</td>\n",
       "      <td>0.824</td>\n",
       "    </tr>\n",
       "    <tr>\n",
       "      <th>Word2Vec(CBoW)</th>\n",
       "      <td>NaN</td>\n",
       "      <td>NaN</td>\n",
       "      <td>NaN</td>\n",
       "      <td>NaN</td>\n",
       "      <td>NaN</td>\n",
       "    </tr>\n",
       "    <tr>\n",
       "      <th>Word2Vec(Skip-Gram)</th>\n",
       "      <td>NaN</td>\n",
       "      <td>NaN</td>\n",
       "      <td>NaN</td>\n",
       "      <td>NaN</td>\n",
       "      <td>NaN</td>\n",
       "    </tr>\n",
       "    <tr>\n",
       "      <th>ELMo</th>\n",
       "      <td>NaN</td>\n",
       "      <td>NaN</td>\n",
       "      <td>NaN</td>\n",
       "      <td>NaN</td>\n",
       "      <td>NaN</td>\n",
       "    </tr>\n",
       "    <tr>\n",
       "      <th>USE</th>\n",
       "      <td>NaN</td>\n",
       "      <td>NaN</td>\n",
       "      <td>NaN</td>\n",
       "      <td>NaN</td>\n",
       "      <td>NaN</td>\n",
       "    </tr>\n",
       "  </tbody>\n",
       "</table>\n",
       "</div>"
      ],
      "text/plain": [
       "                    Logistic Regression Naive Bayes K-Nearest Neighbours  \\\n",
       "BoW                               0.658       0.637               0.5725   \n",
       "TF-IDF                           0.8795      0.8485                0.771   \n",
       "Word2Vec(CBoW)                      NaN         NaN                  NaN   \n",
       "Word2Vec(Skip-Gram)                 NaN         NaN                  NaN   \n",
       "ELMo                                NaN         NaN                  NaN   \n",
       "USE                                 NaN         NaN                  NaN   \n",
       "\n",
       "                    Support Vector Machine Random Forest  \n",
       "BoW                                 0.6545         0.631  \n",
       "TF-IDF                               0.877         0.824  \n",
       "Word2Vec(CBoW)                         NaN           NaN  \n",
       "Word2Vec(Skip-Gram)                    NaN           NaN  \n",
       "ELMo                                   NaN           NaN  \n",
       "USE                                    NaN           NaN  "
      ]
     },
     "execution_count": 49,
     "metadata": {},
     "output_type": "execute_result"
    },
    {
     "name": "stdout",
     "output_type": "stream",
     "text": [
      "[CV] END count_vectorizer__max_features=5, naivebayes__alpha=0.1; total time=   1.5s\n",
      "[CV] END count_vectorizer__max_features=5, naivebayes__alpha=1e-05; total time=   1.4s\n",
      "[CV] END count_vectorizer__max_features=10, naivebayes__alpha=0.01; total time=   1.4s\n",
      "[CV] END count_vectorizer__max_features=10, naivebayes__alpha=1e-05; total time=   1.5s\n",
      "[CV] END count_vectorizer__max_features=20, naivebayes__alpha=0.01; total time=   1.8s\n",
      "[CV] END count_vectorizer__max_features=10, naivebayes__alpha=1; total time=   1.3s\n",
      "[CV] END count_vectorizer__max_features=10, naivebayes__alpha=1e-05; total time=   1.6s\n",
      "[CV] END count_vectorizer__max_features=10, naivebayes__alpha=0.1; total time=   1.7s\n",
      "[CV] END count_vectorizer__max_features=5, naivebayes__alpha=1e-05; total time=   1.0s\n",
      "[CV] END count_vectorizer__max_features=5, logreg__C=0.001, logreg__penalty=l1; total time=   1.1s\n",
      "[CV] END count_vectorizer__max_features=5, logreg__C=0.1, logreg__penalty=l1; total time=   1.1s\n",
      "[CV] END count_vectorizer__max_features=5, logreg__C=0.1, logreg__penalty=l2; total time=   3.9s\n",
      "[CV] END count_vectorizer__max_features=5, logreg__C=100.0, logreg__penalty=l1; total time=   1.4s\n",
      "[CV] END count_vectorizer__max_features=5, logreg__C=1000.0, logreg__penalty=l2; total time=   1.5s\n",
      "[CV] END count_vectorizer__max_features=10, logreg__C=0.01, logreg__penalty=l1; total time=   1.3s\n",
      "[CV] END count_vectorizer__max_features=10, logreg__C=1.0, logreg__penalty=l1; total time=   1.4s\n",
      "[CV] END count_vectorizer__max_features=10, logreg__C=10.0, logreg__penalty=l1; total time=   1.4s\n",
      "[CV] END count_vectorizer__max_features=10, logreg__C=100.0, logreg__penalty=l2; total time=   1.7s\n",
      "[CV] END count_vectorizer__max_features=20, logreg__C=0.001, logreg__penalty=l1; total time=   1.4s\n",
      "[CV] END count_vectorizer__max_features=20, logreg__C=0.1, logreg__penalty=l1; total time=   1.4s\n",
      "[CV] END count_vectorizer__max_features=20, logreg__C=1.0, logreg__penalty=l2; total time=   1.6s\n",
      "[CV] END count_vectorizer__max_features=20, logreg__C=100.0, logreg__penalty=l1; total time=   1.4s\n",
      "[CV] END count_vectorizer__max_features=20, logreg__C=1000.0, logreg__penalty=l2; total time=   1.1s\n",
      "[CV] END count_vectorizer__max_features=5, logreg__C=10.0, logreg__penalty=l2; total time=   1.4s\n",
      "[CV] END count_vectorizer__max_features=10, logreg__C=0.001, logreg__penalty=l1; total time=   1.2s\n",
      "[CV] END count_vectorizer__max_features=5, logreg__C=100.0, logreg__penalty=l2; total time=   1.5s\n",
      "[CV] END count_vectorizer__max_features=5, knn__n_neighbors=1; total time=   1.3s\n",
      "[CV] END count_vectorizer__max_features=5, knn__n_neighbors=20; total time=   1.7s\n",
      "[CV] END count_vectorizer__max_features=10, knn__n_neighbors=10; total time=   1.8s\n",
      "[CV] END count_vectorizer__max_features=20, knn__n_neighbors=10; total time=   1.6s\n",
      "[CV] END count_vectorizer__max_features=20, knn__n_neighbors=1; total time=   1.5s\n",
      "[CV] END count_vectorizer__max_features=20, knn__n_neighbors=5; total time=   1.7s\n",
      "[CV] END count_vectorizer__max_features=5, knn__n_neighbors=10; total time=   1.7s\n",
      "[CV] END .........count_vectorizer__max_features=5, svc__C=1; total time=   1.9s\n",
      "[CV] END .....count_vectorizer__max_features=10, svc__C=0.01; total time=   1.6s\n",
      "[CV] END .......count_vectorizer__max_features=10, svc__C=10; total time=   1.9s\n",
      "[CV] END ......count_vectorizer__max_features=20, svc__C=0.1; total time=   1.8s\n",
      "[CV] END .......count_vectorizer__max_features=5, svc__C=100; total time=   1.4s\n",
      "[CV] END ......count_vectorizer__max_features=10, svc__C=100; total time=   1.6s\n",
      "[CV] END ......count_vectorizer__max_features=20, svc__C=0.1; total time=   1.7s\n",
      "[CV] END ........count_vectorizer__max_features=10, svc__C=1; total time=   0.9s\n",
      "[CV] END count_vectorizer__max_features=5, rf__n_estimators=1000; total time=  10.6s\n",
      "[CV] END count_vectorizer__max_features=5, rf__n_estimators=10; total time=   1.3s\n",
      "[CV] END count_vectorizer__max_features=10, rf__n_estimators=10; total time=   1.5s\n",
      "[CV] END count_vectorizer__max_features=10, rf__n_estimators=1000; total time=  11.1s\n",
      "[CV] END ...naivebayes__alpha=0.1, tfidf__ngram_range=(1, 1); total time=   2.0s\n",
      "[CV] END ..naivebayes__alpha=0.01, tfidf__ngram_range=(1, 2); total time=   9.1s\n",
      "[CV] END naivebayes__alpha=0.0001, tfidf__ngram_range=(1, 2); total time=   8.3s\n",
      "[CV] END ...naivebayes__alpha=0.1, tfidf__ngram_range=(1, 1); total time=   1.6s\n",
      "[CV] END ..naivebayes__alpha=0.01, tfidf__ngram_range=(1, 2); total time=   8.9s\n",
      "[CV] END .naivebayes__alpha=1e-05, tfidf__ngram_range=(1, 2); total time=   6.1s\n",
      "[CV] END logreg__C=0.001, logreg__penalty=l2, tfidf__ngram_range=(1, 1); total time=   1.9s\n",
      "[CV] END logreg__C=0.01, logreg__penalty=l1, tfidf__ngram_range=(1, 1); total time=   1.6s\n",
      "[CV] END logreg__C=0.01, logreg__penalty=l1, tfidf__ngram_range=(1, 2); total time=   8.5s\n",
      "[CV] END logreg__C=0.1, logreg__penalty=l1, tfidf__ngram_range=(1, 2); total time=   7.9s\n",
      "[CV] END logreg__C=1.0, logreg__penalty=l1, tfidf__ngram_range=(1, 2); total time=   8.8s\n",
      "[CV] END logreg__C=10.0, logreg__penalty=l2, tfidf__ngram_range=(1, 1); total time=   3.3s\n",
      "[CV] END logreg__C=10.0, logreg__penalty=l2, tfidf__ngram_range=(1, 2); total time=  15.1s\n",
      "[CV] END logreg__C=1000.0, logreg__penalty=l2, tfidf__ngram_range=(1, 1); total time=   3.4s\n",
      "[CV] END logreg__C=1000.0, logreg__penalty=l2, tfidf__ngram_range=(1, 2); total time=  11.8s\n",
      "[CV] END logreg__C=0.001, logreg__penalty=l1, tfidf__ngram_range=(1, 1); total time=   1.2s\n",
      "[CV] END logreg__C=0.001, logreg__penalty=l2, tfidf__ngram_range=(1, 2); total time=  10.2s\n",
      "[CV] END ......knn__n_neighbors=5, tfidf__ngram_range=(1, 2); total time=   7.9s\n",
      "[CV] END .....knn__n_neighbors=20, tfidf__ngram_range=(1, 2); total time=   5.9s\n",
      "[CV] END ......knn__n_neighbors=5, tfidf__ngram_range=(1, 1); total time=   2.2s\n",
      "[CV] END .....knn__n_neighbors=10, tfidf__ngram_range=(1, 2); total time=   9.4s\n",
      "[CV] END ..............svc__C=0.1, tfidf__ngram_range=(1, 2); total time=   8.4s\n",
      "[CV] END ...............svc__C=10, tfidf__ngram_range=(1, 2); total time=  14.9s\n",
      "[CV] END .............svc__C=0.01, tfidf__ngram_range=(1, 2); total time=   8.5s\n",
      "[CV] END ...............svc__C=10, tfidf__ngram_range=(1, 2); total time=  16.0s\n",
      "[CV] END .....rf__n_estimators=10, tfidf__ngram_range=(1, 2); total time=   8.9s\n",
      "[CV] END ...rf__n_estimators=1000, tfidf__ngram_range=(1, 2); total time= 1.2min\n",
      "[CV] END .....rf__n_estimators=10, tfidf__ngram_range=(1, 2); total time=   9.7s\n"
     ]
    },
    {
     "name": "stderr",
     "output_type": "stream",
     "text": [
      "/Users/anantagarwal/opt/anaconda3/lib/python3.8/site-packages/sklearn/svm/_base.py:1206: ConvergenceWarning: Liblinear failed to converge, increase the number of iterations.\n",
      "  warnings.warn(\n",
      "/Users/anantagarwal/opt/anaconda3/lib/python3.8/site-packages/sklearn/svm/_base.py:1206: ConvergenceWarning: Liblinear failed to converge, increase the number of iterations.\n",
      "  warnings.warn(\n",
      "/Users/anantagarwal/opt/anaconda3/lib/python3.8/site-packages/sklearn/svm/_base.py:1206: ConvergenceWarning: Liblinear failed to converge, increase the number of iterations.\n",
      "  warnings.warn(\n",
      "/Users/anantagarwal/opt/anaconda3/lib/python3.8/site-packages/sklearn/svm/_base.py:1206: ConvergenceWarning: Liblinear failed to converge, increase the number of iterations.\n",
      "  warnings.warn(\n",
      "/Users/anantagarwal/opt/anaconda3/lib/python3.8/site-packages/sklearn/svm/_base.py:1206: ConvergenceWarning: Liblinear failed to converge, increase the number of iterations.\n",
      "  warnings.warn(\n",
      "/Users/anantagarwal/opt/anaconda3/lib/python3.8/site-packages/sklearn/svm/_base.py:1206: ConvergenceWarning: Liblinear failed to converge, increase the number of iterations.\n",
      "  warnings.warn(\n",
      "/Users/anantagarwal/opt/anaconda3/lib/python3.8/site-packages/sklearn/svm/_base.py:1206: ConvergenceWarning: Liblinear failed to converge, increase the number of iterations.\n",
      "  warnings.warn(\n"
     ]
    },
    {
     "name": "stdout",
     "output_type": "stream",
     "text": [
      "[CV] END count_vectorizer__max_features=5, naivebayes__alpha=1; total time=   1.5s\n",
      "[CV] END count_vectorizer__max_features=5, naivebayes__alpha=0.001; total time=   1.4s\n",
      "[CV] END count_vectorizer__max_features=10, naivebayes__alpha=1; total time=   1.4s\n",
      "[CV] END count_vectorizer__max_features=10, naivebayes__alpha=0.001; total time=   1.5s\n",
      "[CV] END count_vectorizer__max_features=20, naivebayes__alpha=1; total time=   1.7s\n",
      "[CV] END count_vectorizer__max_features=20, naivebayes__alpha=0.0001; total time=   1.4s\n",
      "[CV] END count_vectorizer__max_features=20, naivebayes__alpha=0.01; total time=   1.5s\n",
      "[CV] END count_vectorizer__max_features=20, naivebayes__alpha=1e-05; total time=   1.6s\n",
      "[CV] END count_vectorizer__max_features=5, naivebayes__alpha=0.1; total time=   1.6s\n",
      "[CV] END count_vectorizer__max_features=5, logreg__C=0.001, logreg__penalty=l1; total time=   1.1s\n",
      "[CV] END count_vectorizer__max_features=5, logreg__C=0.01, logreg__penalty=l2; total time=   3.9s\n",
      "[CV] END count_vectorizer__max_features=5, logreg__C=10.0, logreg__penalty=l1; total time=   1.4s\n",
      "[CV] END count_vectorizer__max_features=5, logreg__C=100.0, logreg__penalty=l1; total time=   1.3s\n",
      "[CV] END count_vectorizer__max_features=5, logreg__C=1000.0, logreg__penalty=l2; total time=   1.5s\n",
      "[CV] END count_vectorizer__max_features=10, logreg__C=0.01, logreg__penalty=l2; total time=   1.6s\n",
      "[CV] END count_vectorizer__max_features=10, logreg__C=1.0, logreg__penalty=l1; total time=   1.3s\n",
      "[CV] END count_vectorizer__max_features=10, logreg__C=10.0, logreg__penalty=l2; total time=   1.7s\n",
      "[CV] END count_vectorizer__max_features=10, logreg__C=1000.0, logreg__penalty=l1; total time=   1.4s\n",
      "[CV] END count_vectorizer__max_features=20, logreg__C=0.01, logreg__penalty=l1; total time=   1.4s\n",
      "[CV] END count_vectorizer__max_features=20, logreg__C=0.1, logreg__penalty=l1; total time=   1.4s\n",
      "[CV] END count_vectorizer__max_features=20, logreg__C=1.0, logreg__penalty=l2; total time=   1.6s\n",
      "[CV] END count_vectorizer__max_features=20, logreg__C=100.0, logreg__penalty=l2; total time=   1.6s\n",
      "[CV] END count_vectorizer__max_features=10, logreg__C=1000.0, logreg__penalty=l1; total time=   1.0s\n",
      "[CV] END count_vectorizer__max_features=20, logreg__C=1.0, logreg__penalty=l1; total time=   1.2s\n",
      "[CV] END count_vectorizer__max_features=10, logreg__C=1000.0, logreg__penalty=l2; total time=   1.5s\n",
      "[CV] END count_vectorizer__max_features=5, knn__n_neighbors=1; total time=   1.3s\n",
      "[CV] END count_vectorizer__max_features=5, knn__n_neighbors=20; total time=   1.7s\n",
      "[CV] END count_vectorizer__max_features=10, knn__n_neighbors=10; total time=   1.9s\n",
      "[CV] END count_vectorizer__max_features=20, knn__n_neighbors=5; total time=   1.6s\n",
      "[CV] END count_vectorizer__max_features=10, knn__n_neighbors=20; total time=   1.4s\n",
      "[CV] END count_vectorizer__max_features=20, knn__n_neighbors=1; total time=   1.6s\n",
      "[CV] END count_vectorizer__max_features=20, knn__n_neighbors=5; total time=   1.9s\n",
      "[CV] END count_vectorizer__max_features=5, knn__n_neighbors=10; total time=   1.0s\n",
      "[CV] END .........count_vectorizer__max_features=5, svc__C=1; total time=   1.9s\n",
      "[CV] END ......count_vectorizer__max_features=10, svc__C=0.1; total time=   1.7s\n",
      "[CV] END ......count_vectorizer__max_features=10, svc__C=100; total time=   1.9s\n",
      "[CV] END ........count_vectorizer__max_features=20, svc__C=1; total time=   1.8s\n",
      "[CV] END .......count_vectorizer__max_features=20, svc__C=10; total time=   1.6s\n",
      "[CV] END ......count_vectorizer__max_features=10, svc__C=0.1; total time=   1.6s\n",
      "[CV] END .....count_vectorizer__max_features=10, svc__C=0.01; total time=   1.6s\n",
      "[CV] END count_vectorizer__max_features=5, rf__n_estimators=100; total time=   2.4s\n",
      "[CV] END count_vectorizer__max_features=10, rf__n_estimators=1000; total time=  11.1s\n",
      "[CV] END count_vectorizer__max_features=5, rf__n_estimators=100; total time=   2.1s\n",
      "[CV] END count_vectorizer__max_features=10, rf__n_estimators=100; total time=   2.3s\n",
      "[CV] END count_vectorizer__max_features=20, rf__n_estimators=10; total time=   1.7s\n",
      "[CV] END count_vectorizer__max_features=20, rf__n_estimators=1000; total time=   9.8s\n",
      "[CV] END .....naivebayes__alpha=1, tfidf__ngram_range=(1, 2); total time=   8.8s\n",
      "[CV] END .naivebayes__alpha=0.001, tfidf__ngram_range=(1, 2); total time=   8.3s\n",
      "[CV] END .....naivebayes__alpha=1, tfidf__ngram_range=(1, 1); total time=   1.7s\n",
      "[CV] END .naivebayes__alpha=0.001, tfidf__ngram_range=(1, 1); total time=   1.9s\n",
      "[CV] END naivebayes__alpha=0.0001, tfidf__ngram_range=(1, 2); total time=   9.2s\n",
      "[CV] END logreg__C=0.001, logreg__penalty=l1, tfidf__ngram_range=(1, 1); total time=   1.3s\n",
      "[CV] END logreg__C=0.001, logreg__penalty=l2, tfidf__ngram_range=(1, 2); total time=  11.6s\n",
      "[CV] END logreg__C=0.1, logreg__penalty=l2, tfidf__ngram_range=(1, 1); total time=   2.1s\n",
      "[CV] END logreg__C=0.1, logreg__penalty=l2, tfidf__ngram_range=(1, 2); total time=  12.4s\n",
      "[CV] END logreg__C=10.0, logreg__penalty=l1, tfidf__ngram_range=(1, 1); total time=   2.0s\n",
      "[CV] END logreg__C=10.0, logreg__penalty=l2, tfidf__ngram_range=(1, 2); total time=  14.9s\n",
      "[CV] END logreg__C=1000.0, logreg__penalty=l1, tfidf__ngram_range=(1, 1); total time=   2.2s\n",
      "[CV] END logreg__C=1000.0, logreg__penalty=l1, tfidf__ngram_range=(1, 1); total time=   1.7s\n",
      "[CV] END logreg__C=1000.0, logreg__penalty=l2, tfidf__ngram_range=(1, 1); total time=   4.2s\n",
      "[CV] END logreg__C=1.0, logreg__penalty=l1, tfidf__ngram_range=(1, 2); total time=   6.2s\n",
      "[CV] END logreg__C=10.0, logreg__penalty=l1, tfidf__ngram_range=(1, 1); total time=   1.8s\n",
      "[CV] END logreg__C=0.01, logreg__penalty=l2, tfidf__ngram_range=(1, 1); total time=   2.3s\n",
      "[CV] END logreg__C=10.0, logreg__penalty=l2, tfidf__ngram_range=(1, 1); total time=   1.9s\n",
      "[CV] END ......knn__n_neighbors=5, tfidf__ngram_range=(1, 1); total time=   1.9s\n",
      "[CV] END .....knn__n_neighbors=10, tfidf__ngram_range=(1, 1); total time=   2.0s\n",
      "[CV] END .....knn__n_neighbors=10, tfidf__ngram_range=(1, 2); total time=   7.7s\n",
      "[CV] END ......knn__n_neighbors=1, tfidf__ngram_range=(1, 2); total time=   9.2s\n",
      "[CV] END .....knn__n_neighbors=20, tfidf__ngram_range=(1, 1); total time=   2.4s\n",
      "[CV] END .............svc__C=0.01, tfidf__ngram_range=(1, 2); total time=   8.3s\n",
      "[CV] END ...............svc__C=10, tfidf__ngram_range=(1, 1); total time=   3.3s\n",
      "[CV] END ..............svc__C=100, tfidf__ngram_range=(1, 2); total time=  26.5s\n",
      "[CV] END .............svc__C=0.01, tfidf__ngram_range=(1, 1); total time=   1.8s\n",
      "[CV] END ..............svc__C=0.1, tfidf__ngram_range=(1, 2); total time=   9.1s\n",
      "[CV] END ..............svc__C=100, tfidf__ngram_range=(1, 1); total time=   5.7s\n",
      "[CV] END ....rf__n_estimators=100, tfidf__ngram_range=(1, 1); total time=   4.5s\n",
      "[CV] END ...rf__n_estimators=1000, tfidf__ngram_range=(1, 1); total time=  25.8s\n",
      "[CV] END ....rf__n_estimators=100, tfidf__ngram_range=(1, 2); total time=  18.5s\n"
     ]
    },
    {
     "name": "stderr",
     "output_type": "stream",
     "text": [
      "/Users/anantagarwal/opt/anaconda3/lib/python3.8/site-packages/sklearn/svm/_base.py:1206: ConvergenceWarning: Liblinear failed to converge, increase the number of iterations.\n",
      "  warnings.warn(\n",
      "/Users/anantagarwal/opt/anaconda3/lib/python3.8/site-packages/sklearn/svm/_base.py:1206: ConvergenceWarning: Liblinear failed to converge, increase the number of iterations.\n",
      "  warnings.warn(\n",
      "/Users/anantagarwal/opt/anaconda3/lib/python3.8/site-packages/sklearn/svm/_base.py:1206: ConvergenceWarning: Liblinear failed to converge, increase the number of iterations.\n",
      "  warnings.warn(\n",
      "/Users/anantagarwal/opt/anaconda3/lib/python3.8/site-packages/sklearn/svm/_base.py:1206: ConvergenceWarning: Liblinear failed to converge, increase the number of iterations.\n",
      "  warnings.warn(\n",
      "/Users/anantagarwal/opt/anaconda3/lib/python3.8/site-packages/sklearn/svm/_base.py:1206: ConvergenceWarning: Liblinear failed to converge, increase the number of iterations.\n",
      "  warnings.warn(\n",
      "/Users/anantagarwal/opt/anaconda3/lib/python3.8/site-packages/sklearn/svm/_base.py:1206: ConvergenceWarning: Liblinear failed to converge, increase the number of iterations.\n",
      "  warnings.warn(\n",
      "/Users/anantagarwal/opt/anaconda3/lib/python3.8/site-packages/sklearn/svm/_base.py:1206: ConvergenceWarning: Liblinear failed to converge, increase the number of iterations.\n",
      "  warnings.warn(\n"
     ]
    },
    {
     "name": "stdout",
     "output_type": "stream",
     "text": [
      "[CV] END count_vectorizer__max_features=5, naivebayes__alpha=0.1; total time=   1.4s\n",
      "[CV] END count_vectorizer__max_features=5, naivebayes__alpha=0.0001; total time=   1.4s\n",
      "[CV] END count_vectorizer__max_features=10, naivebayes__alpha=0.01; total time=   1.4s\n",
      "[CV] END count_vectorizer__max_features=10, naivebayes__alpha=1e-05; total time=   1.5s\n",
      "[CV] END count_vectorizer__max_features=20, naivebayes__alpha=0.01; total time=   1.8s\n",
      "[CV] END count_vectorizer__max_features=20, naivebayes__alpha=1e-05; total time=   1.2s\n",
      "[CV] END count_vectorizer__max_features=5, naivebayes__alpha=0.001; total time=   1.4s\n",
      "[CV] END count_vectorizer__max_features=20, naivebayes__alpha=1; total time=   1.6s\n",
      "[CV] END count_vectorizer__max_features=5, naivebayes__alpha=0.0001; total time=   1.7s\n",
      "[CV] END count_vectorizer__max_features=5, logreg__C=0.01, logreg__penalty=l1; total time=   1.2s\n",
      "[CV] END count_vectorizer__max_features=5, logreg__C=0.1, logreg__penalty=l1; total time=   1.1s\n",
      "[CV] END count_vectorizer__max_features=5, logreg__C=0.1, logreg__penalty=l2; total time=   4.0s\n",
      "[CV] END count_vectorizer__max_features=5, logreg__C=100.0, logreg__penalty=l1; total time=   1.3s\n",
      "[CV] END count_vectorizer__max_features=10, logreg__C=0.001, logreg__penalty=l1; total time=   1.2s\n",
      "[CV] END count_vectorizer__max_features=10, logreg__C=0.01, logreg__penalty=l1; total time=   1.3s\n",
      "[CV] END count_vectorizer__max_features=10, logreg__C=0.1, logreg__penalty=l2; total time=   1.7s\n",
      "[CV] END count_vectorizer__max_features=10, logreg__C=10.0, logreg__penalty=l1; total time=   1.4s\n",
      "[CV] END count_vectorizer__max_features=10, logreg__C=100.0, logreg__penalty=l2; total time=   1.7s\n",
      "[CV] END count_vectorizer__max_features=20, logreg__C=0.001, logreg__penalty=l2; total time=   1.7s\n",
      "[CV] END count_vectorizer__max_features=20, logreg__C=0.1, logreg__penalty=l1; total time=   1.4s\n",
      "[CV] END count_vectorizer__max_features=20, logreg__C=1.0, logreg__penalty=l2; total time=   1.5s\n",
      "[CV] END count_vectorizer__max_features=20, logreg__C=100.0, logreg__penalty=l2; total time=   1.6s\n",
      "[CV] END count_vectorizer__max_features=20, logreg__C=1.0, logreg__penalty=l1; total time=   1.2s\n",
      "[CV] END count_vectorizer__max_features=10, logreg__C=0.001, logreg__penalty=l1; total time=   1.2s\n",
      "[CV] END count_vectorizer__max_features=5, logreg__C=0.01, logreg__penalty=l1; total time=   1.2s\n",
      "[CV] END count_vectorizer__max_features=5, knn__n_neighbors=10; total time=   1.5s\n",
      "[CV] END count_vectorizer__max_features=10, knn__n_neighbors=10; total time=   1.8s\n",
      "[CV] END count_vectorizer__max_features=20, knn__n_neighbors=5; total time=   1.8s\n",
      "[CV] END count_vectorizer__max_features=5, knn__n_neighbors=5; total time=   1.5s\n",
      "[CV] END count_vectorizer__max_features=20, knn__n_neighbors=10; total time=   1.7s\n",
      "[CV] END count_vectorizer__max_features=20, knn__n_neighbors=20; total time=   1.8s\n",
      "[CV] END ......count_vectorizer__max_features=5, svc__C=0.01; total time=   1.6s\n",
      "[CV] END ........count_vectorizer__max_features=5, svc__C=10; total time=   1.7s\n",
      "[CV] END ......count_vectorizer__max_features=10, svc__C=0.1; total time=   1.8s\n",
      "[CV] END ......count_vectorizer__max_features=10, svc__C=100; total time=   1.8s\n",
      "[CV] END .......count_vectorizer__max_features=20, svc__C=10; total time=   1.5s\n",
      "[CV] END .....count_vectorizer__max_features=20, svc__C=0.01; total time=   1.5s\n",
      "[CV] END ......count_vectorizer__max_features=10, svc__C=0.1; total time=   1.6s\n",
      "[CV] END .....count_vectorizer__max_features=10, svc__C=0.01; total time=   1.5s\n",
      "[CV] END count_vectorizer__max_features=5, rf__n_estimators=100; total time=   2.4s\n",
      "[CV] END count_vectorizer__max_features=10, rf__n_estimators=100; total time=   2.5s\n",
      "[CV] END count_vectorizer__max_features=20, rf__n_estimators=10; total time=   1.8s\n",
      "[CV] END count_vectorizer__max_features=20, rf__n_estimators=1000; total time=   9.5s\n",
      "[CV] END count_vectorizer__max_features=5, rf__n_estimators=100; total time=   2.1s\n",
      "[CV] END count_vectorizer__max_features=10, rf__n_estimators=1000; total time=  11.2s\n",
      "[CV] END ...naivebayes__alpha=0.1, tfidf__ngram_range=(1, 2); total time=   8.8s\n",
      "[CV] END .naivebayes__alpha=0.001, tfidf__ngram_range=(1, 2); total time=   8.4s\n",
      "[CV] END .....naivebayes__alpha=1, tfidf__ngram_range=(1, 1); total time=   1.7s\n",
      "[CV] END .naivebayes__alpha=0.001, tfidf__ngram_range=(1, 1); total time=   1.9s\n",
      "[CV] END naivebayes__alpha=0.0001, tfidf__ngram_range=(1, 2); total time=   9.3s\n",
      "[CV] END logreg__C=0.001, logreg__penalty=l1, tfidf__ngram_range=(1, 2); total time=   7.6s\n",
      "[CV] END logreg__C=0.01, logreg__penalty=l2, tfidf__ngram_range=(1, 2); total time=  11.0s\n",
      "[CV] END logreg__C=1.0, logreg__penalty=l1, tfidf__ngram_range=(1, 1); total time=   2.1s\n",
      "[CV] END logreg__C=1.0, logreg__penalty=l2, tfidf__ngram_range=(1, 1); total time=   2.9s\n",
      "[CV] END logreg__C=1.0, logreg__penalty=l2, tfidf__ngram_range=(1, 2); total time=  14.9s\n",
      "[CV] END logreg__C=100.0, logreg__penalty=l2, tfidf__ngram_range=(1, 1); total time=   3.3s\n",
      "[CV] END logreg__C=100.0, logreg__penalty=l2, tfidf__ngram_range=(1, 2); total time=  16.6s\n",
      "[CV] END logreg__C=0.001, logreg__penalty=l1, tfidf__ngram_range=(1, 1); total time=   1.2s\n",
      "[CV] END logreg__C=0.001, logreg__penalty=l2, tfidf__ngram_range=(1, 2); total time=  10.1s\n",
      "[CV] END ......knn__n_neighbors=1, tfidf__ngram_range=(1, 1); total time=   1.8s\n",
      "[CV] END .....knn__n_neighbors=10, tfidf__ngram_range=(1, 1); total time=   2.0s\n",
      "[CV] END .....knn__n_neighbors=10, tfidf__ngram_range=(1, 2); total time=   7.8s\n",
      "[CV] END ......knn__n_neighbors=1, tfidf__ngram_range=(1, 1); total time=   1.8s\n",
      "[CV] END ......knn__n_neighbors=5, tfidf__ngram_range=(1, 2); total time=   9.6s\n",
      "[CV] END .............svc__C=0.01, tfidf__ngram_range=(1, 1); total time=   1.5s\n",
      "[CV] END ..............svc__C=0.1, tfidf__ngram_range=(1, 2); total time=   9.0s\n",
      "[CV] END ...............svc__C=10, tfidf__ngram_range=(1, 2); total time=  15.8s\n",
      "[CV] END ..............svc__C=0.1, tfidf__ngram_range=(1, 1); total time=   1.9s\n",
      "[CV] END ................svc__C=1, tfidf__ngram_range=(1, 2); total time=   9.6s\n",
      "[CV] END ..............svc__C=100, tfidf__ngram_range=(1, 2); total time=  28.5s\n",
      "[CV] END ....rf__n_estimators=100, tfidf__ngram_range=(1, 1); total time=   4.5s\n",
      "[CV] END ...rf__n_estimators=1000, tfidf__ngram_range=(1, 2); total time= 1.2min\n",
      "[CV] END .....rf__n_estimators=10, tfidf__ngram_range=(1, 1); total time=   1.9s\n",
      "[CV] END ....rf__n_estimators=100, tfidf__ngram_range=(1, 2); total time=  19.0s\n",
      "[CV] END count_vectorizer__max_features=5, naivebayes__alpha=1; total time=   1.5s\n",
      "[CV] END count_vectorizer__max_features=5, naivebayes__alpha=0.001; total time=   1.4s\n",
      "[CV] END count_vectorizer__max_features=10, naivebayes__alpha=1; total time=   1.5s\n",
      "[CV] END count_vectorizer__max_features=10, naivebayes__alpha=0.0001; total time=   1.5s\n",
      "[CV] END count_vectorizer__max_features=20, naivebayes__alpha=0.1; total time=   1.8s\n",
      "[CV] END count_vectorizer__max_features=20, naivebayes__alpha=0.0001; total time=   1.3s\n",
      "[CV] END count_vectorizer__max_features=20, naivebayes__alpha=0.01; total time=   1.5s\n",
      "[CV] END count_vectorizer__max_features=20, naivebayes__alpha=1e-05; total time=   1.6s\n",
      "[CV] END count_vectorizer__max_features=5, naivebayes__alpha=1e-05; total time=   1.6s\n",
      "[CV] END count_vectorizer__max_features=5, logreg__C=0.001, logreg__penalty=l1; total time=   1.0s\n",
      "[CV] END count_vectorizer__max_features=5, logreg__C=0.01, logreg__penalty=l2; total time=   3.9s\n",
      "[CV] END count_vectorizer__max_features=5, logreg__C=10.0, logreg__penalty=l1; total time=   1.3s\n",
      "[CV] END count_vectorizer__max_features=5, logreg__C=100.0, logreg__penalty=l1; total time=   1.3s\n",
      "[CV] END count_vectorizer__max_features=5, logreg__C=1000.0, logreg__penalty=l2; total time=   1.5s\n",
      "[CV] END count_vectorizer__max_features=10, logreg__C=0.01, logreg__penalty=l1; total time=   1.3s\n",
      "[CV] END count_vectorizer__max_features=10, logreg__C=0.1, logreg__penalty=l2; total time=   1.7s\n",
      "[CV] END count_vectorizer__max_features=10, logreg__C=10.0, logreg__penalty=l2; total time=   1.7s\n",
      "[CV] END count_vectorizer__max_features=10, logreg__C=1000.0, logreg__penalty=l1; total time=   1.4s\n",
      "[CV] END count_vectorizer__max_features=20, logreg__C=0.001, logreg__penalty=l2; total time=   1.7s\n",
      "[CV] END count_vectorizer__max_features=20, logreg__C=0.1, logreg__penalty=l2; total time=   1.6s\n",
      "[CV] END count_vectorizer__max_features=20, logreg__C=10.0, logreg__penalty=l1; total time=   1.3s\n",
      "[CV] END count_vectorizer__max_features=20, logreg__C=100.0, logreg__penalty=l2; total time=   1.5s\n",
      "[CV] END count_vectorizer__max_features=5, logreg__C=0.01, logreg__penalty=l2; total time=   1.4s\n",
      "[CV] END count_vectorizer__max_features=20, logreg__C=0.01, logreg__penalty=l2; total time=   1.5s\n",
      "[CV] END count_vectorizer__max_features=5, logreg__C=0.01, logreg__penalty=l1; total time=   1.2s\n",
      "[CV] END count_vectorizer__max_features=5, knn__n_neighbors=5; total time=   1.4s\n",
      "[CV] END count_vectorizer__max_features=10, knn__n_neighbors=1; total time=   1.8s\n",
      "[CV] END count_vectorizer__max_features=10, knn__n_neighbors=20; total time=   1.8s\n",
      "[CV] END count_vectorizer__max_features=20, knn__n_neighbors=20; total time=   1.4s\n",
      "[CV] END count_vectorizer__max_features=10, knn__n_neighbors=20; total time=   1.4s\n",
      "[CV] END count_vectorizer__max_features=20, knn__n_neighbors=1; total time=   1.6s\n",
      "[CV] END count_vectorizer__max_features=10, knn__n_neighbors=5; total time=   1.9s\n",
      "[CV] END .........count_vectorizer__max_features=5, svc__C=1; total time=   1.9s\n",
      "[CV] END .....count_vectorizer__max_features=10, svc__C=0.01; total time=   1.6s\n",
      "[CV] END .......count_vectorizer__max_features=10, svc__C=10; total time=   1.8s\n",
      "[CV] END ......count_vectorizer__max_features=20, svc__C=0.1; total time=   1.8s\n",
      "[CV] END ......count_vectorizer__max_features=20, svc__C=100; total time=   1.2s\n",
      "[CV] END .......count_vectorizer__max_features=20, svc__C=10; total time=   1.6s\n",
      "[CV] END ......count_vectorizer__max_features=10, svc__C=0.1; total time=   1.6s\n",
      "[CV] END .....count_vectorizer__max_features=10, svc__C=0.01; total time=   1.5s\n",
      "[CV] END count_vectorizer__max_features=5, rf__n_estimators=100; total time=   2.4s\n",
      "[CV] END count_vectorizer__max_features=10, rf__n_estimators=1000; total time=  11.2s\n",
      "[CV] END count_vectorizer__max_features=5, rf__n_estimators=100; total time=   2.1s\n",
      "[CV] END count_vectorizer__max_features=10, rf__n_estimators=100; total time=   2.3s\n",
      "[CV] END count_vectorizer__max_features=20, rf__n_estimators=100; total time=   2.9s\n",
      "[CV] END count_vectorizer__max_features=20, rf__n_estimators=1000; total time=   9.2s\n",
      "[CV] END .....naivebayes__alpha=1, tfidf__ngram_range=(1, 1); total time=   1.8s\n",
      "[CV] END ...naivebayes__alpha=0.1, tfidf__ngram_range=(1, 2); total time=   9.4s\n",
      "[CV] END naivebayes__alpha=0.0001, tfidf__ngram_range=(1, 2); total time=   8.2s\n",
      "[CV] END ...naivebayes__alpha=0.1, tfidf__ngram_range=(1, 1); total time=   1.6s\n",
      "[CV] END ..naivebayes__alpha=0.01, tfidf__ngram_range=(1, 2); total time=   8.9s\n",
      "[CV] END .naivebayes__alpha=1e-05, tfidf__ngram_range=(1, 2); total time=   6.1s\n",
      "[CV] END logreg__C=0.001, logreg__penalty=l2, tfidf__ngram_range=(1, 1); total time=   1.9s\n",
      "[CV] END logreg__C=0.01, logreg__penalty=l1, tfidf__ngram_range=(1, 1); total time=   1.6s\n",
      "[CV] END logreg__C=0.01, logreg__penalty=l1, tfidf__ngram_range=(1, 2); total time=   8.4s\n",
      "[CV] END logreg__C=0.1, logreg__penalty=l1, tfidf__ngram_range=(1, 1); total time=   1.6s\n",
      "[CV] END logreg__C=0.1, logreg__penalty=l2, tfidf__ngram_range=(1, 2); total time=  11.8s\n",
      "[CV] END logreg__C=10.0, logreg__penalty=l1, tfidf__ngram_range=(1, 1); total time=   2.1s\n",
      "[CV] END logreg__C=10.0, logreg__penalty=l1, tfidf__ngram_range=(1, 2); total time=   9.0s\n",
      "[CV] END logreg__C=100.0, logreg__penalty=l1, tfidf__ngram_range=(1, 2); total time=   9.4s\n",
      "[CV] END logreg__C=1000.0, logreg__penalty=l1, tfidf__ngram_range=(1, 2); total time=   8.7s\n",
      "[CV] END logreg__C=1.0, logreg__penalty=l1, tfidf__ngram_range=(1, 2); total time=   6.5s\n",
      "[CV] END logreg__C=10.0, logreg__penalty=l1, tfidf__ngram_range=(1, 1); total time=   1.8s\n",
      "[CV] END logreg__C=10.0, logreg__penalty=l2, tfidf__ngram_range=(1, 1); total time=   2.6s\n",
      "[CV] END ......knn__n_neighbors=1, tfidf__ngram_range=(1, 1); total time=   1.8s\n",
      "[CV] END ......knn__n_neighbors=5, tfidf__ngram_range=(1, 2); total time=   8.4s\n",
      "[CV] END ......knn__n_neighbors=1, tfidf__ngram_range=(1, 1); total time=   1.7s\n",
      "[CV] END ......knn__n_neighbors=5, tfidf__ngram_range=(1, 2); total time=   9.7s\n",
      "[CV] END .............svc__C=0.01, tfidf__ngram_range=(1, 1); total time=   1.5s\n",
      "[CV] END ..............svc__C=0.1, tfidf__ngram_range=(1, 2); total time=   9.2s\n",
      "[CV] END ...............svc__C=10, tfidf__ngram_range=(1, 2); total time=  15.7s\n",
      "[CV] END .............svc__C=0.01, tfidf__ngram_range=(1, 2); total time=   8.5s\n",
      "[CV] END ...............svc__C=10, tfidf__ngram_range=(1, 2); total time=  16.1s\n",
      "[CV] END .....rf__n_estimators=10, tfidf__ngram_range=(1, 2); total time=   9.3s\n",
      "[CV] END .....rf__n_estimators=10, tfidf__ngram_range=(1, 1); total time=   1.8s\n",
      "[CV] END ....rf__n_estimators=100, tfidf__ngram_range=(1, 2); total time=  19.1s\n",
      "[CV] END count_vectorizer__max_features=5, naivebayes__alpha=1; total time=   1.5s\n",
      "[CV] END count_vectorizer__max_features=5, naivebayes__alpha=0.0001; total time=   1.4s\n",
      "[CV] END count_vectorizer__max_features=10, naivebayes__alpha=0.1; total time=   1.4s\n",
      "[CV] END count_vectorizer__max_features=10, naivebayes__alpha=0.0001; total time=   1.5s\n",
      "[CV] END count_vectorizer__max_features=20, naivebayes__alpha=0.01; total time=   1.8s\n",
      "[CV] END count_vectorizer__max_features=20, naivebayes__alpha=1e-05; total time=   1.2s\n",
      "[CV] END count_vectorizer__max_features=5, naivebayes__alpha=0.001; total time=   1.5s\n",
      "[CV] END count_vectorizer__max_features=20, naivebayes__alpha=1; total time=   1.6s\n",
      "[CV] END count_vectorizer__max_features=5, naivebayes__alpha=0.1; total time=   1.6s\n",
      "[CV] END count_vectorizer__max_features=5, logreg__C=0.01, logreg__penalty=l1; total time=   1.3s\n",
      "[CV] END count_vectorizer__max_features=5, logreg__C=0.1, logreg__penalty=l1; total time=   1.1s\n",
      "[CV] END count_vectorizer__max_features=5, logreg__C=1.0, logreg__penalty=l1; total time=   1.1s\n",
      "[CV] END count_vectorizer__max_features=5, logreg__C=1.0, logreg__penalty=l1; total time=   1.2s\n",
      "[CV] END count_vectorizer__max_features=5, logreg__C=10.0, logreg__penalty=l1; total time=   1.4s\n",
      "[CV] END count_vectorizer__max_features=5, logreg__C=1000.0, logreg__penalty=l1; total time=   1.3s\n",
      "[CV] END count_vectorizer__max_features=10, logreg__C=0.001, logreg__penalty=l1; total time=   1.3s\n",
      "[CV] END count_vectorizer__max_features=10, logreg__C=0.01, logreg__penalty=l2; total time=   4.4s\n",
      "[CV] END count_vectorizer__max_features=10, logreg__C=1000.0, logreg__penalty=l1; total time=   1.4s\n",
      "[CV] END count_vectorizer__max_features=20, logreg__C=0.001, logreg__penalty=l2; total time=   1.7s\n",
      "[CV] END count_vectorizer__max_features=20, logreg__C=0.1, logreg__penalty=l1; total time=   1.4s\n",
      "[CV] END count_vectorizer__max_features=20, logreg__C=1.0, logreg__penalty=l2; total time=   1.6s\n",
      "[CV] END count_vectorizer__max_features=20, logreg__C=100.0, logreg__penalty=l1; total time=   1.4s\n",
      "[CV] END count_vectorizer__max_features=10, logreg__C=1000.0, logreg__penalty=l1; total time=   1.0s\n",
      "[CV] END count_vectorizer__max_features=20, logreg__C=1.0, logreg__penalty=l1; total time=   1.2s\n",
      "[CV] END count_vectorizer__max_features=10, logreg__C=1000.0, logreg__penalty=l2; total time=   1.5s\n",
      "[CV] END count_vectorizer__max_features=10, logreg__C=1.0, logreg__penalty=l2; total time=   1.0s\n",
      "[CV] END count_vectorizer__max_features=5, knn__n_neighbors=10; total time=   1.5s\n",
      "[CV] END count_vectorizer__max_features=10, knn__n_neighbors=5; total time=   1.8s\n",
      "[CV] END count_vectorizer__max_features=20, knn__n_neighbors=1; total time=   1.8s\n",
      "[CV] END count_vectorizer__max_features=20, knn__n_neighbors=20; total time=   1.4s\n",
      "[CV] END count_vectorizer__max_features=5, knn__n_neighbors=20; total time=   1.5s\n",
      "[CV] END count_vectorizer__max_features=5, knn__n_neighbors=1; total time=   1.6s\n",
      "[CV] END count_vectorizer__max_features=10, knn__n_neighbors=5; total time=   1.9s\n",
      "[CV] END ........count_vectorizer__max_features=5, svc__C=10; total time=   1.9s\n",
      "[CV] END ......count_vectorizer__max_features=10, svc__C=0.1; total time=   1.7s\n",
      "[CV] END ......count_vectorizer__max_features=10, svc__C=100; total time=   1.8s\n",
      "[CV] END ........count_vectorizer__max_features=20, svc__C=1; total time=   1.8s\n",
      "[CV] END .......count_vectorizer__max_features=20, svc__C=10; total time=   1.6s\n",
      "[CV] END ......count_vectorizer__max_features=20, svc__C=100; total time=   1.7s\n",
      "[CV] END ........count_vectorizer__max_features=20, svc__C=1; total time=   1.6s\n",
      "[CV] END count_vectorizer__max_features=10, rf__n_estimators=10; total time=   1.6s\n",
      "[CV] END count_vectorizer__max_features=10, rf__n_estimators=100; total time=   2.5s\n",
      "[CV] END count_vectorizer__max_features=20, rf__n_estimators=10; total time=   1.8s\n",
      "[CV] END count_vectorizer__max_features=20, rf__n_estimators=100; total time=   2.8s\n",
      "[CV] END count_vectorizer__max_features=20, rf__n_estimators=1000; total time=   8.4s\n",
      "[CV] END count_vectorizer__max_features=10, rf__n_estimators=10; total time=   1.5s\n",
      "[CV] END count_vectorizer__max_features=10, rf__n_estimators=100; total time=   2.3s\n",
      "[CV] END count_vectorizer__max_features=20, rf__n_estimators=10; total time=   1.7s\n",
      "[CV] END count_vectorizer__max_features=20, rf__n_estimators=100; total time=   3.2s\n",
      "[CV] END count_vectorizer__max_features=20, rf__n_estimators=1000; total time=   8.4s\n",
      "[CV] END .....naivebayes__alpha=1, tfidf__ngram_range=(1, 2); total time=   9.0s\n",
      "[CV] END .naivebayes__alpha=0.001, tfidf__ngram_range=(1, 2); total time=   8.4s\n",
      "[CV] END .naivebayes__alpha=0.001, tfidf__ngram_range=(1, 2); total time=   8.1s\n",
      "[CV] END naivebayes__alpha=0.0001, tfidf__ngram_range=(1, 1); total time=   2.4s\n",
      "[CV] END ..naivebayes__alpha=0.01, tfidf__ngram_range=(1, 1); total time=   2.3s\n",
      "[CV] END logreg__C=0.001, logreg__penalty=l2, tfidf__ngram_range=(1, 1); total time=   1.9s\n",
      "[CV] END logreg__C=0.01, logreg__penalty=l1, tfidf__ngram_range=(1, 1); total time=   1.6s\n",
      "[CV] END logreg__C=0.01, logreg__penalty=l2, tfidf__ngram_range=(1, 1); total time=   2.7s\n",
      "[CV] END logreg__C=0.01, logreg__penalty=l2, tfidf__ngram_range=(1, 1); total time=   2.7s\n",
      "[CV] END logreg__C=0.01, logreg__penalty=l2, tfidf__ngram_range=(1, 2); total time=  11.3s\n",
      "[CV] END logreg__C=1.0, logreg__penalty=l2, tfidf__ngram_range=(1, 1); total time=   2.8s\n",
      "[CV] END logreg__C=1.0, logreg__penalty=l2, tfidf__ngram_range=(1, 2); total time=  16.1s\n",
      "[CV] END logreg__C=100.0, logreg__penalty=l2, tfidf__ngram_range=(1, 2); total time=  16.9s\n",
      "[CV] END logreg__C=0.001, logreg__penalty=l1, tfidf__ngram_range=(1, 1); total time=   1.3s\n",
      "[CV] END logreg__C=1.0, logreg__penalty=l1, tfidf__ngram_range=(1, 1); total time=   1.6s\n",
      "[CV] END logreg__C=1.0, logreg__penalty=l1, tfidf__ngram_range=(1, 1); total time=   1.4s\n",
      "[CV] END logreg__C=0.01, logreg__penalty=l1, tfidf__ngram_range=(1, 2); total time=   7.1s\n",
      "[CV] END ......knn__n_neighbors=5, tfidf__ngram_range=(1, 1); total time=   2.0s\n",
      "[CV] END .....knn__n_neighbors=10, tfidf__ngram_range=(1, 2); total time=   8.2s\n",
      "[CV] END ......knn__n_neighbors=5, tfidf__ngram_range=(1, 1); total time=   2.1s\n",
      "[CV] END .....knn__n_neighbors=10, tfidf__ngram_range=(1, 1); total time=   2.3s\n",
      "[CV] END .....knn__n_neighbors=10, tfidf__ngram_range=(1, 2); total time=   8.7s\n",
      "[CV] END .............svc__C=0.01, tfidf__ngram_range=(1, 2); total time=   8.0s\n",
      "[CV] END ...............svc__C=10, tfidf__ngram_range=(1, 1); total time=   3.3s\n",
      "[CV] END ..............svc__C=100, tfidf__ngram_range=(1, 1); total time=   6.7s\n",
      "[CV] END ..............svc__C=0.1, tfidf__ngram_range=(1, 1); total time=   1.9s\n",
      "[CV] END ................svc__C=1, tfidf__ngram_range=(1, 1); total time=   2.1s\n",
      "[CV] END ...............svc__C=10, tfidf__ngram_range=(1, 1); total time=   3.6s\n",
      "[CV] END ...............svc__C=10, tfidf__ngram_range=(1, 1); total time=   3.0s\n",
      "[CV] END ...............svc__C=10, tfidf__ngram_range=(1, 2); total time=  16.7s\n",
      "[CV] END .....rf__n_estimators=10, tfidf__ngram_range=(1, 1); total time=   1.9s\n",
      "[CV] END ....rf__n_estimators=100, tfidf__ngram_range=(1, 2); total time=  18.2s\n",
      "[CV] END .....rf__n_estimators=10, tfidf__ngram_range=(1, 1); total time=   1.9s\n",
      "[CV] END ....rf__n_estimators=100, tfidf__ngram_range=(1, 2); total time=  19.1s\n"
     ]
    },
    {
     "name": "stderr",
     "output_type": "stream",
     "text": [
      "/Users/anantagarwal/opt/anaconda3/lib/python3.8/site-packages/sklearn/svm/_base.py:1206: ConvergenceWarning: Liblinear failed to converge, increase the number of iterations.\n",
      "  warnings.warn(\n",
      "/Users/anantagarwal/opt/anaconda3/lib/python3.8/site-packages/sklearn/svm/_base.py:1206: ConvergenceWarning: Liblinear failed to converge, increase the number of iterations.\n",
      "  warnings.warn(\n",
      "/Users/anantagarwal/opt/anaconda3/lib/python3.8/site-packages/sklearn/svm/_base.py:1206: ConvergenceWarning: Liblinear failed to converge, increase the number of iterations.\n",
      "  warnings.warn(\n",
      "/Users/anantagarwal/opt/anaconda3/lib/python3.8/site-packages/sklearn/svm/_base.py:1206: ConvergenceWarning: Liblinear failed to converge, increase the number of iterations.\n",
      "  warnings.warn(\n",
      "/Users/anantagarwal/opt/anaconda3/lib/python3.8/site-packages/sklearn/svm/_base.py:1206: ConvergenceWarning: Liblinear failed to converge, increase the number of iterations.\n",
      "  warnings.warn(\n",
      "/Users/anantagarwal/opt/anaconda3/lib/python3.8/site-packages/sklearn/svm/_base.py:1206: ConvergenceWarning: Liblinear failed to converge, increase the number of iterations.\n",
      "  warnings.warn(\n",
      "/Users/anantagarwal/opt/anaconda3/lib/python3.8/site-packages/sklearn/svm/_base.py:1206: ConvergenceWarning: Liblinear failed to converge, increase the number of iterations.\n",
      "  warnings.warn(\n",
      "/Users/anantagarwal/opt/anaconda3/lib/python3.8/site-packages/sklearn/svm/_base.py:1206: ConvergenceWarning: Liblinear failed to converge, increase the number of iterations.\n",
      "  warnings.warn(\n",
      "/Users/anantagarwal/opt/anaconda3/lib/python3.8/site-packages/sklearn/svm/_base.py:1206: ConvergenceWarning: Liblinear failed to converge, increase the number of iterations.\n",
      "  warnings.warn(\n",
      "/Users/anantagarwal/opt/anaconda3/lib/python3.8/site-packages/sklearn/svm/_base.py:1206: ConvergenceWarning: Liblinear failed to converge, increase the number of iterations.\n",
      "  warnings.warn(\n",
      "/Users/anantagarwal/opt/anaconda3/lib/python3.8/site-packages/sklearn/svm/_base.py:1206: ConvergenceWarning: Liblinear failed to converge, increase the number of iterations.\n",
      "  warnings.warn(\n",
      "/Users/anantagarwal/opt/anaconda3/lib/python3.8/site-packages/sklearn/svm/_base.py:1206: ConvergenceWarning: Liblinear failed to converge, increase the number of iterations.\n",
      "  warnings.warn(\n",
      "/Users/anantagarwal/opt/anaconda3/lib/python3.8/site-packages/sklearn/svm/_base.py:1206: ConvergenceWarning: Liblinear failed to converge, increase the number of iterations.\n",
      "  warnings.warn(\n",
      "/Users/anantagarwal/opt/anaconda3/lib/python3.8/site-packages/sklearn/svm/_base.py:1206: ConvergenceWarning: Liblinear failed to converge, increase the number of iterations.\n",
      "  warnings.warn(\n",
      "/Users/anantagarwal/opt/anaconda3/lib/python3.8/site-packages/sklearn/svm/_base.py:1206: ConvergenceWarning: Liblinear failed to converge, increase the number of iterations.\n",
      "  warnings.warn(\n",
      "/Users/anantagarwal/opt/anaconda3/lib/python3.8/site-packages/sklearn/svm/_base.py:1206: ConvergenceWarning: Liblinear failed to converge, increase the number of iterations.\n",
      "  warnings.warn(\n",
      "/Users/anantagarwal/opt/anaconda3/lib/python3.8/site-packages/sklearn/svm/_base.py:1206: ConvergenceWarning: Liblinear failed to converge, increase the number of iterations.\n",
      "  warnings.warn(\n",
      "/Users/anantagarwal/opt/anaconda3/lib/python3.8/site-packages/sklearn/svm/_base.py:1206: ConvergenceWarning: Liblinear failed to converge, increase the number of iterations.\n",
      "  warnings.warn(\n",
      "/Users/anantagarwal/opt/anaconda3/lib/python3.8/site-packages/sklearn/svm/_base.py:1206: ConvergenceWarning: Liblinear failed to converge, increase the number of iterations.\n",
      "  warnings.warn(\n",
      "/Users/anantagarwal/opt/anaconda3/lib/python3.8/site-packages/sklearn/svm/_base.py:1206: ConvergenceWarning: Liblinear failed to converge, increase the number of iterations.\n",
      "  warnings.warn(\n"
     ]
    },
    {
     "name": "stdout",
     "output_type": "stream",
     "text": [
      "[CV] END count_vectorizer__max_features=5, naivebayes__alpha=0.01; total time=   1.5s\n",
      "[CV] END count_vectorizer__max_features=5, naivebayes__alpha=1e-05; total time=   1.4s\n",
      "[CV] END count_vectorizer__max_features=10, naivebayes__alpha=0.01; total time=   1.4s\n",
      "[CV] END count_vectorizer__max_features=10, naivebayes__alpha=1e-05; total time=   1.5s\n",
      "[CV] END count_vectorizer__max_features=20, naivebayes__alpha=0.001; total time=   1.8s\n",
      "[CV] END count_vectorizer__max_features=5, naivebayes__alpha=0.001; total time=   1.5s\n",
      "[CV] END count_vectorizer__max_features=20, naivebayes__alpha=1; total time=   1.6s\n",
      "[CV] END count_vectorizer__max_features=5, naivebayes__alpha=0.0001; total time=   1.6s\n",
      "[CV] END count_vectorizer__max_features=5, logreg__C=0.001, logreg__penalty=l2; total time=   3.8s\n",
      "[CV] END count_vectorizer__max_features=5, logreg__C=1.0, logreg__penalty=l1; total time=   1.2s\n",
      "[CV] END count_vectorizer__max_features=5, logreg__C=10.0, logreg__penalty=l1; total time=   1.4s\n",
      "[CV] END count_vectorizer__max_features=5, logreg__C=100.0, logreg__penalty=l2; total time=   1.5s\n",
      "[CV] END count_vectorizer__max_features=10, logreg__C=0.001, logreg__penalty=l2; total time=   1.6s\n",
      "[CV] END count_vectorizer__max_features=10, logreg__C=0.1, logreg__penalty=l1; total time=   1.3s\n",
      "[CV] END count_vectorizer__max_features=10, logreg__C=1.0, logreg__penalty=l2; total time=   1.6s\n",
      "[CV] END count_vectorizer__max_features=10, logreg__C=100.0, logreg__penalty=l1; total time=   1.4s\n",
      "[CV] END count_vectorizer__max_features=10, logreg__C=1000.0, logreg__penalty=l2; total time=   1.7s\n",
      "[CV] END count_vectorizer__max_features=20, logreg__C=0.01, logreg__penalty=l2; total time=   1.7s\n",
      "[CV] END count_vectorizer__max_features=20, logreg__C=1.0, logreg__penalty=l1; total time=   1.3s\n",
      "[CV] END count_vectorizer__max_features=20, logreg__C=10.0, logreg__penalty=l2; total time=   1.6s\n",
      "[CV] END count_vectorizer__max_features=20, logreg__C=1000.0, logreg__penalty=l2; total time=   1.2s\n",
      "[CV] END count_vectorizer__max_features=5, logreg__C=0.01, logreg__penalty=l2; total time=   1.4s\n",
      "[CV] END count_vectorizer__max_features=10, logreg__C=1000.0, logreg__penalty=l2; total time=   1.5s\n",
      "[CV] END count_vectorizer__max_features=10, logreg__C=1.0, logreg__penalty=l2; total time=   1.3s\n",
      "[CV] END count_vectorizer__max_features=5, knn__n_neighbors=1; total time=   1.3s\n",
      "[CV] END count_vectorizer__max_features=5, knn__n_neighbors=20; total time=   1.7s\n",
      "[CV] END count_vectorizer__max_features=10, knn__n_neighbors=10; total time=   1.8s\n",
      "[CV] END count_vectorizer__max_features=20, knn__n_neighbors=5; total time=   1.6s\n",
      "[CV] END count_vectorizer__max_features=10, knn__n_neighbors=20; total time=   1.4s\n",
      "[CV] END count_vectorizer__max_features=20, knn__n_neighbors=1; total time=   1.6s\n",
      "[CV] END count_vectorizer__max_features=20, knn__n_neighbors=5; total time=   1.9s\n",
      "[CV] END ......count_vectorizer__max_features=5, svc__C=0.01; total time=   1.5s\n",
      "[CV] END ........count_vectorizer__max_features=5, svc__C=10; total time=   1.7s\n",
      "[CV] END ......count_vectorizer__max_features=10, svc__C=0.1; total time=   1.7s\n",
      "[CV] END ......count_vectorizer__max_features=10, svc__C=100; total time=   1.8s\n",
      "[CV] END ........count_vectorizer__max_features=20, svc__C=1; total time=   1.5s\n",
      "[CV] END ......count_vectorizer__max_features=10, svc__C=100; total time=   1.6s\n",
      "[CV] END ......count_vectorizer__max_features=20, svc__C=0.1; total time=   1.7s\n",
      "[CV] END ........count_vectorizer__max_features=10, svc__C=1; total time=   1.5s\n",
      "[CV] END count_vectorizer__max_features=5, rf__n_estimators=10; total time=   1.5s\n",
      "[CV] END count_vectorizer__max_features=10, rf__n_estimators=10; total time=   1.6s\n",
      "[CV] END count_vectorizer__max_features=20, rf__n_estimators=10; total time=   1.7s\n",
      "[CV] END count_vectorizer__max_features=20, rf__n_estimators=10; total time=   1.8s\n",
      "[CV] END count_vectorizer__max_features=20, rf__n_estimators=100; total time=   2.8s\n",
      "[CV] END count_vectorizer__max_features=5, rf__n_estimators=10; total time=   1.3s\n",
      "[CV] END count_vectorizer__max_features=10, rf__n_estimators=10; total time=   1.5s\n",
      "[CV] END count_vectorizer__max_features=10, rf__n_estimators=1000; total time=  11.1s\n",
      "[CV] END .....naivebayes__alpha=1, tfidf__ngram_range=(1, 1); total time=   1.8s\n",
      "[CV] END ...naivebayes__alpha=0.1, tfidf__ngram_range=(1, 2); total time=   9.3s\n",
      "[CV] END naivebayes__alpha=0.0001, tfidf__ngram_range=(1, 1); total time=   1.9s\n",
      "[CV] END .naivebayes__alpha=1e-05, tfidf__ngram_range=(1, 1); total time=   2.2s\n",
      "[CV] END .naivebayes__alpha=1e-05, tfidf__ngram_range=(1, 2); total time=   6.8s\n",
      "[CV] END ...naivebayes__alpha=0.1, tfidf__ngram_range=(1, 1); total time=   1.6s\n",
      "[CV] END ..naivebayes__alpha=0.01, tfidf__ngram_range=(1, 2); total time=   8.9s\n",
      "[CV] END ..naivebayes__alpha=0.01, tfidf__ngram_range=(1, 1); total time=   2.3s\n",
      "[CV] END logreg__C=0.001, logreg__penalty=l2, tfidf__ngram_range=(1, 2); total time=  11.0s\n",
      "[CV] END logreg__C=0.1, logreg__penalty=l1, tfidf__ngram_range=(1, 1); total time=   1.8s\n",
      "[CV] END logreg__C=0.1, logreg__penalty=l2, tfidf__ngram_range=(1, 1); total time=   2.2s\n",
      "[CV] END logreg__C=1.0, logreg__penalty=l1, tfidf__ngram_range=(1, 1); total time=   1.7s\n",
      "[CV] END logreg__C=1.0, logreg__penalty=l1, tfidf__ngram_range=(1, 1); total time=   1.9s\n",
      "[CV] END logreg__C=1.0, logreg__penalty=l1, tfidf__ngram_range=(1, 1); total time=   2.2s\n",
      "[CV] END logreg__C=1.0, logreg__penalty=l2, tfidf__ngram_range=(1, 1); total time=   3.0s\n",
      "[CV] END logreg__C=10.0, logreg__penalty=l1, tfidf__ngram_range=(1, 1); total time=   2.2s\n",
      "[CV] END logreg__C=10.0, logreg__penalty=l1, tfidf__ngram_range=(1, 1); total time=   2.0s\n",
      "[CV] END logreg__C=10.0, logreg__penalty=l1, tfidf__ngram_range=(1, 2); total time=   9.3s\n",
      "[CV] END logreg__C=100.0, logreg__penalty=l1, tfidf__ngram_range=(1, 2); total time=   8.9s\n",
      "[CV] END logreg__C=1000.0, logreg__penalty=l1, tfidf__ngram_range=(1, 2); total time=   8.8s\n",
      "[CV] END logreg__C=1.0, logreg__penalty=l1, tfidf__ngram_range=(1, 2); total time=   6.5s\n",
      "[CV] END logreg__C=0.01, logreg__penalty=l2, tfidf__ngram_range=(1, 1); total time=   2.5s\n",
      "[CV] END logreg__C=10.0, logreg__penalty=l2, tfidf__ngram_range=(1, 1); total time=   2.3s\n",
      "[CV] END ......knn__n_neighbors=5, tfidf__ngram_range=(1, 1); total time=   1.9s\n",
      "[CV] END .....knn__n_neighbors=10, tfidf__ngram_range=(1, 1); total time=   2.0s\n",
      "[CV] END .....knn__n_neighbors=20, tfidf__ngram_range=(1, 1); total time=   2.3s\n",
      "[CV] END .....knn__n_neighbors=20, tfidf__ngram_range=(1, 1); total time=   2.4s\n",
      "[CV] END .....knn__n_neighbors=20, tfidf__ngram_range=(1, 2); total time=   5.4s\n",
      "[CV] END ......knn__n_neighbors=5, tfidf__ngram_range=(1, 1); total time=   2.0s\n",
      "[CV] END .....knn__n_neighbors=10, tfidf__ngram_range=(1, 1); total time=   2.3s\n",
      "[CV] END .....knn__n_neighbors=10, tfidf__ngram_range=(1, 2); total time=   8.7s\n",
      "[CV] END .............svc__C=0.01, tfidf__ngram_range=(1, 1); total time=   1.6s\n",
      "[CV] END ................svc__C=1, tfidf__ngram_range=(1, 1); total time=   1.9s\n",
      "[CV] END ................svc__C=1, tfidf__ngram_range=(1, 2); total time=  10.0s\n",
      "[CV] END ..............svc__C=100, tfidf__ngram_range=(1, 2); total time=  25.1s\n",
      "[CV] END ..............svc__C=0.1, tfidf__ngram_range=(1, 1); total time=   1.9s\n",
      "[CV] END ................svc__C=1, tfidf__ngram_range=(1, 1); total time=   2.1s\n",
      "[CV] END ................svc__C=1, tfidf__ngram_range=(1, 2); total time=  10.2s\n",
      "[CV] END ..............svc__C=100, tfidf__ngram_range=(1, 2); total time=  26.8s\n",
      "[CV] END .....rf__n_estimators=10, tfidf__ngram_range=(1, 2); total time=   9.2s\n",
      "[CV] END ...rf__n_estimators=1000, tfidf__ngram_range=(1, 2); total time= 1.2min\n",
      "[CV] END .....rf__n_estimators=10, tfidf__ngram_range=(1, 1); total time=   1.9s\n",
      "[CV] END ....rf__n_estimators=100, tfidf__ngram_range=(1, 2); total time=  19.3s\n"
     ]
    },
    {
     "name": "stderr",
     "output_type": "stream",
     "text": [
      "/Users/anantagarwal/opt/anaconda3/lib/python3.8/site-packages/sklearn/svm/_base.py:1206: ConvergenceWarning: Liblinear failed to converge, increase the number of iterations.\n",
      "  warnings.warn(\n",
      "/Users/anantagarwal/opt/anaconda3/lib/python3.8/site-packages/sklearn/svm/_base.py:1206: ConvergenceWarning: Liblinear failed to converge, increase the number of iterations.\n",
      "  warnings.warn(\n",
      "/Users/anantagarwal/opt/anaconda3/lib/python3.8/site-packages/sklearn/svm/_base.py:1206: ConvergenceWarning: Liblinear failed to converge, increase the number of iterations.\n",
      "  warnings.warn(\n",
      "/Users/anantagarwal/opt/anaconda3/lib/python3.8/site-packages/sklearn/svm/_base.py:1206: ConvergenceWarning: Liblinear failed to converge, increase the number of iterations.\n",
      "  warnings.warn(\n",
      "/Users/anantagarwal/opt/anaconda3/lib/python3.8/site-packages/sklearn/svm/_base.py:1206: ConvergenceWarning: Liblinear failed to converge, increase the number of iterations.\n",
      "  warnings.warn(\n",
      "/Users/anantagarwal/opt/anaconda3/lib/python3.8/site-packages/sklearn/svm/_base.py:1206: ConvergenceWarning: Liblinear failed to converge, increase the number of iterations.\n",
      "  warnings.warn(\n",
      "/Users/anantagarwal/opt/anaconda3/lib/python3.8/site-packages/sklearn/svm/_base.py:1206: ConvergenceWarning: Liblinear failed to converge, increase the number of iterations.\n",
      "  warnings.warn(\n",
      "/Users/anantagarwal/opt/anaconda3/lib/python3.8/site-packages/sklearn/svm/_base.py:1206: ConvergenceWarning: Liblinear failed to converge, increase the number of iterations.\n",
      "  warnings.warn(\n",
      "/Users/anantagarwal/opt/anaconda3/lib/python3.8/site-packages/sklearn/svm/_base.py:1206: ConvergenceWarning: Liblinear failed to converge, increase the number of iterations.\n",
      "  warnings.warn(\n"
     ]
    },
    {
     "name": "stdout",
     "output_type": "stream",
     "text": [
      "[CV] END count_vectorizer__max_features=5, naivebayes__alpha=0.01; total time=   1.5s\n",
      "[CV] END count_vectorizer__max_features=5, naivebayes__alpha=1e-05; total time=   1.4s\n",
      "[CV] END count_vectorizer__max_features=10, naivebayes__alpha=0.01; total time=   1.4s\n",
      "[CV] END count_vectorizer__max_features=20, naivebayes__alpha=1; total time=   1.5s\n",
      "[CV] END count_vectorizer__max_features=20, naivebayes__alpha=0.001; total time=   1.8s\n",
      "[CV] END count_vectorizer__max_features=20, naivebayes__alpha=0.01; total time=   1.5s\n",
      "[CV] END count_vectorizer__max_features=20, naivebayes__alpha=1e-05; total time=   1.6s\n",
      "[CV] END count_vectorizer__max_features=5, naivebayes__alpha=0.1; total time=   1.6s\n",
      "[CV] END count_vectorizer__max_features=5, logreg__C=0.001, logreg__penalty=l1; total time=   1.0s\n",
      "[CV] END count_vectorizer__max_features=5, logreg__C=0.01, logreg__penalty=l2; total time=   3.8s\n",
      "[CV] END count_vectorizer__max_features=5, logreg__C=1.0, logreg__penalty=l2; total time=   1.6s\n",
      "[CV] END count_vectorizer__max_features=5, logreg__C=100.0, logreg__penalty=l2; total time=   1.5s\n",
      "[CV] END count_vectorizer__max_features=10, logreg__C=0.001, logreg__penalty=l1; total time=   1.3s\n",
      "[CV] END count_vectorizer__max_features=10, logreg__C=0.01, logreg__penalty=l2; total time=   1.7s\n",
      "[CV] END count_vectorizer__max_features=10, logreg__C=1.0, logreg__penalty=l2; total time=   1.6s\n",
      "[CV] END count_vectorizer__max_features=10, logreg__C=100.0, logreg__penalty=l1; total time=   1.4s\n",
      "[CV] END count_vectorizer__max_features=10, logreg__C=1000.0, logreg__penalty=l2; total time=   1.7s\n",
      "[CV] END count_vectorizer__max_features=20, logreg__C=0.01, logreg__penalty=l1; total time=   1.4s\n",
      "[CV] END count_vectorizer__max_features=20, logreg__C=0.1, logreg__penalty=l2; total time=   1.6s\n",
      "[CV] END count_vectorizer__max_features=20, logreg__C=10.0, logreg__penalty=l2; total time=   1.6s\n",
      "[CV] END count_vectorizer__max_features=20, logreg__C=1000.0, logreg__penalty=l1; total time=   1.1s\n",
      "[CV] END count_vectorizer__max_features=5, logreg__C=0.01, logreg__penalty=l2; total time=   1.4s\n",
      "[CV] END count_vectorizer__max_features=10, logreg__C=1000.0, logreg__penalty=l2; total time=   1.5s\n",
      "[CV] END count_vectorizer__max_features=10, logreg__C=1.0, logreg__penalty=l2; total time=   1.3s\n",
      "[CV] END count_vectorizer__max_features=5, knn__n_neighbors=5; total time=   1.4s\n",
      "[CV] END count_vectorizer__max_features=10, knn__n_neighbors=5; total time=   1.8s\n",
      "[CV] END count_vectorizer__max_features=20, knn__n_neighbors=1; total time=   1.8s\n",
      "[CV] END count_vectorizer__max_features=20, knn__n_neighbors=20; total time=   1.4s\n",
      "[CV] END count_vectorizer__max_features=5, knn__n_neighbors=5; total time=   1.5s\n",
      "[CV] END count_vectorizer__max_features=20, knn__n_neighbors=10; total time=   1.7s\n",
      "[CV] END count_vectorizer__max_features=20, knn__n_neighbors=20; total time=   1.8s\n",
      "[CV] END .......count_vectorizer__max_features=5, svc__C=0.1; total time=   1.8s\n",
      "[CV] END .......count_vectorizer__max_features=5, svc__C=100; total time=   1.7s\n",
      "[CV] END ........count_vectorizer__max_features=10, svc__C=1; total time=   1.8s\n",
      "[CV] END .....count_vectorizer__max_features=20, svc__C=0.01; total time=   1.7s\n",
      "[CV] END .......count_vectorizer__max_features=20, svc__C=10; total time=   1.4s\n",
      "[CV] END .....count_vectorizer__max_features=20, svc__C=0.01; total time=   1.5s\n",
      "[CV] END ......count_vectorizer__max_features=20, svc__C=100; total time=   1.7s\n",
      "[CV] END ........count_vectorizer__max_features=20, svc__C=1; total time=   1.6s\n",
      "[CV] END count_vectorizer__max_features=5, rf__n_estimators=1000; total time=  10.7s\n",
      "[CV] END count_vectorizer__max_features=5, rf__n_estimators=10; total time=   1.4s\n",
      "[CV] END count_vectorizer__max_features=10, rf__n_estimators=100; total time=   2.3s\n",
      "[CV] END count_vectorizer__max_features=20, rf__n_estimators=10; total time=   1.6s\n",
      "[CV] END count_vectorizer__max_features=20, rf__n_estimators=100; total time=   3.1s\n",
      "[CV] END count_vectorizer__max_features=20, rf__n_estimators=1000; total time=   9.0s\n",
      "[CV] END .....naivebayes__alpha=1, tfidf__ngram_range=(1, 2); total time=   8.6s\n",
      "[CV] END .naivebayes__alpha=0.001, tfidf__ngram_range=(1, 1); total time=   2.0s\n",
      "[CV] END naivebayes__alpha=0.0001, tfidf__ngram_range=(1, 1); total time=   1.9s\n",
      "[CV] END naivebayes__alpha=0.0001, tfidf__ngram_range=(1, 2); total time=   8.0s\n",
      "[CV] END .....naivebayes__alpha=1, tfidf__ngram_range=(1, 1); total time=   1.7s\n",
      "[CV] END .naivebayes__alpha=0.001, tfidf__ngram_range=(1, 1); total time=   1.9s\n",
      "[CV] END naivebayes__alpha=0.0001, tfidf__ngram_range=(1, 2); total time=   9.3s\n",
      "[CV] END logreg__C=0.001, logreg__penalty=l1, tfidf__ngram_range=(1, 2); total time=   7.6s\n",
      "[CV] END logreg__C=0.01, logreg__penalty=l2, tfidf__ngram_range=(1, 1); total time=   2.6s\n",
      "[CV] END logreg__C=0.1, logreg__penalty=l1, tfidf__ngram_range=(1, 1); total time=   2.0s\n",
      "[CV] END logreg__C=0.1, logreg__penalty=l1, tfidf__ngram_range=(1, 2); total time=   7.5s\n",
      "[CV] END logreg__C=1.0, logreg__penalty=l1, tfidf__ngram_range=(1, 2); total time=   8.8s\n",
      "[CV] END logreg__C=10.0, logreg__penalty=l1, tfidf__ngram_range=(1, 2); total time=   9.3s\n",
      "[CV] END logreg__C=100.0, logreg__penalty=l1, tfidf__ngram_range=(1, 2); total time=   8.8s\n",
      "[CV] END logreg__C=1000.0, logreg__penalty=l1, tfidf__ngram_range=(1, 2); total time=   9.0s\n",
      "[CV] END logreg__C=1000.0, logreg__penalty=l2, tfidf__ngram_range=(1, 1); total time=   3.0s\n",
      "[CV] END logreg__C=1000.0, logreg__penalty=l1, tfidf__ngram_range=(1, 1); total time=   1.4s\n",
      "[CV] END logreg__C=0.01, logreg__penalty=l1, tfidf__ngram_range=(1, 2); total time=   7.2s\n",
      "[CV] END ......knn__n_neighbors=1, tfidf__ngram_range=(1, 2); total time=   7.8s\n",
      "[CV] END .....knn__n_neighbors=20, tfidf__ngram_range=(1, 1); total time=   2.4s\n",
      "[CV] END ......knn__n_neighbors=5, tfidf__ngram_range=(1, 2); total time=   9.2s\n",
      "[CV] END .....knn__n_neighbors=20, tfidf__ngram_range=(1, 2); total time=   6.2s\n",
      "[CV] END .............svc__C=0.01, tfidf__ngram_range=(1, 2); total time=   8.3s\n",
      "[CV] END ...............svc__C=10, tfidf__ngram_range=(1, 2); total time=  14.4s\n",
      "[CV] END .............svc__C=0.01, tfidf__ngram_range=(1, 2); total time=   8.5s\n",
      "[CV] END ...............svc__C=10, tfidf__ngram_range=(1, 1); total time=   3.1s\n",
      "[CV] END ..............svc__C=100, tfidf__ngram_range=(1, 1); total time=   7.0s\n",
      "[CV] END .....rf__n_estimators=10, tfidf__ngram_range=(1, 2); total time=   9.0s\n",
      "[CV] END ...rf__n_estimators=1000, tfidf__ngram_range=(1, 2); total time= 1.2min\n",
      "[CV] END .....rf__n_estimators=10, tfidf__ngram_range=(1, 1); total time=   2.0s\n",
      "[CV] END ...rf__n_estimators=1000, tfidf__ngram_range=(1, 1); total time=  27.6s\n"
     ]
    },
    {
     "name": "stderr",
     "output_type": "stream",
     "text": [
      "/Users/anantagarwal/opt/anaconda3/lib/python3.8/site-packages/sklearn/svm/_base.py:1206: ConvergenceWarning: Liblinear failed to converge, increase the number of iterations.\n",
      "  warnings.warn(\n",
      "/Users/anantagarwal/opt/anaconda3/lib/python3.8/site-packages/sklearn/svm/_base.py:1206: ConvergenceWarning: Liblinear failed to converge, increase the number of iterations.\n",
      "  warnings.warn(\n",
      "/Users/anantagarwal/opt/anaconda3/lib/python3.8/site-packages/sklearn/svm/_base.py:1206: ConvergenceWarning: Liblinear failed to converge, increase the number of iterations.\n",
      "  warnings.warn(\n",
      "/Users/anantagarwal/opt/anaconda3/lib/python3.8/site-packages/sklearn/svm/_base.py:1206: ConvergenceWarning: Liblinear failed to converge, increase the number of iterations.\n",
      "  warnings.warn(\n",
      "/Users/anantagarwal/opt/anaconda3/lib/python3.8/site-packages/sklearn/svm/_base.py:1206: ConvergenceWarning: Liblinear failed to converge, increase the number of iterations.\n",
      "  warnings.warn(\n",
      "/Users/anantagarwal/opt/anaconda3/lib/python3.8/site-packages/sklearn/svm/_base.py:1206: ConvergenceWarning: Liblinear failed to converge, increase the number of iterations.\n",
      "  warnings.warn(\n"
     ]
    },
    {
     "name": "stdout",
     "output_type": "stream",
     "text": [
      "[CV] END count_vectorizer__max_features=5, naivebayes__alpha=0.01; total time=   1.5s\n",
      "[CV] END count_vectorizer__max_features=5, naivebayes__alpha=1e-05; total time=   1.4s\n",
      "[CV] END count_vectorizer__max_features=10, naivebayes__alpha=0.001; total time=   1.4s\n",
      "[CV] END count_vectorizer__max_features=20, naivebayes__alpha=1; total time=   1.6s\n",
      "[CV] END count_vectorizer__max_features=20, naivebayes__alpha=0.001; total time=   1.8s\n",
      "[CV] END count_vectorizer__max_features=5, naivebayes__alpha=0.001; total time=   1.5s\n",
      "[CV] END count_vectorizer__max_features=20, naivebayes__alpha=1e-05; total time=   1.6s\n",
      "[CV] END count_vectorizer__max_features=5, naivebayes__alpha=0.1; total time=   1.6s\n",
      "[CV] END count_vectorizer__max_features=5, logreg__C=0.001, logreg__penalty=l2; total time=   3.8s\n",
      "[CV] END count_vectorizer__max_features=5, logreg__C=1.0, logreg__penalty=l1; total time=   1.2s\n",
      "[CV] END count_vectorizer__max_features=5, logreg__C=10.0, logreg__penalty=l2; total time=   1.6s\n",
      "[CV] END count_vectorizer__max_features=5, logreg__C=1000.0, logreg__penalty=l1; total time=   1.3s\n",
      "[CV] END count_vectorizer__max_features=10, logreg__C=0.001, logreg__penalty=l1; total time=   1.3s\n",
      "[CV] END count_vectorizer__max_features=10, logreg__C=0.1, logreg__penalty=l1; total time=   1.4s\n",
      "[CV] END count_vectorizer__max_features=10, logreg__C=1.0, logreg__penalty=l1; total time=   1.3s\n",
      "[CV] END count_vectorizer__max_features=10, logreg__C=10.0, logreg__penalty=l2; total time=   1.6s\n",
      "[CV] END count_vectorizer__max_features=10, logreg__C=1000.0, logreg__penalty=l1; total time=   1.4s\n",
      "[CV] END count_vectorizer__max_features=20, logreg__C=0.001, logreg__penalty=l2; total time=   1.7s\n",
      "[CV] END count_vectorizer__max_features=20, logreg__C=0.1, logreg__penalty=l1; total time=   1.4s\n",
      "[CV] END count_vectorizer__max_features=20, logreg__C=10.0, logreg__penalty=l1; total time=   1.3s\n",
      "[CV] END count_vectorizer__max_features=20, logreg__C=100.0, logreg__penalty=l1; total time=   1.4s\n",
      "[CV] END count_vectorizer__max_features=20, logreg__C=1000.0, logreg__penalty=l2; total time=   1.0s\n",
      "[CV] END count_vectorizer__max_features=5, logreg__C=10.0, logreg__penalty=l2; total time=   1.4s\n",
      "[CV] END count_vectorizer__max_features=20, logreg__C=0.01, logreg__penalty=l2; total time=   1.5s\n",
      "[CV] END count_vectorizer__max_features=5, logreg__C=0.01, logreg__penalty=l1; total time=   1.2s\n",
      "[CV] END count_vectorizer__max_features=5, knn__n_neighbors=5; total time=   1.4s\n",
      "[CV] END count_vectorizer__max_features=10, knn__n_neighbors=1; total time=   1.8s\n",
      "[CV] END count_vectorizer__max_features=10, knn__n_neighbors=20; total time=   1.8s\n",
      "[CV] END count_vectorizer__max_features=20, knn__n_neighbors=10; total time=   1.5s\n",
      "[CV] END count_vectorizer__max_features=5, knn__n_neighbors=5; total time=   1.5s\n",
      "[CV] END count_vectorizer__max_features=20, knn__n_neighbors=10; total time=   1.7s\n",
      "[CV] END count_vectorizer__max_features=5, knn__n_neighbors=10; total time=   1.7s\n",
      "[CV] END .........count_vectorizer__max_features=5, svc__C=1; total time=   1.9s\n",
      "[CV] END .....count_vectorizer__max_features=10, svc__C=0.01; total time=   1.6s\n",
      "[CV] END ......count_vectorizer__max_features=10, svc__C=100; total time=   1.8s\n",
      "[CV] END ........count_vectorizer__max_features=20, svc__C=1; total time=   1.8s\n",
      "[CV] END .......count_vectorizer__max_features=20, svc__C=10; total time=   1.6s\n",
      "[CV] END ......count_vectorizer__max_features=20, svc__C=100; total time=   1.7s\n",
      "[CV] END ........count_vectorizer__max_features=20, svc__C=1; total time=   1.5s\n",
      "[CV] END count_vectorizer__max_features=5, rf__n_estimators=1000; total time=  10.7s\n",
      "[CV] END count_vectorizer__max_features=5, rf__n_estimators=1000; total time=  10.6s\n",
      "[CV] END .....naivebayes__alpha=1, tfidf__ngram_range=(1, 2); total time=   8.7s\n",
      "[CV] END .naivebayes__alpha=0.001, tfidf__ngram_range=(1, 1); total time=   2.0s\n",
      "[CV] END naivebayes__alpha=0.0001, tfidf__ngram_range=(1, 1); total time=   2.0s\n",
      "[CV] END naivebayes__alpha=0.0001, tfidf__ngram_range=(1, 2); total time=   7.9s\n",
      "[CV] END .naivebayes__alpha=0.001, tfidf__ngram_range=(1, 2); total time=   8.0s\n",
      "[CV] END .naivebayes__alpha=1e-05, tfidf__ngram_range=(1, 1); total time=   2.4s\n",
      "[CV] END ..naivebayes__alpha=0.01, tfidf__ngram_range=(1, 1); total time=   2.3s\n",
      "[CV] END logreg__C=0.001, logreg__penalty=l1, tfidf__ngram_range=(1, 1); total time=   1.3s\n",
      "[CV] END logreg__C=0.001, logreg__penalty=l2, tfidf__ngram_range=(1, 2); total time=  11.5s\n",
      "[CV] END logreg__C=0.1, logreg__penalty=l1, tfidf__ngram_range=(1, 2); total time=   7.8s\n",
      "[CV] END logreg__C=1.0, logreg__penalty=l1, tfidf__ngram_range=(1, 2); total time=   8.8s\n",
      "[CV] END logreg__C=10.0, logreg__penalty=l2, tfidf__ngram_range=(1, 1); total time=   3.3s\n",
      "[CV] END logreg__C=100.0, logreg__penalty=l1, tfidf__ngram_range=(1, 1); total time=   1.8s\n",
      "[CV] END logreg__C=100.0, logreg__penalty=l1, tfidf__ngram_range=(1, 1); total time=   2.2s\n",
      "[CV] END logreg__C=100.0, logreg__penalty=l1, tfidf__ngram_range=(1, 2); total time=   9.0s\n",
      "[CV] END logreg__C=1000.0, logreg__penalty=l1, tfidf__ngram_range=(1, 1); total time=   1.8s\n",
      "[CV] END logreg__C=1000.0, logreg__penalty=l2, tfidf__ngram_range=(1, 1); total time=   3.9s\n",
      "[CV] END logreg__C=1000.0, logreg__penalty=l2, tfidf__ngram_range=(1, 2); total time=  11.2s\n",
      "[CV] END logreg__C=1.0, logreg__penalty=l1, tfidf__ngram_range=(1, 2); total time=   6.4s\n",
      "[CV] END logreg__C=10.0, logreg__penalty=l1, tfidf__ngram_range=(1, 1); total time=   1.9s\n",
      "[CV] END logreg__C=0.01, logreg__penalty=l2, tfidf__ngram_range=(1, 1); total time=   2.3s\n",
      "[CV] END ......knn__n_neighbors=1, tfidf__ngram_range=(1, 2); total time=   7.6s\n",
      "[CV] END .....knn__n_neighbors=20, tfidf__ngram_range=(1, 1); total time=   2.4s\n",
      "[CV] END .....knn__n_neighbors=20, tfidf__ngram_range=(1, 2); total time=   4.6s\n",
      "[CV] END ......knn__n_neighbors=1, tfidf__ngram_range=(1, 2); total time=   9.2s\n",
      "[CV] END .....knn__n_neighbors=20, tfidf__ngram_range=(1, 2); total time=   6.2s\n",
      "[CV] END .............svc__C=0.01, tfidf__ngram_range=(1, 2); total time=   8.3s\n",
      "[CV] END ...............svc__C=10, tfidf__ngram_range=(1, 2); total time=  15.4s\n",
      "[CV] END .............svc__C=0.01, tfidf__ngram_range=(1, 1); total time=   1.7s\n",
      "[CV] END ..............svc__C=0.1, tfidf__ngram_range=(1, 2); total time=   9.1s\n",
      "[CV] END ..............svc__C=100, tfidf__ngram_range=(1, 1); total time=   6.4s\n",
      "[CV] END ....rf__n_estimators=100, tfidf__ngram_range=(1, 1); total time=   4.5s\n",
      "[CV] END ...rf__n_estimators=1000, tfidf__ngram_range=(1, 1); total time=  25.5s\n",
      "[CV] END ....rf__n_estimators=100, tfidf__ngram_range=(1, 1); total time=   4.6s\n",
      "[CV] END ...rf__n_estimators=1000, tfidf__ngram_range=(1, 1); total time=  26.4s\n",
      "[CV] END count_vectorizer__max_features=5, naivebayes__alpha=0.1; total time=   1.5s\n",
      "[CV] END count_vectorizer__max_features=5, naivebayes__alpha=0.0001; total time=   1.4s\n",
      "[CV] END count_vectorizer__max_features=10, naivebayes__alpha=0.1; total time=   1.4s\n",
      "[CV] END count_vectorizer__max_features=10, naivebayes__alpha=1e-05; total time=   1.5s\n",
      "[CV] END count_vectorizer__max_features=20, naivebayes__alpha=0.01; total time=   1.8s\n",
      "[CV] END count_vectorizer__max_features=20, naivebayes__alpha=1e-05; total time=   1.2s\n",
      "[CV] END count_vectorizer__max_features=10, naivebayes__alpha=1; total time=   1.4s\n",
      "[CV] END count_vectorizer__max_features=10, naivebayes__alpha=1e-05; total time=   1.6s\n",
      "[CV] END count_vectorizer__max_features=10, naivebayes__alpha=0.1; total time=   1.6s\n",
      "[CV] END count_vectorizer__max_features=5, logreg__C=0.001, logreg__penalty=l1; total time=   1.0s\n",
      "[CV] END count_vectorizer__max_features=5, logreg__C=0.01, logreg__penalty=l2; total time=   3.9s\n",
      "[CV] END count_vectorizer__max_features=5, logreg__C=1.0, logreg__penalty=l2; total time=   1.6s\n",
      "[CV] END count_vectorizer__max_features=5, logreg__C=100.0, logreg__penalty=l2; total time=   1.5s\n",
      "[CV] END count_vectorizer__max_features=10, logreg__C=0.001, logreg__penalty=l1; total time=   1.3s\n",
      "[CV] END count_vectorizer__max_features=10, logreg__C=0.01, logreg__penalty=l2; total time=   1.7s\n",
      "[CV] END count_vectorizer__max_features=10, logreg__C=1.0, logreg__penalty=l1; total time=   1.3s\n",
      "[CV] END count_vectorizer__max_features=10, logreg__C=10.0, logreg__penalty=l2; total time=   1.7s\n",
      "[CV] END count_vectorizer__max_features=10, logreg__C=1000.0, logreg__penalty=l2; total time=   1.7s\n",
      "[CV] END count_vectorizer__max_features=20, logreg__C=0.01, logreg__penalty=l1; total time=   1.4s\n",
      "[CV] END count_vectorizer__max_features=20, logreg__C=0.1, logreg__penalty=l2; total time=   1.6s\n",
      "[CV] END count_vectorizer__max_features=20, logreg__C=10.0, logreg__penalty=l2; total time=   1.6s\n",
      "[CV] END count_vectorizer__max_features=20, logreg__C=1000.0, logreg__penalty=l1; total time=   1.2s\n",
      "[CV] END count_vectorizer__max_features=10, logreg__C=1000.0, logreg__penalty=l1; total time=   1.1s\n",
      "[CV] END count_vectorizer__max_features=20, logreg__C=1.0, logreg__penalty=l1; total time=   1.2s\n",
      "[CV] END count_vectorizer__max_features=5, logreg__C=100.0, logreg__penalty=l2; total time=   1.5s\n",
      "[CV] END count_vectorizer__max_features=5, knn__n_neighbors=5; total time=   1.4s\n",
      "[CV] END count_vectorizer__max_features=10, knn__n_neighbors=1; total time=   1.8s\n",
      "[CV] END count_vectorizer__max_features=10, knn__n_neighbors=20; total time=   1.8s\n",
      "[CV] END count_vectorizer__max_features=20, knn__n_neighbors=10; total time=   1.5s\n",
      "[CV] END count_vectorizer__max_features=5, knn__n_neighbors=20; total time=   1.4s\n",
      "[CV] END count_vectorizer__max_features=5, knn__n_neighbors=1; total time=   1.6s\n",
      "[CV] END count_vectorizer__max_features=10, knn__n_neighbors=5; total time=   1.8s\n",
      "[CV] END ......count_vectorizer__max_features=5, svc__C=0.01; total time=   1.7s\n",
      "[CV] END .......count_vectorizer__max_features=5, svc__C=100; total time=   1.6s\n",
      "[CV] END ........count_vectorizer__max_features=10, svc__C=1; total time=   1.8s\n",
      "[CV] END .....count_vectorizer__max_features=20, svc__C=0.01; total time=   1.8s\n",
      "[CV] END .......count_vectorizer__max_features=20, svc__C=10; total time=   1.5s\n",
      "[CV] END .....count_vectorizer__max_features=20, svc__C=0.01; total time=   1.6s\n",
      "[CV] END ......count_vectorizer__max_features=20, svc__C=0.1; total time=   1.7s\n",
      "[CV] END ........count_vectorizer__max_features=10, svc__C=1; total time=   1.5s\n",
      "[CV] END count_vectorizer__max_features=5, rf__n_estimators=100; total time=   2.4s\n",
      "[CV] END count_vectorizer__max_features=10, rf__n_estimators=100; total time=   2.6s\n",
      "[CV] END count_vectorizer__max_features=20, rf__n_estimators=100; total time=   2.8s\n",
      "[CV] END count_vectorizer__max_features=20, rf__n_estimators=1000; total time=   9.0s\n",
      "[CV] END count_vectorizer__max_features=5, rf__n_estimators=1000; total time=  10.6s\n",
      "[CV] END .....naivebayes__alpha=1, tfidf__ngram_range=(1, 2); total time=   8.5s\n",
      "[CV] END .naivebayes__alpha=0.001, tfidf__ngram_range=(1, 1); total time=   2.1s\n",
      "[CV] END .naivebayes__alpha=0.001, tfidf__ngram_range=(1, 2); total time=   8.1s\n",
      "[CV] END .naivebayes__alpha=0.001, tfidf__ngram_range=(1, 2); total time=   8.1s\n",
      "[CV] END naivebayes__alpha=0.0001, tfidf__ngram_range=(1, 1); total time=   2.4s\n",
      "[CV] END ..naivebayes__alpha=0.01, tfidf__ngram_range=(1, 1); total time=   2.3s\n",
      "[CV] END logreg__C=0.001, logreg__penalty=l1, tfidf__ngram_range=(1, 1); total time=   1.3s\n",
      "[CV] END logreg__C=0.001, logreg__penalty=l2, tfidf__ngram_range=(1, 2); total time=  11.5s\n",
      "[CV] END logreg__C=0.1, logreg__penalty=l2, tfidf__ngram_range=(1, 1); total time=   2.1s\n",
      "[CV] END logreg__C=0.1, logreg__penalty=l2, tfidf__ngram_range=(1, 2); total time=  12.5s\n",
      "[CV] END logreg__C=10.0, logreg__penalty=l1, tfidf__ngram_range=(1, 1); total time=   2.1s\n",
      "[CV] END logreg__C=10.0, logreg__penalty=l2, tfidf__ngram_range=(1, 1); total time=   3.1s\n",
      "[CV] END logreg__C=10.0, logreg__penalty=l2, tfidf__ngram_range=(1, 2); total time=  15.0s\n",
      "[CV] END logreg__C=1000.0, logreg__penalty=l2, tfidf__ngram_range=(1, 1); total time=   3.2s\n",
      "[CV] END logreg__C=1000.0, logreg__penalty=l2, tfidf__ngram_range=(1, 2); total time=  12.0s\n",
      "[CV] END logreg__C=1000.0, logreg__penalty=l2, tfidf__ngram_range=(1, 1); total time=   2.7s\n",
      "[CV] END logreg__C=1.0, logreg__penalty=l1, tfidf__ngram_range=(1, 1); total time=   1.4s\n",
      "[CV] END logreg__C=1000.0, logreg__penalty=l1, tfidf__ngram_range=(1, 1); total time=   1.8s\n",
      "[CV] END logreg__C=0.01, logreg__penalty=l1, tfidf__ngram_range=(1, 2); total time=   6.4s\n",
      "[CV] END ......knn__n_neighbors=1, tfidf__ngram_range=(1, 2); total time=   7.9s\n",
      "[CV] END .....knn__n_neighbors=20, tfidf__ngram_range=(1, 2); total time=   6.0s\n",
      "[CV] END ......knn__n_neighbors=1, tfidf__ngram_range=(1, 2); total time=   9.0s\n",
      "[CV] END .....knn__n_neighbors=20, tfidf__ngram_range=(1, 1); total time=   2.5s\n",
      "[CV] END ..............svc__C=0.1, tfidf__ngram_range=(1, 1); total time=   1.7s\n",
      "[CV] END ................svc__C=1, tfidf__ngram_range=(1, 1); total time=   2.0s\n",
      "[CV] END ................svc__C=1, tfidf__ngram_range=(1, 2); total time=  10.2s\n",
      "[CV] END .............svc__C=0.01, tfidf__ngram_range=(1, 1); total time=   1.7s\n",
      "[CV] END ..............svc__C=0.1, tfidf__ngram_range=(1, 2); total time=   9.1s\n",
      "[CV] END ...............svc__C=10, tfidf__ngram_range=(1, 2); total time=  17.3s\n",
      "[CV] END ....rf__n_estimators=100, tfidf__ngram_range=(1, 1); total time=   4.5s\n",
      "[CV] END ...rf__n_estimators=1000, tfidf__ngram_range=(1, 1); total time=  25.6s\n",
      "[CV] END ....rf__n_estimators=100, tfidf__ngram_range=(1, 1); total time=   4.6s\n",
      "[CV] END ...rf__n_estimators=1000, tfidf__ngram_range=(1, 1); total time=  26.5s\n"
     ]
    },
    {
     "name": "stderr",
     "output_type": "stream",
     "text": [
      "/Users/anantagarwal/opt/anaconda3/lib/python3.8/site-packages/sklearn/svm/_base.py:1206: ConvergenceWarning: Liblinear failed to converge, increase the number of iterations.\n",
      "  warnings.warn(\n",
      "/Users/anantagarwal/opt/anaconda3/lib/python3.8/site-packages/sklearn/svm/_base.py:1206: ConvergenceWarning: Liblinear failed to converge, increase the number of iterations.\n",
      "  warnings.warn(\n",
      "/Users/anantagarwal/opt/anaconda3/lib/python3.8/site-packages/sklearn/svm/_base.py:1206: ConvergenceWarning: Liblinear failed to converge, increase the number of iterations.\n",
      "  warnings.warn(\n",
      "/Users/anantagarwal/opt/anaconda3/lib/python3.8/site-packages/sklearn/svm/_base.py:1206: ConvergenceWarning: Liblinear failed to converge, increase the number of iterations.\n",
      "  warnings.warn(\n",
      "/Users/anantagarwal/opt/anaconda3/lib/python3.8/site-packages/sklearn/svm/_base.py:1206: ConvergenceWarning: Liblinear failed to converge, increase the number of iterations.\n",
      "  warnings.warn(\n",
      "/Users/anantagarwal/opt/anaconda3/lib/python3.8/site-packages/sklearn/svm/_base.py:1206: ConvergenceWarning: Liblinear failed to converge, increase the number of iterations.\n",
      "  warnings.warn(\n",
      "/Users/anantagarwal/opt/anaconda3/lib/python3.8/site-packages/sklearn/svm/_base.py:1206: ConvergenceWarning: Liblinear failed to converge, increase the number of iterations.\n",
      "  warnings.warn(\n",
      "/Users/anantagarwal/opt/anaconda3/lib/python3.8/site-packages/sklearn/svm/_base.py:1206: ConvergenceWarning: Liblinear failed to converge, increase the number of iterations.\n",
      "  warnings.warn(\n",
      "/Users/anantagarwal/opt/anaconda3/lib/python3.8/site-packages/sklearn/svm/_base.py:1206: ConvergenceWarning: Liblinear failed to converge, increase the number of iterations.\n",
      "  warnings.warn(\n",
      "/Users/anantagarwal/opt/anaconda3/lib/python3.8/site-packages/sklearn/svm/_base.py:1206: ConvergenceWarning: Liblinear failed to converge, increase the number of iterations.\n",
      "  warnings.warn(\n",
      "/Users/anantagarwal/opt/anaconda3/lib/python3.8/site-packages/sklearn/svm/_base.py:1206: ConvergenceWarning: Liblinear failed to converge, increase the number of iterations.\n",
      "  warnings.warn(\n"
     ]
    },
    {
     "name": "stdout",
     "output_type": "stream",
     "text": [
      "[CV] END count_vectorizer__max_features=5, naivebayes__alpha=0.1; total time=   1.5s\n",
      "[CV] END count_vectorizer__max_features=5, naivebayes__alpha=0.0001; total time=   1.4s\n",
      "[CV] END count_vectorizer__max_features=10, naivebayes__alpha=0.1; total time=   1.4s\n",
      "[CV] END count_vectorizer__max_features=10, naivebayes__alpha=0.0001; total time=   1.5s\n",
      "[CV] END count_vectorizer__max_features=20, naivebayes__alpha=0.1; total time=   1.8s\n",
      "[CV] END count_vectorizer__max_features=20, naivebayes__alpha=1e-05; total time=   1.3s\n",
      "[CV] END count_vectorizer__max_features=5, naivebayes__alpha=0.001; total time=   1.5s\n",
      "[CV] END count_vectorizer__max_features=20, naivebayes__alpha=1; total time=   1.6s\n",
      "[CV] END count_vectorizer__max_features=5, naivebayes__alpha=0.0001; total time=   1.6s\n",
      "[CV] END count_vectorizer__max_features=5, logreg__C=0.01, logreg__penalty=l1; total time=   1.3s\n",
      "[CV] END count_vectorizer__max_features=5, logreg__C=0.1, logreg__penalty=l2; total time=   3.8s\n",
      "[CV] END count_vectorizer__max_features=5, logreg__C=10.0, logreg__penalty=l2; total time=   1.6s\n",
      "[CV] END count_vectorizer__max_features=5, logreg__C=1000.0, logreg__penalty=l1; total time=   1.3s\n",
      "[CV] END count_vectorizer__max_features=10, logreg__C=0.001, logreg__penalty=l2; total time=   1.6s\n",
      "[CV] END count_vectorizer__max_features=10, logreg__C=0.1, logreg__penalty=l2; total time=   1.6s\n",
      "[CV] END count_vectorizer__max_features=10, logreg__C=10.0, logreg__penalty=l1; total time=   1.3s\n",
      "[CV] END count_vectorizer__max_features=10, logreg__C=100.0, logreg__penalty=l2; total time=   1.7s\n",
      "[CV] END count_vectorizer__max_features=20, logreg__C=0.001, logreg__penalty=l1; total time=   1.4s\n",
      "[CV] END count_vectorizer__max_features=20, logreg__C=0.01, logreg__penalty=l2; total time=   1.7s\n",
      "[CV] END count_vectorizer__max_features=20, logreg__C=1.0, logreg__penalty=l1; total time=   1.3s\n",
      "[CV] END count_vectorizer__max_features=20, logreg__C=10.0, logreg__penalty=l2; total time=   1.6s\n",
      "[CV] END count_vectorizer__max_features=20, logreg__C=1000.0, logreg__penalty=l2; total time=   1.1s\n",
      "[CV] END count_vectorizer__max_features=10, logreg__C=1000.0, logreg__penalty=l1; total time=   1.0s\n",
      "[CV] END count_vectorizer__max_features=20, logreg__C=1.0, logreg__penalty=l1; total time=   1.2s\n",
      "[CV] END count_vectorizer__max_features=10, logreg__C=1000.0, logreg__penalty=l2; total time=   1.5s\n",
      "[CV] END count_vectorizer__max_features=10, logreg__C=1.0, logreg__penalty=l2; total time=   1.0s\n",
      "[CV] END count_vectorizer__max_features=5, knn__n_neighbors=20; total time=   1.5s\n",
      "[CV] END count_vectorizer__max_features=10, knn__n_neighbors=10; total time=   1.9s\n",
      "[CV] END count_vectorizer__max_features=20, knn__n_neighbors=5; total time=   1.8s\n",
      "[CV] END count_vectorizer__max_features=5, knn__n_neighbors=20; total time=   1.5s\n",
      "[CV] END count_vectorizer__max_features=5, knn__n_neighbors=1; total time=   1.6s\n",
      "[CV] END count_vectorizer__max_features=10, knn__n_neighbors=5; total time=   1.8s\n",
      "[CV] END .......count_vectorizer__max_features=5, svc__C=0.1; total time=   1.9s\n",
      "[CV] END .......count_vectorizer__max_features=5, svc__C=100; total time=   1.6s\n",
      "[CV] END .......count_vectorizer__max_features=10, svc__C=10; total time=   1.8s\n",
      "[CV] END ......count_vectorizer__max_features=20, svc__C=0.1; total time=   1.8s\n",
      "[CV] END ......count_vectorizer__max_features=20, svc__C=100; total time=   1.3s\n",
      "[CV] END .......count_vectorizer__max_features=20, svc__C=10; total time=   1.6s\n",
      "[CV] END ......count_vectorizer__max_features=10, svc__C=0.1; total time=   1.6s\n",
      "[CV] END ........count_vectorizer__max_features=20, svc__C=1; total time=   1.6s\n",
      "[CV] END count_vectorizer__max_features=5, rf__n_estimators=10; total time=   1.5s\n",
      "[CV] END count_vectorizer__max_features=10, rf__n_estimators=10; total time=   1.6s\n",
      "[CV] END count_vectorizer__max_features=10, rf__n_estimators=1000; total time=  10.9s\n",
      "[CV] END count_vectorizer__max_features=5, rf__n_estimators=100; total time=   2.2s\n",
      "[CV] END count_vectorizer__max_features=10, rf__n_estimators=1000; total time=  11.2s\n",
      "[CV] END .....naivebayes__alpha=1, tfidf__ngram_range=(1, 1); total time=   1.9s\n",
      "[CV] END ..naivebayes__alpha=0.01, tfidf__ngram_range=(1, 1); total time=   2.3s\n",
      "[CV] END ..naivebayes__alpha=0.01, tfidf__ngram_range=(1, 2); total time=   8.7s\n",
      "[CV] END naivebayes__alpha=0.0001, tfidf__ngram_range=(1, 2); total time=   8.0s\n",
      "[CV] END ...naivebayes__alpha=0.1, tfidf__ngram_range=(1, 1); total time=   1.7s\n",
      "[CV] END ..naivebayes__alpha=0.01, tfidf__ngram_range=(1, 2); total time=   8.9s\n",
      "[CV] END .naivebayes__alpha=1e-05, tfidf__ngram_range=(1, 2); total time=   6.0s\n",
      "[CV] END logreg__C=0.001, logreg__penalty=l2, tfidf__ngram_range=(1, 1); total time=   1.9s\n",
      "[CV] END logreg__C=0.01, logreg__penalty=l1, tfidf__ngram_range=(1, 1); total time=   1.6s\n",
      "[CV] END logreg__C=0.01, logreg__penalty=l1, tfidf__ngram_range=(1, 2); total time=   8.6s\n",
      "[CV] END logreg__C=0.1, logreg__penalty=l1, tfidf__ngram_range=(1, 2); total time=   7.7s\n",
      "[CV] END logreg__C=1.0, logreg__penalty=l1, tfidf__ngram_range=(1, 2); total time=   8.9s\n",
      "[CV] END logreg__C=10.0, logreg__penalty=l2, tfidf__ngram_range=(1, 1); total time=   3.2s\n",
      "[CV] END logreg__C=10.0, logreg__penalty=l2, tfidf__ngram_range=(1, 2); total time=  14.9s\n",
      "[CV] END logreg__C=1000.0, logreg__penalty=l2, tfidf__ngram_range=(1, 1); total time=   3.7s\n",
      "[CV] END logreg__C=1000.0, logreg__penalty=l2, tfidf__ngram_range=(1, 2); total time=  11.7s\n",
      "[CV] END logreg__C=0.001, logreg__penalty=l2, tfidf__ngram_range=(1, 2); total time=   9.5s\n",
      "[CV] END logreg__C=10.0, logreg__penalty=l2, tfidf__ngram_range=(1, 1); total time=   2.1s\n",
      "[CV] END ......knn__n_neighbors=1, tfidf__ngram_range=(1, 1); total time=   1.8s\n",
      "[CV] END ......knn__n_neighbors=5, tfidf__ngram_range=(1, 2); total time=   8.4s\n",
      "[CV] END ......knn__n_neighbors=1, tfidf__ngram_range=(1, 2); total time=   9.3s\n",
      "[CV] END .....knn__n_neighbors=20, tfidf__ngram_range=(1, 2); total time=   6.3s\n",
      "[CV] END ..............svc__C=0.1, tfidf__ngram_range=(1, 1); total time=   1.8s\n",
      "[CV] END ................svc__C=1, tfidf__ngram_range=(1, 2); total time=   9.7s\n",
      "[CV] END ..............svc__C=100, tfidf__ngram_range=(1, 2); total time=  20.8s\n",
      "[CV] END .............svc__C=0.01, tfidf__ngram_range=(1, 2); total time=   8.5s\n",
      "[CV] END ...............svc__C=10, tfidf__ngram_range=(1, 1); total time=   3.3s\n",
      "[CV] END ..............svc__C=100, tfidf__ngram_range=(1, 2); total time=  22.4s\n",
      "[CV] END .....rf__n_estimators=10, tfidf__ngram_range=(1, 1); total time=   1.9s\n",
      "[CV] END ....rf__n_estimators=100, tfidf__ngram_range=(1, 2); total time=  18.0s\n",
      "[CV] END ....rf__n_estimators=100, tfidf__ngram_range=(1, 1); total time=   4.6s\n",
      "[CV] END ...rf__n_estimators=1000, tfidf__ngram_range=(1, 1); total time=  26.7s\n",
      "[CV] END count_vectorizer__max_features=5, naivebayes__alpha=0.01; total time=   1.4s\n",
      "[CV] END count_vectorizer__max_features=5, naivebayes__alpha=1e-05; total time=   1.4s\n",
      "[CV] END count_vectorizer__max_features=10, naivebayes__alpha=0.01; total time=   1.5s\n",
      "[CV] END count_vectorizer__max_features=10, naivebayes__alpha=1e-05; total time=   1.5s\n",
      "[CV] END count_vectorizer__max_features=20, naivebayes__alpha=0.01; total time=   1.8s\n",
      "[CV] END count_vectorizer__max_features=20, naivebayes__alpha=1e-05; total time=   1.1s\n",
      "[CV] END count_vectorizer__max_features=20, naivebayes__alpha=0.01; total time=   1.5s\n",
      "[CV] END count_vectorizer__max_features=20, naivebayes__alpha=1e-05; total time=   1.6s\n",
      "[CV] END count_vectorizer__max_features=5, naivebayes__alpha=0.1; total time=   1.6s\n",
      "[CV] END count_vectorizer__max_features=5, logreg__C=0.001, logreg__penalty=l2; total time=   3.8s\n",
      "[CV] END count_vectorizer__max_features=5, logreg__C=1.0, logreg__penalty=l2; total time=   1.5s\n",
      "[CV] END count_vectorizer__max_features=5, logreg__C=10.0, logreg__penalty=l2; total time=   1.6s\n",
      "[CV] END count_vectorizer__max_features=5, logreg__C=1000.0, logreg__penalty=l1; total time=   1.3s\n",
      "[CV] END count_vectorizer__max_features=10, logreg__C=0.01, logreg__penalty=l1; total time=   1.4s\n",
      "[CV] END count_vectorizer__max_features=10, logreg__C=0.1, logreg__penalty=l1; total time=   1.3s\n",
      "[CV] END count_vectorizer__max_features=10, logreg__C=1.0, logreg__penalty=l2; total time=   1.6s\n",
      "[CV] END count_vectorizer__max_features=10, logreg__C=100.0, logreg__penalty=l1; total time=   1.4s\n",
      "[CV] END count_vectorizer__max_features=10, logreg__C=1000.0, logreg__penalty=l2; total time=   1.7s\n",
      "[CV] END count_vectorizer__max_features=20, logreg__C=0.01, logreg__penalty=l2; total time=   1.7s\n",
      "[CV] END count_vectorizer__max_features=20, logreg__C=1.0, logreg__penalty=l1; total time=   1.3s\n",
      "[CV] END count_vectorizer__max_features=20, logreg__C=10.0, logreg__penalty=l2; total time=   1.6s\n",
      "[CV] END count_vectorizer__max_features=20, logreg__C=1000.0, logreg__penalty=l1; total time=   1.1s\n",
      "[CV] END count_vectorizer__max_features=10, logreg__C=1000.0, logreg__penalty=l1; total time=   1.1s\n",
      "[CV] END count_vectorizer__max_features=10, logreg__C=0.001, logreg__penalty=l1; total time=   1.2s\n",
      "[CV] END count_vectorizer__max_features=5, logreg__C=100.0, logreg__penalty=l2; total time=   1.5s\n",
      "[CV] END count_vectorizer__max_features=5, knn__n_neighbors=10; total time=   1.5s\n",
      "[CV] END count_vectorizer__max_features=10, knn__n_neighbors=5; total time=   1.9s\n",
      "[CV] END count_vectorizer__max_features=20, knn__n_neighbors=1; total time=   1.8s\n",
      "[CV] END count_vectorizer__max_features=10, knn__n_neighbors=20; total time=   1.3s\n",
      "[CV] END count_vectorizer__max_features=20, knn__n_neighbors=1; total time=   1.6s\n",
      "[CV] END count_vectorizer__max_features=20, knn__n_neighbors=5; total time=   1.9s\n",
      "[CV] END count_vectorizer__max_features=5, knn__n_neighbors=10; total time=   1.1s\n",
      "[CV] END .........count_vectorizer__max_features=5, svc__C=1; total time=   1.9s\n",
      "[CV] END .....count_vectorizer__max_features=10, svc__C=0.01; total time=   1.6s\n",
      "[CV] END .......count_vectorizer__max_features=10, svc__C=10; total time=   1.9s\n",
      "[CV] END ........count_vectorizer__max_features=20, svc__C=1; total time=   1.8s\n",
      "[CV] END .......count_vectorizer__max_features=5, svc__C=100; total time=   1.4s\n",
      "[CV] END ......count_vectorizer__max_features=10, svc__C=100; total time=   1.6s\n",
      "[CV] END ......count_vectorizer__max_features=20, svc__C=0.1; total time=   1.7s\n",
      "[CV] END count_vectorizer__max_features=5, rf__n_estimators=10; total time=   1.4s\n",
      "[CV] END count_vectorizer__max_features=10, rf__n_estimators=10; total time=   1.7s\n",
      "[CV] END count_vectorizer__max_features=10, rf__n_estimators=1000; total time=  10.9s\n",
      "[CV] END count_vectorizer__max_features=5, rf__n_estimators=10; total time=   1.3s\n",
      "[CV] END count_vectorizer__max_features=10, rf__n_estimators=10; total time=   1.5s\n",
      "[CV] END count_vectorizer__max_features=10, rf__n_estimators=1000; total time=  11.1s\n",
      "[CV] END ...naivebayes__alpha=0.1, tfidf__ngram_range=(1, 1); total time=   2.0s\n",
      "[CV] END ..naivebayes__alpha=0.01, tfidf__ngram_range=(1, 1); total time=   2.3s\n",
      "[CV] END .naivebayes__alpha=0.001, tfidf__ngram_range=(1, 1); total time=   2.3s\n",
      "[CV] END .naivebayes__alpha=0.001, tfidf__ngram_range=(1, 1); total time=   2.4s\n",
      "[CV] END .naivebayes__alpha=0.001, tfidf__ngram_range=(1, 2); total time=   8.3s\n",
      "[CV] END .naivebayes__alpha=0.001, tfidf__ngram_range=(1, 2); total time=   8.0s\n",
      "[CV] END .naivebayes__alpha=1e-05, tfidf__ngram_range=(1, 1); total time=   2.4s\n",
      "[CV] END ..naivebayes__alpha=0.01, tfidf__ngram_range=(1, 1); total time=   2.3s\n",
      "[CV] END logreg__C=0.001, logreg__penalty=l1, tfidf__ngram_range=(1, 2); total time=   7.6s\n",
      "[CV] END logreg__C=0.01, logreg__penalty=l2, tfidf__ngram_range=(1, 2); total time=  11.1s\n",
      "[CV] END logreg__C=1.0, logreg__penalty=l1, tfidf__ngram_range=(1, 1); total time=   2.2s\n",
      "[CV] END logreg__C=1.0, logreg__penalty=l2, tfidf__ngram_range=(1, 1); total time=   2.9s\n",
      "[CV] END logreg__C=1.0, logreg__penalty=l2, tfidf__ngram_range=(1, 2); total time=  15.4s\n",
      "[CV] END logreg__C=100.0, logreg__penalty=l2, tfidf__ngram_range=(1, 1); total time=   3.6s\n",
      "[CV] END logreg__C=1000.0, logreg__penalty=l1, tfidf__ngram_range=(1, 1); total time=   1.9s\n",
      "[CV] END logreg__C=1000.0, logreg__penalty=l1, tfidf__ngram_range=(1, 1); total time=   2.1s\n",
      "[CV] END logreg__C=1000.0, logreg__penalty=l1, tfidf__ngram_range=(1, 2); total time=   8.8s\n",
      "[CV] END logreg__C=1.0, logreg__penalty=l1, tfidf__ngram_range=(1, 2); total time=   6.3s\n",
      "[CV] END logreg__C=10.0, logreg__penalty=l1, tfidf__ngram_range=(1, 1); total time=   1.8s\n",
      "[CV] END logreg__C=0.01, logreg__penalty=l2, tfidf__ngram_range=(1, 1); total time=   2.3s\n",
      "[CV] END ......knn__n_neighbors=1, tfidf__ngram_range=(1, 1); total time=   1.8s\n",
      "[CV] END ......knn__n_neighbors=5, tfidf__ngram_range=(1, 2); total time=   8.4s\n",
      "[CV] END ......knn__n_neighbors=5, tfidf__ngram_range=(1, 1); total time=   2.2s\n",
      "[CV] END .....knn__n_neighbors=10, tfidf__ngram_range=(1, 1); total time=   2.3s\n",
      "[CV] END .....knn__n_neighbors=20, tfidf__ngram_range=(1, 1); total time=   2.8s\n",
      "[CV] END .....knn__n_neighbors=20, tfidf__ngram_range=(1, 1); total time=   2.6s\n",
      "[CV] END .....knn__n_neighbors=20, tfidf__ngram_range=(1, 2); total time=   5.8s\n",
      "[CV] END .............svc__C=0.01, tfidf__ngram_range=(1, 1); total time=   1.5s\n",
      "[CV] END ..............svc__C=0.1, tfidf__ngram_range=(1, 2); total time=   9.2s\n",
      "[CV] END ..............svc__C=100, tfidf__ngram_range=(1, 1); total time=   6.5s\n",
      "[CV] END ..............svc__C=0.1, tfidf__ngram_range=(1, 2); total time=   8.5s\n",
      "[CV] END ...............svc__C=10, tfidf__ngram_range=(1, 2); total time=  16.3s\n",
      "[CV] END .....rf__n_estimators=10, tfidf__ngram_range=(1, 2); total time=   9.2s\n",
      "[CV] END ...rf__n_estimators=1000, tfidf__ngram_range=(1, 2); total time= 1.2min\n",
      "[CV] END ....rf__n_estimators=100, tfidf__ngram_range=(1, 1); total time=   4.6s\n",
      "[CV] END ...rf__n_estimators=1000, tfidf__ngram_range=(1, 1); total time=  26.8s\n"
     ]
    },
    {
     "name": "stderr",
     "output_type": "stream",
     "text": [
      "/Users/anantagarwal/opt/anaconda3/lib/python3.8/site-packages/sklearn/svm/_base.py:1206: ConvergenceWarning: Liblinear failed to converge, increase the number of iterations.\n",
      "  warnings.warn(\n",
      "/Users/anantagarwal/opt/anaconda3/lib/python3.8/site-packages/sklearn/svm/_base.py:1206: ConvergenceWarning: Liblinear failed to converge, increase the number of iterations.\n",
      "  warnings.warn(\n",
      "/Users/anantagarwal/opt/anaconda3/lib/python3.8/site-packages/sklearn/svm/_base.py:1206: ConvergenceWarning: Liblinear failed to converge, increase the number of iterations.\n",
      "  warnings.warn(\n",
      "/Users/anantagarwal/opt/anaconda3/lib/python3.8/site-packages/sklearn/svm/_base.py:1206: ConvergenceWarning: Liblinear failed to converge, increase the number of iterations.\n",
      "  warnings.warn(\n",
      "/Users/anantagarwal/opt/anaconda3/lib/python3.8/site-packages/sklearn/svm/_base.py:1206: ConvergenceWarning: Liblinear failed to converge, increase the number of iterations.\n",
      "  warnings.warn(\n",
      "/Users/anantagarwal/opt/anaconda3/lib/python3.8/site-packages/sklearn/svm/_base.py:1206: ConvergenceWarning: Liblinear failed to converge, increase the number of iterations.\n",
      "  warnings.warn(\n",
      "/Users/anantagarwal/opt/anaconda3/lib/python3.8/site-packages/sklearn/svm/_base.py:1206: ConvergenceWarning: Liblinear failed to converge, increase the number of iterations.\n",
      "  warnings.warn(\n",
      "/Users/anantagarwal/opt/anaconda3/lib/python3.8/site-packages/sklearn/svm/_base.py:1206: ConvergenceWarning: Liblinear failed to converge, increase the number of iterations.\n",
      "  warnings.warn(\n",
      "/Users/anantagarwal/opt/anaconda3/lib/python3.8/site-packages/sklearn/svm/_base.py:1206: ConvergenceWarning: Liblinear failed to converge, increase the number of iterations.\n",
      "  warnings.warn(\n",
      "/Users/anantagarwal/opt/anaconda3/lib/python3.8/site-packages/sklearn/svm/_base.py:1206: ConvergenceWarning: Liblinear failed to converge, increase the number of iterations.\n",
      "  warnings.warn(\n",
      "/Users/anantagarwal/opt/anaconda3/lib/python3.8/site-packages/sklearn/svm/_base.py:1206: ConvergenceWarning: Liblinear failed to converge, increase the number of iterations.\n",
      "  warnings.warn(\n",
      "/Users/anantagarwal/opt/anaconda3/lib/python3.8/site-packages/sklearn/svm/_base.py:1206: ConvergenceWarning: Liblinear failed to converge, increase the number of iterations.\n",
      "  warnings.warn(\n",
      "/Users/anantagarwal/opt/anaconda3/lib/python3.8/site-packages/sklearn/svm/_base.py:1206: ConvergenceWarning: Liblinear failed to converge, increase the number of iterations.\n",
      "  warnings.warn(\n",
      "/Users/anantagarwal/opt/anaconda3/lib/python3.8/site-packages/sklearn/svm/_base.py:1206: ConvergenceWarning: Liblinear failed to converge, increase the number of iterations.\n",
      "  warnings.warn(\n",
      "/Users/anantagarwal/opt/anaconda3/lib/python3.8/site-packages/sklearn/svm/_base.py:1206: ConvergenceWarning: Liblinear failed to converge, increase the number of iterations.\n",
      "  warnings.warn(\n"
     ]
    },
    {
     "name": "stdout",
     "output_type": "stream",
     "text": [
      "[CV] END count_vectorizer__max_features=5, naivebayes__alpha=0.001; total time=   1.4s\n",
      "[CV] END count_vectorizer__max_features=10, naivebayes__alpha=1; total time=   1.4s\n",
      "[CV] END count_vectorizer__max_features=10, naivebayes__alpha=0.001; total time=   1.5s\n",
      "[CV] END count_vectorizer__max_features=20, naivebayes__alpha=1; total time=   1.6s\n",
      "[CV] END count_vectorizer__max_features=20, naivebayes__alpha=0.001; total time=   1.8s\n",
      "[CV] END count_vectorizer__max_features=10, naivebayes__alpha=1; total time=   1.4s\n",
      "[CV] END count_vectorizer__max_features=20, naivebayes__alpha=1; total time=   1.6s\n",
      "[CV] END count_vectorizer__max_features=5, naivebayes__alpha=0.0001; total time=   1.6s\n",
      "[CV] END count_vectorizer__max_features=5, logreg__C=0.01, logreg__penalty=l1; total time=   1.3s\n",
      "[CV] END count_vectorizer__max_features=5, logreg__C=0.1, logreg__penalty=l1; total time=   1.1s\n",
      "[CV] END count_vectorizer__max_features=5, logreg__C=0.1, logreg__penalty=l2; total time=   4.0s\n",
      "[CV] END count_vectorizer__max_features=5, logreg__C=100.0, logreg__penalty=l2; total time=   1.5s\n",
      "[CV] END count_vectorizer__max_features=10, logreg__C=0.001, logreg__penalty=l2; total time=   1.6s\n",
      "[CV] END count_vectorizer__max_features=10, logreg__C=0.1, logreg__penalty=l1; total time=   1.3s\n",
      "[CV] END count_vectorizer__max_features=10, logreg__C=1.0, logreg__penalty=l2; total time=   1.6s\n",
      "[CV] END count_vectorizer__max_features=10, logreg__C=100.0, logreg__penalty=l1; total time=   1.4s\n",
      "[CV] END count_vectorizer__max_features=10, logreg__C=1000.0, logreg__penalty=l2; total time=   1.7s\n",
      "[CV] END count_vectorizer__max_features=20, logreg__C=0.01, logreg__penalty=l1; total time=   1.4s\n",
      "[CV] END count_vectorizer__max_features=20, logreg__C=1.0, logreg__penalty=l1; total time=   1.3s\n",
      "[CV] END count_vectorizer__max_features=20, logreg__C=10.0, logreg__penalty=l1; total time=   1.3s\n",
      "[CV] END count_vectorizer__max_features=20, logreg__C=100.0, logreg__penalty=l2; total time=   1.5s\n",
      "[CV] END count_vectorizer__max_features=5, logreg__C=10.0, logreg__penalty=l2; total time=   1.3s\n",
      "[CV] END count_vectorizer__max_features=10, logreg__C=0.001, logreg__penalty=l1; total time=   1.2s\n",
      "[CV] END count_vectorizer__max_features=5, logreg__C=100.0, logreg__penalty=l2; total time=   1.5s\n",
      "[CV] END count_vectorizer__max_features=5, knn__n_neighbors=1; total time=   1.3s\n",
      "[CV] END count_vectorizer__max_features=5, knn__n_neighbors=20; total time=   1.7s\n",
      "[CV] END count_vectorizer__max_features=10, knn__n_neighbors=20; total time=   1.8s\n",
      "[CV] END count_vectorizer__max_features=20, knn__n_neighbors=10; total time=   1.6s\n",
      "[CV] END count_vectorizer__max_features=5, knn__n_neighbors=20; total time=   1.5s\n",
      "[CV] END count_vectorizer__max_features=20, knn__n_neighbors=10; total time=   1.7s\n",
      "[CV] END count_vectorizer__max_features=20, knn__n_neighbors=20; total time=   1.8s\n",
      "[CV] END ......count_vectorizer__max_features=5, svc__C=0.01; total time=   1.6s\n",
      "[CV] END ........count_vectorizer__max_features=5, svc__C=10; total time=   1.7s\n",
      "[CV] END ......count_vectorizer__max_features=10, svc__C=0.1; total time=   1.8s\n",
      "[CV] END .....count_vectorizer__max_features=20, svc__C=0.01; total time=   1.8s\n",
      "[CV] END .......count_vectorizer__max_features=20, svc__C=10; total time=   1.5s\n",
      "[CV] END .......count_vectorizer__max_features=5, svc__C=100; total time=   1.4s\n",
      "[CV] END ......count_vectorizer__max_features=10, svc__C=100; total time=   1.6s\n",
      "[CV] END ......count_vectorizer__max_features=20, svc__C=0.1; total time=   1.7s\n",
      "[CV] END count_vectorizer__max_features=5, rf__n_estimators=10; total time=   1.5s\n",
      "[CV] END count_vectorizer__max_features=10, rf__n_estimators=10; total time=   1.6s\n",
      "[CV] END count_vectorizer__max_features=10, rf__n_estimators=1000; total time=  11.0s\n",
      "[CV] END count_vectorizer__max_features=5, rf__n_estimators=1000; total time=  10.6s\n",
      "[CV] END ...naivebayes__alpha=0.1, tfidf__ngram_range=(1, 1); total time=   2.0s\n",
      "[CV] END ..naivebayes__alpha=0.01, tfidf__ngram_range=(1, 1); total time=   2.4s\n",
      "[CV] END ..naivebayes__alpha=0.01, tfidf__ngram_range=(1, 2); total time=   8.8s\n",
      "[CV] END .naivebayes__alpha=1e-05, tfidf__ngram_range=(1, 1); total time=   2.1s\n",
      "[CV] END .naivebayes__alpha=0.001, tfidf__ngram_range=(1, 2); total time=   7.8s\n",
      "[CV] END .naivebayes__alpha=1e-05, tfidf__ngram_range=(1, 1); total time=   2.4s\n",
      "[CV] END naivebayes__alpha=0.0001, tfidf__ngram_range=(1, 1); total time=   2.4s\n",
      "[CV] END logreg__C=0.001, logreg__penalty=l1, tfidf__ngram_range=(1, 2); total time=   7.1s\n",
      "[CV] END logreg__C=0.01, logreg__penalty=l2, tfidf__ngram_range=(1, 1); total time=   2.6s\n",
      "[CV] END logreg__C=0.01, logreg__penalty=l2, tfidf__ngram_range=(1, 2); total time=  11.3s\n",
      "[CV] END logreg__C=1.0, logreg__penalty=l2, tfidf__ngram_range=(1, 1); total time=   2.9s\n",
      "[CV] END logreg__C=1.0, logreg__penalty=l2, tfidf__ngram_range=(1, 2); total time=  14.8s\n",
      "[CV] END logreg__C=100.0, logreg__penalty=l2, tfidf__ngram_range=(1, 1); total time=   3.8s\n",
      "[CV] END logreg__C=100.0, logreg__penalty=l2, tfidf__ngram_range=(1, 2); total time=  15.6s\n",
      "[CV] END logreg__C=1000.0, logreg__penalty=l2, tfidf__ngram_range=(1, 1); total time=   2.8s\n",
      "[CV] END logreg__C=1.0, logreg__penalty=l1, tfidf__ngram_range=(1, 1); total time=   1.4s\n",
      "[CV] END logreg__C=1000.0, logreg__penalty=l1, tfidf__ngram_range=(1, 1); total time=   1.8s\n",
      "[CV] END logreg__C=10.0, logreg__penalty=l1, tfidf__ngram_range=(1, 1); total time=   1.8s\n",
      "[CV] END logreg__C=0.01, logreg__penalty=l2, tfidf__ngram_range=(1, 1); total time=   2.3s\n",
      "[CV] END logreg__C=10.0, logreg__penalty=l2, tfidf__ngram_range=(1, 1); total time=   1.8s\n",
      "[CV] END ......knn__n_neighbors=1, tfidf__ngram_range=(1, 1); total time=   1.8s\n",
      "[CV] END ......knn__n_neighbors=5, tfidf__ngram_range=(1, 2); total time=   8.3s\n",
      "[CV] END ......knn__n_neighbors=1, tfidf__ngram_range=(1, 2); total time=   9.2s\n",
      "[CV] END .....knn__n_neighbors=20, tfidf__ngram_range=(1, 1); total time=   2.4s\n",
      "[CV] END ..............svc__C=0.1, tfidf__ngram_range=(1, 1); total time=   1.7s\n",
      "[CV] END ................svc__C=1, tfidf__ngram_range=(1, 1); total time=   1.9s\n",
      "[CV] END ................svc__C=1, tfidf__ngram_range=(1, 2); total time=  10.0s\n",
      "[CV] END ..............svc__C=100, tfidf__ngram_range=(1, 2); total time=  25.0s\n",
      "[CV] END ..............svc__C=0.1, tfidf__ngram_range=(1, 1); total time=   1.8s\n",
      "[CV] END ................svc__C=1, tfidf__ngram_range=(1, 1); total time=   2.1s\n",
      "[CV] END ................svc__C=1, tfidf__ngram_range=(1, 2); total time=  10.3s\n",
      "[CV] END .....rf__n_estimators=10, tfidf__ngram_range=(1, 1); total time=   1.8s\n",
      "[CV] END ....rf__n_estimators=100, tfidf__ngram_range=(1, 2); total time=  18.1s\n",
      "[CV] END ....rf__n_estimators=100, tfidf__ngram_range=(1, 1); total time=   4.6s\n",
      "[CV] END ...rf__n_estimators=1000, tfidf__ngram_range=(1, 2); total time= 1.2min\n"
     ]
    },
    {
     "name": "stderr",
     "output_type": "stream",
     "text": [
      "/Users/anantagarwal/opt/anaconda3/lib/python3.8/site-packages/sklearn/svm/_base.py:1206: ConvergenceWarning: Liblinear failed to converge, increase the number of iterations.\n",
      "  warnings.warn(\n",
      "/Users/anantagarwal/opt/anaconda3/lib/python3.8/site-packages/sklearn/svm/_base.py:1206: ConvergenceWarning: Liblinear failed to converge, increase the number of iterations.\n",
      "  warnings.warn(\n",
      "/Users/anantagarwal/opt/anaconda3/lib/python3.8/site-packages/sklearn/svm/_base.py:1206: ConvergenceWarning: Liblinear failed to converge, increase the number of iterations.\n",
      "  warnings.warn(\n",
      "/Users/anantagarwal/opt/anaconda3/lib/python3.8/site-packages/sklearn/svm/_base.py:1206: ConvergenceWarning: Liblinear failed to converge, increase the number of iterations.\n",
      "  warnings.warn(\n",
      "/Users/anantagarwal/opt/anaconda3/lib/python3.8/site-packages/sklearn/svm/_base.py:1206: ConvergenceWarning: Liblinear failed to converge, increase the number of iterations.\n",
      "  warnings.warn(\n",
      "/Users/anantagarwal/opt/anaconda3/lib/python3.8/site-packages/sklearn/svm/_base.py:1206: ConvergenceWarning: Liblinear failed to converge, increase the number of iterations.\n",
      "  warnings.warn(\n",
      "/Users/anantagarwal/opt/anaconda3/lib/python3.8/site-packages/sklearn/svm/_base.py:1206: ConvergenceWarning: Liblinear failed to converge, increase the number of iterations.\n",
      "  warnings.warn(\n"
     ]
    },
    {
     "name": "stdout",
     "output_type": "stream",
     "text": [
      "[CV] END count_vectorizer__max_features=5, naivebayes__alpha=1; total time=   1.5s\n",
      "[CV] END count_vectorizer__max_features=5, naivebayes__alpha=0.001; total time=   1.4s\n",
      "[CV] END count_vectorizer__max_features=10, naivebayes__alpha=0.1; total time=   1.5s\n",
      "[CV] END count_vectorizer__max_features=10, naivebayes__alpha=0.0001; total time=   1.5s\n",
      "[CV] END count_vectorizer__max_features=20, naivebayes__alpha=0.1; total time=   1.8s\n",
      "[CV] END count_vectorizer__max_features=20, naivebayes__alpha=0.0001; total time=   1.3s\n",
      "[CV] END count_vectorizer__max_features=20, naivebayes__alpha=0.01; total time=   1.5s\n",
      "[CV] END count_vectorizer__max_features=10, naivebayes__alpha=0.1; total time=   1.6s\n",
      "[CV] END count_vectorizer__max_features=5, naivebayes__alpha=1e-05; total time=   1.5s\n",
      "[CV] END count_vectorizer__max_features=5, logreg__C=0.001, logreg__penalty=l2; total time=   3.8s\n",
      "[CV] END count_vectorizer__max_features=5, logreg__C=1.0, logreg__penalty=l1; total time=   1.2s\n",
      "[CV] END count_vectorizer__max_features=5, logreg__C=10.0, logreg__penalty=l1; total time=   1.4s\n",
      "[CV] END count_vectorizer__max_features=5, logreg__C=100.0, logreg__penalty=l1; total time=   1.3s\n",
      "[CV] END count_vectorizer__max_features=5, logreg__C=1000.0, logreg__penalty=l2; total time=   1.5s\n",
      "[CV] END count_vectorizer__max_features=10, logreg__C=0.01, logreg__penalty=l2; total time=   1.6s\n",
      "[CV] END count_vectorizer__max_features=10, logreg__C=1.0, logreg__penalty=l1; total time=   1.3s\n",
      "[CV] END count_vectorizer__max_features=10, logreg__C=10.0, logreg__penalty=l2; total time=   1.6s\n",
      "[CV] END count_vectorizer__max_features=10, logreg__C=1000.0, logreg__penalty=l1; total time=   1.4s\n",
      "[CV] END count_vectorizer__max_features=20, logreg__C=0.001, logreg__penalty=l2; total time=   1.6s\n",
      "[CV] END count_vectorizer__max_features=20, logreg__C=0.1, logreg__penalty=l2; total time=   1.6s\n",
      "[CV] END count_vectorizer__max_features=20, logreg__C=10.0, logreg__penalty=l1; total time=   1.3s\n",
      "[CV] END count_vectorizer__max_features=20, logreg__C=100.0, logreg__penalty=l2; total time=   1.5s\n",
      "[CV] END count_vectorizer__max_features=5, logreg__C=0.01, logreg__penalty=l2; total time=   1.4s\n",
      "[CV] END count_vectorizer__max_features=20, logreg__C=0.01, logreg__penalty=l2; total time=   1.5s\n",
      "[CV] END count_vectorizer__max_features=10, logreg__C=1.0, logreg__penalty=l2; total time=   1.3s\n",
      "[CV] END count_vectorizer__max_features=5, knn__n_neighbors=1; total time=   1.4s\n",
      "[CV] END count_vectorizer__max_features=10, knn__n_neighbors=1; total time=   1.8s\n",
      "[CV] END count_vectorizer__max_features=10, knn__n_neighbors=20; total time=   1.8s\n",
      "[CV] END count_vectorizer__max_features=20, knn__n_neighbors=10; total time=   1.5s\n",
      "[CV] END count_vectorizer__max_features=5, knn__n_neighbors=5; total time=   1.5s\n",
      "[CV] END count_vectorizer__max_features=20, knn__n_neighbors=10; total time=   1.7s\n",
      "[CV] END count_vectorizer__max_features=20, knn__n_neighbors=20; total time=   1.8s\n",
      "[CV] END ......count_vectorizer__max_features=5, svc__C=0.01; total time=   1.7s\n",
      "[CV] END ........count_vectorizer__max_features=5, svc__C=10; total time=   1.7s\n",
      "[CV] END ........count_vectorizer__max_features=10, svc__C=1; total time=   1.8s\n",
      "[CV] END .....count_vectorizer__max_features=20, svc__C=0.01; total time=   1.7s\n",
      "[CV] END .......count_vectorizer__max_features=20, svc__C=10; total time=   1.5s\n",
      "[CV] END .......count_vectorizer__max_features=5, svc__C=100; total time=   1.5s\n",
      "[CV] END ......count_vectorizer__max_features=10, svc__C=100; total time=   1.6s\n",
      "[CV] END .....count_vectorizer__max_features=10, svc__C=0.01; total time=   1.6s\n",
      "[CV] END ........count_vectorizer__max_features=10, svc__C=1; total time=   0.9s\n",
      "[CV] END count_vectorizer__max_features=5, rf__n_estimators=1000; total time=  10.7s\n",
      "[CV] END count_vectorizer__max_features=5, rf__n_estimators=100; total time=   2.1s\n",
      "[CV] END count_vectorizer__max_features=10, rf__n_estimators=100; total time=   2.3s\n",
      "[CV] END count_vectorizer__max_features=20, rf__n_estimators=100; total time=   2.8s\n",
      "[CV] END count_vectorizer__max_features=20, rf__n_estimators=1000; total time=   9.4s\n",
      "[CV] END ...naivebayes__alpha=0.1, tfidf__ngram_range=(1, 1); total time=   2.0s\n",
      "[CV] END ..naivebayes__alpha=0.01, tfidf__ngram_range=(1, 1); total time=   2.4s\n",
      "[CV] END ..naivebayes__alpha=0.01, tfidf__ngram_range=(1, 2); total time=   8.6s\n",
      "[CV] END .naivebayes__alpha=1e-05, tfidf__ngram_range=(1, 1); total time=   2.1s\n",
      "[CV] END .naivebayes__alpha=1e-05, tfidf__ngram_range=(1, 2); total time=   6.7s\n",
      "[CV] END .....naivebayes__alpha=1, tfidf__ngram_range=(1, 1); total time=   1.8s\n",
      "[CV] END naivebayes__alpha=0.0001, tfidf__ngram_range=(1, 2); total time=   8.9s\n",
      "[CV] END .naivebayes__alpha=1e-05, tfidf__ngram_range=(1, 2); total time=   5.9s\n",
      "[CV] END logreg__C=0.001, logreg__penalty=l1, tfidf__ngram_range=(1, 1); total time=   1.3s\n",
      "[CV] END logreg__C=0.01, logreg__penalty=l1, tfidf__ngram_range=(1, 1); total time=   1.4s\n",
      "[CV] END logreg__C=0.01, logreg__penalty=l1, tfidf__ngram_range=(1, 2); total time=   8.4s\n",
      "[CV] END logreg__C=0.1, logreg__penalty=l1, tfidf__ngram_range=(1, 1); total time=   1.8s\n",
      "[CV] END logreg__C=0.1, logreg__penalty=l2, tfidf__ngram_range=(1, 1); total time=   2.2s\n",
      "[CV] END logreg__C=0.1, logreg__penalty=l2, tfidf__ngram_range=(1, 2); total time=  12.4s\n",
      "[CV] END logreg__C=10.0, logreg__penalty=l1, tfidf__ngram_range=(1, 2); total time=   8.6s\n",
      "[CV] END logreg__C=100.0, logreg__penalty=l1, tfidf__ngram_range=(1, 1); total time=   2.2s\n",
      "[CV] END logreg__C=100.0, logreg__penalty=l2, tfidf__ngram_range=(1, 1); total time=   4.0s\n",
      "[CV] END logreg__C=100.0, logreg__penalty=l2, tfidf__ngram_range=(1, 2); total time=  15.7s\n",
      "[CV] END logreg__C=0.001, logreg__penalty=l1, tfidf__ngram_range=(1, 1); total time=   1.2s\n",
      "[CV] END logreg__C=0.001, logreg__penalty=l2, tfidf__ngram_range=(1, 2); total time=  10.1s\n",
      "[CV] END ......knn__n_neighbors=1, tfidf__ngram_range=(1, 2); total time=   7.7s\n",
      "[CV] END .....knn__n_neighbors=20, tfidf__ngram_range=(1, 1); total time=   2.4s\n",
      "[CV] END ......knn__n_neighbors=1, tfidf__ngram_range=(1, 1); total time=   1.8s\n",
      "[CV] END ......knn__n_neighbors=5, tfidf__ngram_range=(1, 2); total time=   9.7s\n",
      "[CV] END .............svc__C=0.01, tfidf__ngram_range=(1, 1); total time=   1.6s\n",
      "[CV] END ..............svc__C=0.1, tfidf__ngram_range=(1, 2); total time=   9.2s\n",
      "[CV] END ..............svc__C=100, tfidf__ngram_range=(1, 1); total time=   3.9s\n",
      "[CV] END .............svc__C=0.01, tfidf__ngram_range=(1, 1); total time=   1.8s\n",
      "[CV] END ..............svc__C=0.1, tfidf__ngram_range=(1, 2); total time=   9.2s\n",
      "[CV] END ..............svc__C=100, tfidf__ngram_range=(1, 1); total time=   4.0s\n",
      "[CV] END ....rf__n_estimators=100, tfidf__ngram_range=(1, 2); total time=  17.7s\n",
      "[CV] END .....rf__n_estimators=10, tfidf__ngram_range=(1, 2); total time=   9.7s\n",
      "[CV] END ...rf__n_estimators=1000, tfidf__ngram_range=(1, 2); total time= 1.1min\n",
      "[CV] END count_vectorizer__max_features=5, naivebayes__alpha=0.1; total time=   1.5s\n",
      "[CV] END count_vectorizer__max_features=5, naivebayes__alpha=0.0001; total time=   1.4s\n",
      "[CV] END count_vectorizer__max_features=10, naivebayes__alpha=0.1; total time=   1.4s\n",
      "[CV] END count_vectorizer__max_features=10, naivebayes__alpha=0.0001; total time=   1.4s\n",
      "[CV] END count_vectorizer__max_features=20, naivebayes__alpha=0.1; total time=   1.8s\n",
      "[CV] END count_vectorizer__max_features=20, naivebayes__alpha=0.0001; total time=   1.3s\n",
      "[CV] END count_vectorizer__max_features=10, naivebayes__alpha=1; total time=   1.4s\n",
      "[CV] END count_vectorizer__max_features=10, naivebayes__alpha=1e-05; total time=   1.6s\n",
      "[CV] END count_vectorizer__max_features=10, naivebayes__alpha=0.1; total time=   1.7s\n",
      "[CV] END count_vectorizer__max_features=5, naivebayes__alpha=1e-05; total time=   1.0s\n",
      "[CV] END count_vectorizer__max_features=5, logreg__C=0.01, logreg__penalty=l1; total time=   1.3s\n",
      "[CV] END count_vectorizer__max_features=5, logreg__C=0.1, logreg__penalty=l1; total time=   1.1s\n",
      "[CV] END count_vectorizer__max_features=5, logreg__C=0.1, logreg__penalty=l2; total time=   4.0s\n",
      "[CV] END count_vectorizer__max_features=5, logreg__C=100.0, logreg__penalty=l2; total time=   1.5s\n",
      "[CV] END count_vectorizer__max_features=10, logreg__C=0.001, logreg__penalty=l2; total time=   1.6s\n",
      "[CV] END count_vectorizer__max_features=10, logreg__C=0.1, logreg__penalty=l1; total time=   1.3s\n",
      "[CV] END count_vectorizer__max_features=10, logreg__C=1.0, logreg__penalty=l2; total time=   1.6s\n",
      "[CV] END count_vectorizer__max_features=10, logreg__C=100.0, logreg__penalty=l1; total time=   1.4s\n",
      "[CV] END count_vectorizer__max_features=20, logreg__C=0.001, logreg__penalty=l1; total time=   1.4s\n",
      "[CV] END count_vectorizer__max_features=20, logreg__C=0.01, logreg__penalty=l1; total time=   1.4s\n",
      "[CV] END count_vectorizer__max_features=20, logreg__C=0.1, logreg__penalty=l2; total time=   1.6s\n",
      "[CV] END count_vectorizer__max_features=20, logreg__C=10.0, logreg__penalty=l1; total time=   1.3s\n",
      "[CV] END count_vectorizer__max_features=20, logreg__C=1000.0, logreg__penalty=l1; total time=   1.3s\n",
      "[CV] END count_vectorizer__max_features=5, logreg__C=0.01, logreg__penalty=l2; total time=   1.4s\n",
      "[CV] END count_vectorizer__max_features=20, logreg__C=0.01, logreg__penalty=l2; total time=   1.5s\n",
      "[CV] END count_vectorizer__max_features=5, logreg__C=0.01, logreg__penalty=l1; total time=   1.1s\n",
      "[CV] END count_vectorizer__max_features=5, knn__n_neighbors=10; total time=   1.4s\n",
      "[CV] END count_vectorizer__max_features=10, knn__n_neighbors=5; total time=   1.8s\n",
      "[CV] END count_vectorizer__max_features=20, knn__n_neighbors=1; total time=   1.8s\n",
      "[CV] END count_vectorizer__max_features=20, knn__n_neighbors=20; total time=   1.4s\n",
      "[CV] END count_vectorizer__max_features=5, knn__n_neighbors=20; total time=   1.5s\n",
      "[CV] END count_vectorizer__max_features=5, knn__n_neighbors=1; total time=   1.6s\n",
      "[CV] END count_vectorizer__max_features=20, knn__n_neighbors=20; total time=   1.8s\n",
      "[CV] END .......count_vectorizer__max_features=5, svc__C=0.1; total time=   1.9s\n",
      "[CV] END .....count_vectorizer__max_features=10, svc__C=0.01; total time=   1.6s\n",
      "[CV] END .......count_vectorizer__max_features=10, svc__C=10; total time=   1.8s\n",
      "[CV] END ......count_vectorizer__max_features=20, svc__C=0.1; total time=   1.8s\n",
      "[CV] END ......count_vectorizer__max_features=20, svc__C=100; total time=   1.3s\n",
      "[CV] END .....count_vectorizer__max_features=20, svc__C=0.01; total time=   1.6s\n",
      "[CV] END ......count_vectorizer__max_features=20, svc__C=100; total time=   1.7s\n",
      "[CV] END ........count_vectorizer__max_features=20, svc__C=1; total time=   1.5s\n",
      "[CV] END count_vectorizer__max_features=5, rf__n_estimators=10; total time=   1.5s\n",
      "[CV] END count_vectorizer__max_features=10, rf__n_estimators=100; total time=   2.5s\n",
      "[CV] END count_vectorizer__max_features=20, rf__n_estimators=10; total time=   1.7s\n",
      "[CV] END count_vectorizer__max_features=20, rf__n_estimators=100; total time=   2.8s\n",
      "[CV] END count_vectorizer__max_features=20, rf__n_estimators=1000; total time=   9.0s\n",
      "[CV] END count_vectorizer__max_features=5, rf__n_estimators=1000; total time=  10.6s\n",
      "[CV] END .....naivebayes__alpha=1, tfidf__ngram_range=(1, 1); total time=   1.8s\n",
      "[CV] END ...naivebayes__alpha=0.1, tfidf__ngram_range=(1, 2); total time=   9.3s\n",
      "[CV] END naivebayes__alpha=0.0001, tfidf__ngram_range=(1, 1); total time=   2.0s\n",
      "[CV] END .naivebayes__alpha=1e-05, tfidf__ngram_range=(1, 1); total time=   2.1s\n",
      "[CV] END .naivebayes__alpha=1e-05, tfidf__ngram_range=(1, 2); total time=   6.8s\n",
      "[CV] END ...naivebayes__alpha=0.1, tfidf__ngram_range=(1, 1); total time=   1.7s\n",
      "[CV] END .naivebayes__alpha=0.001, tfidf__ngram_range=(1, 1); total time=   1.9s\n",
      "[CV] END naivebayes__alpha=0.0001, tfidf__ngram_range=(1, 2); total time=   9.3s\n",
      "[CV] END logreg__C=0.001, logreg__penalty=l1, tfidf__ngram_range=(1, 2); total time=   7.4s\n",
      "[CV] END logreg__C=0.01, logreg__penalty=l2, tfidf__ngram_range=(1, 1); total time=   2.6s\n",
      "[CV] END logreg__C=0.01, logreg__penalty=l2, tfidf__ngram_range=(1, 2); total time=  11.3s\n",
      "[CV] END logreg__C=1.0, logreg__penalty=l2, tfidf__ngram_range=(1, 2); total time=  14.1s\n",
      "[CV] END logreg__C=100.0, logreg__penalty=l1, tfidf__ngram_range=(1, 1); total time=   2.3s\n",
      "[CV] END logreg__C=100.0, logreg__penalty=l1, tfidf__ngram_range=(1, 2); total time=   8.9s\n",
      "[CV] END logreg__C=1000.0, logreg__penalty=l1, tfidf__ngram_range=(1, 2); total time=   8.8s\n",
      "[CV] END logreg__C=1000.0, logreg__penalty=l2, tfidf__ngram_range=(1, 1); total time=   3.1s\n",
      "[CV] END logreg__C=1000.0, logreg__penalty=l1, tfidf__ngram_range=(1, 1); total time=   1.4s\n",
      "[CV] END logreg__C=0.01, logreg__penalty=l1, tfidf__ngram_range=(1, 2); total time=   7.1s\n",
      "[CV] END ......knn__n_neighbors=5, tfidf__ngram_range=(1, 1); total time=   1.9s\n",
      "[CV] END .....knn__n_neighbors=10, tfidf__ngram_range=(1, 1); total time=   2.0s\n",
      "[CV] END .....knn__n_neighbors=10, tfidf__ngram_range=(1, 2); total time=   7.8s\n",
      "[CV] END ......knn__n_neighbors=1, tfidf__ngram_range=(1, 1); total time=   1.8s\n",
      "[CV] END .....knn__n_neighbors=10, tfidf__ngram_range=(1, 1); total time=   2.4s\n",
      "[CV] END .....knn__n_neighbors=10, tfidf__ngram_range=(1, 2); total time=   8.9s\n",
      "[CV] END ..............svc__C=0.1, tfidf__ngram_range=(1, 1); total time=   1.7s\n",
      "[CV] END ................svc__C=1, tfidf__ngram_range=(1, 1); total time=   2.1s\n",
      "[CV] END ...............svc__C=10, tfidf__ngram_range=(1, 1); total time=   3.6s\n",
      "[CV] END ...............svc__C=10, tfidf__ngram_range=(1, 1); total time=   3.3s\n",
      "[CV] END ..............svc__C=100, tfidf__ngram_range=(1, 1); total time=   6.5s\n",
      "[CV] END ..............svc__C=0.1, tfidf__ngram_range=(1, 1); total time=   1.8s\n",
      "[CV] END ................svc__C=1, tfidf__ngram_range=(1, 1); total time=   2.1s\n",
      "[CV] END ................svc__C=1, tfidf__ngram_range=(1, 2); total time=  10.2s\n",
      "[CV] END ..............svc__C=100, tfidf__ngram_range=(1, 2); total time=  27.0s\n",
      "[CV] END .....rf__n_estimators=10, tfidf__ngram_range=(1, 1); total time=   2.0s\n",
      "[CV] END ...rf__n_estimators=1000, tfidf__ngram_range=(1, 1); total time=  26.5s\n",
      "[CV] END .....rf__n_estimators=10, tfidf__ngram_range=(1, 2); total time=   9.6s\n",
      "[CV] END ...rf__n_estimators=1000, tfidf__ngram_range=(1, 2); total time= 1.2min\n"
     ]
    },
    {
     "name": "stderr",
     "output_type": "stream",
     "text": [
      "/Users/anantagarwal/opt/anaconda3/lib/python3.8/site-packages/sklearn/svm/_base.py:1206: ConvergenceWarning: Liblinear failed to converge, increase the number of iterations.\n",
      "  warnings.warn(\n",
      "/Users/anantagarwal/opt/anaconda3/lib/python3.8/site-packages/sklearn/svm/_base.py:1206: ConvergenceWarning: Liblinear failed to converge, increase the number of iterations.\n",
      "  warnings.warn(\n",
      "/Users/anantagarwal/opt/anaconda3/lib/python3.8/site-packages/sklearn/svm/_base.py:1206: ConvergenceWarning: Liblinear failed to converge, increase the number of iterations.\n",
      "  warnings.warn(\n",
      "/Users/anantagarwal/opt/anaconda3/lib/python3.8/site-packages/sklearn/svm/_base.py:1206: ConvergenceWarning: Liblinear failed to converge, increase the number of iterations.\n",
      "  warnings.warn(\n",
      "/Users/anantagarwal/opt/anaconda3/lib/python3.8/site-packages/sklearn/svm/_base.py:1206: ConvergenceWarning: Liblinear failed to converge, increase the number of iterations.\n",
      "  warnings.warn(\n",
      "/Users/anantagarwal/opt/anaconda3/lib/python3.8/site-packages/sklearn/svm/_base.py:1206: ConvergenceWarning: Liblinear failed to converge, increase the number of iterations.\n",
      "  warnings.warn(\n",
      "/Users/anantagarwal/opt/anaconda3/lib/python3.8/site-packages/sklearn/svm/_base.py:1206: ConvergenceWarning: Liblinear failed to converge, increase the number of iterations.\n",
      "  warnings.warn(\n",
      "/Users/anantagarwal/opt/anaconda3/lib/python3.8/site-packages/sklearn/svm/_base.py:1206: ConvergenceWarning: Liblinear failed to converge, increase the number of iterations.\n",
      "  warnings.warn(\n",
      "/Users/anantagarwal/opt/anaconda3/lib/python3.8/site-packages/sklearn/svm/_base.py:1206: ConvergenceWarning: Liblinear failed to converge, increase the number of iterations.\n",
      "  warnings.warn(\n",
      "/Users/anantagarwal/opt/anaconda3/lib/python3.8/site-packages/sklearn/svm/_base.py:1206: ConvergenceWarning: Liblinear failed to converge, increase the number of iterations.\n",
      "  warnings.warn(\n",
      "/Users/anantagarwal/opt/anaconda3/lib/python3.8/site-packages/sklearn/svm/_base.py:1206: ConvergenceWarning: Liblinear failed to converge, increase the number of iterations.\n",
      "  warnings.warn(\n",
      "/Users/anantagarwal/opt/anaconda3/lib/python3.8/site-packages/sklearn/svm/_base.py:1206: ConvergenceWarning: Liblinear failed to converge, increase the number of iterations.\n",
      "  warnings.warn(\n",
      "/Users/anantagarwal/opt/anaconda3/lib/python3.8/site-packages/sklearn/svm/_base.py:1206: ConvergenceWarning: Liblinear failed to converge, increase the number of iterations.\n",
      "  warnings.warn(\n",
      "/Users/anantagarwal/opt/anaconda3/lib/python3.8/site-packages/sklearn/svm/_base.py:1206: ConvergenceWarning: Liblinear failed to converge, increase the number of iterations.\n",
      "  warnings.warn(\n"
     ]
    },
    {
     "name": "stdout",
     "output_type": "stream",
     "text": [
      "[CV] END count_vectorizer__max_features=5, naivebayes__alpha=1; total time=   1.5s\n",
      "[CV] END count_vectorizer__max_features=5, naivebayes__alpha=0.001; total time=   1.4s\n",
      "[CV] END count_vectorizer__max_features=10, naivebayes__alpha=1; total time=   1.4s\n",
      "[CV] END count_vectorizer__max_features=10, naivebayes__alpha=0.001; total time=   1.4s\n",
      "[CV] END count_vectorizer__max_features=20, naivebayes__alpha=0.1; total time=   1.7s\n",
      "[CV] END count_vectorizer__max_features=20, naivebayes__alpha=0.0001; total time=   1.3s\n",
      "[CV] END count_vectorizer__max_features=10, naivebayes__alpha=1e-05; total time=   1.5s\n",
      "[CV] END count_vectorizer__max_features=10, naivebayes__alpha=0.1; total time=   1.6s\n",
      "[CV] END count_vectorizer__max_features=5, naivebayes__alpha=1e-05; total time=   1.5s\n",
      "[CV] END count_vectorizer__max_features=5, logreg__C=0.001, logreg__penalty=l2; total time=   3.9s\n",
      "[CV] END count_vectorizer__max_features=5, logreg__C=1.0, logreg__penalty=l2; total time=   1.5s\n",
      "[CV] END count_vectorizer__max_features=5, logreg__C=10.0, logreg__penalty=l2; total time=   1.6s\n",
      "[CV] END count_vectorizer__max_features=5, logreg__C=1000.0, logreg__penalty=l1; total time=   1.3s\n",
      "[CV] END count_vectorizer__max_features=10, logreg__C=0.001, logreg__penalty=l2; total time=   1.6s\n",
      "[CV] END count_vectorizer__max_features=10, logreg__C=0.1, logreg__penalty=l2; total time=   1.6s\n",
      "[CV] END count_vectorizer__max_features=10, logreg__C=10.0, logreg__penalty=l1; total time=   1.3s\n",
      "[CV] END count_vectorizer__max_features=10, logreg__C=100.0, logreg__penalty=l2; total time=   1.6s\n",
      "[CV] END count_vectorizer__max_features=20, logreg__C=0.001, logreg__penalty=l1; total time=   1.4s\n",
      "[CV] END count_vectorizer__max_features=20, logreg__C=0.01, logreg__penalty=l2; total time=   1.6s\n",
      "[CV] END count_vectorizer__max_features=20, logreg__C=1.0, logreg__penalty=l1; total time=   1.3s\n",
      "[CV] END count_vectorizer__max_features=20, logreg__C=100.0, logreg__penalty=l1; total time=   1.3s\n",
      "[CV] END count_vectorizer__max_features=20, logreg__C=1000.0, logreg__penalty=l1; total time=   1.1s\n",
      "[CV] END count_vectorizer__max_features=5, logreg__C=10.0, logreg__penalty=l2; total time=   1.3s\n",
      "[CV] END count_vectorizer__max_features=10, logreg__C=0.001, logreg__penalty=l1; total time=   1.2s\n",
      "[CV] END count_vectorizer__max_features=5, logreg__C=100.0, logreg__penalty=l2; total time=   1.5s\n",
      "[CV] END count_vectorizer__max_features=5, knn__n_neighbors=5; total time=   1.4s\n",
      "[CV] END count_vectorizer__max_features=10, knn__n_neighbors=1; total time=   1.8s\n",
      "[CV] END count_vectorizer__max_features=20, knn__n_neighbors=1; total time=   1.8s\n",
      "[CV] END count_vectorizer__max_features=20, knn__n_neighbors=20; total time=   1.4s\n",
      "[CV] END count_vectorizer__max_features=10, knn__n_neighbors=20; total time=   1.4s\n",
      "[CV] END count_vectorizer__max_features=5, knn__n_neighbors=1; total time=   1.6s\n",
      "[CV] END count_vectorizer__max_features=10, knn__n_neighbors=5; total time=   1.8s\n",
      "[CV] END .......count_vectorizer__max_features=5, svc__C=0.1; total time=   1.8s\n",
      "[CV] END .......count_vectorizer__max_features=5, svc__C=100; total time=   1.7s\n",
      "[CV] END ........count_vectorizer__max_features=10, svc__C=1; total time=   1.8s\n",
      "[CV] END ......count_vectorizer__max_features=20, svc__C=0.1; total time=   1.8s\n",
      "[CV] END ......count_vectorizer__max_features=20, svc__C=100; total time=   1.4s\n",
      "[CV] END .......count_vectorizer__max_features=5, svc__C=100; total time=   1.5s\n",
      "[CV] END ......count_vectorizer__max_features=10, svc__C=0.1; total time=   1.6s\n",
      "[CV] END .....count_vectorizer__max_features=10, svc__C=0.01; total time=   1.6s\n",
      "[CV] END count_vectorizer__max_features=5, rf__n_estimators=1000; total time=  10.6s\n",
      "[CV] END count_vectorizer__max_features=5, rf__n_estimators=10; total time=   1.3s\n",
      "[CV] END count_vectorizer__max_features=10, rf__n_estimators=10; total time=   1.5s\n",
      "[CV] END count_vectorizer__max_features=20, rf__n_estimators=10; total time=   1.5s\n",
      "[CV] END count_vectorizer__max_features=20, rf__n_estimators=10; total time=   1.7s\n",
      "[CV] END count_vectorizer__max_features=20, rf__n_estimators=100; total time=   3.1s\n",
      "[CV] END .....naivebayes__alpha=1, tfidf__ngram_range=(1, 1); total time=   1.8s\n",
      "[CV] END ...naivebayes__alpha=0.1, tfidf__ngram_range=(1, 2); total time=   9.4s\n",
      "[CV] END naivebayes__alpha=0.0001, tfidf__ngram_range=(1, 1); total time=   1.9s\n",
      "[CV] END .naivebayes__alpha=1e-05, tfidf__ngram_range=(1, 1); total time=   2.1s\n",
      "[CV] END .naivebayes__alpha=1e-05, tfidf__ngram_range=(1, 2); total time=   6.8s\n",
      "[CV] END .....naivebayes__alpha=1, tfidf__ngram_range=(1, 1); total time=   1.8s\n",
      "[CV] END .naivebayes__alpha=0.001, tfidf__ngram_range=(1, 1); total time=   1.9s\n",
      "[CV] END .naivebayes__alpha=1e-05, tfidf__ngram_range=(1, 1); total time=   2.3s\n",
      "[CV] END .naivebayes__alpha=1e-05, tfidf__ngram_range=(1, 1); total time=   2.3s\n",
      "[CV] END naivebayes__alpha=0.0001, tfidf__ngram_range=(1, 1); total time=   2.4s\n",
      "[CV] END logreg__C=0.001, logreg__penalty=l1, tfidf__ngram_range=(1, 1); total time=   1.2s\n",
      "[CV] END logreg__C=0.001, logreg__penalty=l2, tfidf__ngram_range=(1, 2); total time=  11.7s\n",
      "[CV] END logreg__C=0.1, logreg__penalty=l2, tfidf__ngram_range=(1, 1); total time=   2.1s\n",
      "[CV] END logreg__C=0.1, logreg__penalty=l2, tfidf__ngram_range=(1, 2); total time=  12.9s\n",
      "[CV] END logreg__C=10.0, logreg__penalty=l1, tfidf__ngram_range=(1, 2); total time=   8.9s\n",
      "[CV] END logreg__C=100.0, logreg__penalty=l1, tfidf__ngram_range=(1, 1); total time=   2.2s\n",
      "[CV] END logreg__C=100.0, logreg__penalty=l2, tfidf__ngram_range=(1, 1); total time=   3.7s\n",
      "[CV] END logreg__C=100.0, logreg__penalty=l2, tfidf__ngram_range=(1, 2); total time=  16.0s\n",
      "[CV] END logreg__C=1000.0, logreg__penalty=l2, tfidf__ngram_range=(1, 1); total time=   2.6s\n",
      "[CV] END logreg__C=1.0, logreg__penalty=l1, tfidf__ngram_range=(1, 1); total time=   1.4s\n",
      "[CV] END logreg__C=1000.0, logreg__penalty=l1, tfidf__ngram_range=(1, 1); total time=   1.6s\n",
      "[CV] END logreg__C=0.01, logreg__penalty=l1, tfidf__ngram_range=(1, 2); total time=   6.6s\n",
      "[CV] END ......knn__n_neighbors=1, tfidf__ngram_range=(1, 2); total time=   7.9s\n",
      "[CV] END .....knn__n_neighbors=20, tfidf__ngram_range=(1, 2); total time=   5.9s\n",
      "[CV] END ......knn__n_neighbors=1, tfidf__ngram_range=(1, 1); total time=   1.7s\n",
      "[CV] END ......knn__n_neighbors=5, tfidf__ngram_range=(1, 2); total time=   9.6s\n",
      "[CV] END .....knn__n_neighbors=20, tfidf__ngram_range=(1, 2); total time=   5.0s\n",
      "[CV] END ..............svc__C=0.1, tfidf__ngram_range=(1, 1); total time=   1.7s\n",
      "[CV] END ................svc__C=1, tfidf__ngram_range=(1, 1); total time=   2.0s\n",
      "[CV] END ................svc__C=1, tfidf__ngram_range=(1, 2); total time=  10.2s\n",
      "[CV] END ..............svc__C=100, tfidf__ngram_range=(1, 2); total time=  24.5s\n",
      "[CV] END .............svc__C=0.01, tfidf__ngram_range=(1, 2); total time=   8.5s\n",
      "[CV] END ...............svc__C=10, tfidf__ngram_range=(1, 1); total time=   3.1s\n",
      "[CV] END ..............svc__C=100, tfidf__ngram_range=(1, 1); total time=   7.1s\n",
      "[CV] END .....rf__n_estimators=10, tfidf__ngram_range=(1, 1); total time=   1.9s\n",
      "[CV] END ....rf__n_estimators=100, tfidf__ngram_range=(1, 2); total time=  17.9s\n",
      "[CV] END .....rf__n_estimators=10, tfidf__ngram_range=(1, 2); total time=   9.6s\n",
      "[CV] END ...rf__n_estimators=1000, tfidf__ngram_range=(1, 2); total time= 1.2min\n"
     ]
    },
    {
     "name": "stderr",
     "output_type": "stream",
     "text": [
      "/Users/anantagarwal/opt/anaconda3/lib/python3.8/site-packages/sklearn/svm/_base.py:1206: ConvergenceWarning: Liblinear failed to converge, increase the number of iterations.\n",
      "  warnings.warn(\n",
      "/Users/anantagarwal/opt/anaconda3/lib/python3.8/site-packages/sklearn/svm/_base.py:1206: ConvergenceWarning: Liblinear failed to converge, increase the number of iterations.\n",
      "  warnings.warn(\n",
      "/Users/anantagarwal/opt/anaconda3/lib/python3.8/site-packages/sklearn/svm/_base.py:1206: ConvergenceWarning: Liblinear failed to converge, increase the number of iterations.\n",
      "  warnings.warn(\n",
      "/Users/anantagarwal/opt/anaconda3/lib/python3.8/site-packages/sklearn/svm/_base.py:1206: ConvergenceWarning: Liblinear failed to converge, increase the number of iterations.\n",
      "  warnings.warn(\n",
      "/Users/anantagarwal/opt/anaconda3/lib/python3.8/site-packages/sklearn/svm/_base.py:1206: ConvergenceWarning: Liblinear failed to converge, increase the number of iterations.\n",
      "  warnings.warn(\n",
      "/Users/anantagarwal/opt/anaconda3/lib/python3.8/site-packages/sklearn/svm/_base.py:1206: ConvergenceWarning: Liblinear failed to converge, increase the number of iterations.\n",
      "  warnings.warn(\n",
      "/Users/anantagarwal/opt/anaconda3/lib/python3.8/site-packages/sklearn/svm/_base.py:1206: ConvergenceWarning: Liblinear failed to converge, increase the number of iterations.\n",
      "  warnings.warn(\n",
      "/Users/anantagarwal/opt/anaconda3/lib/python3.8/site-packages/sklearn/svm/_base.py:1206: ConvergenceWarning: Liblinear failed to converge, increase the number of iterations.\n",
      "  warnings.warn(\n"
     ]
    },
    {
     "name": "stdout",
     "output_type": "stream",
     "text": [
      "[CV] END count_vectorizer__max_features=5, naivebayes__alpha=0.01; total time=   1.5s\n",
      "[CV] END count_vectorizer__max_features=10, naivebayes__alpha=1; total time=   1.4s\n",
      "[CV] END count_vectorizer__max_features=10, naivebayes__alpha=0.001; total time=   1.5s\n",
      "[CV] END count_vectorizer__max_features=20, naivebayes__alpha=1; total time=   1.6s\n",
      "[CV] END count_vectorizer__max_features=20, naivebayes__alpha=0.001; total time=   1.8s\n",
      "[CV] END count_vectorizer__max_features=10, naivebayes__alpha=1; total time=   1.4s\n",
      "[CV] END count_vectorizer__max_features=10, naivebayes__alpha=1e-05; total time=   1.6s\n",
      "[CV] END count_vectorizer__max_features=5, naivebayes__alpha=0.0001; total time=   1.7s\n",
      "[CV] END count_vectorizer__max_features=5, logreg__C=0.01, logreg__penalty=l2; total time=   3.9s\n",
      "[CV] END count_vectorizer__max_features=5, logreg__C=1.0, logreg__penalty=l2; total time=   1.5s\n",
      "[CV] END count_vectorizer__max_features=5, logreg__C=10.0, logreg__penalty=l2; total time=   1.6s\n",
      "[CV] END count_vectorizer__max_features=5, logreg__C=1000.0, logreg__penalty=l2; total time=   1.6s\n",
      "[CV] END count_vectorizer__max_features=10, logreg__C=0.01, logreg__penalty=l1; total time=   1.3s\n",
      "[CV] END count_vectorizer__max_features=10, logreg__C=0.1, logreg__penalty=l2; total time=   1.6s\n",
      "[CV] END count_vectorizer__max_features=10, logreg__C=10.0, logreg__penalty=l1; total time=   1.4s\n",
      "[CV] END count_vectorizer__max_features=10, logreg__C=100.0, logreg__penalty=l2; total time=   1.6s\n",
      "[CV] END count_vectorizer__max_features=20, logreg__C=0.001, logreg__penalty=l1; total time=   1.4s\n",
      "[CV] END count_vectorizer__max_features=20, logreg__C=0.01, logreg__penalty=l2; total time=   1.7s\n",
      "[CV] END count_vectorizer__max_features=20, logreg__C=1.0, logreg__penalty=l2; total time=   1.6s\n",
      "[CV] END count_vectorizer__max_features=20, logreg__C=100.0, logreg__penalty=l1; total time=   1.4s\n",
      "[CV] END count_vectorizer__max_features=20, logreg__C=1000.0, logreg__penalty=l2; total time=   1.0s\n",
      "[CV] END count_vectorizer__max_features=5, logreg__C=10.0, logreg__penalty=l2; total time=   1.4s\n",
      "[CV] END count_vectorizer__max_features=20, logreg__C=0.01, logreg__penalty=l2; total time=   1.5s\n",
      "[CV] END count_vectorizer__max_features=5, logreg__C=0.01, logreg__penalty=l1; total time=   1.2s\n",
      "[CV] END count_vectorizer__max_features=5, knn__n_neighbors=10; total time=   1.5s\n",
      "[CV] END count_vectorizer__max_features=10, knn__n_neighbors=5; total time=   1.9s\n",
      "[CV] END count_vectorizer__max_features=20, knn__n_neighbors=5; total time=   1.8s\n",
      "[CV] END count_vectorizer__max_features=5, knn__n_neighbors=5; total time=   1.5s\n",
      "[CV] END count_vectorizer__max_features=20, knn__n_neighbors=5; total time=   1.7s\n",
      "[CV] END count_vectorizer__max_features=5, knn__n_neighbors=10; total time=   1.7s\n",
      "[CV] END .......count_vectorizer__max_features=5, svc__C=0.1; total time=   1.8s\n",
      "[CV] END .......count_vectorizer__max_features=5, svc__C=100; total time=   1.7s\n",
      "[CV] END ........count_vectorizer__max_features=10, svc__C=1; total time=   1.8s\n",
      "[CV] END .....count_vectorizer__max_features=20, svc__C=0.01; total time=   1.7s\n",
      "[CV] END ......count_vectorizer__max_features=20, svc__C=100; total time=   1.4s\n",
      "[CV] END .....count_vectorizer__max_features=20, svc__C=0.01; total time=   1.6s\n",
      "[CV] END ......count_vectorizer__max_features=20, svc__C=100; total time=   1.7s\n",
      "[CV] END ........count_vectorizer__max_features=10, svc__C=1; total time=   1.5s\n",
      "[CV] END count_vectorizer__max_features=5, rf__n_estimators=100; total time=   2.4s\n",
      "[CV] END count_vectorizer__max_features=10, rf__n_estimators=100; total time=   2.6s\n",
      "[CV] END count_vectorizer__max_features=20, rf__n_estimators=100; total time=   2.8s\n",
      "[CV] END count_vectorizer__max_features=20, rf__n_estimators=1000; total time=   9.3s\n",
      "[CV] END count_vectorizer__max_features=5, rf__n_estimators=1000; total time=  10.5s\n",
      "[CV] END ...naivebayes__alpha=0.1, tfidf__ngram_range=(1, 1); total time=   2.0s\n",
      "[CV] END ..naivebayes__alpha=0.01, tfidf__ngram_range=(1, 1); total time=   2.3s\n",
      "[CV] END ..naivebayes__alpha=0.01, tfidf__ngram_range=(1, 2); total time=   8.9s\n",
      "[CV] END .naivebayes__alpha=1e-05, tfidf__ngram_range=(1, 2); total time=   7.5s\n",
      "[CV] END ..naivebayes__alpha=0.01, tfidf__ngram_range=(1, 2); total time=   8.1s\n",
      "[CV] END naivebayes__alpha=0.0001, tfidf__ngram_range=(1, 1); total time=   2.5s\n",
      "[CV] END .naivebayes__alpha=1e-05, tfidf__ngram_range=(1, 2); total time=   5.9s\n",
      "[CV] END logreg__C=0.001, logreg__penalty=l2, tfidf__ngram_range=(1, 1); total time=   1.9s\n",
      "[CV] END logreg__C=0.01, logreg__penalty=l1, tfidf__ngram_range=(1, 2); total time=   8.1s\n",
      "[CV] END logreg__C=0.1, logreg__penalty=l1, tfidf__ngram_range=(1, 1); total time=   2.1s\n",
      "[CV] END logreg__C=0.1, logreg__penalty=l1, tfidf__ngram_range=(1, 2); total time=   7.8s\n",
      "[CV] END logreg__C=1.0, logreg__penalty=l1, tfidf__ngram_range=(1, 2); total time=   8.9s\n",
      "[CV] END logreg__C=10.0, logreg__penalty=l2, tfidf__ngram_range=(1, 1); total time=   3.4s\n",
      "[CV] END logreg__C=10.0, logreg__penalty=l2, tfidf__ngram_range=(1, 2); total time=  15.7s\n",
      "[CV] END logreg__C=1000.0, logreg__penalty=l2, tfidf__ngram_range=(1, 2); total time=  12.6s\n",
      "[CV] END logreg__C=0.001, logreg__penalty=l1, tfidf__ngram_range=(1, 1); total time=   1.3s\n",
      "[CV] END logreg__C=0.001, logreg__penalty=l2, tfidf__ngram_range=(1, 2); total time=  10.1s\n",
      "[CV] END ......knn__n_neighbors=5, tfidf__ngram_range=(1, 1); total time=   1.9s\n",
      "[CV] END .....knn__n_neighbors=10, tfidf__ngram_range=(1, 1); total time=   2.1s\n",
      "[CV] END .....knn__n_neighbors=10, tfidf__ngram_range=(1, 2); total time=   7.7s\n",
      "[CV] END ......knn__n_neighbors=5, tfidf__ngram_range=(1, 1); total time=   2.2s\n",
      "[CV] END .....knn__n_neighbors=10, tfidf__ngram_range=(1, 1); total time=   2.3s\n",
      "[CV] END .....knn__n_neighbors=10, tfidf__ngram_range=(1, 2); total time=   8.7s\n",
      "[CV] END .............svc__C=0.01, tfidf__ngram_range=(1, 2); total time=   8.0s\n",
      "[CV] END ...............svc__C=10, tfidf__ngram_range=(1, 1); total time=   3.2s\n",
      "[CV] END ..............svc__C=100, tfidf__ngram_range=(1, 1); total time=   6.6s\n",
      "[CV] END .............svc__C=0.01, tfidf__ngram_range=(1, 1); total time=   1.8s\n",
      "[CV] END ................svc__C=1, tfidf__ngram_range=(1, 1); total time=   2.1s\n",
      "[CV] END ................svc__C=1, tfidf__ngram_range=(1, 2); total time=  10.2s\n",
      "[CV] END ..............svc__C=100, tfidf__ngram_range=(1, 2); total time=  27.0s\n",
      "[CV] END ....rf__n_estimators=100, tfidf__ngram_range=(1, 1); total time=   4.5s\n",
      "[CV] END ...rf__n_estimators=1000, tfidf__ngram_range=(1, 1); total time=  25.6s\n",
      "[CV] END .....rf__n_estimators=10, tfidf__ngram_range=(1, 2); total time=   9.7s\n",
      "[CV] END ...rf__n_estimators=1000, tfidf__ngram_range=(1, 2); total time= 1.2min\n"
     ]
    },
    {
     "name": "stderr",
     "output_type": "stream",
     "text": [
      "/Users/anantagarwal/opt/anaconda3/lib/python3.8/site-packages/sklearn/svm/_base.py:1206: ConvergenceWarning: Liblinear failed to converge, increase the number of iterations.\n",
      "  warnings.warn(\n",
      "/Users/anantagarwal/opt/anaconda3/lib/python3.8/site-packages/sklearn/svm/_base.py:1206: ConvergenceWarning: Liblinear failed to converge, increase the number of iterations.\n",
      "  warnings.warn(\n",
      "/Users/anantagarwal/opt/anaconda3/lib/python3.8/site-packages/sklearn/svm/_base.py:1206: ConvergenceWarning: Liblinear failed to converge, increase the number of iterations.\n",
      "  warnings.warn(\n",
      "/Users/anantagarwal/opt/anaconda3/lib/python3.8/site-packages/sklearn/svm/_base.py:1206: ConvergenceWarning: Liblinear failed to converge, increase the number of iterations.\n",
      "  warnings.warn(\n",
      "/Users/anantagarwal/opt/anaconda3/lib/python3.8/site-packages/sklearn/svm/_base.py:1206: ConvergenceWarning: Liblinear failed to converge, increase the number of iterations.\n",
      "  warnings.warn(\n",
      "/Users/anantagarwal/opt/anaconda3/lib/python3.8/site-packages/sklearn/svm/_base.py:1206: ConvergenceWarning: Liblinear failed to converge, increase the number of iterations.\n",
      "  warnings.warn(\n",
      "/Users/anantagarwal/opt/anaconda3/lib/python3.8/site-packages/sklearn/svm/_base.py:1206: ConvergenceWarning: Liblinear failed to converge, increase the number of iterations.\n",
      "  warnings.warn(\n",
      "/Users/anantagarwal/opt/anaconda3/lib/python3.8/site-packages/sklearn/svm/_base.py:1206: ConvergenceWarning: Liblinear failed to converge, increase the number of iterations.\n",
      "  warnings.warn(\n"
     ]
    }
   ],
   "source": [
    "#Save best score\n",
    "result_df.loc[\"TF-IDF\",\"Random Forest\"] = max(rs.best_score_,gs.best_score_)\n",
    "result_df"
   ]
  },
  {
   "cell_type": "markdown",
   "id": "000aaf5b",
   "metadata": {},
   "source": [
    "## Word2Vec (Skip-Gram)"
   ]
  },
  {
   "cell_type": "code",
   "execution_count": 50,
   "id": "41f4c73a",
   "metadata": {},
   "outputs": [],
   "source": [
    "OUTPUT_FOLDER = \"example_data/\""
   ]
  },
  {
   "cell_type": "markdown",
   "id": "938e31fb",
   "metadata": {},
   "source": [
    "### Text Preprocessing"
   ]
  },
  {
   "cell_type": "markdown",
   "id": "fde954d8",
   "metadata": {},
   "source": [
    "The first thing to do for any data science task is to clean the data. For NLP, we apply various processing like converting all the words to lower case, trimming spaces, removing punctuations. This is something we will do over here too.\n",
    "\n",
    "Additionally, we will also remove stop words like 'and', 'or', 'is', 'the', 'a', 'an' and convert words to their root forms like 'running' to 'run'."
   ]
  },
  {
   "cell_type": "code",
   "execution_count": 51,
   "id": "c1debbc1",
   "metadata": {},
   "outputs": [
    {
     "data": {
      "text/plain": [
       "\"arnold schwarzenegger icon action enthusiasts , late 80's , lately films sloppy one-liners getting worse . it's hard seeing arnold mr . freeze batman robin , especially says tons ice jokes , hey got 15 million , what's matter ? arnold signed expensive blockbuster , can't compare likes terminator series , true lies eraser . called dark thriller , devil ( gabriel byrne ) come earth , impregnate woman ( robin tunney ) happens 1000 years , basically destroy world , apparently god chosen man , man jericho cane ( arnold ) . help trusty sidekick ( kevin pollack ) , stop let devil world ! parts actually absurd , fit right dogma . yes , film weak , it's better blockbuster right ( sleepy hollow ) , makes world look like 4 star film . , definitely doesn't like arnold movie . wasn't type film . sure gave chuckles known one-liners , confused character film going . it's understandable , especially ending changed according sources . aside form , walked , like past films . i'm sorry arnold maybe end action days . speaking action , film ? hardly explosions fights . devil places explode , arnold wasn't kicking devil butt . ending changed spiritual , undoubtedly ruined film . hoping cool ending occurred , let . don't know film took long cost . super affects , consider invisible devil , 5 minutes tops , worth overpriced budget . budget gone better script , audiences somewhat entertained instead facing boredom . it's pitiful scripts like bought movie . read things anymore ? sure doesn't like . thankfully gabriel's performance gave light poor film . walks street searching robin tunney , can't help feel looked like devil . guy creepy looking ! it's , you're glad it's end movie . don't bother , you're expecting solid action flick , it's solid action . it's movie suckered seeing , strategic marketing campaign . save money world entertaining experience .\""
      ]
     },
     "execution_count": 51,
     "metadata": {},
     "output_type": "execute_result"
    }
   ],
   "source": [
    "#Removing stop words\n",
    "review_data = pd.Series(data.data).apply(remove_stopwords)\n",
    "review_data.loc[0]"
   ]
  },
  {
   "cell_type": "code",
   "execution_count": 52,
   "id": "2e7719a1",
   "metadata": {
    "scrolled": true
   },
   "outputs": [
    {
     "data": {
      "text/plain": [
       "['arnold',\n",
       " 'schwarzenegger',\n",
       " 'icon',\n",
       " 'action',\n",
       " 'enthusiasts',\n",
       " 'late',\n",
       " 'lately',\n",
       " 'films',\n",
       " 'sloppy',\n",
       " 'one',\n",
       " 'liners',\n",
       " 'getting',\n",
       " 'worse',\n",
       " 'it',\n",
       " 'hard',\n",
       " 'seeing',\n",
       " 'arnold',\n",
       " 'mr',\n",
       " 'freeze',\n",
       " 'batman',\n",
       " 'robin',\n",
       " 'especially',\n",
       " 'says',\n",
       " 'tons',\n",
       " 'ice',\n",
       " 'jokes',\n",
       " 'hey',\n",
       " 'got',\n",
       " 'million',\n",
       " 'what',\n",
       " 'matter',\n",
       " 'arnold',\n",
       " 'signed',\n",
       " 'expensive',\n",
       " 'blockbuster',\n",
       " 'can',\n",
       " 'compare',\n",
       " 'likes',\n",
       " 'terminator',\n",
       " 'series',\n",
       " 'true',\n",
       " 'lies',\n",
       " 'eraser',\n",
       " 'called',\n",
       " 'dark',\n",
       " 'thriller',\n",
       " 'devil',\n",
       " 'gabriel',\n",
       " 'byrne',\n",
       " 'come',\n",
       " 'earth',\n",
       " 'impregnate',\n",
       " 'woman',\n",
       " 'robin',\n",
       " 'tunney',\n",
       " 'happens',\n",
       " 'years',\n",
       " 'basically',\n",
       " 'destroy',\n",
       " 'world',\n",
       " 'apparently',\n",
       " 'god',\n",
       " 'chosen',\n",
       " 'man',\n",
       " 'man',\n",
       " 'jericho',\n",
       " 'cane',\n",
       " 'arnold',\n",
       " 'help',\n",
       " 'trusty',\n",
       " 'sidekick',\n",
       " 'kevin',\n",
       " 'pollack',\n",
       " 'stop',\n",
       " 'let',\n",
       " 'devil',\n",
       " 'world',\n",
       " 'parts',\n",
       " 'actually',\n",
       " 'absurd',\n",
       " 'fit',\n",
       " 'right',\n",
       " 'dogma',\n",
       " 'yes',\n",
       " 'film',\n",
       " 'weak',\n",
       " 'it',\n",
       " 'better',\n",
       " 'blockbuster',\n",
       " 'right',\n",
       " 'sleepy',\n",
       " 'hollow',\n",
       " 'makes',\n",
       " 'world',\n",
       " 'look',\n",
       " 'like',\n",
       " 'star',\n",
       " 'film',\n",
       " 'definitely',\n",
       " 'doesn',\n",
       " 'like',\n",
       " 'arnold',\n",
       " 'movie',\n",
       " 'wasn',\n",
       " 'type',\n",
       " 'film',\n",
       " 'sure',\n",
       " 'gave',\n",
       " 'chuckles',\n",
       " 'known',\n",
       " 'one',\n",
       " 'liners',\n",
       " 'confused',\n",
       " 'character',\n",
       " 'film',\n",
       " 'going',\n",
       " 'it',\n",
       " 'understandable',\n",
       " 'especially',\n",
       " 'ending',\n",
       " 'changed',\n",
       " 'according',\n",
       " 'sources',\n",
       " 'aside',\n",
       " 'form',\n",
       " 'walked',\n",
       " 'like',\n",
       " 'past',\n",
       " 'films',\n",
       " 'sorry',\n",
       " 'arnold',\n",
       " 'maybe',\n",
       " 'end',\n",
       " 'action',\n",
       " 'days',\n",
       " 'speaking',\n",
       " 'action',\n",
       " 'film',\n",
       " 'hardly',\n",
       " 'explosions',\n",
       " 'fights',\n",
       " 'devil',\n",
       " 'places',\n",
       " 'explode',\n",
       " 'arnold',\n",
       " 'wasn',\n",
       " 'kicking',\n",
       " 'devil',\n",
       " 'butt',\n",
       " 'ending',\n",
       " 'changed',\n",
       " 'spiritual',\n",
       " 'undoubtedly',\n",
       " 'ruined',\n",
       " 'film',\n",
       " 'hoping',\n",
       " 'cool',\n",
       " 'ending',\n",
       " 'occurred',\n",
       " 'let',\n",
       " 'don',\n",
       " 'know',\n",
       " 'film',\n",
       " 'took',\n",
       " 'long',\n",
       " 'cost',\n",
       " 'super',\n",
       " 'affects',\n",
       " 'consider',\n",
       " 'invisible',\n",
       " 'devil',\n",
       " 'minutes',\n",
       " 'tops',\n",
       " 'worth',\n",
       " 'overpriced',\n",
       " 'budget',\n",
       " 'budget',\n",
       " 'gone',\n",
       " 'better',\n",
       " 'script',\n",
       " 'audiences',\n",
       " 'somewhat',\n",
       " 'entertained',\n",
       " 'instead',\n",
       " 'facing',\n",
       " 'boredom',\n",
       " 'it',\n",
       " 'pitiful',\n",
       " 'scripts',\n",
       " 'like',\n",
       " 'bought',\n",
       " 'movie',\n",
       " 'read',\n",
       " 'things',\n",
       " 'anymore',\n",
       " 'sure',\n",
       " 'doesn',\n",
       " 'like',\n",
       " 'thankfully',\n",
       " 'gabriel',\n",
       " 'performance',\n",
       " 'gave',\n",
       " 'light',\n",
       " 'poor',\n",
       " 'film',\n",
       " 'walks',\n",
       " 'street',\n",
       " 'searching',\n",
       " 'robin',\n",
       " 'tunney',\n",
       " 'can',\n",
       " 'help',\n",
       " 'feel',\n",
       " 'looked',\n",
       " 'like',\n",
       " 'devil',\n",
       " 'guy',\n",
       " 'creepy',\n",
       " 'looking',\n",
       " 'it',\n",
       " 'you',\n",
       " 're',\n",
       " 'glad',\n",
       " 'it',\n",
       " 'end',\n",
       " 'movie',\n",
       " 'don',\n",
       " 'bother',\n",
       " 'you',\n",
       " 're',\n",
       " 'expecting',\n",
       " 'solid',\n",
       " 'action',\n",
       " 'flick',\n",
       " 'it',\n",
       " 'solid',\n",
       " 'action',\n",
       " 'it',\n",
       " 'movie',\n",
       " 'suckered',\n",
       " 'seeing',\n",
       " 'strategic',\n",
       " 'marketing',\n",
       " 'campaign',\n",
       " 'save',\n",
       " 'money',\n",
       " 'world',\n",
       " 'entertaining',\n",
       " 'experience']"
      ]
     },
     "execution_count": 52,
     "metadata": {},
     "output_type": "execute_result"
    }
   ],
   "source": [
    "#Tokenize\n",
    "review_data_tkn = review_data.apply(simple_preprocess)\n",
    "review_data_tkn.loc[0]"
   ]
  },
  {
   "cell_type": "code",
   "execution_count": 53,
   "id": "d71a09ae",
   "metadata": {},
   "outputs": [],
   "source": [
    "#Stemming\n",
    "porter_stemmer = PorterStemmer()"
   ]
  },
  {
   "cell_type": "code",
   "execution_count": 54,
   "id": "116023b4",
   "metadata": {},
   "outputs": [
    {
     "data": {
      "text/plain": [
       "0    [arnold, schwarzenegg, icon, action, enthusias...\n",
       "1    [good, film, hard, dai, great, film, rare, pro...\n",
       "2    [quaid, star, man, taken, proffes, dragonslay,...\n",
       "3    [paraphras, michel, pfieffer, charact, danger,...\n",
       "4    [kolya, richest, film, ve, seen, time, zdenek,...\n",
       "5    [don, know, peopl, idea, cross, mind, life, on...\n",
       "6    [capsul, trippi, hyperspe, action, machin, hon...\n",
       "7    [gothic, murder, mysteri, yarn, new, conceit, ...\n",
       "8    [look, movi, necessarili, perfect, movi, stron...\n",
       "9    [law, crowd, pleas, romant, movi, state, lead,...\n",
       "dtype: object"
      ]
     },
     "execution_count": 54,
     "metadata": {},
     "output_type": "execute_result"
    }
   ],
   "source": [
    "# Get the stemmed tokens\n",
    "review_data_stemmed = pd.Series([[porter_stemmer.stem(word) for word in tokens] for tokens in review_data_tkn])\n",
    "review_data_stemmed.head(10)"
   ]
  },
  {
   "cell_type": "markdown",
   "id": "c719f829",
   "metadata": {
    "heading_collapsed": true
   },
   "source": [
    "### Getting Word Vectors"
   ]
  },
  {
   "cell_type": "code",
   "execution_count": 55,
   "id": "052300b9",
   "metadata": {
    "hidden": true
   },
   "outputs": [],
   "source": [
    "###Initialize Word2Vec model\n",
    "# Skip-gram model (sg = 1)\n",
    "window = 3\n",
    "min_count = 1\n",
    "workers = 3\n",
    "sg = 1\n",
    "model = Word2Vec(review_data_stemmed, \n",
    "                 min_count = min_count, \n",
    "                 workers = workers, \n",
    "                 window = window, \n",
    "                 sg = sg)"
   ]
  },
  {
   "cell_type": "code",
   "execution_count": 56,
   "id": "54875bc6",
   "metadata": {
    "hidden": true
   },
   "outputs": [
    {
     "name": "stdout",
     "output_type": "stream",
     "text": [
      "Index of the word 'action':\n",
      "33\n",
      "25404\n",
      "Length of the vector generated for a word\n",
      "100\n",
      "Print the length after taking average of all word vectors in a sentence:\n",
      "100\n"
     ]
    }
   ],
   "source": [
    "# Unique ID of the word\n",
    "print(\"Index of the word 'action':\")\n",
    "print(model.wv.key_to_index[\"action\"])\n",
    "\n",
    "# Total number of the words \n",
    "print(len(model.wv))\n",
    "\n",
    "# Print the size of the word2vec vector for one word\n",
    "print(\"Length of the vector generated for a word\")\n",
    "print(len(model.wv['action']))\n",
    "\n",
    "# Get the mean for the vectors for an example review\n",
    "print(\"Print the length after taking average of all word vectors in a sentence:\")\n",
    "print(len(np.mean([model.wv[token] for token in review_data_stemmed[0]], axis=0)))"
   ]
  },
  {
   "cell_type": "code",
   "execution_count": 57,
   "id": "007629fc",
   "metadata": {
    "hidden": true
   },
   "outputs": [],
   "source": [
    "# Get the vectors for stemmed data\n",
    "features_word2vec = []\n",
    "for index, row in review_data_stemmed.items():\n",
    "    model_vector = (np.mean([model.wv[token] for token in row], axis=0)).tolist()\n",
    "    # Check if the line exists else it is vector of zeros\n",
    "    if type(model_vector) is list:  \n",
    "        features_word2vec.append(model_vector)\n",
    "    else:\n",
    "        features_word2vec.append(np.array([0 for i in range(model.vector_size)]))"
   ]
  },
  {
   "cell_type": "code",
   "execution_count": 58,
   "id": "47f1c117",
   "metadata": {
    "hidden": true
   },
   "outputs": [
    {
     "data": {
      "text/plain": [
       "(2000, 100)"
      ]
     },
     "execution_count": 58,
     "metadata": {},
     "output_type": "execute_result"
    }
   ],
   "source": [
    "#Shape of the input matrix\n",
    "np.array(features_word2vec).shape"
   ]
  },
  {
   "cell_type": "code",
   "execution_count": 59,
   "id": "49c6e123",
   "metadata": {
    "hidden": true
   },
   "outputs": [],
   "source": [
    "#Scaling for Naive Bayes\n",
    "scaler = MinMaxScaler()\n",
    "features_word2vec_scaled = scaler.fit_transform(features_word2vec)"
   ]
  },
  {
   "cell_type": "markdown",
   "id": "2ca3b2c3",
   "metadata": {
    "heading_collapsed": true
   },
   "source": [
    "### Naive Bayes"
   ]
  },
  {
   "cell_type": "code",
   "execution_count": 60,
   "id": "d26f40ae",
   "metadata": {
    "hidden": true
   },
   "outputs": [],
   "source": [
    "params = {\"naivebayes__alpha\": [1, 0.1, 0.01, 0.001, 0.0001, 0.00001]}\n",
    "\n",
    "clf = Pipeline([(\"naivebayes\", MultinomialNB())])"
   ]
  },
  {
   "cell_type": "code",
   "execution_count": 61,
   "id": "4a90cbeb",
   "metadata": {
    "hidden": true
   },
   "outputs": [
    {
     "name": "stdout",
     "output_type": "stream",
     "text": [
      "Fitting 5 folds for each of 6 candidates, totalling 30 fits\n",
      "Pipeline(steps=[('naivebayes', MultinomialNB(alpha=1))])\n",
      "0.6679999999999999\n"
     ]
    }
   ],
   "source": [
    "gs = GridSearchCV(clf, params, verbose=2, n_jobs=-1)\n",
    "gs.fit(features_word2vec_scaled, data.target)\n",
    "print(gs.best_estimator_)\n",
    "print(gs.best_score_)"
   ]
  },
  {
   "cell_type": "code",
   "execution_count": 62,
   "id": "9d824b4f",
   "metadata": {
    "hidden": true
   },
   "outputs": [
    {
     "name": "stdout",
     "output_type": "stream",
     "text": [
      "Fitting 5 folds for each of 6 candidates, totalling 30 fits\n",
      "Pipeline(steps=[('naivebayes', MultinomialNB(alpha=1))])\n",
      "0.6679999999999999\n"
     ]
    }
   ],
   "source": [
    "rs = RandomizedSearchCV(clf, params, verbose=2, n_jobs=-1)\n",
    "rs.fit(features_word2vec_scaled, data.target)\n",
    "print(rs.best_estimator_)\n",
    "print(rs.best_score_)"
   ]
  },
  {
   "cell_type": "code",
   "execution_count": 63,
   "id": "4b224e53",
   "metadata": {
    "hidden": true
   },
   "outputs": [
    {
     "data": {
      "text/html": [
       "<div>\n",
       "<style scoped>\n",
       "    .dataframe tbody tr th:only-of-type {\n",
       "        vertical-align: middle;\n",
       "    }\n",
       "\n",
       "    .dataframe tbody tr th {\n",
       "        vertical-align: top;\n",
       "    }\n",
       "\n",
       "    .dataframe thead th {\n",
       "        text-align: right;\n",
       "    }\n",
       "</style>\n",
       "<table border=\"1\" class=\"dataframe\">\n",
       "  <thead>\n",
       "    <tr style=\"text-align: right;\">\n",
       "      <th></th>\n",
       "      <th>Logistic Regression</th>\n",
       "      <th>Naive Bayes</th>\n",
       "      <th>K-Nearest Neighbours</th>\n",
       "      <th>Support Vector Machine</th>\n",
       "      <th>Random Forest</th>\n",
       "    </tr>\n",
       "  </thead>\n",
       "  <tbody>\n",
       "    <tr>\n",
       "      <th>BoW</th>\n",
       "      <td>0.658</td>\n",
       "      <td>0.637</td>\n",
       "      <td>0.5725</td>\n",
       "      <td>0.6545</td>\n",
       "      <td>0.631</td>\n",
       "    </tr>\n",
       "    <tr>\n",
       "      <th>TF-IDF</th>\n",
       "      <td>0.8795</td>\n",
       "      <td>0.8485</td>\n",
       "      <td>0.771</td>\n",
       "      <td>0.877</td>\n",
       "      <td>0.824</td>\n",
       "    </tr>\n",
       "    <tr>\n",
       "      <th>Word2Vec(CBoW)</th>\n",
       "      <td>NaN</td>\n",
       "      <td>NaN</td>\n",
       "      <td>NaN</td>\n",
       "      <td>NaN</td>\n",
       "      <td>NaN</td>\n",
       "    </tr>\n",
       "    <tr>\n",
       "      <th>Word2Vec(Skip-Gram)</th>\n",
       "      <td>NaN</td>\n",
       "      <td>0.668</td>\n",
       "      <td>NaN</td>\n",
       "      <td>NaN</td>\n",
       "      <td>NaN</td>\n",
       "    </tr>\n",
       "    <tr>\n",
       "      <th>ELMo</th>\n",
       "      <td>NaN</td>\n",
       "      <td>NaN</td>\n",
       "      <td>NaN</td>\n",
       "      <td>NaN</td>\n",
       "      <td>NaN</td>\n",
       "    </tr>\n",
       "    <tr>\n",
       "      <th>USE</th>\n",
       "      <td>NaN</td>\n",
       "      <td>NaN</td>\n",
       "      <td>NaN</td>\n",
       "      <td>NaN</td>\n",
       "      <td>NaN</td>\n",
       "    </tr>\n",
       "  </tbody>\n",
       "</table>\n",
       "</div>"
      ],
      "text/plain": [
       "                    Logistic Regression Naive Bayes K-Nearest Neighbours  \\\n",
       "BoW                               0.658       0.637               0.5725   \n",
       "TF-IDF                           0.8795      0.8485                0.771   \n",
       "Word2Vec(CBoW)                      NaN         NaN                  NaN   \n",
       "Word2Vec(Skip-Gram)                 NaN       0.668                  NaN   \n",
       "ELMo                                NaN         NaN                  NaN   \n",
       "USE                                 NaN         NaN                  NaN   \n",
       "\n",
       "                    Support Vector Machine Random Forest  \n",
       "BoW                                 0.6545         0.631  \n",
       "TF-IDF                               0.877         0.824  \n",
       "Word2Vec(CBoW)                         NaN           NaN  \n",
       "Word2Vec(Skip-Gram)                    NaN           NaN  \n",
       "ELMo                                   NaN           NaN  \n",
       "USE                                    NaN           NaN  "
      ]
     },
     "execution_count": 63,
     "metadata": {},
     "output_type": "execute_result"
    }
   ],
   "source": [
    "#Save best score\n",
    "result_df.loc[\"Word2Vec(Skip-Gram)\",\"Naive Bayes\"] = max(rs.best_score_,gs.best_score_)\n",
    "result_df"
   ]
  },
  {
   "cell_type": "markdown",
   "id": "09dbc2a7",
   "metadata": {
    "heading_collapsed": true
   },
   "source": [
    "### Logistic Regression"
   ]
  },
  {
   "cell_type": "code",
   "execution_count": 64,
   "id": "976eda29",
   "metadata": {
    "hidden": true
   },
   "outputs": [],
   "source": [
    "params = {\"logreg__C\": np.logspace(-3,3,7),\n",
    "          \"logreg__penalty\":[\"l1\",\"l2\"]}\n",
    "\n",
    "clf = Pipeline([(\"logreg\", LogisticRegression())])"
   ]
  },
  {
   "cell_type": "code",
   "execution_count": 65,
   "id": "deff7d01",
   "metadata": {
    "hidden": true
   },
   "outputs": [
    {
     "name": "stdout",
     "output_type": "stream",
     "text": [
      "Fitting 5 folds for each of 14 candidates, totalling 70 fits\n",
      "Pipeline(steps=[('logreg', LogisticRegression(C=1000.0))])\n",
      "0.758\n"
     ]
    }
   ],
   "source": [
    "gs = GridSearchCV(clf, params, verbose=2, n_jobs=-1)\n",
    "gs.fit(features_word2vec, data.target)\n",
    "print(gs.best_estimator_)\n",
    "print(gs.best_score_)"
   ]
  },
  {
   "cell_type": "code",
   "execution_count": 66,
   "id": "8a01c0ea",
   "metadata": {
    "hidden": true
   },
   "outputs": [
    {
     "name": "stdout",
     "output_type": "stream",
     "text": [
      "Fitting 5 folds for each of 10 candidates, totalling 50 fits\n",
      "Pipeline(steps=[('logreg', LogisticRegression(C=1000.0))])\n",
      "0.758\n"
     ]
    }
   ],
   "source": [
    "rs = RandomizedSearchCV(clf, params, verbose=2, n_jobs=-1)\n",
    "rs.fit(features_word2vec, data.target)\n",
    "print(rs.best_estimator_)\n",
    "print(rs.best_score_)"
   ]
  },
  {
   "cell_type": "code",
   "execution_count": 67,
   "id": "41c045d7",
   "metadata": {
    "hidden": true
   },
   "outputs": [
    {
     "data": {
      "text/html": [
       "<div>\n",
       "<style scoped>\n",
       "    .dataframe tbody tr th:only-of-type {\n",
       "        vertical-align: middle;\n",
       "    }\n",
       "\n",
       "    .dataframe tbody tr th {\n",
       "        vertical-align: top;\n",
       "    }\n",
       "\n",
       "    .dataframe thead th {\n",
       "        text-align: right;\n",
       "    }\n",
       "</style>\n",
       "<table border=\"1\" class=\"dataframe\">\n",
       "  <thead>\n",
       "    <tr style=\"text-align: right;\">\n",
       "      <th></th>\n",
       "      <th>Logistic Regression</th>\n",
       "      <th>Naive Bayes</th>\n",
       "      <th>K-Nearest Neighbours</th>\n",
       "      <th>Support Vector Machine</th>\n",
       "      <th>Random Forest</th>\n",
       "    </tr>\n",
       "  </thead>\n",
       "  <tbody>\n",
       "    <tr>\n",
       "      <th>BoW</th>\n",
       "      <td>0.658</td>\n",
       "      <td>0.637</td>\n",
       "      <td>0.5725</td>\n",
       "      <td>0.6545</td>\n",
       "      <td>0.631</td>\n",
       "    </tr>\n",
       "    <tr>\n",
       "      <th>TF-IDF</th>\n",
       "      <td>0.8795</td>\n",
       "      <td>0.8485</td>\n",
       "      <td>0.771</td>\n",
       "      <td>0.877</td>\n",
       "      <td>0.824</td>\n",
       "    </tr>\n",
       "    <tr>\n",
       "      <th>Word2Vec(CBoW)</th>\n",
       "      <td>NaN</td>\n",
       "      <td>NaN</td>\n",
       "      <td>NaN</td>\n",
       "      <td>NaN</td>\n",
       "      <td>NaN</td>\n",
       "    </tr>\n",
       "    <tr>\n",
       "      <th>Word2Vec(Skip-Gram)</th>\n",
       "      <td>0.758</td>\n",
       "      <td>0.668</td>\n",
       "      <td>NaN</td>\n",
       "      <td>NaN</td>\n",
       "      <td>NaN</td>\n",
       "    </tr>\n",
       "    <tr>\n",
       "      <th>ELMo</th>\n",
       "      <td>NaN</td>\n",
       "      <td>NaN</td>\n",
       "      <td>NaN</td>\n",
       "      <td>NaN</td>\n",
       "      <td>NaN</td>\n",
       "    </tr>\n",
       "    <tr>\n",
       "      <th>USE</th>\n",
       "      <td>NaN</td>\n",
       "      <td>NaN</td>\n",
       "      <td>NaN</td>\n",
       "      <td>NaN</td>\n",
       "      <td>NaN</td>\n",
       "    </tr>\n",
       "  </tbody>\n",
       "</table>\n",
       "</div>"
      ],
      "text/plain": [
       "                    Logistic Regression Naive Bayes K-Nearest Neighbours  \\\n",
       "BoW                               0.658       0.637               0.5725   \n",
       "TF-IDF                           0.8795      0.8485                0.771   \n",
       "Word2Vec(CBoW)                      NaN         NaN                  NaN   \n",
       "Word2Vec(Skip-Gram)               0.758       0.668                  NaN   \n",
       "ELMo                                NaN         NaN                  NaN   \n",
       "USE                                 NaN         NaN                  NaN   \n",
       "\n",
       "                    Support Vector Machine Random Forest  \n",
       "BoW                                 0.6545         0.631  \n",
       "TF-IDF                               0.877         0.824  \n",
       "Word2Vec(CBoW)                         NaN           NaN  \n",
       "Word2Vec(Skip-Gram)                    NaN           NaN  \n",
       "ELMo                                   NaN           NaN  \n",
       "USE                                    NaN           NaN  "
      ]
     },
     "execution_count": 67,
     "metadata": {},
     "output_type": "execute_result"
    }
   ],
   "source": [
    "#Save best score\n",
    "result_df.loc[\"Word2Vec(Skip-Gram)\",\"Logistic Regression\"] = max(rs.best_score_,gs.best_score_)\n",
    "result_df"
   ]
  },
  {
   "cell_type": "markdown",
   "id": "a872cfc1",
   "metadata": {
    "heading_collapsed": true
   },
   "source": [
    "### K-Nearest Neighbours"
   ]
  },
  {
   "cell_type": "code",
   "execution_count": 68,
   "id": "dc32860c",
   "metadata": {
    "hidden": true
   },
   "outputs": [],
   "source": [
    "params = {\"knn__n_neighbors\": [1,5,10,20]}\n",
    "\n",
    "clf = Pipeline([(\"knn\", KNeighborsClassifier())])"
   ]
  },
  {
   "cell_type": "code",
   "execution_count": 69,
   "id": "a3f7deb4",
   "metadata": {
    "hidden": true
   },
   "outputs": [
    {
     "name": "stdout",
     "output_type": "stream",
     "text": [
      "Fitting 5 folds for each of 4 candidates, totalling 20 fits\n",
      "Pipeline(steps=[('knn', KNeighborsClassifier(n_neighbors=20))])\n",
      "0.6925\n"
     ]
    }
   ],
   "source": [
    "gs = GridSearchCV(clf, params, verbose=2, n_jobs=-1)\n",
    "gs.fit(features_word2vec, data.target)\n",
    "print(gs.best_estimator_)\n",
    "print(gs.best_score_)"
   ]
  },
  {
   "cell_type": "code",
   "execution_count": 70,
   "id": "ea050271",
   "metadata": {
    "hidden": true
   },
   "outputs": [
    {
     "name": "stdout",
     "output_type": "stream",
     "text": [
      "Fitting 5 folds for each of 4 candidates, totalling 20 fits\n",
      "Pipeline(steps=[('knn', KNeighborsClassifier(n_neighbors=20))])\n",
      "0.6925\n"
     ]
    }
   ],
   "source": [
    "rs = RandomizedSearchCV(clf, params, verbose=2, n_jobs=-1)\n",
    "rs.fit(features_word2vec, data.target)\n",
    "print(rs.best_estimator_)\n",
    "print(rs.best_score_)"
   ]
  },
  {
   "cell_type": "code",
   "execution_count": 71,
   "id": "94d7fbc5",
   "metadata": {
    "hidden": true
   },
   "outputs": [
    {
     "data": {
      "text/html": [
       "<div>\n",
       "<style scoped>\n",
       "    .dataframe tbody tr th:only-of-type {\n",
       "        vertical-align: middle;\n",
       "    }\n",
       "\n",
       "    .dataframe tbody tr th {\n",
       "        vertical-align: top;\n",
       "    }\n",
       "\n",
       "    .dataframe thead th {\n",
       "        text-align: right;\n",
       "    }\n",
       "</style>\n",
       "<table border=\"1\" class=\"dataframe\">\n",
       "  <thead>\n",
       "    <tr style=\"text-align: right;\">\n",
       "      <th></th>\n",
       "      <th>Logistic Regression</th>\n",
       "      <th>Naive Bayes</th>\n",
       "      <th>K-Nearest Neighbours</th>\n",
       "      <th>Support Vector Machine</th>\n",
       "      <th>Random Forest</th>\n",
       "    </tr>\n",
       "  </thead>\n",
       "  <tbody>\n",
       "    <tr>\n",
       "      <th>BoW</th>\n",
       "      <td>0.658</td>\n",
       "      <td>0.637</td>\n",
       "      <td>0.5725</td>\n",
       "      <td>0.6545</td>\n",
       "      <td>0.631</td>\n",
       "    </tr>\n",
       "    <tr>\n",
       "      <th>TF-IDF</th>\n",
       "      <td>0.8795</td>\n",
       "      <td>0.8485</td>\n",
       "      <td>0.771</td>\n",
       "      <td>0.877</td>\n",
       "      <td>0.824</td>\n",
       "    </tr>\n",
       "    <tr>\n",
       "      <th>Word2Vec(CBoW)</th>\n",
       "      <td>NaN</td>\n",
       "      <td>NaN</td>\n",
       "      <td>NaN</td>\n",
       "      <td>NaN</td>\n",
       "      <td>NaN</td>\n",
       "    </tr>\n",
       "    <tr>\n",
       "      <th>Word2Vec(Skip-Gram)</th>\n",
       "      <td>0.758</td>\n",
       "      <td>0.668</td>\n",
       "      <td>0.6925</td>\n",
       "      <td>NaN</td>\n",
       "      <td>NaN</td>\n",
       "    </tr>\n",
       "    <tr>\n",
       "      <th>ELMo</th>\n",
       "      <td>NaN</td>\n",
       "      <td>NaN</td>\n",
       "      <td>NaN</td>\n",
       "      <td>NaN</td>\n",
       "      <td>NaN</td>\n",
       "    </tr>\n",
       "    <tr>\n",
       "      <th>USE</th>\n",
       "      <td>NaN</td>\n",
       "      <td>NaN</td>\n",
       "      <td>NaN</td>\n",
       "      <td>NaN</td>\n",
       "      <td>NaN</td>\n",
       "    </tr>\n",
       "  </tbody>\n",
       "</table>\n",
       "</div>"
      ],
      "text/plain": [
       "                    Logistic Regression Naive Bayes K-Nearest Neighbours  \\\n",
       "BoW                               0.658       0.637               0.5725   \n",
       "TF-IDF                           0.8795      0.8485                0.771   \n",
       "Word2Vec(CBoW)                      NaN         NaN                  NaN   \n",
       "Word2Vec(Skip-Gram)               0.758       0.668               0.6925   \n",
       "ELMo                                NaN         NaN                  NaN   \n",
       "USE                                 NaN         NaN                  NaN   \n",
       "\n",
       "                    Support Vector Machine Random Forest  \n",
       "BoW                                 0.6545         0.631  \n",
       "TF-IDF                               0.877         0.824  \n",
       "Word2Vec(CBoW)                         NaN           NaN  \n",
       "Word2Vec(Skip-Gram)                    NaN           NaN  \n",
       "ELMo                                   NaN           NaN  \n",
       "USE                                    NaN           NaN  "
      ]
     },
     "execution_count": 71,
     "metadata": {},
     "output_type": "execute_result"
    }
   ],
   "source": [
    "#Save best score\n",
    "result_df.loc[\"Word2Vec(Skip-Gram)\",\"K-Nearest Neighbours\"] = max(rs.best_score_,gs.best_score_)\n",
    "result_df"
   ]
  },
  {
   "cell_type": "markdown",
   "id": "df3220ab",
   "metadata": {
    "heading_collapsed": true
   },
   "source": [
    "### SVM"
   ]
  },
  {
   "cell_type": "code",
   "execution_count": 72,
   "id": "985bc0a4",
   "metadata": {
    "hidden": true
   },
   "outputs": [],
   "source": [
    "params = {\"svc__C\": [.01, .1, 1, 10, 100]}\n",
    "\n",
    "clf = Pipeline([(\"svc\", LinearSVC())])"
   ]
  },
  {
   "cell_type": "code",
   "execution_count": 73,
   "id": "3da28c09",
   "metadata": {
    "hidden": true
   },
   "outputs": [
    {
     "name": "stdout",
     "output_type": "stream",
     "text": [
      "Fitting 5 folds for each of 5 candidates, totalling 25 fits\n",
      "Pipeline(steps=[('svc', LinearSVC(C=100))])\n",
      "0.7585\n"
     ]
    }
   ],
   "source": [
    "gs = GridSearchCV(clf, params, verbose=2, n_jobs=-1)\n",
    "gs.fit(features_word2vec, data.target)\n",
    "print(gs.best_estimator_)\n",
    "print(gs.best_score_)"
   ]
  },
  {
   "cell_type": "code",
   "execution_count": 74,
   "id": "d9a2515e",
   "metadata": {
    "hidden": true
   },
   "outputs": [
    {
     "name": "stdout",
     "output_type": "stream",
     "text": [
      "Fitting 5 folds for each of 5 candidates, totalling 25 fits\n",
      "Pipeline(steps=[('svc', LinearSVC(C=10))])\n",
      "0.754\n"
     ]
    }
   ],
   "source": [
    "rs = RandomizedSearchCV(clf, params, verbose=2, n_jobs=-1)\n",
    "rs.fit(features_word2vec, data.target)\n",
    "print(rs.best_estimator_)\n",
    "print(rs.best_score_)"
   ]
  },
  {
   "cell_type": "code",
   "execution_count": 75,
   "id": "f518d76b",
   "metadata": {
    "hidden": true
   },
   "outputs": [
    {
     "data": {
      "text/html": [
       "<div>\n",
       "<style scoped>\n",
       "    .dataframe tbody tr th:only-of-type {\n",
       "        vertical-align: middle;\n",
       "    }\n",
       "\n",
       "    .dataframe tbody tr th {\n",
       "        vertical-align: top;\n",
       "    }\n",
       "\n",
       "    .dataframe thead th {\n",
       "        text-align: right;\n",
       "    }\n",
       "</style>\n",
       "<table border=\"1\" class=\"dataframe\">\n",
       "  <thead>\n",
       "    <tr style=\"text-align: right;\">\n",
       "      <th></th>\n",
       "      <th>Logistic Regression</th>\n",
       "      <th>Naive Bayes</th>\n",
       "      <th>K-Nearest Neighbours</th>\n",
       "      <th>Support Vector Machine</th>\n",
       "      <th>Random Forest</th>\n",
       "    </tr>\n",
       "  </thead>\n",
       "  <tbody>\n",
       "    <tr>\n",
       "      <th>BoW</th>\n",
       "      <td>0.658</td>\n",
       "      <td>0.637</td>\n",
       "      <td>0.5725</td>\n",
       "      <td>0.6545</td>\n",
       "      <td>0.631</td>\n",
       "    </tr>\n",
       "    <tr>\n",
       "      <th>TF-IDF</th>\n",
       "      <td>0.8795</td>\n",
       "      <td>0.8485</td>\n",
       "      <td>0.771</td>\n",
       "      <td>0.877</td>\n",
       "      <td>0.824</td>\n",
       "    </tr>\n",
       "    <tr>\n",
       "      <th>Word2Vec(CBoW)</th>\n",
       "      <td>NaN</td>\n",
       "      <td>NaN</td>\n",
       "      <td>NaN</td>\n",
       "      <td>NaN</td>\n",
       "      <td>NaN</td>\n",
       "    </tr>\n",
       "    <tr>\n",
       "      <th>Word2Vec(Skip-Gram)</th>\n",
       "      <td>0.758</td>\n",
       "      <td>0.668</td>\n",
       "      <td>0.6925</td>\n",
       "      <td>0.7585</td>\n",
       "      <td>NaN</td>\n",
       "    </tr>\n",
       "    <tr>\n",
       "      <th>ELMo</th>\n",
       "      <td>NaN</td>\n",
       "      <td>NaN</td>\n",
       "      <td>NaN</td>\n",
       "      <td>NaN</td>\n",
       "      <td>NaN</td>\n",
       "    </tr>\n",
       "    <tr>\n",
       "      <th>USE</th>\n",
       "      <td>NaN</td>\n",
       "      <td>NaN</td>\n",
       "      <td>NaN</td>\n",
       "      <td>NaN</td>\n",
       "      <td>NaN</td>\n",
       "    </tr>\n",
       "  </tbody>\n",
       "</table>\n",
       "</div>"
      ],
      "text/plain": [
       "                    Logistic Regression Naive Bayes K-Nearest Neighbours  \\\n",
       "BoW                               0.658       0.637               0.5725   \n",
       "TF-IDF                           0.8795      0.8485                0.771   \n",
       "Word2Vec(CBoW)                      NaN         NaN                  NaN   \n",
       "Word2Vec(Skip-Gram)               0.758       0.668               0.6925   \n",
       "ELMo                                NaN         NaN                  NaN   \n",
       "USE                                 NaN         NaN                  NaN   \n",
       "\n",
       "                    Support Vector Machine Random Forest  \n",
       "BoW                                 0.6545         0.631  \n",
       "TF-IDF                               0.877         0.824  \n",
       "Word2Vec(CBoW)                         NaN           NaN  \n",
       "Word2Vec(Skip-Gram)                 0.7585           NaN  \n",
       "ELMo                                   NaN           NaN  \n",
       "USE                                    NaN           NaN  "
      ]
     },
     "execution_count": 75,
     "metadata": {},
     "output_type": "execute_result"
    }
   ],
   "source": [
    "#Save best score\n",
    "result_df.loc[\"Word2Vec(Skip-Gram)\",\"Support Vector Machine\"] = max(rs.best_score_,gs.best_score_)\n",
    "result_df"
   ]
  },
  {
   "cell_type": "markdown",
   "id": "26d2543f",
   "metadata": {
    "heading_collapsed": true
   },
   "source": [
    "### Random Forest"
   ]
  },
  {
   "cell_type": "code",
   "execution_count": 76,
   "id": "68a135dd",
   "metadata": {
    "hidden": true
   },
   "outputs": [],
   "source": [
    "params = {\"rf__n_estimators\": [10,100,1000]}\n",
    "\n",
    "clf = Pipeline([(\"rf\", RandomForestClassifier())])"
   ]
  },
  {
   "cell_type": "code",
   "execution_count": 77,
   "id": "bfeadb86",
   "metadata": {
    "hidden": true
   },
   "outputs": [
    {
     "name": "stdout",
     "output_type": "stream",
     "text": [
      "Fitting 5 folds for each of 3 candidates, totalling 15 fits\n",
      "Pipeline(steps=[('rf', RandomForestClassifier())])\n",
      "0.7225\n"
     ]
    }
   ],
   "source": [
    "gs = GridSearchCV(clf, params, verbose=2, n_jobs=-1)\n",
    "gs.fit(features_word2vec, data.target)\n",
    "print(gs.best_estimator_)\n",
    "print(gs.best_score_)"
   ]
  },
  {
   "cell_type": "code",
   "execution_count": 78,
   "id": "210ad503",
   "metadata": {
    "hidden": true
   },
   "outputs": [
    {
     "name": "stdout",
     "output_type": "stream",
     "text": [
      "Fitting 5 folds for each of 3 candidates, totalling 15 fits\n",
      "Pipeline(steps=[('rf', RandomForestClassifier(n_estimators=1000))])\n",
      "0.7185\n"
     ]
    }
   ],
   "source": [
    "rs = RandomizedSearchCV(clf, params, verbose=2, n_jobs=-1)\n",
    "rs.fit(features_word2vec, data.target)\n",
    "print(rs.best_estimator_)\n",
    "print(rs.best_score_)"
   ]
  },
  {
   "cell_type": "code",
   "execution_count": 79,
   "id": "0216a7f8",
   "metadata": {
    "hidden": true,
    "scrolled": true
   },
   "outputs": [
    {
     "data": {
      "text/html": [
       "<div>\n",
       "<style scoped>\n",
       "    .dataframe tbody tr th:only-of-type {\n",
       "        vertical-align: middle;\n",
       "    }\n",
       "\n",
       "    .dataframe tbody tr th {\n",
       "        vertical-align: top;\n",
       "    }\n",
       "\n",
       "    .dataframe thead th {\n",
       "        text-align: right;\n",
       "    }\n",
       "</style>\n",
       "<table border=\"1\" class=\"dataframe\">\n",
       "  <thead>\n",
       "    <tr style=\"text-align: right;\">\n",
       "      <th></th>\n",
       "      <th>Logistic Regression</th>\n",
       "      <th>Naive Bayes</th>\n",
       "      <th>K-Nearest Neighbours</th>\n",
       "      <th>Support Vector Machine</th>\n",
       "      <th>Random Forest</th>\n",
       "    </tr>\n",
       "  </thead>\n",
       "  <tbody>\n",
       "    <tr>\n",
       "      <th>BoW</th>\n",
       "      <td>0.658</td>\n",
       "      <td>0.637</td>\n",
       "      <td>0.5725</td>\n",
       "      <td>0.6545</td>\n",
       "      <td>0.631</td>\n",
       "    </tr>\n",
       "    <tr>\n",
       "      <th>TF-IDF</th>\n",
       "      <td>0.8795</td>\n",
       "      <td>0.8485</td>\n",
       "      <td>0.771</td>\n",
       "      <td>0.877</td>\n",
       "      <td>0.824</td>\n",
       "    </tr>\n",
       "    <tr>\n",
       "      <th>Word2Vec(CBoW)</th>\n",
       "      <td>NaN</td>\n",
       "      <td>NaN</td>\n",
       "      <td>NaN</td>\n",
       "      <td>NaN</td>\n",
       "      <td>NaN</td>\n",
       "    </tr>\n",
       "    <tr>\n",
       "      <th>Word2Vec(Skip-Gram)</th>\n",
       "      <td>0.758</td>\n",
       "      <td>0.668</td>\n",
       "      <td>0.6925</td>\n",
       "      <td>0.7585</td>\n",
       "      <td>0.7225</td>\n",
       "    </tr>\n",
       "    <tr>\n",
       "      <th>ELMo</th>\n",
       "      <td>NaN</td>\n",
       "      <td>NaN</td>\n",
       "      <td>NaN</td>\n",
       "      <td>NaN</td>\n",
       "      <td>NaN</td>\n",
       "    </tr>\n",
       "    <tr>\n",
       "      <th>USE</th>\n",
       "      <td>NaN</td>\n",
       "      <td>NaN</td>\n",
       "      <td>NaN</td>\n",
       "      <td>NaN</td>\n",
       "      <td>NaN</td>\n",
       "    </tr>\n",
       "  </tbody>\n",
       "</table>\n",
       "</div>"
      ],
      "text/plain": [
       "                    Logistic Regression Naive Bayes K-Nearest Neighbours  \\\n",
       "BoW                               0.658       0.637               0.5725   \n",
       "TF-IDF                           0.8795      0.8485                0.771   \n",
       "Word2Vec(CBoW)                      NaN         NaN                  NaN   \n",
       "Word2Vec(Skip-Gram)               0.758       0.668               0.6925   \n",
       "ELMo                                NaN         NaN                  NaN   \n",
       "USE                                 NaN         NaN                  NaN   \n",
       "\n",
       "                    Support Vector Machine Random Forest  \n",
       "BoW                                 0.6545         0.631  \n",
       "TF-IDF                               0.877         0.824  \n",
       "Word2Vec(CBoW)                         NaN           NaN  \n",
       "Word2Vec(Skip-Gram)                 0.7585        0.7225  \n",
       "ELMo                                   NaN           NaN  \n",
       "USE                                    NaN           NaN  "
      ]
     },
     "execution_count": 79,
     "metadata": {},
     "output_type": "execute_result"
    }
   ],
   "source": [
    "#Save best score\n",
    "result_df.loc[\"Word2Vec(Skip-Gram)\",\"Random Forest\"] = max(rs.best_score_,gs.best_score_)\n",
    "result_df"
   ]
  },
  {
   "cell_type": "markdown",
   "id": "f3e53f88",
   "metadata": {
    "heading_collapsed": true
   },
   "source": [
    "## Word2Vec (CBoW)"
   ]
  },
  {
   "cell_type": "code",
   "execution_count": 80,
   "id": "e3ede419",
   "metadata": {
    "hidden": true
   },
   "outputs": [],
   "source": [
    "OUTPUT_FOLDER = \"example_data/\""
   ]
  },
  {
   "cell_type": "markdown",
   "id": "92bb7a27",
   "metadata": {
    "heading_collapsed": true,
    "hidden": true
   },
   "source": [
    "### Text Preprocessing"
   ]
  },
  {
   "cell_type": "markdown",
   "id": "f5704308",
   "metadata": {
    "hidden": true
   },
   "source": [
    "The first thing to do for any data science task is to clean the data. For NLP, we apply various processing like converting all the words to lower case, trimming spaces, removing punctuations. This is something we will do over here too.\n",
    "\n",
    "Additionally, we will also remove stop words like 'and', 'or', 'is', 'the', 'a', 'an' and convert words to their root forms like 'running' to 'run'."
   ]
  },
  {
   "cell_type": "code",
   "execution_count": 81,
   "id": "25bbc9ac",
   "metadata": {
    "hidden": true
   },
   "outputs": [
    {
     "data": {
      "text/plain": [
       "\"arnold schwarzenegger icon action enthusiasts , late 80's , lately films sloppy one-liners getting worse . it's hard seeing arnold mr . freeze batman robin , especially says tons ice jokes , hey got 15 million , what's matter ? arnold signed expensive blockbuster , can't compare likes terminator series , true lies eraser . called dark thriller , devil ( gabriel byrne ) come earth , impregnate woman ( robin tunney ) happens 1000 years , basically destroy world , apparently god chosen man , man jericho cane ( arnold ) . help trusty sidekick ( kevin pollack ) , stop let devil world ! parts actually absurd , fit right dogma . yes , film weak , it's better blockbuster right ( sleepy hollow ) , makes world look like 4 star film . , definitely doesn't like arnold movie . wasn't type film . sure gave chuckles known one-liners , confused character film going . it's understandable , especially ending changed according sources . aside form , walked , like past films . i'm sorry arnold maybe end action days . speaking action , film ? hardly explosions fights . devil places explode , arnold wasn't kicking devil butt . ending changed spiritual , undoubtedly ruined film . hoping cool ending occurred , let . don't know film took long cost . super affects , consider invisible devil , 5 minutes tops , worth overpriced budget . budget gone better script , audiences somewhat entertained instead facing boredom . it's pitiful scripts like bought movie . read things anymore ? sure doesn't like . thankfully gabriel's performance gave light poor film . walks street searching robin tunney , can't help feel looked like devil . guy creepy looking ! it's , you're glad it's end movie . don't bother , you're expecting solid action flick , it's solid action . it's movie suckered seeing , strategic marketing campaign . save money world entertaining experience .\""
      ]
     },
     "execution_count": 81,
     "metadata": {},
     "output_type": "execute_result"
    }
   ],
   "source": [
    "#Removing stop words\n",
    "review_data = pd.Series(data.data).apply(remove_stopwords)\n",
    "review_data.loc[0]"
   ]
  },
  {
   "cell_type": "code",
   "execution_count": 82,
   "id": "551841ad",
   "metadata": {
    "hidden": true,
    "scrolled": true
   },
   "outputs": [
    {
     "data": {
      "text/plain": [
       "['arnold',\n",
       " 'schwarzenegger',\n",
       " 'icon',\n",
       " 'action',\n",
       " 'enthusiasts',\n",
       " 'late',\n",
       " 'lately',\n",
       " 'films',\n",
       " 'sloppy',\n",
       " 'one',\n",
       " 'liners',\n",
       " 'getting',\n",
       " 'worse',\n",
       " 'it',\n",
       " 'hard',\n",
       " 'seeing',\n",
       " 'arnold',\n",
       " 'mr',\n",
       " 'freeze',\n",
       " 'batman',\n",
       " 'robin',\n",
       " 'especially',\n",
       " 'says',\n",
       " 'tons',\n",
       " 'ice',\n",
       " 'jokes',\n",
       " 'hey',\n",
       " 'got',\n",
       " 'million',\n",
       " 'what',\n",
       " 'matter',\n",
       " 'arnold',\n",
       " 'signed',\n",
       " 'expensive',\n",
       " 'blockbuster',\n",
       " 'can',\n",
       " 'compare',\n",
       " 'likes',\n",
       " 'terminator',\n",
       " 'series',\n",
       " 'true',\n",
       " 'lies',\n",
       " 'eraser',\n",
       " 'called',\n",
       " 'dark',\n",
       " 'thriller',\n",
       " 'devil',\n",
       " 'gabriel',\n",
       " 'byrne',\n",
       " 'come',\n",
       " 'earth',\n",
       " 'impregnate',\n",
       " 'woman',\n",
       " 'robin',\n",
       " 'tunney',\n",
       " 'happens',\n",
       " 'years',\n",
       " 'basically',\n",
       " 'destroy',\n",
       " 'world',\n",
       " 'apparently',\n",
       " 'god',\n",
       " 'chosen',\n",
       " 'man',\n",
       " 'man',\n",
       " 'jericho',\n",
       " 'cane',\n",
       " 'arnold',\n",
       " 'help',\n",
       " 'trusty',\n",
       " 'sidekick',\n",
       " 'kevin',\n",
       " 'pollack',\n",
       " 'stop',\n",
       " 'let',\n",
       " 'devil',\n",
       " 'world',\n",
       " 'parts',\n",
       " 'actually',\n",
       " 'absurd',\n",
       " 'fit',\n",
       " 'right',\n",
       " 'dogma',\n",
       " 'yes',\n",
       " 'film',\n",
       " 'weak',\n",
       " 'it',\n",
       " 'better',\n",
       " 'blockbuster',\n",
       " 'right',\n",
       " 'sleepy',\n",
       " 'hollow',\n",
       " 'makes',\n",
       " 'world',\n",
       " 'look',\n",
       " 'like',\n",
       " 'star',\n",
       " 'film',\n",
       " 'definitely',\n",
       " 'doesn',\n",
       " 'like',\n",
       " 'arnold',\n",
       " 'movie',\n",
       " 'wasn',\n",
       " 'type',\n",
       " 'film',\n",
       " 'sure',\n",
       " 'gave',\n",
       " 'chuckles',\n",
       " 'known',\n",
       " 'one',\n",
       " 'liners',\n",
       " 'confused',\n",
       " 'character',\n",
       " 'film',\n",
       " 'going',\n",
       " 'it',\n",
       " 'understandable',\n",
       " 'especially',\n",
       " 'ending',\n",
       " 'changed',\n",
       " 'according',\n",
       " 'sources',\n",
       " 'aside',\n",
       " 'form',\n",
       " 'walked',\n",
       " 'like',\n",
       " 'past',\n",
       " 'films',\n",
       " 'sorry',\n",
       " 'arnold',\n",
       " 'maybe',\n",
       " 'end',\n",
       " 'action',\n",
       " 'days',\n",
       " 'speaking',\n",
       " 'action',\n",
       " 'film',\n",
       " 'hardly',\n",
       " 'explosions',\n",
       " 'fights',\n",
       " 'devil',\n",
       " 'places',\n",
       " 'explode',\n",
       " 'arnold',\n",
       " 'wasn',\n",
       " 'kicking',\n",
       " 'devil',\n",
       " 'butt',\n",
       " 'ending',\n",
       " 'changed',\n",
       " 'spiritual',\n",
       " 'undoubtedly',\n",
       " 'ruined',\n",
       " 'film',\n",
       " 'hoping',\n",
       " 'cool',\n",
       " 'ending',\n",
       " 'occurred',\n",
       " 'let',\n",
       " 'don',\n",
       " 'know',\n",
       " 'film',\n",
       " 'took',\n",
       " 'long',\n",
       " 'cost',\n",
       " 'super',\n",
       " 'affects',\n",
       " 'consider',\n",
       " 'invisible',\n",
       " 'devil',\n",
       " 'minutes',\n",
       " 'tops',\n",
       " 'worth',\n",
       " 'overpriced',\n",
       " 'budget',\n",
       " 'budget',\n",
       " 'gone',\n",
       " 'better',\n",
       " 'script',\n",
       " 'audiences',\n",
       " 'somewhat',\n",
       " 'entertained',\n",
       " 'instead',\n",
       " 'facing',\n",
       " 'boredom',\n",
       " 'it',\n",
       " 'pitiful',\n",
       " 'scripts',\n",
       " 'like',\n",
       " 'bought',\n",
       " 'movie',\n",
       " 'read',\n",
       " 'things',\n",
       " 'anymore',\n",
       " 'sure',\n",
       " 'doesn',\n",
       " 'like',\n",
       " 'thankfully',\n",
       " 'gabriel',\n",
       " 'performance',\n",
       " 'gave',\n",
       " 'light',\n",
       " 'poor',\n",
       " 'film',\n",
       " 'walks',\n",
       " 'street',\n",
       " 'searching',\n",
       " 'robin',\n",
       " 'tunney',\n",
       " 'can',\n",
       " 'help',\n",
       " 'feel',\n",
       " 'looked',\n",
       " 'like',\n",
       " 'devil',\n",
       " 'guy',\n",
       " 'creepy',\n",
       " 'looking',\n",
       " 'it',\n",
       " 'you',\n",
       " 're',\n",
       " 'glad',\n",
       " 'it',\n",
       " 'end',\n",
       " 'movie',\n",
       " 'don',\n",
       " 'bother',\n",
       " 'you',\n",
       " 're',\n",
       " 'expecting',\n",
       " 'solid',\n",
       " 'action',\n",
       " 'flick',\n",
       " 'it',\n",
       " 'solid',\n",
       " 'action',\n",
       " 'it',\n",
       " 'movie',\n",
       " 'suckered',\n",
       " 'seeing',\n",
       " 'strategic',\n",
       " 'marketing',\n",
       " 'campaign',\n",
       " 'save',\n",
       " 'money',\n",
       " 'world',\n",
       " 'entertaining',\n",
       " 'experience']"
      ]
     },
     "execution_count": 82,
     "metadata": {},
     "output_type": "execute_result"
    }
   ],
   "source": [
    "#Tokenize\n",
    "review_data_tkn = review_data.apply(simple_preprocess)\n",
    "review_data_tkn.loc[0]"
   ]
  },
  {
   "cell_type": "code",
   "execution_count": 83,
   "id": "dbe0eb3d",
   "metadata": {
    "hidden": true
   },
   "outputs": [],
   "source": [
    "#Stemming\n",
    "porter_stemmer = PorterStemmer()"
   ]
  },
  {
   "cell_type": "code",
   "execution_count": 84,
   "id": "2183aac5",
   "metadata": {
    "hidden": true
   },
   "outputs": [
    {
     "data": {
      "text/plain": [
       "0    [arnold, schwarzenegg, icon, action, enthusias...\n",
       "1    [good, film, hard, dai, great, film, rare, pro...\n",
       "2    [quaid, star, man, taken, proffes, dragonslay,...\n",
       "3    [paraphras, michel, pfieffer, charact, danger,...\n",
       "4    [kolya, richest, film, ve, seen, time, zdenek,...\n",
       "5    [don, know, peopl, idea, cross, mind, life, on...\n",
       "6    [capsul, trippi, hyperspe, action, machin, hon...\n",
       "7    [gothic, murder, mysteri, yarn, new, conceit, ...\n",
       "8    [look, movi, necessarili, perfect, movi, stron...\n",
       "9    [law, crowd, pleas, romant, movi, state, lead,...\n",
       "dtype: object"
      ]
     },
     "execution_count": 84,
     "metadata": {},
     "output_type": "execute_result"
    }
   ],
   "source": [
    "# Get the stemmed tokens\n",
    "review_data_stemmed = pd.Series([[porter_stemmer.stem(word) for word in tokens] for tokens in review_data_tkn])\n",
    "review_data_stemmed.head(10)"
   ]
  },
  {
   "cell_type": "markdown",
   "id": "736807c3",
   "metadata": {
    "heading_collapsed": true,
    "hidden": true
   },
   "source": [
    "### Getting Word Vectors"
   ]
  },
  {
   "cell_type": "code",
   "execution_count": 85,
   "id": "3e890828",
   "metadata": {
    "hidden": true
   },
   "outputs": [],
   "source": [
    "###Initialize Word2Vec model\n",
    "# CBoW model (sg = 1)\n",
    "window = 3\n",
    "min_count = 1\n",
    "workers = 3\n",
    "sg = 0\n",
    "model = Word2Vec(review_data_stemmed, \n",
    "                 min_count = min_count, \n",
    "                 workers = workers, \n",
    "                 window = window, \n",
    "                 sg = sg)"
   ]
  },
  {
   "cell_type": "code",
   "execution_count": 86,
   "id": "8aa1a489",
   "metadata": {
    "hidden": true
   },
   "outputs": [
    {
     "name": "stdout",
     "output_type": "stream",
     "text": [
      "Index of the word 'action':\n",
      "33\n",
      "25404\n",
      "Length of the vector generated for a word\n",
      "100\n",
      "Print the length after taking average of all word vectors in a sentence:\n",
      "100\n"
     ]
    }
   ],
   "source": [
    "# Unique ID of the word\n",
    "print(\"Index of the word 'action':\")\n",
    "print(model.wv.key_to_index[\"action\"])\n",
    "\n",
    "# Total number of the words \n",
    "print(len(model.wv))\n",
    "\n",
    "# Print the size of the word2vec vector for one word\n",
    "print(\"Length of the vector generated for a word\")\n",
    "print(len(model.wv['action']))\n",
    "\n",
    "# Get the mean for the vectors for an example review\n",
    "print(\"Print the length after taking average of all word vectors in a sentence:\")\n",
    "print(len(np.mean([model.wv[token] for token in review_data_stemmed[0]], axis=0)))"
   ]
  },
  {
   "cell_type": "code",
   "execution_count": 87,
   "id": "00d07540",
   "metadata": {
    "hidden": true
   },
   "outputs": [],
   "source": [
    "# Get the vectors for stemmed data\n",
    "features_word2vec = []\n",
    "for index, row in review_data_stemmed.items():\n",
    "    model_vector = (np.mean([model.wv[token] for token in row], axis=0)).tolist()\n",
    "    # Check if the line exists else it is vector of zeros\n",
    "    if type(model_vector) is list:  \n",
    "        features_word2vec.append(model_vector)\n",
    "    else:\n",
    "        features_word2vec.append(np.array([0 for i in range(model.vector_size)]))"
   ]
  },
  {
   "cell_type": "code",
   "execution_count": 88,
   "id": "089e48bb",
   "metadata": {
    "hidden": true
   },
   "outputs": [
    {
     "data": {
      "text/plain": [
       "(2000, 100)"
      ]
     },
     "execution_count": 88,
     "metadata": {},
     "output_type": "execute_result"
    }
   ],
   "source": [
    "#Shape of the input matrix\n",
    "np.array(features_word2vec).shape"
   ]
  },
  {
   "cell_type": "code",
   "execution_count": 89,
   "id": "1535f0c1",
   "metadata": {
    "hidden": true
   },
   "outputs": [],
   "source": [
    "#Scaling for Naive Bayes\n",
    "scaler = MinMaxScaler()\n",
    "features_word2vec_scaled = scaler.fit_transform(features_word2vec)"
   ]
  },
  {
   "cell_type": "markdown",
   "id": "92f83b72",
   "metadata": {
    "heading_collapsed": true,
    "hidden": true
   },
   "source": [
    "### Naive Bayes"
   ]
  },
  {
   "cell_type": "code",
   "execution_count": 90,
   "id": "e6908c77",
   "metadata": {
    "hidden": true
   },
   "outputs": [],
   "source": [
    "params = {\"naivebayes__alpha\": [1, 0.1, 0.01, 0.001, 0.0001, 0.00001]}\n",
    "\n",
    "clf = Pipeline([(\"naivebayes\", MultinomialNB())])"
   ]
  },
  {
   "cell_type": "code",
   "execution_count": 91,
   "id": "ed58c380",
   "metadata": {
    "hidden": true
   },
   "outputs": [
    {
     "name": "stdout",
     "output_type": "stream",
     "text": [
      "Fitting 5 folds for each of 6 candidates, totalling 30 fits\n",
      "Pipeline(steps=[('naivebayes', MultinomialNB(alpha=1))])\n",
      "0.5835\n"
     ]
    }
   ],
   "source": [
    "gs = GridSearchCV(clf, params, verbose=2, n_jobs=-1)\n",
    "gs.fit(features_word2vec_scaled, data.target)\n",
    "print(gs.best_estimator_)\n",
    "print(gs.best_score_)"
   ]
  },
  {
   "cell_type": "code",
   "execution_count": 92,
   "id": "17fe414e",
   "metadata": {
    "hidden": true
   },
   "outputs": [
    {
     "name": "stdout",
     "output_type": "stream",
     "text": [
      "Fitting 5 folds for each of 6 candidates, totalling 30 fits\n",
      "Pipeline(steps=[('naivebayes', MultinomialNB(alpha=1))])\n",
      "0.5835\n"
     ]
    }
   ],
   "source": [
    "rs = RandomizedSearchCV(clf, params, verbose=2, n_jobs=-1)\n",
    "rs.fit(features_word2vec_scaled, data.target)\n",
    "print(rs.best_estimator_)\n",
    "print(rs.best_score_)"
   ]
  },
  {
   "cell_type": "code",
   "execution_count": 93,
   "id": "db904988",
   "metadata": {
    "hidden": true
   },
   "outputs": [
    {
     "data": {
      "text/html": [
       "<div>\n",
       "<style scoped>\n",
       "    .dataframe tbody tr th:only-of-type {\n",
       "        vertical-align: middle;\n",
       "    }\n",
       "\n",
       "    .dataframe tbody tr th {\n",
       "        vertical-align: top;\n",
       "    }\n",
       "\n",
       "    .dataframe thead th {\n",
       "        text-align: right;\n",
       "    }\n",
       "</style>\n",
       "<table border=\"1\" class=\"dataframe\">\n",
       "  <thead>\n",
       "    <tr style=\"text-align: right;\">\n",
       "      <th></th>\n",
       "      <th>Logistic Regression</th>\n",
       "      <th>Naive Bayes</th>\n",
       "      <th>K-Nearest Neighbours</th>\n",
       "      <th>Support Vector Machine</th>\n",
       "      <th>Random Forest</th>\n",
       "    </tr>\n",
       "  </thead>\n",
       "  <tbody>\n",
       "    <tr>\n",
       "      <th>BoW</th>\n",
       "      <td>0.658</td>\n",
       "      <td>0.637</td>\n",
       "      <td>0.5725</td>\n",
       "      <td>0.6545</td>\n",
       "      <td>0.631</td>\n",
       "    </tr>\n",
       "    <tr>\n",
       "      <th>TF-IDF</th>\n",
       "      <td>0.8795</td>\n",
       "      <td>0.8485</td>\n",
       "      <td>0.771</td>\n",
       "      <td>0.877</td>\n",
       "      <td>0.824</td>\n",
       "    </tr>\n",
       "    <tr>\n",
       "      <th>Word2Vec(CBoW)</th>\n",
       "      <td>NaN</td>\n",
       "      <td>0.5835</td>\n",
       "      <td>NaN</td>\n",
       "      <td>NaN</td>\n",
       "      <td>NaN</td>\n",
       "    </tr>\n",
       "    <tr>\n",
       "      <th>Word2Vec(Skip-Gram)</th>\n",
       "      <td>0.758</td>\n",
       "      <td>0.668</td>\n",
       "      <td>0.6925</td>\n",
       "      <td>0.7585</td>\n",
       "      <td>0.7225</td>\n",
       "    </tr>\n",
       "    <tr>\n",
       "      <th>ELMo</th>\n",
       "      <td>NaN</td>\n",
       "      <td>NaN</td>\n",
       "      <td>NaN</td>\n",
       "      <td>NaN</td>\n",
       "      <td>NaN</td>\n",
       "    </tr>\n",
       "    <tr>\n",
       "      <th>USE</th>\n",
       "      <td>NaN</td>\n",
       "      <td>NaN</td>\n",
       "      <td>NaN</td>\n",
       "      <td>NaN</td>\n",
       "      <td>NaN</td>\n",
       "    </tr>\n",
       "  </tbody>\n",
       "</table>\n",
       "</div>"
      ],
      "text/plain": [
       "                    Logistic Regression Naive Bayes K-Nearest Neighbours  \\\n",
       "BoW                               0.658       0.637               0.5725   \n",
       "TF-IDF                           0.8795      0.8485                0.771   \n",
       "Word2Vec(CBoW)                      NaN      0.5835                  NaN   \n",
       "Word2Vec(Skip-Gram)               0.758       0.668               0.6925   \n",
       "ELMo                                NaN         NaN                  NaN   \n",
       "USE                                 NaN         NaN                  NaN   \n",
       "\n",
       "                    Support Vector Machine Random Forest  \n",
       "BoW                                 0.6545         0.631  \n",
       "TF-IDF                               0.877         0.824  \n",
       "Word2Vec(CBoW)                         NaN           NaN  \n",
       "Word2Vec(Skip-Gram)                 0.7585        0.7225  \n",
       "ELMo                                   NaN           NaN  \n",
       "USE                                    NaN           NaN  "
      ]
     },
     "execution_count": 93,
     "metadata": {},
     "output_type": "execute_result"
    }
   ],
   "source": [
    "#Save best score\n",
    "result_df.loc[\"Word2Vec(CBoW)\",\"Naive Bayes\"] = max(rs.best_score_,gs.best_score_)\n",
    "result_df"
   ]
  },
  {
   "cell_type": "markdown",
   "id": "e0407ae8",
   "metadata": {
    "heading_collapsed": true,
    "hidden": true
   },
   "source": [
    "### Logistic Regression"
   ]
  },
  {
   "cell_type": "code",
   "execution_count": 94,
   "id": "843f431d",
   "metadata": {
    "hidden": true
   },
   "outputs": [],
   "source": [
    "params = {\"logreg__C\": np.logspace(-3,3,7),\n",
    "          \"logreg__penalty\":[\"l1\",\"l2\"]}\n",
    "\n",
    "clf = Pipeline([(\"logreg\", LogisticRegression())])"
   ]
  },
  {
   "cell_type": "code",
   "execution_count": 95,
   "id": "26dba7b0",
   "metadata": {
    "hidden": true
   },
   "outputs": [
    {
     "name": "stdout",
     "output_type": "stream",
     "text": [
      "Fitting 5 folds for each of 14 candidates, totalling 70 fits\n",
      "Pipeline(steps=[('logreg', LogisticRegression(C=1000.0))])\n",
      "0.7125\n"
     ]
    }
   ],
   "source": [
    "gs = GridSearchCV(clf, params, verbose=2, n_jobs=-1)\n",
    "gs.fit(features_word2vec, data.target)\n",
    "print(gs.best_estimator_)\n",
    "print(gs.best_score_)"
   ]
  },
  {
   "cell_type": "code",
   "execution_count": 96,
   "id": "dda4f2bb",
   "metadata": {
    "hidden": true
   },
   "outputs": [
    {
     "name": "stdout",
     "output_type": "stream",
     "text": [
      "Fitting 5 folds for each of 10 candidates, totalling 50 fits\n",
      "Pipeline(steps=[('logreg', LogisticRegression(C=1000.0))])\n",
      "0.7125\n"
     ]
    }
   ],
   "source": [
    "rs = RandomizedSearchCV(clf, params, verbose=2, n_jobs=-1)\n",
    "rs.fit(features_word2vec, data.target)\n",
    "print(rs.best_estimator_)\n",
    "print(rs.best_score_)"
   ]
  },
  {
   "cell_type": "code",
   "execution_count": 97,
   "id": "ae31c9db",
   "metadata": {
    "hidden": true
   },
   "outputs": [
    {
     "data": {
      "text/html": [
       "<div>\n",
       "<style scoped>\n",
       "    .dataframe tbody tr th:only-of-type {\n",
       "        vertical-align: middle;\n",
       "    }\n",
       "\n",
       "    .dataframe tbody tr th {\n",
       "        vertical-align: top;\n",
       "    }\n",
       "\n",
       "    .dataframe thead th {\n",
       "        text-align: right;\n",
       "    }\n",
       "</style>\n",
       "<table border=\"1\" class=\"dataframe\">\n",
       "  <thead>\n",
       "    <tr style=\"text-align: right;\">\n",
       "      <th></th>\n",
       "      <th>Logistic Regression</th>\n",
       "      <th>Naive Bayes</th>\n",
       "      <th>K-Nearest Neighbours</th>\n",
       "      <th>Support Vector Machine</th>\n",
       "      <th>Random Forest</th>\n",
       "    </tr>\n",
       "  </thead>\n",
       "  <tbody>\n",
       "    <tr>\n",
       "      <th>BoW</th>\n",
       "      <td>0.658</td>\n",
       "      <td>0.637</td>\n",
       "      <td>0.5725</td>\n",
       "      <td>0.6545</td>\n",
       "      <td>0.631</td>\n",
       "    </tr>\n",
       "    <tr>\n",
       "      <th>TF-IDF</th>\n",
       "      <td>0.8795</td>\n",
       "      <td>0.8485</td>\n",
       "      <td>0.771</td>\n",
       "      <td>0.877</td>\n",
       "      <td>0.824</td>\n",
       "    </tr>\n",
       "    <tr>\n",
       "      <th>Word2Vec(CBoW)</th>\n",
       "      <td>0.7125</td>\n",
       "      <td>0.5835</td>\n",
       "      <td>NaN</td>\n",
       "      <td>NaN</td>\n",
       "      <td>NaN</td>\n",
       "    </tr>\n",
       "    <tr>\n",
       "      <th>Word2Vec(Skip-Gram)</th>\n",
       "      <td>0.758</td>\n",
       "      <td>0.668</td>\n",
       "      <td>0.6925</td>\n",
       "      <td>0.7585</td>\n",
       "      <td>0.7225</td>\n",
       "    </tr>\n",
       "    <tr>\n",
       "      <th>ELMo</th>\n",
       "      <td>NaN</td>\n",
       "      <td>NaN</td>\n",
       "      <td>NaN</td>\n",
       "      <td>NaN</td>\n",
       "      <td>NaN</td>\n",
       "    </tr>\n",
       "    <tr>\n",
       "      <th>USE</th>\n",
       "      <td>NaN</td>\n",
       "      <td>NaN</td>\n",
       "      <td>NaN</td>\n",
       "      <td>NaN</td>\n",
       "      <td>NaN</td>\n",
       "    </tr>\n",
       "  </tbody>\n",
       "</table>\n",
       "</div>"
      ],
      "text/plain": [
       "                    Logistic Regression Naive Bayes K-Nearest Neighbours  \\\n",
       "BoW                               0.658       0.637               0.5725   \n",
       "TF-IDF                           0.8795      0.8485                0.771   \n",
       "Word2Vec(CBoW)                   0.7125      0.5835                  NaN   \n",
       "Word2Vec(Skip-Gram)               0.758       0.668               0.6925   \n",
       "ELMo                                NaN         NaN                  NaN   \n",
       "USE                                 NaN         NaN                  NaN   \n",
       "\n",
       "                    Support Vector Machine Random Forest  \n",
       "BoW                                 0.6545         0.631  \n",
       "TF-IDF                               0.877         0.824  \n",
       "Word2Vec(CBoW)                         NaN           NaN  \n",
       "Word2Vec(Skip-Gram)                 0.7585        0.7225  \n",
       "ELMo                                   NaN           NaN  \n",
       "USE                                    NaN           NaN  "
      ]
     },
     "execution_count": 97,
     "metadata": {},
     "output_type": "execute_result"
    }
   ],
   "source": [
    "#Save best score\n",
    "result_df.loc[\"Word2Vec(CBoW)\",\"Logistic Regression\"] = max(rs.best_score_,gs.best_score_)\n",
    "result_df"
   ]
  },
  {
   "cell_type": "markdown",
   "id": "e2e50d06",
   "metadata": {
    "heading_collapsed": true,
    "hidden": true
   },
   "source": [
    "### K-Nearest Neighbours"
   ]
  },
  {
   "cell_type": "code",
   "execution_count": 98,
   "id": "957427db",
   "metadata": {
    "hidden": true
   },
   "outputs": [],
   "source": [
    "params = {\"knn__n_neighbors\": [1,5,10,20]}\n",
    "\n",
    "clf = Pipeline([(\"knn\", KNeighborsClassifier())])"
   ]
  },
  {
   "cell_type": "code",
   "execution_count": 99,
   "id": "07d46de5",
   "metadata": {
    "hidden": true
   },
   "outputs": [
    {
     "name": "stdout",
     "output_type": "stream",
     "text": [
      "Fitting 5 folds for each of 4 candidates, totalling 20 fits\n",
      "Pipeline(steps=[('knn', KNeighborsClassifier(n_neighbors=20))])\n",
      "0.6220000000000001\n"
     ]
    }
   ],
   "source": [
    "gs = GridSearchCV(clf, params, verbose=2, n_jobs=-1)\n",
    "gs.fit(features_word2vec, data.target)\n",
    "print(gs.best_estimator_)\n",
    "print(gs.best_score_)"
   ]
  },
  {
   "cell_type": "code",
   "execution_count": 100,
   "id": "e68cf1ea",
   "metadata": {
    "hidden": true
   },
   "outputs": [
    {
     "name": "stdout",
     "output_type": "stream",
     "text": [
      "Fitting 5 folds for each of 4 candidates, totalling 20 fits\n",
      "Pipeline(steps=[('knn', KNeighborsClassifier(n_neighbors=20))])\n",
      "0.6220000000000001\n"
     ]
    }
   ],
   "source": [
    "rs = RandomizedSearchCV(clf, params, verbose=2, n_jobs=-1)\n",
    "rs.fit(features_word2vec, data.target)\n",
    "print(rs.best_estimator_)\n",
    "print(rs.best_score_)"
   ]
  },
  {
   "cell_type": "code",
   "execution_count": 101,
   "id": "e7e498c8",
   "metadata": {
    "hidden": true
   },
   "outputs": [
    {
     "data": {
      "text/html": [
       "<div>\n",
       "<style scoped>\n",
       "    .dataframe tbody tr th:only-of-type {\n",
       "        vertical-align: middle;\n",
       "    }\n",
       "\n",
       "    .dataframe tbody tr th {\n",
       "        vertical-align: top;\n",
       "    }\n",
       "\n",
       "    .dataframe thead th {\n",
       "        text-align: right;\n",
       "    }\n",
       "</style>\n",
       "<table border=\"1\" class=\"dataframe\">\n",
       "  <thead>\n",
       "    <tr style=\"text-align: right;\">\n",
       "      <th></th>\n",
       "      <th>Logistic Regression</th>\n",
       "      <th>Naive Bayes</th>\n",
       "      <th>K-Nearest Neighbours</th>\n",
       "      <th>Support Vector Machine</th>\n",
       "      <th>Random Forest</th>\n",
       "    </tr>\n",
       "  </thead>\n",
       "  <tbody>\n",
       "    <tr>\n",
       "      <th>BoW</th>\n",
       "      <td>0.658</td>\n",
       "      <td>0.637</td>\n",
       "      <td>0.5725</td>\n",
       "      <td>0.6545</td>\n",
       "      <td>0.631</td>\n",
       "    </tr>\n",
       "    <tr>\n",
       "      <th>TF-IDF</th>\n",
       "      <td>0.8795</td>\n",
       "      <td>0.8485</td>\n",
       "      <td>0.771</td>\n",
       "      <td>0.877</td>\n",
       "      <td>0.824</td>\n",
       "    </tr>\n",
       "    <tr>\n",
       "      <th>Word2Vec(CBoW)</th>\n",
       "      <td>0.7125</td>\n",
       "      <td>0.5835</td>\n",
       "      <td>0.622</td>\n",
       "      <td>NaN</td>\n",
       "      <td>NaN</td>\n",
       "    </tr>\n",
       "    <tr>\n",
       "      <th>Word2Vec(Skip-Gram)</th>\n",
       "      <td>0.758</td>\n",
       "      <td>0.668</td>\n",
       "      <td>0.6925</td>\n",
       "      <td>0.7585</td>\n",
       "      <td>0.7225</td>\n",
       "    </tr>\n",
       "    <tr>\n",
       "      <th>ELMo</th>\n",
       "      <td>NaN</td>\n",
       "      <td>NaN</td>\n",
       "      <td>NaN</td>\n",
       "      <td>NaN</td>\n",
       "      <td>NaN</td>\n",
       "    </tr>\n",
       "    <tr>\n",
       "      <th>USE</th>\n",
       "      <td>NaN</td>\n",
       "      <td>NaN</td>\n",
       "      <td>NaN</td>\n",
       "      <td>NaN</td>\n",
       "      <td>NaN</td>\n",
       "    </tr>\n",
       "  </tbody>\n",
       "</table>\n",
       "</div>"
      ],
      "text/plain": [
       "                    Logistic Regression Naive Bayes K-Nearest Neighbours  \\\n",
       "BoW                               0.658       0.637               0.5725   \n",
       "TF-IDF                           0.8795      0.8485                0.771   \n",
       "Word2Vec(CBoW)                   0.7125      0.5835                0.622   \n",
       "Word2Vec(Skip-Gram)               0.758       0.668               0.6925   \n",
       "ELMo                                NaN         NaN                  NaN   \n",
       "USE                                 NaN         NaN                  NaN   \n",
       "\n",
       "                    Support Vector Machine Random Forest  \n",
       "BoW                                 0.6545         0.631  \n",
       "TF-IDF                               0.877         0.824  \n",
       "Word2Vec(CBoW)                         NaN           NaN  \n",
       "Word2Vec(Skip-Gram)                 0.7585        0.7225  \n",
       "ELMo                                   NaN           NaN  \n",
       "USE                                    NaN           NaN  "
      ]
     },
     "execution_count": 101,
     "metadata": {},
     "output_type": "execute_result"
    }
   ],
   "source": [
    "#Save best score\n",
    "result_df.loc[\"Word2Vec(CBoW)\",\"K-Nearest Neighbours\"] = max(rs.best_score_,gs.best_score_)\n",
    "result_df"
   ]
  },
  {
   "cell_type": "markdown",
   "id": "e4945009",
   "metadata": {
    "heading_collapsed": true,
    "hidden": true
   },
   "source": [
    "### SVM"
   ]
  },
  {
   "cell_type": "code",
   "execution_count": 102,
   "id": "856e555e",
   "metadata": {
    "hidden": true
   },
   "outputs": [],
   "source": [
    "params = {\"svc__C\": [.01, .1, 1, 10, 100]}\n",
    "\n",
    "clf = Pipeline([(\"svc\", LinearSVC())])"
   ]
  },
  {
   "cell_type": "code",
   "execution_count": 103,
   "id": "546af3e9",
   "metadata": {
    "hidden": true
   },
   "outputs": [
    {
     "name": "stdout",
     "output_type": "stream",
     "text": [
      "Fitting 5 folds for each of 5 candidates, totalling 25 fits\n",
      "Pipeline(steps=[('svc', LinearSVC(C=10))])\n",
      "0.719\n"
     ]
    }
   ],
   "source": [
    "gs = GridSearchCV(clf, params, verbose=2, n_jobs=-1)\n",
    "gs.fit(features_word2vec, data.target)\n",
    "print(gs.best_estimator_)\n",
    "print(gs.best_score_)"
   ]
  },
  {
   "cell_type": "code",
   "execution_count": 104,
   "id": "d352738e",
   "metadata": {
    "hidden": true
   },
   "outputs": [
    {
     "name": "stdout",
     "output_type": "stream",
     "text": [
      "Fitting 5 folds for each of 5 candidates, totalling 25 fits\n",
      "Pipeline(steps=[('svc', LinearSVC(C=10))])\n",
      "0.7204999999999999\n"
     ]
    }
   ],
   "source": [
    "rs = RandomizedSearchCV(clf, params, verbose=2, n_jobs=-1)\n",
    "rs.fit(features_word2vec, data.target)\n",
    "print(rs.best_estimator_)\n",
    "print(rs.best_score_)"
   ]
  },
  {
   "cell_type": "code",
   "execution_count": 105,
   "id": "eb5e42d2",
   "metadata": {
    "hidden": true
   },
   "outputs": [
    {
     "data": {
      "text/html": [
       "<div>\n",
       "<style scoped>\n",
       "    .dataframe tbody tr th:only-of-type {\n",
       "        vertical-align: middle;\n",
       "    }\n",
       "\n",
       "    .dataframe tbody tr th {\n",
       "        vertical-align: top;\n",
       "    }\n",
       "\n",
       "    .dataframe thead th {\n",
       "        text-align: right;\n",
       "    }\n",
       "</style>\n",
       "<table border=\"1\" class=\"dataframe\">\n",
       "  <thead>\n",
       "    <tr style=\"text-align: right;\">\n",
       "      <th></th>\n",
       "      <th>Logistic Regression</th>\n",
       "      <th>Naive Bayes</th>\n",
       "      <th>K-Nearest Neighbours</th>\n",
       "      <th>Support Vector Machine</th>\n",
       "      <th>Random Forest</th>\n",
       "    </tr>\n",
       "  </thead>\n",
       "  <tbody>\n",
       "    <tr>\n",
       "      <th>BoW</th>\n",
       "      <td>0.658</td>\n",
       "      <td>0.637</td>\n",
       "      <td>0.5725</td>\n",
       "      <td>0.6545</td>\n",
       "      <td>0.631</td>\n",
       "    </tr>\n",
       "    <tr>\n",
       "      <th>TF-IDF</th>\n",
       "      <td>0.8795</td>\n",
       "      <td>0.8485</td>\n",
       "      <td>0.771</td>\n",
       "      <td>0.877</td>\n",
       "      <td>0.824</td>\n",
       "    </tr>\n",
       "    <tr>\n",
       "      <th>Word2Vec(CBoW)</th>\n",
       "      <td>0.7125</td>\n",
       "      <td>0.5835</td>\n",
       "      <td>0.622</td>\n",
       "      <td>0.7205</td>\n",
       "      <td>NaN</td>\n",
       "    </tr>\n",
       "    <tr>\n",
       "      <th>Word2Vec(Skip-Gram)</th>\n",
       "      <td>0.758</td>\n",
       "      <td>0.668</td>\n",
       "      <td>0.6925</td>\n",
       "      <td>0.7585</td>\n",
       "      <td>0.7225</td>\n",
       "    </tr>\n",
       "    <tr>\n",
       "      <th>ELMo</th>\n",
       "      <td>NaN</td>\n",
       "      <td>NaN</td>\n",
       "      <td>NaN</td>\n",
       "      <td>NaN</td>\n",
       "      <td>NaN</td>\n",
       "    </tr>\n",
       "    <tr>\n",
       "      <th>USE</th>\n",
       "      <td>NaN</td>\n",
       "      <td>NaN</td>\n",
       "      <td>NaN</td>\n",
       "      <td>NaN</td>\n",
       "      <td>NaN</td>\n",
       "    </tr>\n",
       "  </tbody>\n",
       "</table>\n",
       "</div>"
      ],
      "text/plain": [
       "                    Logistic Regression Naive Bayes K-Nearest Neighbours  \\\n",
       "BoW                               0.658       0.637               0.5725   \n",
       "TF-IDF                           0.8795      0.8485                0.771   \n",
       "Word2Vec(CBoW)                   0.7125      0.5835                0.622   \n",
       "Word2Vec(Skip-Gram)               0.758       0.668               0.6925   \n",
       "ELMo                                NaN         NaN                  NaN   \n",
       "USE                                 NaN         NaN                  NaN   \n",
       "\n",
       "                    Support Vector Machine Random Forest  \n",
       "BoW                                 0.6545         0.631  \n",
       "TF-IDF                               0.877         0.824  \n",
       "Word2Vec(CBoW)                      0.7205           NaN  \n",
       "Word2Vec(Skip-Gram)                 0.7585        0.7225  \n",
       "ELMo                                   NaN           NaN  \n",
       "USE                                    NaN           NaN  "
      ]
     },
     "execution_count": 105,
     "metadata": {},
     "output_type": "execute_result"
    }
   ],
   "source": [
    "#Save best score\n",
    "result_df.loc[\"Word2Vec(CBoW)\",\"Support Vector Machine\"] = max(rs.best_score_,gs.best_score_)\n",
    "result_df"
   ]
  },
  {
   "cell_type": "markdown",
   "id": "bddad96b",
   "metadata": {
    "heading_collapsed": true,
    "hidden": true
   },
   "source": [
    "### Random Forest"
   ]
  },
  {
   "cell_type": "code",
   "execution_count": 106,
   "id": "0bdb314d",
   "metadata": {
    "hidden": true
   },
   "outputs": [],
   "source": [
    "params = {\"rf__n_estimators\": [10,100,1000]}\n",
    "\n",
    "clf = Pipeline([(\"rf\", RandomForestClassifier())])"
   ]
  },
  {
   "cell_type": "code",
   "execution_count": 107,
   "id": "6b54eac8",
   "metadata": {
    "hidden": true
   },
   "outputs": [
    {
     "name": "stdout",
     "output_type": "stream",
     "text": [
      "Fitting 5 folds for each of 3 candidates, totalling 15 fits\n",
      "Pipeline(steps=[('rf', RandomForestClassifier(n_estimators=1000))])\n",
      "0.6595000000000001\n"
     ]
    }
   ],
   "source": [
    "gs = GridSearchCV(clf, params, verbose=2, n_jobs=-1)\n",
    "gs.fit(features_word2vec, data.target)\n",
    "print(gs.best_estimator_)\n",
    "print(gs.best_score_)"
   ]
  },
  {
   "cell_type": "code",
   "execution_count": 108,
   "id": "1e772c86",
   "metadata": {
    "hidden": true
   },
   "outputs": [
    {
     "name": "stdout",
     "output_type": "stream",
     "text": [
      "Fitting 5 folds for each of 3 candidates, totalling 15 fits\n",
      "Pipeline(steps=[('rf', RandomForestClassifier(n_estimators=1000))])\n",
      "0.6575\n"
     ]
    }
   ],
   "source": [
    "rs = RandomizedSearchCV(clf, params, verbose=2, n_jobs=-1)\n",
    "rs.fit(features_word2vec, data.target)\n",
    "print(rs.best_estimator_)\n",
    "print(rs.best_score_)"
   ]
  },
  {
   "cell_type": "code",
   "execution_count": 109,
   "id": "e809a138",
   "metadata": {
    "hidden": true,
    "scrolled": true
   },
   "outputs": [
    {
     "data": {
      "text/html": [
       "<div>\n",
       "<style scoped>\n",
       "    .dataframe tbody tr th:only-of-type {\n",
       "        vertical-align: middle;\n",
       "    }\n",
       "\n",
       "    .dataframe tbody tr th {\n",
       "        vertical-align: top;\n",
       "    }\n",
       "\n",
       "    .dataframe thead th {\n",
       "        text-align: right;\n",
       "    }\n",
       "</style>\n",
       "<table border=\"1\" class=\"dataframe\">\n",
       "  <thead>\n",
       "    <tr style=\"text-align: right;\">\n",
       "      <th></th>\n",
       "      <th>Logistic Regression</th>\n",
       "      <th>Naive Bayes</th>\n",
       "      <th>K-Nearest Neighbours</th>\n",
       "      <th>Support Vector Machine</th>\n",
       "      <th>Random Forest</th>\n",
       "    </tr>\n",
       "  </thead>\n",
       "  <tbody>\n",
       "    <tr>\n",
       "      <th>BoW</th>\n",
       "      <td>0.658</td>\n",
       "      <td>0.637</td>\n",
       "      <td>0.5725</td>\n",
       "      <td>0.6545</td>\n",
       "      <td>0.631</td>\n",
       "    </tr>\n",
       "    <tr>\n",
       "      <th>TF-IDF</th>\n",
       "      <td>0.8795</td>\n",
       "      <td>0.8485</td>\n",
       "      <td>0.771</td>\n",
       "      <td>0.877</td>\n",
       "      <td>0.824</td>\n",
       "    </tr>\n",
       "    <tr>\n",
       "      <th>Word2Vec(CBoW)</th>\n",
       "      <td>0.7125</td>\n",
       "      <td>0.5835</td>\n",
       "      <td>0.622</td>\n",
       "      <td>0.7205</td>\n",
       "      <td>0.6595</td>\n",
       "    </tr>\n",
       "    <tr>\n",
       "      <th>Word2Vec(Skip-Gram)</th>\n",
       "      <td>0.758</td>\n",
       "      <td>0.668</td>\n",
       "      <td>0.6925</td>\n",
       "      <td>0.7585</td>\n",
       "      <td>0.7225</td>\n",
       "    </tr>\n",
       "    <tr>\n",
       "      <th>ELMo</th>\n",
       "      <td>NaN</td>\n",
       "      <td>NaN</td>\n",
       "      <td>NaN</td>\n",
       "      <td>NaN</td>\n",
       "      <td>NaN</td>\n",
       "    </tr>\n",
       "    <tr>\n",
       "      <th>USE</th>\n",
       "      <td>NaN</td>\n",
       "      <td>NaN</td>\n",
       "      <td>NaN</td>\n",
       "      <td>NaN</td>\n",
       "      <td>NaN</td>\n",
       "    </tr>\n",
       "  </tbody>\n",
       "</table>\n",
       "</div>"
      ],
      "text/plain": [
       "                    Logistic Regression Naive Bayes K-Nearest Neighbours  \\\n",
       "BoW                               0.658       0.637               0.5725   \n",
       "TF-IDF                           0.8795      0.8485                0.771   \n",
       "Word2Vec(CBoW)                   0.7125      0.5835                0.622   \n",
       "Word2Vec(Skip-Gram)               0.758       0.668               0.6925   \n",
       "ELMo                                NaN         NaN                  NaN   \n",
       "USE                                 NaN         NaN                  NaN   \n",
       "\n",
       "                    Support Vector Machine Random Forest  \n",
       "BoW                                 0.6545         0.631  \n",
       "TF-IDF                               0.877         0.824  \n",
       "Word2Vec(CBoW)                      0.7205        0.6595  \n",
       "Word2Vec(Skip-Gram)                 0.7585        0.7225  \n",
       "ELMo                                   NaN           NaN  \n",
       "USE                                    NaN           NaN  "
      ]
     },
     "execution_count": 109,
     "metadata": {},
     "output_type": "execute_result"
    }
   ],
   "source": [
    "#Save best score\n",
    "result_df.loc[\"Word2Vec(CBoW)\",\"Random Forest\"] = max(rs.best_score_,gs.best_score_)\n",
    "result_df"
   ]
  },
  {
   "cell_type": "markdown",
   "id": "5943dad9",
   "metadata": {},
   "source": [
    "## Universal Sentence Encoder"
   ]
  },
  {
   "cell_type": "markdown",
   "id": "46e60665",
   "metadata": {
    "heading_collapsed": true
   },
   "source": [
    "### Getting Sentence Embeddings"
   ]
  },
  {
   "cell_type": "code",
   "execution_count": 110,
   "id": "a8bdb6a8",
   "metadata": {
    "hidden": true
   },
   "outputs": [
    {
     "name": "stderr",
     "output_type": "stream",
     "text": [
      "2023-07-08 15:27:58.503993: I tensorflow/core/platform/cpu_feature_guard.cc:151] This TensorFlow binary is optimized with oneAPI Deep Neural Network Library (oneDNN) to use the following CPU instructions in performance-critical operations:  AVX2 FMA\n",
      "To enable them in other operations, rebuild TensorFlow with the appropriate compiler flags.\n"
     ]
    }
   ],
   "source": [
    "#Load USE model from TensorFlow Hub\n",
    "url = \"https://tfhub.dev/google/universal-sentence-encoder/4\" #@param \n",
    "model = hub.load(url)"
   ]
  },
  {
   "cell_type": "code",
   "execution_count": 111,
   "id": "3f17d935",
   "metadata": {
    "hidden": true
   },
   "outputs": [],
   "source": [
    "#Reduce logging output\n",
    "logging.set_verbosity(logging.ERROR)"
   ]
  },
  {
   "cell_type": "code",
   "execution_count": 112,
   "id": "098a5831",
   "metadata": {
    "hidden": true
   },
   "outputs": [],
   "source": [
    "#Get sentence embeddings from data\n",
    "use_emb = model(data.data)"
   ]
  },
  {
   "cell_type": "code",
   "execution_count": 113,
   "id": "b776bbec",
   "metadata": {
    "hidden": true
   },
   "outputs": [
    {
     "data": {
      "text/plain": [
       "[-0.04078944772481918,\n",
       " -0.06032659858465195,\n",
       " -0.04345656931400299,\n",
       " 0.04009928181767464,\n",
       " -0.0004886150709353387,\n",
       " 0.06377539038658142,\n",
       " 0.022045830264687538,\n",
       " -0.019395021721720695,\n",
       " 0.06347382068634033,\n",
       " -0.01729961298406124,\n",
       " 0.06338900327682495,\n",
       " 0.008428175933659077,\n",
       " -0.0036823360715061426,\n",
       " 0.034620363265275955,\n",
       " 0.059929974377155304,\n",
       " -0.06117146089673042,\n",
       " 0.011879665777087212,\n",
       " -0.009199387393891811,\n",
       " 0.05312620475888252,\n",
       " 0.05551179498434067,\n",
       " -0.0055627296678721905,\n",
       " -0.06705371290445328,\n",
       " -0.02495522052049637,\n",
       " 0.062076155096292496,\n",
       " 0.0543057844042778,\n",
       " -0.029435142874717712,\n",
       " -0.014372673816978931,\n",
       " 0.03232262656092644,\n",
       " 8.11274949228391e-05,\n",
       " 0.0670538991689682,\n",
       " -0.03312945365905762,\n",
       " -0.007327796425670385,\n",
       " -0.02901964820921421,\n",
       " -0.0416567400097847,\n",
       " -0.02307375892996788,\n",
       " 0.05107690766453743,\n",
       " 0.001502998755313456,\n",
       " 0.029043706133961678,\n",
       " -0.05418074503540993,\n",
       " -0.004452354274690151,\n",
       " 0.04249237850308418,\n",
       " -0.052256010472774506,\n",
       " -0.06704534590244293,\n",
       " -0.02337917685508728,\n",
       " 0.032405655831098557,\n",
       " -0.0010153145994991064,\n",
       " 0.05780365318059921,\n",
       " 0.01843010075390339,\n",
       " -0.007344369776546955,\n",
       " 0.06537880003452301,\n",
       " 0.046338554471731186,\n",
       " 0.0464702770113945,\n",
       " -0.03422028198838234,\n",
       " -0.05008050799369812,\n",
       " 0.05298485979437828,\n",
       " 0.02647498808801174,\n",
       " -0.05528424680233002,\n",
       " 0.018534313887357712,\n",
       " 0.04091983288526535,\n",
       " 0.04313841834664345,\n",
       " 0.06705393642187119,\n",
       " -0.049999549984931946,\n",
       " -0.0670539140701294,\n",
       " -0.03540680557489395,\n",
       " -0.06629494577646255,\n",
       " 0.024842698127031326,\n",
       " 0.022273562848567963,\n",
       " -0.037183281034231186,\n",
       " 0.05790545791387558,\n",
       " -0.022638272494077682,\n",
       " -0.012950421310961246,\n",
       " 0.06667936593294144,\n",
       " 0.042705513536930084,\n",
       " -0.0068457890301942825,\n",
       " -0.03448611497879028,\n",
       " -0.01141066662967205,\n",
       " -0.008246555924415588,\n",
       " 0.029525205492973328,\n",
       " 0.01035316102206707,\n",
       " 0.051357317715883255,\n",
       " -0.059961117804050446,\n",
       " -0.03126555308699608,\n",
       " -0.027718372642993927,\n",
       " 0.034265629947185516,\n",
       " -0.010726306587457657,\n",
       " -0.05253118649125099,\n",
       " 0.057499274611473083,\n",
       " -0.027733733877539635,\n",
       " -0.06247593089938164,\n",
       " 0.048535194247961044,\n",
       " -0.05327218398451805,\n",
       " -0.010910887271165848,\n",
       " 0.007192465476691723,\n",
       " -0.019491607323288918,\n",
       " 0.06705352663993835,\n",
       " -0.04146578162908554,\n",
       " 0.006444859318435192,\n",
       " 0.06608695536851883,\n",
       " 0.06705188006162643,\n",
       " 0.051723405718803406,\n",
       " 0.057532139122486115,\n",
       " 0.04194103181362152,\n",
       " -0.0013029304100200534,\n",
       " -0.002197867026552558,\n",
       " -0.03908524662256241,\n",
       " -0.04509380832314491,\n",
       " -0.059700608253479004,\n",
       " -0.0024381421972066164,\n",
       " 0.009946363046765327,\n",
       " 0.03637227788567543,\n",
       " -0.06225816160440445,\n",
       " -0.06682084500789642,\n",
       " 0.053330399096012115,\n",
       " -0.00472723413258791,\n",
       " -0.026946209371089935,\n",
       " -0.01671581156551838,\n",
       " -0.029236817732453346,\n",
       " -0.06402305513620377,\n",
       " 0.02664658986032009,\n",
       " 0.0225543063133955,\n",
       " 0.01788102649152279,\n",
       " 0.0053815459832549095,\n",
       " -0.03135020285844803,\n",
       " 0.014846433885395527,\n",
       " -0.029966440051794052,\n",
       " -0.056078631430864334,\n",
       " 0.04026186093688011,\n",
       " -0.06705393642187119,\n",
       " 0.026625080034136772,\n",
       " 0.06673487275838852,\n",
       " -0.016846368089318275,\n",
       " 0.05010025575757027,\n",
       " 0.03040890023112297,\n",
       " -0.056408923119306564,\n",
       " -0.0046230205334723,\n",
       " 0.01981530897319317,\n",
       " 0.057853035628795624,\n",
       " -0.0485616996884346,\n",
       " -0.06242513284087181,\n",
       " 0.00806672777980566,\n",
       " 0.06585587561130524,\n",
       " 0.06704706698656082,\n",
       " 0.033314310014247894,\n",
       " 0.06564114987850189,\n",
       " -0.026410667225718498,\n",
       " -0.016053438186645508,\n",
       " 0.033129241317510605,\n",
       " -0.02532985806465149,\n",
       " 0.018696866929531097,\n",
       " 0.06480973213911057,\n",
       " 0.05594863370060921,\n",
       " -0.019200492650270462,\n",
       " -0.06543539464473724,\n",
       " -0.04437640309333801,\n",
       " 0.013315047137439251,\n",
       " 0.06564787030220032,\n",
       " -0.05635208636522293,\n",
       " -0.010740729048848152,\n",
       " 0.040626008063554764,\n",
       " -0.026222849264740944,\n",
       " 0.05907072126865387,\n",
       " 0.01780783385038376,\n",
       " 0.010394598357379436,\n",
       " -0.05095881223678589,\n",
       " 0.030651316046714783,\n",
       " -0.014248338527977467,\n",
       " -0.04090757668018341,\n",
       " -0.013709529303014278,\n",
       " -0.04378638043999672,\n",
       " -0.041141897439956665,\n",
       " 0.06466494500637054,\n",
       " -0.06508210301399231,\n",
       " -0.032565489411354065,\n",
       " -0.012115687131881714,\n",
       " -0.05073929950594902,\n",
       " 0.031550005078315735,\n",
       " 0.055826254189014435,\n",
       " 0.05326037108898163,\n",
       " 0.045853372663259506,\n",
       " -0.06695643812417984,\n",
       " 0.06420956552028656,\n",
       " 0.06623642891645432,\n",
       " -0.05837039276957512,\n",
       " -0.03245963156223297,\n",
       " -0.06038668751716614,\n",
       " 0.059150662273168564,\n",
       " -0.02371007576584816,\n",
       " -0.05383051559329033,\n",
       " 0.06567666679620743,\n",
       " -0.03229115530848503,\n",
       " 0.05774308741092682,\n",
       " -0.04266640543937683,\n",
       " -0.050358839333057404,\n",
       " -0.06662565469741821,\n",
       " -0.05677944794297218,\n",
       " -0.04264840856194496,\n",
       " 0.06278356909751892,\n",
       " 0.022909536957740784,\n",
       " 0.04239290952682495,\n",
       " 0.04509513080120087,\n",
       " -0.01065190602093935,\n",
       " 0.0037554120644927025,\n",
       " 0.010166611522436142,\n",
       " -0.06149178370833397,\n",
       " 0.005260316655039787,\n",
       " -0.03678419440984726,\n",
       " 0.02284584380686283,\n",
       " -0.004790389910340309,\n",
       " -0.028781410306692123,\n",
       " 0.041365932673215866,\n",
       " 0.018287064507603645,\n",
       " -0.007045426405966282,\n",
       " 0.022397378459572792,\n",
       " -0.009824915789067745,\n",
       " -0.06275994330644608,\n",
       " 0.004986810497939587,\n",
       " 0.0217247623950243,\n",
       " -0.06156120076775551,\n",
       " 0.056177880614995956,\n",
       " 0.017670581117272377,\n",
       " 0.05618120729923248,\n",
       " -0.0014698758022859693,\n",
       " 0.0003507851797621697,\n",
       " -0.02070009708404541,\n",
       " -0.06703939288854599,\n",
       " -0.06514465063810349,\n",
       " -0.05275798588991165,\n",
       " -0.05609158053994179,\n",
       " 0.05794592946767807,\n",
       " -0.05260510370135307,\n",
       " 0.034755248576402664,\n",
       " 0.023145237937569618,\n",
       " -0.034037601202726364,\n",
       " -0.06705393642187119,\n",
       " -0.01038943137973547,\n",
       " 0.04591803625226021,\n",
       " -0.017586536705493927,\n",
       " -0.013127673417329788,\n",
       " -0.04204993695020676,\n",
       " 0.0485609695315361,\n",
       " 0.059229906648397446,\n",
       " -0.023489374667406082,\n",
       " 0.04616763815283775,\n",
       " -0.05992581322789192,\n",
       " -0.045515600591897964,\n",
       " 0.038268204778432846,\n",
       " 0.02743627317249775,\n",
       " -0.03433910384774208,\n",
       " -0.010625571943819523,\n",
       " -0.0019045070512220263,\n",
       " 0.060015223920345306,\n",
       " -0.049894772469997406,\n",
       " 0.06397309899330139,\n",
       " -0.013870121911168098,\n",
       " 0.06641437858343124,\n",
       " 0.029874712228775024,\n",
       " -0.06416527926921844,\n",
       " 0.06705393642187119,\n",
       " 0.06311144679784775,\n",
       " -0.05835941806435585,\n",
       " 0.043948136270046234,\n",
       " -0.02680397965013981,\n",
       " 0.04505883902311325,\n",
       " -0.006394986063241959,\n",
       " -0.04437454417347908,\n",
       " 0.05656014382839203,\n",
       " 0.03516934812068939,\n",
       " 0.06493896245956421,\n",
       " 0.009030255489051342,\n",
       " -0.043665409088134766,\n",
       " 0.026382368057966232,\n",
       " 0.06684782356023788,\n",
       " -0.0486719012260437,\n",
       " 0.008462578058242798,\n",
       " -0.0219871923327446,\n",
       " -0.005810212809592485,\n",
       " -0.053899265825748444,\n",
       " -0.052319638431072235,\n",
       " 0.06661666184663773,\n",
       " 0.06566182523965836,\n",
       " 0.027607090771198273,\n",
       " 0.023433515802025795,\n",
       " -0.04704628884792328,\n",
       " -0.054658085107803345,\n",
       " -0.013164537027478218,\n",
       " -0.06705393642187119,\n",
       " -0.02657894603908062,\n",
       " 0.05268067866563797,\n",
       " -0.05909259244799614,\n",
       " 0.059475887566804886,\n",
       " -0.06193426623940468,\n",
       " 0.06648558378219604,\n",
       " 0.06493723392486572,\n",
       " -0.030597323551774025,\n",
       " 0.04765386879444122,\n",
       " -0.0030515650287270546,\n",
       " 0.0654396340250969,\n",
       " -0.0579448863863945,\n",
       " 0.01874736323952675,\n",
       " 0.060547541826963425,\n",
       " -0.0057274578139185905,\n",
       " -0.04931691661477089,\n",
       " 0.031003693118691444,\n",
       " -0.022151730954647064,\n",
       " 0.04019158333539963,\n",
       " -0.06368295848369598,\n",
       " -0.03085905872285366,\n",
       " -0.05681295320391655,\n",
       " 0.06379909068346024,\n",
       " 0.04004228860139847,\n",
       " -0.00395353464409709,\n",
       " -0.0462799109518528,\n",
       " -0.01972234807908535,\n",
       " -0.025099175050854683,\n",
       " -0.036881882697343826,\n",
       " -0.012179561890661716,\n",
       " 0.01851700432598591,\n",
       " 0.040235474705696106,\n",
       " 0.06019302085042,\n",
       " -0.03831690922379494,\n",
       " -0.02864411287009716,\n",
       " -0.013869366608560085,\n",
       " -0.04318763315677643,\n",
       " -0.06233733519911766,\n",
       " 0.03679710254073143,\n",
       " -0.037926241755485535,\n",
       " -0.0046552624553442,\n",
       " 0.05751563236117363,\n",
       " -0.03886035457253456,\n",
       " -0.06402584165334702,\n",
       " -0.05081746354699135,\n",
       " -0.04560932144522667,\n",
       " 0.04185166954994202,\n",
       " 0.0051806895062327385,\n",
       " -0.06697559356689453,\n",
       " -0.029440458863973618,\n",
       " -0.005913349334150553,\n",
       " -0.036025337874889374,\n",
       " 0.06599364429712296,\n",
       " -0.05811098963022232,\n",
       " 0.06691703200340271,\n",
       " 0.0004145670682191849,\n",
       " 0.015900809317827225,\n",
       " -0.008054399862885475,\n",
       " -0.005304085090756416,\n",
       " -0.012336250394582748,\n",
       " -0.0582578219473362,\n",
       " -0.06681296229362488,\n",
       " 0.042374659329652786,\n",
       " 0.03784114494919777,\n",
       " -0.028969738632440567,\n",
       " -0.02367721125483513,\n",
       " 0.02372235246002674,\n",
       " 0.016973651945590973,\n",
       " -0.06214921176433563,\n",
       " -0.058750227093696594,\n",
       " -0.06705125421285629,\n",
       " -0.03220728412270546,\n",
       " -0.004154591355472803,\n",
       " 0.006356948520988226,\n",
       " -0.04841843992471695,\n",
       " -0.0570346862077713,\n",
       " 0.06705053895711899,\n",
       " 0.06645412743091583,\n",
       " -0.018346024677157402,\n",
       " -0.004633557517081499,\n",
       " 0.06697368621826172,\n",
       " 0.0021088120993226767,\n",
       " 0.05570689216256142,\n",
       " 0.04129113256931305,\n",
       " 0.02976115234196186,\n",
       " 0.030071843415498734,\n",
       " -0.06496328860521317,\n",
       " -0.001833989517763257,\n",
       " -0.05519413948059082,\n",
       " 0.054159440100193024,\n",
       " -0.010414158925414085,\n",
       " -0.040909990668296814,\n",
       " -0.021896159276366234,\n",
       " -0.06692224740982056,\n",
       " -0.018953761085867882,\n",
       " 0.011026225052773952,\n",
       " 0.06267701089382172,\n",
       " 0.03532148525118828,\n",
       " 0.06641566753387451,\n",
       " -0.06676334887742996,\n",
       " 0.06119677051901817,\n",
       " -0.024595653638243675,\n",
       " -0.02125903032720089,\n",
       " -0.06320910155773163,\n",
       " 0.06134758144617081,\n",
       " 0.06124487146735191,\n",
       " 0.06461252272129059,\n",
       " 0.03350142017006874,\n",
       " 0.011510547250509262,\n",
       " -0.047900985926389694,\n",
       " -0.0463407039642334,\n",
       " -0.036182090640068054,\n",
       " 0.03418806195259094,\n",
       " -0.06704815477132797,\n",
       " 0.05398306995630264,\n",
       " -0.029562272131443024,\n",
       " 0.03123495914041996,\n",
       " -0.06288379430770874,\n",
       " 0.06705393642187119,\n",
       " -0.048940133303403854,\n",
       " 0.06705386936664581,\n",
       " 0.02018343284726143,\n",
       " -0.04170750826597214,\n",
       " -0.03375185281038284,\n",
       " -0.057771388441324234,\n",
       " 0.020592322573065758,\n",
       " 0.028399325907230377,\n",
       " 0.007111080456525087,\n",
       " 0.06703587621450424,\n",
       " 0.03452189639210701,\n",
       " -0.060629360377788544,\n",
       " -0.04400525242090225,\n",
       " -0.008340330794453621,\n",
       " 0.01614682376384735,\n",
       " 0.05085408315062523,\n",
       " 0.0533328652381897,\n",
       " -0.06538864225149155,\n",
       " -0.021638918668031693,\n",
       " -0.04927961900830269,\n",
       " 0.06633075326681137,\n",
       " -0.05320749804377556,\n",
       " 0.06683969497680664,\n",
       " 0.0035329083912074566,\n",
       " 0.06701325625181198,\n",
       " 0.06461171060800552,\n",
       " -0.03390543535351753,\n",
       " 0.052166055887937546,\n",
       " 0.06639658659696579,\n",
       " -0.04884303733706474,\n",
       " -0.049491431564092636,\n",
       " 0.01303655095398426,\n",
       " 0.056004807353019714,\n",
       " -0.06291811913251877,\n",
       " -0.0014265518402680755,\n",
       " 0.040492765605449677,\n",
       " -0.06646965444087982,\n",
       " 0.027916206046938896,\n",
       " 0.017380593344569206,\n",
       " -0.04813898727297783,\n",
       " -0.023821892216801643,\n",
       " 0.05227328836917877,\n",
       " -0.00087505835108459,\n",
       " 0.02155640721321106,\n",
       " 0.03901628777384758,\n",
       " -0.04357265681028366,\n",
       " -0.005219645798206329,\n",
       " 0.02418988198041916,\n",
       " 0.06449337303638458,\n",
       " -0.02631845325231552,\n",
       " -0.06605546921491623,\n",
       " 0.013230346143245697,\n",
       " 0.06418494880199432,\n",
       " -0.06626703590154648,\n",
       " -0.007633689790964127,\n",
       " 0.007861152291297913,\n",
       " 0.021399691700935364,\n",
       " 0.05274229496717453,\n",
       " 0.06584526598453522,\n",
       " -0.0557674840092659,\n",
       " 0.05230587348341942,\n",
       " 0.020670676603913307,\n",
       " 0.026616688817739487,\n",
       " -0.059400174766778946,\n",
       " 0.044983893632888794,\n",
       " -0.05136425420641899,\n",
       " 0.04674135521054268,\n",
       " -0.0341012105345726,\n",
       " 0.05190832167863846,\n",
       " -0.04598147049546242,\n",
       " -0.05728873237967491,\n",
       " 0.054307397454977036,\n",
       " -0.051171936094760895,\n",
       " 0.06704069674015045,\n",
       " -0.03073864057660103,\n",
       " 0.061386171728372574,\n",
       " 0.02933025173842907,\n",
       " -0.01078839786350727,\n",
       " -0.06695332378149033,\n",
       " -0.0025716102682054043,\n",
       " 0.025724614039063454,\n",
       " 0.055282045155763626,\n",
       " 0.0670538917183876,\n",
       " 0.011373086832463741,\n",
       " 0.03421005979180336,\n",
       " -0.011091052554547787,\n",
       " -0.009677227586507797,\n",
       " -0.057761915028095245,\n",
       " 0.058029916137456894,\n",
       " 0.0152814369648695,\n",
       " 0.012260815128684044,\n",
       " 0.05080245062708855,\n",
       " 0.04696633294224739,\n",
       " 0.019424879923462868,\n",
       " -0.06413740664720535,\n",
       " -0.03483624383807182,\n",
       " -0.06671658158302307,\n",
       " 0.012103386223316193,\n",
       " -0.06705368310213089,\n",
       " 0.03821283206343651,\n",
       " 0.0028735592495650053,\n",
       " -0.039147958159446716,\n",
       " 0.04233930632472038,\n",
       " -0.030732832849025726,\n",
       " 0.04965716972947121,\n",
       " 0.0670539066195488,\n",
       " 0.025547923520207405]"
      ]
     },
     "execution_count": 113,
     "metadata": {},
     "output_type": "execute_result"
    }
   ],
   "source": [
    "#See embedding\n",
    "np.array(use_emb).tolist()[0]"
   ]
  },
  {
   "cell_type": "code",
   "execution_count": 114,
   "id": "afcbe6b3",
   "metadata": {
    "hidden": true
   },
   "outputs": [
    {
     "data": {
      "text/plain": [
       "512"
      ]
     },
     "execution_count": 114,
     "metadata": {},
     "output_type": "execute_result"
    }
   ],
   "source": [
    "#Check embedding size\n",
    "len(np.array(use_emb).tolist()[0])"
   ]
  },
  {
   "cell_type": "code",
   "execution_count": 115,
   "id": "4fdbe754",
   "metadata": {
    "hidden": true
   },
   "outputs": [],
   "source": [
    "#Scaling for Naive Bayes\n",
    "scaler = MinMaxScaler()\n",
    "use_emb_scaled = scaler.fit_transform(use_emb.numpy())"
   ]
  },
  {
   "cell_type": "markdown",
   "id": "de171e3a",
   "metadata": {
    "heading_collapsed": true
   },
   "source": [
    "### Naive Bayes"
   ]
  },
  {
   "cell_type": "code",
   "execution_count": 116,
   "id": "52c414ef",
   "metadata": {
    "hidden": true
   },
   "outputs": [],
   "source": [
    "params = {\"naivebayes__alpha\": [1, 0.1, 0.01, 0.001, 0.0001, 0.00001]}\n",
    "\n",
    "clf = Pipeline([(\"naivebayes\", MultinomialNB())])"
   ]
  },
  {
   "cell_type": "code",
   "execution_count": 117,
   "id": "4b7a3e32",
   "metadata": {
    "hidden": true
   },
   "outputs": [
    {
     "name": "stdout",
     "output_type": "stream",
     "text": [
      "Fitting 5 folds for each of 6 candidates, totalling 30 fits\n",
      "Pipeline(steps=[('naivebayes', MultinomialNB(alpha=1))])\n",
      "0.7535000000000001\n"
     ]
    }
   ],
   "source": [
    "gs = GridSearchCV(clf, params, verbose=2, n_jobs=-1)\n",
    "gs.fit(use_emb_scaled, data.target)\n",
    "print(gs.best_estimator_)\n",
    "print(gs.best_score_)"
   ]
  },
  {
   "cell_type": "code",
   "execution_count": 118,
   "id": "a7e4c530",
   "metadata": {
    "hidden": true
   },
   "outputs": [
    {
     "name": "stdout",
     "output_type": "stream",
     "text": [
      "Fitting 5 folds for each of 6 candidates, totalling 30 fits\n",
      "Pipeline(steps=[('naivebayes', MultinomialNB(alpha=1))])\n",
      "0.7535000000000001\n"
     ]
    }
   ],
   "source": [
    "rs = RandomizedSearchCV(clf, params, verbose=2, n_jobs=-1)\n",
    "rs.fit(use_emb_scaled, data.target)\n",
    "print(rs.best_estimator_)\n",
    "print(rs.best_score_)"
   ]
  },
  {
   "cell_type": "code",
   "execution_count": 119,
   "id": "f2fc10db",
   "metadata": {
    "hidden": true
   },
   "outputs": [
    {
     "data": {
      "text/html": [
       "<div>\n",
       "<style scoped>\n",
       "    .dataframe tbody tr th:only-of-type {\n",
       "        vertical-align: middle;\n",
       "    }\n",
       "\n",
       "    .dataframe tbody tr th {\n",
       "        vertical-align: top;\n",
       "    }\n",
       "\n",
       "    .dataframe thead th {\n",
       "        text-align: right;\n",
       "    }\n",
       "</style>\n",
       "<table border=\"1\" class=\"dataframe\">\n",
       "  <thead>\n",
       "    <tr style=\"text-align: right;\">\n",
       "      <th></th>\n",
       "      <th>Logistic Regression</th>\n",
       "      <th>Naive Bayes</th>\n",
       "      <th>K-Nearest Neighbours</th>\n",
       "      <th>Support Vector Machine</th>\n",
       "      <th>Random Forest</th>\n",
       "    </tr>\n",
       "  </thead>\n",
       "  <tbody>\n",
       "    <tr>\n",
       "      <th>BoW</th>\n",
       "      <td>0.658</td>\n",
       "      <td>0.637</td>\n",
       "      <td>0.5725</td>\n",
       "      <td>0.6545</td>\n",
       "      <td>0.631</td>\n",
       "    </tr>\n",
       "    <tr>\n",
       "      <th>TF-IDF</th>\n",
       "      <td>0.8795</td>\n",
       "      <td>0.8485</td>\n",
       "      <td>0.771</td>\n",
       "      <td>0.877</td>\n",
       "      <td>0.824</td>\n",
       "    </tr>\n",
       "    <tr>\n",
       "      <th>Word2Vec(CBoW)</th>\n",
       "      <td>0.7125</td>\n",
       "      <td>0.5835</td>\n",
       "      <td>0.622</td>\n",
       "      <td>0.7205</td>\n",
       "      <td>0.6595</td>\n",
       "    </tr>\n",
       "    <tr>\n",
       "      <th>Word2Vec(Skip-Gram)</th>\n",
       "      <td>0.758</td>\n",
       "      <td>0.668</td>\n",
       "      <td>0.6925</td>\n",
       "      <td>0.7585</td>\n",
       "      <td>0.7225</td>\n",
       "    </tr>\n",
       "    <tr>\n",
       "      <th>ELMo</th>\n",
       "      <td>NaN</td>\n",
       "      <td>NaN</td>\n",
       "      <td>NaN</td>\n",
       "      <td>NaN</td>\n",
       "      <td>NaN</td>\n",
       "    </tr>\n",
       "    <tr>\n",
       "      <th>USE</th>\n",
       "      <td>NaN</td>\n",
       "      <td>0.7535</td>\n",
       "      <td>NaN</td>\n",
       "      <td>NaN</td>\n",
       "      <td>NaN</td>\n",
       "    </tr>\n",
       "  </tbody>\n",
       "</table>\n",
       "</div>"
      ],
      "text/plain": [
       "                    Logistic Regression Naive Bayes K-Nearest Neighbours  \\\n",
       "BoW                               0.658       0.637               0.5725   \n",
       "TF-IDF                           0.8795      0.8485                0.771   \n",
       "Word2Vec(CBoW)                   0.7125      0.5835                0.622   \n",
       "Word2Vec(Skip-Gram)               0.758       0.668               0.6925   \n",
       "ELMo                                NaN         NaN                  NaN   \n",
       "USE                                 NaN      0.7535                  NaN   \n",
       "\n",
       "                    Support Vector Machine Random Forest  \n",
       "BoW                                 0.6545         0.631  \n",
       "TF-IDF                               0.877         0.824  \n",
       "Word2Vec(CBoW)                      0.7205        0.6595  \n",
       "Word2Vec(Skip-Gram)                 0.7585        0.7225  \n",
       "ELMo                                   NaN           NaN  \n",
       "USE                                    NaN           NaN  "
      ]
     },
     "execution_count": 119,
     "metadata": {},
     "output_type": "execute_result"
    }
   ],
   "source": [
    "#Save best score\n",
    "result_df.loc[\"USE\",\"Naive Bayes\"] = max(rs.best_score_,gs.best_score_)\n",
    "result_df"
   ]
  },
  {
   "cell_type": "markdown",
   "id": "7b3a3d19",
   "metadata": {
    "heading_collapsed": true
   },
   "source": [
    "### Logistic Regression"
   ]
  },
  {
   "cell_type": "code",
   "execution_count": 120,
   "id": "460d0ede",
   "metadata": {
    "hidden": true
   },
   "outputs": [],
   "source": [
    "params = {\"logreg__C\": np.logspace(-3,3,7),\n",
    "          \"logreg__penalty\":[\"l1\",\"l2\"]}\n",
    "\n",
    "clf = Pipeline([(\"logreg\", LogisticRegression())])"
   ]
  },
  {
   "cell_type": "code",
   "execution_count": 121,
   "id": "2df87dd4",
   "metadata": {
    "hidden": true
   },
   "outputs": [
    {
     "name": "stdout",
     "output_type": "stream",
     "text": [
      "Fitting 5 folds for each of 14 candidates, totalling 70 fits\n",
      "Pipeline(steps=[('logreg', LogisticRegression(C=10.0))])\n",
      "0.8355\n"
     ]
    }
   ],
   "source": [
    "gs = GridSearchCV(clf, params, verbose=2, n_jobs=-1)\n",
    "gs.fit(use_emb.numpy(), data.target)\n",
    "print(gs.best_estimator_)\n",
    "print(gs.best_score_)"
   ]
  },
  {
   "cell_type": "code",
   "execution_count": 122,
   "id": "56139485",
   "metadata": {
    "hidden": true
   },
   "outputs": [
    {
     "name": "stdout",
     "output_type": "stream",
     "text": [
      "Fitting 5 folds for each of 10 candidates, totalling 50 fits\n",
      "Pipeline(steps=[('logreg', LogisticRegression(C=10.0))])\n",
      "0.8355\n"
     ]
    }
   ],
   "source": [
    "rs = RandomizedSearchCV(clf, params, verbose=2, n_jobs=-1)\n",
    "rs.fit(use_emb.numpy(), data.target)\n",
    "print(rs.best_estimator_)\n",
    "print(rs.best_score_)"
   ]
  },
  {
   "cell_type": "code",
   "execution_count": 123,
   "id": "f9602710",
   "metadata": {
    "hidden": true
   },
   "outputs": [
    {
     "data": {
      "text/html": [
       "<div>\n",
       "<style scoped>\n",
       "    .dataframe tbody tr th:only-of-type {\n",
       "        vertical-align: middle;\n",
       "    }\n",
       "\n",
       "    .dataframe tbody tr th {\n",
       "        vertical-align: top;\n",
       "    }\n",
       "\n",
       "    .dataframe thead th {\n",
       "        text-align: right;\n",
       "    }\n",
       "</style>\n",
       "<table border=\"1\" class=\"dataframe\">\n",
       "  <thead>\n",
       "    <tr style=\"text-align: right;\">\n",
       "      <th></th>\n",
       "      <th>Logistic Regression</th>\n",
       "      <th>Naive Bayes</th>\n",
       "      <th>K-Nearest Neighbours</th>\n",
       "      <th>Support Vector Machine</th>\n",
       "      <th>Random Forest</th>\n",
       "    </tr>\n",
       "  </thead>\n",
       "  <tbody>\n",
       "    <tr>\n",
       "      <th>BoW</th>\n",
       "      <td>0.658</td>\n",
       "      <td>0.637</td>\n",
       "      <td>0.5725</td>\n",
       "      <td>0.6545</td>\n",
       "      <td>0.631</td>\n",
       "    </tr>\n",
       "    <tr>\n",
       "      <th>TF-IDF</th>\n",
       "      <td>0.8795</td>\n",
       "      <td>0.8485</td>\n",
       "      <td>0.771</td>\n",
       "      <td>0.877</td>\n",
       "      <td>0.824</td>\n",
       "    </tr>\n",
       "    <tr>\n",
       "      <th>Word2Vec(CBoW)</th>\n",
       "      <td>0.7125</td>\n",
       "      <td>0.5835</td>\n",
       "      <td>0.622</td>\n",
       "      <td>0.7205</td>\n",
       "      <td>0.6595</td>\n",
       "    </tr>\n",
       "    <tr>\n",
       "      <th>Word2Vec(Skip-Gram)</th>\n",
       "      <td>0.758</td>\n",
       "      <td>0.668</td>\n",
       "      <td>0.6925</td>\n",
       "      <td>0.7585</td>\n",
       "      <td>0.7225</td>\n",
       "    </tr>\n",
       "    <tr>\n",
       "      <th>ELMo</th>\n",
       "      <td>NaN</td>\n",
       "      <td>NaN</td>\n",
       "      <td>NaN</td>\n",
       "      <td>NaN</td>\n",
       "      <td>NaN</td>\n",
       "    </tr>\n",
       "    <tr>\n",
       "      <th>USE</th>\n",
       "      <td>0.8355</td>\n",
       "      <td>0.7535</td>\n",
       "      <td>NaN</td>\n",
       "      <td>NaN</td>\n",
       "      <td>NaN</td>\n",
       "    </tr>\n",
       "  </tbody>\n",
       "</table>\n",
       "</div>"
      ],
      "text/plain": [
       "                    Logistic Regression Naive Bayes K-Nearest Neighbours  \\\n",
       "BoW                               0.658       0.637               0.5725   \n",
       "TF-IDF                           0.8795      0.8485                0.771   \n",
       "Word2Vec(CBoW)                   0.7125      0.5835                0.622   \n",
       "Word2Vec(Skip-Gram)               0.758       0.668               0.6925   \n",
       "ELMo                                NaN         NaN                  NaN   \n",
       "USE                              0.8355      0.7535                  NaN   \n",
       "\n",
       "                    Support Vector Machine Random Forest  \n",
       "BoW                                 0.6545         0.631  \n",
       "TF-IDF                               0.877         0.824  \n",
       "Word2Vec(CBoW)                      0.7205        0.6595  \n",
       "Word2Vec(Skip-Gram)                 0.7585        0.7225  \n",
       "ELMo                                   NaN           NaN  \n",
       "USE                                    NaN           NaN  "
      ]
     },
     "execution_count": 123,
     "metadata": {},
     "output_type": "execute_result"
    }
   ],
   "source": [
    "#Save best score\n",
    "result_df.loc[\"USE\",\"Logistic Regression\"] = max(rs.best_score_,gs.best_score_)\n",
    "result_df"
   ]
  },
  {
   "cell_type": "markdown",
   "id": "b9070d88",
   "metadata": {
    "heading_collapsed": true
   },
   "source": [
    "### K-Nearest Neighbours"
   ]
  },
  {
   "cell_type": "code",
   "execution_count": 124,
   "id": "d5504edf",
   "metadata": {
    "hidden": true
   },
   "outputs": [],
   "source": [
    "params = {\"knn__n_neighbors\": [1,5,10,20]}\n",
    "\n",
    "clf = Pipeline([(\"knn\", KNeighborsClassifier())])"
   ]
  },
  {
   "cell_type": "code",
   "execution_count": 125,
   "id": "7e872b63",
   "metadata": {
    "hidden": true
   },
   "outputs": [
    {
     "name": "stdout",
     "output_type": "stream",
     "text": [
      "Fitting 5 folds for each of 4 candidates, totalling 20 fits\n",
      "Pipeline(steps=[('knn', KNeighborsClassifier())])\n",
      "0.727\n"
     ]
    }
   ],
   "source": [
    "gs = GridSearchCV(clf, params, verbose=2, n_jobs=-1)\n",
    "gs.fit(use_emb.numpy(), data.target)\n",
    "print(gs.best_estimator_)\n",
    "print(gs.best_score_)"
   ]
  },
  {
   "cell_type": "code",
   "execution_count": 126,
   "id": "a016474d",
   "metadata": {
    "hidden": true
   },
   "outputs": [
    {
     "name": "stdout",
     "output_type": "stream",
     "text": [
      "Fitting 5 folds for each of 4 candidates, totalling 20 fits\n",
      "Pipeline(steps=[('knn', KNeighborsClassifier())])\n",
      "0.727\n"
     ]
    }
   ],
   "source": [
    "rs = RandomizedSearchCV(clf, params, verbose=2, n_jobs=-1)\n",
    "rs.fit(use_emb.numpy(), data.target)\n",
    "print(rs.best_estimator_)\n",
    "print(rs.best_score_)"
   ]
  },
  {
   "cell_type": "code",
   "execution_count": 127,
   "id": "d20285a5",
   "metadata": {
    "hidden": true
   },
   "outputs": [
    {
     "data": {
      "text/html": [
       "<div>\n",
       "<style scoped>\n",
       "    .dataframe tbody tr th:only-of-type {\n",
       "        vertical-align: middle;\n",
       "    }\n",
       "\n",
       "    .dataframe tbody tr th {\n",
       "        vertical-align: top;\n",
       "    }\n",
       "\n",
       "    .dataframe thead th {\n",
       "        text-align: right;\n",
       "    }\n",
       "</style>\n",
       "<table border=\"1\" class=\"dataframe\">\n",
       "  <thead>\n",
       "    <tr style=\"text-align: right;\">\n",
       "      <th></th>\n",
       "      <th>Logistic Regression</th>\n",
       "      <th>Naive Bayes</th>\n",
       "      <th>K-Nearest Neighbours</th>\n",
       "      <th>Support Vector Machine</th>\n",
       "      <th>Random Forest</th>\n",
       "    </tr>\n",
       "  </thead>\n",
       "  <tbody>\n",
       "    <tr>\n",
       "      <th>BoW</th>\n",
       "      <td>0.658</td>\n",
       "      <td>0.637</td>\n",
       "      <td>0.5725</td>\n",
       "      <td>0.6545</td>\n",
       "      <td>0.631</td>\n",
       "    </tr>\n",
       "    <tr>\n",
       "      <th>TF-IDF</th>\n",
       "      <td>0.8795</td>\n",
       "      <td>0.8485</td>\n",
       "      <td>0.771</td>\n",
       "      <td>0.877</td>\n",
       "      <td>0.824</td>\n",
       "    </tr>\n",
       "    <tr>\n",
       "      <th>Word2Vec(CBoW)</th>\n",
       "      <td>0.7125</td>\n",
       "      <td>0.5835</td>\n",
       "      <td>0.622</td>\n",
       "      <td>0.7205</td>\n",
       "      <td>0.6595</td>\n",
       "    </tr>\n",
       "    <tr>\n",
       "      <th>Word2Vec(Skip-Gram)</th>\n",
       "      <td>0.758</td>\n",
       "      <td>0.668</td>\n",
       "      <td>0.6925</td>\n",
       "      <td>0.7585</td>\n",
       "      <td>0.7225</td>\n",
       "    </tr>\n",
       "    <tr>\n",
       "      <th>ELMo</th>\n",
       "      <td>NaN</td>\n",
       "      <td>NaN</td>\n",
       "      <td>NaN</td>\n",
       "      <td>NaN</td>\n",
       "      <td>NaN</td>\n",
       "    </tr>\n",
       "    <tr>\n",
       "      <th>USE</th>\n",
       "      <td>0.8355</td>\n",
       "      <td>0.7535</td>\n",
       "      <td>0.727</td>\n",
       "      <td>NaN</td>\n",
       "      <td>NaN</td>\n",
       "    </tr>\n",
       "  </tbody>\n",
       "</table>\n",
       "</div>"
      ],
      "text/plain": [
       "                    Logistic Regression Naive Bayes K-Nearest Neighbours  \\\n",
       "BoW                               0.658       0.637               0.5725   \n",
       "TF-IDF                           0.8795      0.8485                0.771   \n",
       "Word2Vec(CBoW)                   0.7125      0.5835                0.622   \n",
       "Word2Vec(Skip-Gram)               0.758       0.668               0.6925   \n",
       "ELMo                                NaN         NaN                  NaN   \n",
       "USE                              0.8355      0.7535                0.727   \n",
       "\n",
       "                    Support Vector Machine Random Forest  \n",
       "BoW                                 0.6545         0.631  \n",
       "TF-IDF                               0.877         0.824  \n",
       "Word2Vec(CBoW)                      0.7205        0.6595  \n",
       "Word2Vec(Skip-Gram)                 0.7585        0.7225  \n",
       "ELMo                                   NaN           NaN  \n",
       "USE                                    NaN           NaN  "
      ]
     },
     "execution_count": 127,
     "metadata": {},
     "output_type": "execute_result"
    }
   ],
   "source": [
    "#Save best score\n",
    "result_df.loc[\"USE\",\"K-Nearest Neighbours\"] = max(rs.best_score_,gs.best_score_)\n",
    "result_df"
   ]
  },
  {
   "cell_type": "markdown",
   "id": "d84beb99",
   "metadata": {
    "heading_collapsed": true
   },
   "source": [
    "### SVM"
   ]
  },
  {
   "cell_type": "code",
   "execution_count": 128,
   "id": "a9de1e1c",
   "metadata": {
    "hidden": true
   },
   "outputs": [],
   "source": [
    "params = {\"svc__C\": [.01, .1, 1, 10, 100]}\n",
    "\n",
    "clf = Pipeline([(\"svc\", LinearSVC())])"
   ]
  },
  {
   "cell_type": "code",
   "execution_count": 129,
   "id": "fea456d1",
   "metadata": {
    "hidden": true
   },
   "outputs": [
    {
     "name": "stdout",
     "output_type": "stream",
     "text": [
      "Fitting 5 folds for each of 5 candidates, totalling 25 fits\n",
      "Pipeline(steps=[('svc', LinearSVC(C=1))])\n",
      "0.8355\n"
     ]
    }
   ],
   "source": [
    "gs = GridSearchCV(clf, params, verbose=2, n_jobs=-1)\n",
    "gs.fit(use_emb.numpy(), data.target)\n",
    "print(gs.best_estimator_)\n",
    "print(gs.best_score_)"
   ]
  },
  {
   "cell_type": "code",
   "execution_count": 130,
   "id": "1aac584a",
   "metadata": {
    "hidden": true
   },
   "outputs": [
    {
     "name": "stdout",
     "output_type": "stream",
     "text": [
      "Fitting 5 folds for each of 5 candidates, totalling 25 fits\n",
      "Pipeline(steps=[('svc', LinearSVC(C=1))])\n",
      "0.8355\n"
     ]
    }
   ],
   "source": [
    "rs = RandomizedSearchCV(clf, params, verbose=2, n_jobs=-1)\n",
    "rs.fit(use_emb.numpy(), data.target)\n",
    "print(rs.best_estimator_)\n",
    "print(rs.best_score_)"
   ]
  },
  {
   "cell_type": "code",
   "execution_count": 131,
   "id": "5a1e63e6",
   "metadata": {
    "hidden": true
   },
   "outputs": [
    {
     "data": {
      "text/html": [
       "<div>\n",
       "<style scoped>\n",
       "    .dataframe tbody tr th:only-of-type {\n",
       "        vertical-align: middle;\n",
       "    }\n",
       "\n",
       "    .dataframe tbody tr th {\n",
       "        vertical-align: top;\n",
       "    }\n",
       "\n",
       "    .dataframe thead th {\n",
       "        text-align: right;\n",
       "    }\n",
       "</style>\n",
       "<table border=\"1\" class=\"dataframe\">\n",
       "  <thead>\n",
       "    <tr style=\"text-align: right;\">\n",
       "      <th></th>\n",
       "      <th>Logistic Regression</th>\n",
       "      <th>Naive Bayes</th>\n",
       "      <th>K-Nearest Neighbours</th>\n",
       "      <th>Support Vector Machine</th>\n",
       "      <th>Random Forest</th>\n",
       "    </tr>\n",
       "  </thead>\n",
       "  <tbody>\n",
       "    <tr>\n",
       "      <th>BoW</th>\n",
       "      <td>0.658</td>\n",
       "      <td>0.637</td>\n",
       "      <td>0.5725</td>\n",
       "      <td>0.6545</td>\n",
       "      <td>0.631</td>\n",
       "    </tr>\n",
       "    <tr>\n",
       "      <th>TF-IDF</th>\n",
       "      <td>0.8795</td>\n",
       "      <td>0.8485</td>\n",
       "      <td>0.771</td>\n",
       "      <td>0.877</td>\n",
       "      <td>0.824</td>\n",
       "    </tr>\n",
       "    <tr>\n",
       "      <th>Word2Vec(CBoW)</th>\n",
       "      <td>0.7125</td>\n",
       "      <td>0.5835</td>\n",
       "      <td>0.622</td>\n",
       "      <td>0.7205</td>\n",
       "      <td>0.6595</td>\n",
       "    </tr>\n",
       "    <tr>\n",
       "      <th>Word2Vec(Skip-Gram)</th>\n",
       "      <td>0.758</td>\n",
       "      <td>0.668</td>\n",
       "      <td>0.6925</td>\n",
       "      <td>0.7585</td>\n",
       "      <td>0.7225</td>\n",
       "    </tr>\n",
       "    <tr>\n",
       "      <th>ELMo</th>\n",
       "      <td>NaN</td>\n",
       "      <td>NaN</td>\n",
       "      <td>NaN</td>\n",
       "      <td>NaN</td>\n",
       "      <td>NaN</td>\n",
       "    </tr>\n",
       "    <tr>\n",
       "      <th>USE</th>\n",
       "      <td>0.8355</td>\n",
       "      <td>0.7535</td>\n",
       "      <td>0.727</td>\n",
       "      <td>0.8355</td>\n",
       "      <td>NaN</td>\n",
       "    </tr>\n",
       "  </tbody>\n",
       "</table>\n",
       "</div>"
      ],
      "text/plain": [
       "                    Logistic Regression Naive Bayes K-Nearest Neighbours  \\\n",
       "BoW                               0.658       0.637               0.5725   \n",
       "TF-IDF                           0.8795      0.8485                0.771   \n",
       "Word2Vec(CBoW)                   0.7125      0.5835                0.622   \n",
       "Word2Vec(Skip-Gram)               0.758       0.668               0.6925   \n",
       "ELMo                                NaN         NaN                  NaN   \n",
       "USE                              0.8355      0.7535                0.727   \n",
       "\n",
       "                    Support Vector Machine Random Forest  \n",
       "BoW                                 0.6545         0.631  \n",
       "TF-IDF                               0.877         0.824  \n",
       "Word2Vec(CBoW)                      0.7205        0.6595  \n",
       "Word2Vec(Skip-Gram)                 0.7585        0.7225  \n",
       "ELMo                                   NaN           NaN  \n",
       "USE                                 0.8355           NaN  "
      ]
     },
     "execution_count": 131,
     "metadata": {},
     "output_type": "execute_result"
    }
   ],
   "source": [
    "#Save best score\n",
    "result_df.loc[\"USE\",\"Support Vector Machine\"] = max(rs.best_score_,gs.best_score_)\n",
    "result_df"
   ]
  },
  {
   "cell_type": "markdown",
   "id": "adb57a81",
   "metadata": {},
   "source": [
    "### Random Forest"
   ]
  },
  {
   "cell_type": "code",
   "execution_count": 132,
   "id": "8e7551db",
   "metadata": {},
   "outputs": [],
   "source": [
    "params = {\"rf__n_estimators\": [10,100,1000]}\n",
    "\n",
    "clf = Pipeline([(\"rf\", RandomForestClassifier())])"
   ]
  },
  {
   "cell_type": "code",
   "execution_count": 133,
   "id": "0c9ff5a1",
   "metadata": {},
   "outputs": [
    {
     "name": "stdout",
     "output_type": "stream",
     "text": [
      "Fitting 5 folds for each of 3 candidates, totalling 15 fits\n",
      "Pipeline(steps=[('rf', RandomForestClassifier(n_estimators=1000))])\n",
      "0.8025\n"
     ]
    }
   ],
   "source": [
    "gs = GridSearchCV(clf, params, verbose=2, n_jobs=-1)\n",
    "gs.fit(use_emb.numpy(), data.target)\n",
    "print(gs.best_estimator_)\n",
    "print(gs.best_score_)"
   ]
  },
  {
   "cell_type": "code",
   "execution_count": 134,
   "id": "6dea3c9a",
   "metadata": {},
   "outputs": [
    {
     "name": "stdout",
     "output_type": "stream",
     "text": [
      "Fitting 5 folds for each of 3 candidates, totalling 15 fits\n",
      "Pipeline(steps=[('rf', RandomForestClassifier(n_estimators=1000))])\n",
      "0.805\n"
     ]
    }
   ],
   "source": [
    "rs = RandomizedSearchCV(clf, params, verbose=2, n_jobs=-1)\n",
    "rs.fit(use_emb.numpy(), data.target)\n",
    "print(rs.best_estimator_)\n",
    "print(rs.best_score_)"
   ]
  },
  {
   "cell_type": "code",
   "execution_count": 135,
   "id": "72ae6ef1",
   "metadata": {
    "scrolled": true
   },
   "outputs": [
    {
     "data": {
      "text/html": [
       "<div>\n",
       "<style scoped>\n",
       "    .dataframe tbody tr th:only-of-type {\n",
       "        vertical-align: middle;\n",
       "    }\n",
       "\n",
       "    .dataframe tbody tr th {\n",
       "        vertical-align: top;\n",
       "    }\n",
       "\n",
       "    .dataframe thead th {\n",
       "        text-align: right;\n",
       "    }\n",
       "</style>\n",
       "<table border=\"1\" class=\"dataframe\">\n",
       "  <thead>\n",
       "    <tr style=\"text-align: right;\">\n",
       "      <th></th>\n",
       "      <th>Logistic Regression</th>\n",
       "      <th>Naive Bayes</th>\n",
       "      <th>K-Nearest Neighbours</th>\n",
       "      <th>Support Vector Machine</th>\n",
       "      <th>Random Forest</th>\n",
       "    </tr>\n",
       "  </thead>\n",
       "  <tbody>\n",
       "    <tr>\n",
       "      <th>BoW</th>\n",
       "      <td>0.658</td>\n",
       "      <td>0.637</td>\n",
       "      <td>0.5725</td>\n",
       "      <td>0.6545</td>\n",
       "      <td>0.631</td>\n",
       "    </tr>\n",
       "    <tr>\n",
       "      <th>TF-IDF</th>\n",
       "      <td>0.8795</td>\n",
       "      <td>0.8485</td>\n",
       "      <td>0.771</td>\n",
       "      <td>0.877</td>\n",
       "      <td>0.824</td>\n",
       "    </tr>\n",
       "    <tr>\n",
       "      <th>Word2Vec(CBoW)</th>\n",
       "      <td>0.7125</td>\n",
       "      <td>0.5835</td>\n",
       "      <td>0.622</td>\n",
       "      <td>0.7205</td>\n",
       "      <td>0.6595</td>\n",
       "    </tr>\n",
       "    <tr>\n",
       "      <th>Word2Vec(Skip-Gram)</th>\n",
       "      <td>0.758</td>\n",
       "      <td>0.668</td>\n",
       "      <td>0.6925</td>\n",
       "      <td>0.7585</td>\n",
       "      <td>0.7225</td>\n",
       "    </tr>\n",
       "    <tr>\n",
       "      <th>ELMo</th>\n",
       "      <td>NaN</td>\n",
       "      <td>NaN</td>\n",
       "      <td>NaN</td>\n",
       "      <td>NaN</td>\n",
       "      <td>NaN</td>\n",
       "    </tr>\n",
       "    <tr>\n",
       "      <th>USE</th>\n",
       "      <td>0.8355</td>\n",
       "      <td>0.7535</td>\n",
       "      <td>0.727</td>\n",
       "      <td>0.8355</td>\n",
       "      <td>0.805</td>\n",
       "    </tr>\n",
       "  </tbody>\n",
       "</table>\n",
       "</div>"
      ],
      "text/plain": [
       "                    Logistic Regression Naive Bayes K-Nearest Neighbours  \\\n",
       "BoW                               0.658       0.637               0.5725   \n",
       "TF-IDF                           0.8795      0.8485                0.771   \n",
       "Word2Vec(CBoW)                   0.7125      0.5835                0.622   \n",
       "Word2Vec(Skip-Gram)               0.758       0.668               0.6925   \n",
       "ELMo                                NaN         NaN                  NaN   \n",
       "USE                              0.8355      0.7535                0.727   \n",
       "\n",
       "                    Support Vector Machine Random Forest  \n",
       "BoW                                 0.6545         0.631  \n",
       "TF-IDF                               0.877         0.824  \n",
       "Word2Vec(CBoW)                      0.7205        0.6595  \n",
       "Word2Vec(Skip-Gram)                 0.7585        0.7225  \n",
       "ELMo                                   NaN           NaN  \n",
       "USE                                 0.8355         0.805  "
      ]
     },
     "execution_count": 135,
     "metadata": {},
     "output_type": "execute_result"
    }
   ],
   "source": [
    "#Save best score\n",
    "result_df.loc[\"USE\",\"Random Forest\"] = max(rs.best_score_,gs.best_score_)\n",
    "result_df"
   ]
  },
  {
   "cell_type": "markdown",
   "id": "a58f6612",
   "metadata": {},
   "source": [
    "## ELMo "
   ]
  },
  {
   "cell_type": "markdown",
   "id": "b25996d0",
   "metadata": {},
   "source": [
    "### Getting embeddings"
   ]
  },
  {
   "cell_type": "code",
   "execution_count": 136,
   "id": "6f885794",
   "metadata": {},
   "outputs": [],
   "source": [
    "#Load ELMo model from TensorFlow Hub\n",
    "url = \"https://tfhub.dev/google/elmo/2\"\n",
    "model = hub.load(url).signatures[\"default\"]"
   ]
  },
  {
   "cell_type": "code",
   "execution_count": 137,
   "id": "8a1ab44e",
   "metadata": {},
   "outputs": [],
   "source": [
    "#Reduce logging output\n",
    "logging.set_verbosity(logging.ERROR)"
   ]
  },
  {
   "cell_type": "code",
   "execution_count": 139,
   "id": "a79ca875",
   "metadata": {},
   "outputs": [],
   "source": [
    "#Get embeddings from data\n",
    "elmo_emb = []\n",
    "for review in review_data_stemmed:\n",
    "    embeddings = model(tf.constant(review))[\"elmo\"]\n",
    "    elmo_emb.append(tf.reduce_mean(embeddings,0).numpy())"
   ]
  },
  {
   "cell_type": "code",
   "execution_count": 140,
   "id": "03d4b6a9",
   "metadata": {},
   "outputs": [],
   "source": [
    "elmo_emb_all = np.concatenate(elmo_emb, axis = 0)"
   ]
  },
  {
   "cell_type": "code",
   "execution_count": 141,
   "id": "2a1a82bf",
   "metadata": {},
   "outputs": [
    {
     "data": {
      "text/plain": [
       "1024"
      ]
     },
     "execution_count": 141,
     "metadata": {},
     "output_type": "execute_result"
    }
   ],
   "source": [
    "#Check embedding size\n",
    "len(elmo_emb_all.tolist()[0])"
   ]
  },
  {
   "cell_type": "code",
   "execution_count": 142,
   "id": "8907c7eb",
   "metadata": {},
   "outputs": [],
   "source": [
    "#Scaling for Naive Bayes\n",
    "scaler = MinMaxScaler()\n",
    "elmo_emb_all_scaled = scaler.fit_transform(elmo_emb_all)"
   ]
  },
  {
   "cell_type": "markdown",
   "id": "9e68fe5e",
   "metadata": {},
   "source": [
    "### Naive Bayes"
   ]
  },
  {
   "cell_type": "code",
   "execution_count": 143,
   "id": "bb7823fa",
   "metadata": {},
   "outputs": [],
   "source": [
    "params = {\"naivebayes__alpha\": [1, 0.1, 0.01, 0.001, 0.0001, 0.00001]}\n",
    "\n",
    "clf = Pipeline([(\"naivebayes\", MultinomialNB())])"
   ]
  },
  {
   "cell_type": "code",
   "execution_count": 144,
   "id": "b404ea17",
   "metadata": {},
   "outputs": [
    {
     "name": "stdout",
     "output_type": "stream",
     "text": [
      "Fitting 5 folds for each of 6 candidates, totalling 30 fits\n",
      "Pipeline(steps=[('naivebayes', MultinomialNB(alpha=1))])\n",
      "0.672\n"
     ]
    }
   ],
   "source": [
    "gs = GridSearchCV(clf, params, verbose=2, n_jobs=-1)\n",
    "gs.fit(elmo_emb_all_scaled, data.target)\n",
    "print(gs.best_estimator_)\n",
    "print(gs.best_score_)"
   ]
  },
  {
   "cell_type": "code",
   "execution_count": 145,
   "id": "ee698eb1",
   "metadata": {},
   "outputs": [
    {
     "name": "stdout",
     "output_type": "stream",
     "text": [
      "Fitting 5 folds for each of 6 candidates, totalling 30 fits\n",
      "Pipeline(steps=[('naivebayes', MultinomialNB(alpha=1))])\n",
      "0.672\n"
     ]
    }
   ],
   "source": [
    "rs = RandomizedSearchCV(clf, params, verbose=2, n_jobs=-1)\n",
    "rs.fit(elmo_emb_all_scaled, data.target)\n",
    "print(rs.best_estimator_)\n",
    "print(rs.best_score_)"
   ]
  },
  {
   "cell_type": "code",
   "execution_count": 146,
   "id": "e40c7d58",
   "metadata": {},
   "outputs": [
    {
     "data": {
      "text/html": [
       "<div>\n",
       "<style scoped>\n",
       "    .dataframe tbody tr th:only-of-type {\n",
       "        vertical-align: middle;\n",
       "    }\n",
       "\n",
       "    .dataframe tbody tr th {\n",
       "        vertical-align: top;\n",
       "    }\n",
       "\n",
       "    .dataframe thead th {\n",
       "        text-align: right;\n",
       "    }\n",
       "</style>\n",
       "<table border=\"1\" class=\"dataframe\">\n",
       "  <thead>\n",
       "    <tr style=\"text-align: right;\">\n",
       "      <th></th>\n",
       "      <th>Logistic Regression</th>\n",
       "      <th>Naive Bayes</th>\n",
       "      <th>K-Nearest Neighbours</th>\n",
       "      <th>Support Vector Machine</th>\n",
       "      <th>Random Forest</th>\n",
       "    </tr>\n",
       "  </thead>\n",
       "  <tbody>\n",
       "    <tr>\n",
       "      <th>BoW</th>\n",
       "      <td>0.658</td>\n",
       "      <td>0.637</td>\n",
       "      <td>0.5725</td>\n",
       "      <td>0.6545</td>\n",
       "      <td>0.631</td>\n",
       "    </tr>\n",
       "    <tr>\n",
       "      <th>TF-IDF</th>\n",
       "      <td>0.8795</td>\n",
       "      <td>0.8485</td>\n",
       "      <td>0.771</td>\n",
       "      <td>0.877</td>\n",
       "      <td>0.824</td>\n",
       "    </tr>\n",
       "    <tr>\n",
       "      <th>Word2Vec(CBoW)</th>\n",
       "      <td>0.7125</td>\n",
       "      <td>0.5835</td>\n",
       "      <td>0.622</td>\n",
       "      <td>0.7205</td>\n",
       "      <td>0.6595</td>\n",
       "    </tr>\n",
       "    <tr>\n",
       "      <th>Word2Vec(Skip-Gram)</th>\n",
       "      <td>0.758</td>\n",
       "      <td>0.668</td>\n",
       "      <td>0.6925</td>\n",
       "      <td>0.7585</td>\n",
       "      <td>0.7225</td>\n",
       "    </tr>\n",
       "    <tr>\n",
       "      <th>ELMo</th>\n",
       "      <td>NaN</td>\n",
       "      <td>0.672</td>\n",
       "      <td>NaN</td>\n",
       "      <td>NaN</td>\n",
       "      <td>NaN</td>\n",
       "    </tr>\n",
       "    <tr>\n",
       "      <th>USE</th>\n",
       "      <td>0.8355</td>\n",
       "      <td>0.7535</td>\n",
       "      <td>0.727</td>\n",
       "      <td>0.8355</td>\n",
       "      <td>0.805</td>\n",
       "    </tr>\n",
       "  </tbody>\n",
       "</table>\n",
       "</div>"
      ],
      "text/plain": [
       "                    Logistic Regression Naive Bayes K-Nearest Neighbours  \\\n",
       "BoW                               0.658       0.637               0.5725   \n",
       "TF-IDF                           0.8795      0.8485                0.771   \n",
       "Word2Vec(CBoW)                   0.7125      0.5835                0.622   \n",
       "Word2Vec(Skip-Gram)               0.758       0.668               0.6925   \n",
       "ELMo                                NaN       0.672                  NaN   \n",
       "USE                              0.8355      0.7535                0.727   \n",
       "\n",
       "                    Support Vector Machine Random Forest  \n",
       "BoW                                 0.6545         0.631  \n",
       "TF-IDF                               0.877         0.824  \n",
       "Word2Vec(CBoW)                      0.7205        0.6595  \n",
       "Word2Vec(Skip-Gram)                 0.7585        0.7225  \n",
       "ELMo                                   NaN           NaN  \n",
       "USE                                 0.8355         0.805  "
      ]
     },
     "execution_count": 146,
     "metadata": {},
     "output_type": "execute_result"
    }
   ],
   "source": [
    "#Save best score\n",
    "result_df.loc[\"ELMo\",\"Naive Bayes\"] = max(rs.best_score_,gs.best_score_)\n",
    "result_df"
   ]
  },
  {
   "cell_type": "markdown",
   "id": "5a567b13",
   "metadata": {},
   "source": [
    "### Logistic Regression"
   ]
  },
  {
   "cell_type": "code",
   "execution_count": 147,
   "id": "542febb2",
   "metadata": {},
   "outputs": [],
   "source": [
    "params = {\"logreg__C\": np.logspace(-3,3,7),\n",
    "          \"logreg__penalty\":[\"l1\",\"l2\"]}\n",
    "\n",
    "clf = Pipeline([(\"logreg\", LogisticRegression())])"
   ]
  },
  {
   "cell_type": "code",
   "execution_count": 148,
   "id": "d68a8689",
   "metadata": {},
   "outputs": [
    {
     "name": "stdout",
     "output_type": "stream",
     "text": [
      "Fitting 5 folds for each of 14 candidates, totalling 70 fits\n",
      "Pipeline(steps=[('logreg', LogisticRegression(C=10.0))])\n",
      "0.7799999999999999\n"
     ]
    }
   ],
   "source": [
    "gs = GridSearchCV(clf, params, verbose=2, n_jobs=-1)\n",
    "gs.fit(elmo_emb_all, data.target)\n",
    "print(gs.best_estimator_)\n",
    "print(gs.best_score_)"
   ]
  },
  {
   "cell_type": "code",
   "execution_count": 149,
   "id": "19106036",
   "metadata": {},
   "outputs": [
    {
     "name": "stdout",
     "output_type": "stream",
     "text": [
      "Fitting 5 folds for each of 10 candidates, totalling 50 fits\n",
      "Pipeline(steps=[('logreg', LogisticRegression())])\n",
      "0.768\n"
     ]
    }
   ],
   "source": [
    "rs = RandomizedSearchCV(clf, params, verbose=2, n_jobs=-1)\n",
    "rs.fit(elmo_emb_all, data.target)\n",
    "print(rs.best_estimator_)\n",
    "print(rs.best_score_)"
   ]
  },
  {
   "cell_type": "code",
   "execution_count": 150,
   "id": "eb925d94",
   "metadata": {},
   "outputs": [
    {
     "data": {
      "text/html": [
       "<div>\n",
       "<style scoped>\n",
       "    .dataframe tbody tr th:only-of-type {\n",
       "        vertical-align: middle;\n",
       "    }\n",
       "\n",
       "    .dataframe tbody tr th {\n",
       "        vertical-align: top;\n",
       "    }\n",
       "\n",
       "    .dataframe thead th {\n",
       "        text-align: right;\n",
       "    }\n",
       "</style>\n",
       "<table border=\"1\" class=\"dataframe\">\n",
       "  <thead>\n",
       "    <tr style=\"text-align: right;\">\n",
       "      <th></th>\n",
       "      <th>Logistic Regression</th>\n",
       "      <th>Naive Bayes</th>\n",
       "      <th>K-Nearest Neighbours</th>\n",
       "      <th>Support Vector Machine</th>\n",
       "      <th>Random Forest</th>\n",
       "    </tr>\n",
       "  </thead>\n",
       "  <tbody>\n",
       "    <tr>\n",
       "      <th>BoW</th>\n",
       "      <td>0.658</td>\n",
       "      <td>0.637</td>\n",
       "      <td>0.5725</td>\n",
       "      <td>0.6545</td>\n",
       "      <td>0.631</td>\n",
       "    </tr>\n",
       "    <tr>\n",
       "      <th>TF-IDF</th>\n",
       "      <td>0.8795</td>\n",
       "      <td>0.8485</td>\n",
       "      <td>0.771</td>\n",
       "      <td>0.877</td>\n",
       "      <td>0.824</td>\n",
       "    </tr>\n",
       "    <tr>\n",
       "      <th>Word2Vec(CBoW)</th>\n",
       "      <td>0.7125</td>\n",
       "      <td>0.5835</td>\n",
       "      <td>0.622</td>\n",
       "      <td>0.7205</td>\n",
       "      <td>0.6595</td>\n",
       "    </tr>\n",
       "    <tr>\n",
       "      <th>Word2Vec(Skip-Gram)</th>\n",
       "      <td>0.758</td>\n",
       "      <td>0.668</td>\n",
       "      <td>0.6925</td>\n",
       "      <td>0.7585</td>\n",
       "      <td>0.7225</td>\n",
       "    </tr>\n",
       "    <tr>\n",
       "      <th>ELMo</th>\n",
       "      <td>0.78</td>\n",
       "      <td>0.672</td>\n",
       "      <td>NaN</td>\n",
       "      <td>NaN</td>\n",
       "      <td>NaN</td>\n",
       "    </tr>\n",
       "    <tr>\n",
       "      <th>USE</th>\n",
       "      <td>0.8355</td>\n",
       "      <td>0.7535</td>\n",
       "      <td>0.727</td>\n",
       "      <td>0.8355</td>\n",
       "      <td>0.805</td>\n",
       "    </tr>\n",
       "  </tbody>\n",
       "</table>\n",
       "</div>"
      ],
      "text/plain": [
       "                    Logistic Regression Naive Bayes K-Nearest Neighbours  \\\n",
       "BoW                               0.658       0.637               0.5725   \n",
       "TF-IDF                           0.8795      0.8485                0.771   \n",
       "Word2Vec(CBoW)                   0.7125      0.5835                0.622   \n",
       "Word2Vec(Skip-Gram)               0.758       0.668               0.6925   \n",
       "ELMo                               0.78       0.672                  NaN   \n",
       "USE                              0.8355      0.7535                0.727   \n",
       "\n",
       "                    Support Vector Machine Random Forest  \n",
       "BoW                                 0.6545         0.631  \n",
       "TF-IDF                               0.877         0.824  \n",
       "Word2Vec(CBoW)                      0.7205        0.6595  \n",
       "Word2Vec(Skip-Gram)                 0.7585        0.7225  \n",
       "ELMo                                   NaN           NaN  \n",
       "USE                                 0.8355         0.805  "
      ]
     },
     "execution_count": 150,
     "metadata": {},
     "output_type": "execute_result"
    }
   ],
   "source": [
    "#Save best score\n",
    "result_df.loc[\"ELMo\",\"Logistic Regression\"] = max(rs.best_score_,gs.best_score_)\n",
    "result_df"
   ]
  },
  {
   "cell_type": "markdown",
   "id": "661f8ae5",
   "metadata": {},
   "source": [
    "### K-Nearest Neighbours"
   ]
  },
  {
   "cell_type": "code",
   "execution_count": 151,
   "id": "2bbc7a27",
   "metadata": {},
   "outputs": [],
   "source": [
    "params = {\"knn__n_neighbors\": [1,5,10,20]}\n",
    "\n",
    "clf = Pipeline([(\"knn\", KNeighborsClassifier())])"
   ]
  },
  {
   "cell_type": "code",
   "execution_count": 152,
   "id": "96519dac",
   "metadata": {},
   "outputs": [
    {
     "name": "stdout",
     "output_type": "stream",
     "text": [
      "Fitting 5 folds for each of 4 candidates, totalling 20 fits\n",
      "Pipeline(steps=[('knn', KNeighborsClassifier())])\n",
      "0.6695\n"
     ]
    }
   ],
   "source": [
    "gs = GridSearchCV(clf, params, verbose=2, n_jobs=-1)\n",
    "gs.fit(elmo_emb_all, data.target)\n",
    "print(gs.best_estimator_)\n",
    "print(gs.best_score_)"
   ]
  },
  {
   "cell_type": "code",
   "execution_count": 153,
   "id": "94917521",
   "metadata": {},
   "outputs": [
    {
     "name": "stdout",
     "output_type": "stream",
     "text": [
      "Fitting 5 folds for each of 4 candidates, totalling 20 fits\n",
      "Pipeline(steps=[('knn', KNeighborsClassifier())])\n",
      "0.6695\n"
     ]
    }
   ],
   "source": [
    "rs = RandomizedSearchCV(clf, params, verbose=2, n_jobs=-1)\n",
    "rs.fit(elmo_emb_all, data.target)\n",
    "print(rs.best_estimator_)\n",
    "print(rs.best_score_)"
   ]
  },
  {
   "cell_type": "code",
   "execution_count": 154,
   "id": "56de3a91",
   "metadata": {},
   "outputs": [
    {
     "data": {
      "text/html": [
       "<div>\n",
       "<style scoped>\n",
       "    .dataframe tbody tr th:only-of-type {\n",
       "        vertical-align: middle;\n",
       "    }\n",
       "\n",
       "    .dataframe tbody tr th {\n",
       "        vertical-align: top;\n",
       "    }\n",
       "\n",
       "    .dataframe thead th {\n",
       "        text-align: right;\n",
       "    }\n",
       "</style>\n",
       "<table border=\"1\" class=\"dataframe\">\n",
       "  <thead>\n",
       "    <tr style=\"text-align: right;\">\n",
       "      <th></th>\n",
       "      <th>Logistic Regression</th>\n",
       "      <th>Naive Bayes</th>\n",
       "      <th>K-Nearest Neighbours</th>\n",
       "      <th>Support Vector Machine</th>\n",
       "      <th>Random Forest</th>\n",
       "    </tr>\n",
       "  </thead>\n",
       "  <tbody>\n",
       "    <tr>\n",
       "      <th>BoW</th>\n",
       "      <td>0.658</td>\n",
       "      <td>0.637</td>\n",
       "      <td>0.5725</td>\n",
       "      <td>0.6545</td>\n",
       "      <td>0.631</td>\n",
       "    </tr>\n",
       "    <tr>\n",
       "      <th>TF-IDF</th>\n",
       "      <td>0.8795</td>\n",
       "      <td>0.8485</td>\n",
       "      <td>0.771</td>\n",
       "      <td>0.877</td>\n",
       "      <td>0.824</td>\n",
       "    </tr>\n",
       "    <tr>\n",
       "      <th>Word2Vec(CBoW)</th>\n",
       "      <td>0.7125</td>\n",
       "      <td>0.5835</td>\n",
       "      <td>0.622</td>\n",
       "      <td>0.7205</td>\n",
       "      <td>0.6595</td>\n",
       "    </tr>\n",
       "    <tr>\n",
       "      <th>Word2Vec(Skip-Gram)</th>\n",
       "      <td>0.758</td>\n",
       "      <td>0.668</td>\n",
       "      <td>0.6925</td>\n",
       "      <td>0.7585</td>\n",
       "      <td>0.7225</td>\n",
       "    </tr>\n",
       "    <tr>\n",
       "      <th>ELMo</th>\n",
       "      <td>0.78</td>\n",
       "      <td>0.672</td>\n",
       "      <td>0.6695</td>\n",
       "      <td>NaN</td>\n",
       "      <td>NaN</td>\n",
       "    </tr>\n",
       "    <tr>\n",
       "      <th>USE</th>\n",
       "      <td>0.8355</td>\n",
       "      <td>0.7535</td>\n",
       "      <td>0.727</td>\n",
       "      <td>0.8355</td>\n",
       "      <td>0.805</td>\n",
       "    </tr>\n",
       "  </tbody>\n",
       "</table>\n",
       "</div>"
      ],
      "text/plain": [
       "                    Logistic Regression Naive Bayes K-Nearest Neighbours  \\\n",
       "BoW                               0.658       0.637               0.5725   \n",
       "TF-IDF                           0.8795      0.8485                0.771   \n",
       "Word2Vec(CBoW)                   0.7125      0.5835                0.622   \n",
       "Word2Vec(Skip-Gram)               0.758       0.668               0.6925   \n",
       "ELMo                               0.78       0.672               0.6695   \n",
       "USE                              0.8355      0.7535                0.727   \n",
       "\n",
       "                    Support Vector Machine Random Forest  \n",
       "BoW                                 0.6545         0.631  \n",
       "TF-IDF                               0.877         0.824  \n",
       "Word2Vec(CBoW)                      0.7205        0.6595  \n",
       "Word2Vec(Skip-Gram)                 0.7585        0.7225  \n",
       "ELMo                                   NaN           NaN  \n",
       "USE                                 0.8355         0.805  "
      ]
     },
     "execution_count": 154,
     "metadata": {},
     "output_type": "execute_result"
    }
   ],
   "source": [
    "#Save best score\n",
    "result_df.loc[\"ELMo\",\"K-Nearest Neighbours\"] = max(rs.best_score_,gs.best_score_)\n",
    "result_df"
   ]
  },
  {
   "cell_type": "markdown",
   "id": "7dc7c1e3",
   "metadata": {},
   "source": [
    "### SVM"
   ]
  },
  {
   "cell_type": "code",
   "execution_count": 155,
   "id": "e0cdbe73",
   "metadata": {},
   "outputs": [],
   "source": [
    "params = {\"svc__C\": [.01, .1, 1, 10, 100]}\n",
    "\n",
    "clf = Pipeline([(\"svc\", LinearSVC())])"
   ]
  },
  {
   "cell_type": "code",
   "execution_count": 156,
   "id": "9027f146",
   "metadata": {},
   "outputs": [
    {
     "name": "stdout",
     "output_type": "stream",
     "text": [
      "Fitting 5 folds for each of 5 candidates, totalling 25 fits\n",
      "Pipeline(steps=[('svc', LinearSVC(C=1))])\n",
      "0.7779999999999999\n"
     ]
    }
   ],
   "source": [
    "gs = GridSearchCV(clf, params, verbose=2, n_jobs=-1)\n",
    "gs.fit(elmo_emb_all, data.target)\n",
    "print(gs.best_estimator_)\n",
    "print(gs.best_score_)"
   ]
  },
  {
   "cell_type": "code",
   "execution_count": 157,
   "id": "6df3b3b7",
   "metadata": {},
   "outputs": [
    {
     "name": "stdout",
     "output_type": "stream",
     "text": [
      "Fitting 5 folds for each of 5 candidates, totalling 25 fits\n",
      "Pipeline(steps=[('svc', LinearSVC(C=1))])\n",
      "0.7779999999999999\n"
     ]
    }
   ],
   "source": [
    "rs = RandomizedSearchCV(clf, params, verbose=2, n_jobs=-1)\n",
    "rs.fit(elmo_emb_all, data.target)\n",
    "print(rs.best_estimator_)\n",
    "print(rs.best_score_)"
   ]
  },
  {
   "cell_type": "code",
   "execution_count": 158,
   "id": "c9d78d45",
   "metadata": {},
   "outputs": [
    {
     "data": {
      "text/html": [
       "<div>\n",
       "<style scoped>\n",
       "    .dataframe tbody tr th:only-of-type {\n",
       "        vertical-align: middle;\n",
       "    }\n",
       "\n",
       "    .dataframe tbody tr th {\n",
       "        vertical-align: top;\n",
       "    }\n",
       "\n",
       "    .dataframe thead th {\n",
       "        text-align: right;\n",
       "    }\n",
       "</style>\n",
       "<table border=\"1\" class=\"dataframe\">\n",
       "  <thead>\n",
       "    <tr style=\"text-align: right;\">\n",
       "      <th></th>\n",
       "      <th>Logistic Regression</th>\n",
       "      <th>Naive Bayes</th>\n",
       "      <th>K-Nearest Neighbours</th>\n",
       "      <th>Support Vector Machine</th>\n",
       "      <th>Random Forest</th>\n",
       "    </tr>\n",
       "  </thead>\n",
       "  <tbody>\n",
       "    <tr>\n",
       "      <th>BoW</th>\n",
       "      <td>0.658</td>\n",
       "      <td>0.637</td>\n",
       "      <td>0.5725</td>\n",
       "      <td>0.6545</td>\n",
       "      <td>0.631</td>\n",
       "    </tr>\n",
       "    <tr>\n",
       "      <th>TF-IDF</th>\n",
       "      <td>0.8795</td>\n",
       "      <td>0.8485</td>\n",
       "      <td>0.771</td>\n",
       "      <td>0.877</td>\n",
       "      <td>0.824</td>\n",
       "    </tr>\n",
       "    <tr>\n",
       "      <th>Word2Vec(CBoW)</th>\n",
       "      <td>0.7125</td>\n",
       "      <td>0.5835</td>\n",
       "      <td>0.622</td>\n",
       "      <td>0.7205</td>\n",
       "      <td>0.6595</td>\n",
       "    </tr>\n",
       "    <tr>\n",
       "      <th>Word2Vec(Skip-Gram)</th>\n",
       "      <td>0.758</td>\n",
       "      <td>0.668</td>\n",
       "      <td>0.6925</td>\n",
       "      <td>0.7585</td>\n",
       "      <td>0.7225</td>\n",
       "    </tr>\n",
       "    <tr>\n",
       "      <th>ELMo</th>\n",
       "      <td>0.78</td>\n",
       "      <td>0.672</td>\n",
       "      <td>0.6695</td>\n",
       "      <td>0.778</td>\n",
       "      <td>NaN</td>\n",
       "    </tr>\n",
       "    <tr>\n",
       "      <th>USE</th>\n",
       "      <td>0.8355</td>\n",
       "      <td>0.7535</td>\n",
       "      <td>0.727</td>\n",
       "      <td>0.8355</td>\n",
       "      <td>0.805</td>\n",
       "    </tr>\n",
       "  </tbody>\n",
       "</table>\n",
       "</div>"
      ],
      "text/plain": [
       "                    Logistic Regression Naive Bayes K-Nearest Neighbours  \\\n",
       "BoW                               0.658       0.637               0.5725   \n",
       "TF-IDF                           0.8795      0.8485                0.771   \n",
       "Word2Vec(CBoW)                   0.7125      0.5835                0.622   \n",
       "Word2Vec(Skip-Gram)               0.758       0.668               0.6925   \n",
       "ELMo                               0.78       0.672               0.6695   \n",
       "USE                              0.8355      0.7535                0.727   \n",
       "\n",
       "                    Support Vector Machine Random Forest  \n",
       "BoW                                 0.6545         0.631  \n",
       "TF-IDF                               0.877         0.824  \n",
       "Word2Vec(CBoW)                      0.7205        0.6595  \n",
       "Word2Vec(Skip-Gram)                 0.7585        0.7225  \n",
       "ELMo                                 0.778           NaN  \n",
       "USE                                 0.8355         0.805  "
      ]
     },
     "execution_count": 158,
     "metadata": {},
     "output_type": "execute_result"
    }
   ],
   "source": [
    "#Save best score\n",
    "result_df.loc[\"ELMo\",\"Support Vector Machine\"] = max(rs.best_score_,gs.best_score_)\n",
    "result_df"
   ]
  },
  {
   "cell_type": "markdown",
   "id": "503096fb",
   "metadata": {},
   "source": [
    "### Random Forest"
   ]
  },
  {
   "cell_type": "code",
   "execution_count": 159,
   "id": "c7357204",
   "metadata": {},
   "outputs": [],
   "source": [
    "params = {\"rf__n_estimators\": [10,100,1000]}\n",
    "\n",
    "clf = Pipeline([(\"rf\", RandomForestClassifier())])"
   ]
  },
  {
   "cell_type": "code",
   "execution_count": 160,
   "id": "edd8edad",
   "metadata": {},
   "outputs": [
    {
     "name": "stdout",
     "output_type": "stream",
     "text": [
      "Fitting 5 folds for each of 3 candidates, totalling 15 fits\n",
      "Pipeline(steps=[('rf', RandomForestClassifier(n_estimators=1000))])\n",
      "0.7170000000000001\n"
     ]
    }
   ],
   "source": [
    "gs = GridSearchCV(clf, params, verbose=2, n_jobs=-1)\n",
    "gs.fit(elmo_emb_all, data.target)\n",
    "print(gs.best_estimator_)\n",
    "print(gs.best_score_)"
   ]
  },
  {
   "cell_type": "code",
   "execution_count": 161,
   "id": "a72f9f70",
   "metadata": {},
   "outputs": [
    {
     "name": "stdout",
     "output_type": "stream",
     "text": [
      "Fitting 5 folds for each of 3 candidates, totalling 15 fits\n",
      "Pipeline(steps=[('rf', RandomForestClassifier(n_estimators=1000))])\n",
      "0.7155\n"
     ]
    }
   ],
   "source": [
    "rs = RandomizedSearchCV(clf, params, verbose=2, n_jobs=-1)\n",
    "rs.fit(elmo_emb_all, data.target)\n",
    "print(rs.best_estimator_)\n",
    "print(rs.best_score_)"
   ]
  },
  {
   "cell_type": "code",
   "execution_count": 162,
   "id": "87394d57",
   "metadata": {
    "scrolled": true
   },
   "outputs": [
    {
     "data": {
      "text/html": [
       "<div>\n",
       "<style scoped>\n",
       "    .dataframe tbody tr th:only-of-type {\n",
       "        vertical-align: middle;\n",
       "    }\n",
       "\n",
       "    .dataframe tbody tr th {\n",
       "        vertical-align: top;\n",
       "    }\n",
       "\n",
       "    .dataframe thead th {\n",
       "        text-align: right;\n",
       "    }\n",
       "</style>\n",
       "<table border=\"1\" class=\"dataframe\">\n",
       "  <thead>\n",
       "    <tr style=\"text-align: right;\">\n",
       "      <th></th>\n",
       "      <th>Logistic Regression</th>\n",
       "      <th>Naive Bayes</th>\n",
       "      <th>K-Nearest Neighbours</th>\n",
       "      <th>Support Vector Machine</th>\n",
       "      <th>Random Forest</th>\n",
       "    </tr>\n",
       "  </thead>\n",
       "  <tbody>\n",
       "    <tr>\n",
       "      <th>BoW</th>\n",
       "      <td>0.658</td>\n",
       "      <td>0.637</td>\n",
       "      <td>0.5725</td>\n",
       "      <td>0.6545</td>\n",
       "      <td>0.631</td>\n",
       "    </tr>\n",
       "    <tr>\n",
       "      <th>TF-IDF</th>\n",
       "      <td>0.8795</td>\n",
       "      <td>0.8485</td>\n",
       "      <td>0.771</td>\n",
       "      <td>0.877</td>\n",
       "      <td>0.824</td>\n",
       "    </tr>\n",
       "    <tr>\n",
       "      <th>Word2Vec(CBoW)</th>\n",
       "      <td>0.7125</td>\n",
       "      <td>0.5835</td>\n",
       "      <td>0.622</td>\n",
       "      <td>0.7205</td>\n",
       "      <td>0.6595</td>\n",
       "    </tr>\n",
       "    <tr>\n",
       "      <th>Word2Vec(Skip-Gram)</th>\n",
       "      <td>0.758</td>\n",
       "      <td>0.668</td>\n",
       "      <td>0.6925</td>\n",
       "      <td>0.7585</td>\n",
       "      <td>0.7225</td>\n",
       "    </tr>\n",
       "    <tr>\n",
       "      <th>ELMo</th>\n",
       "      <td>0.78</td>\n",
       "      <td>0.672</td>\n",
       "      <td>0.6695</td>\n",
       "      <td>0.778</td>\n",
       "      <td>0.717</td>\n",
       "    </tr>\n",
       "    <tr>\n",
       "      <th>USE</th>\n",
       "      <td>0.8355</td>\n",
       "      <td>0.7535</td>\n",
       "      <td>0.727</td>\n",
       "      <td>0.8355</td>\n",
       "      <td>0.805</td>\n",
       "    </tr>\n",
       "  </tbody>\n",
       "</table>\n",
       "</div>"
      ],
      "text/plain": [
       "                    Logistic Regression Naive Bayes K-Nearest Neighbours  \\\n",
       "BoW                               0.658       0.637               0.5725   \n",
       "TF-IDF                           0.8795      0.8485                0.771   \n",
       "Word2Vec(CBoW)                   0.7125      0.5835                0.622   \n",
       "Word2Vec(Skip-Gram)               0.758       0.668               0.6925   \n",
       "ELMo                               0.78       0.672               0.6695   \n",
       "USE                              0.8355      0.7535                0.727   \n",
       "\n",
       "                    Support Vector Machine Random Forest  \n",
       "BoW                                 0.6545         0.631  \n",
       "TF-IDF                               0.877         0.824  \n",
       "Word2Vec(CBoW)                      0.7205        0.6595  \n",
       "Word2Vec(Skip-Gram)                 0.7585        0.7225  \n",
       "ELMo                                 0.778         0.717  \n",
       "USE                                 0.8355         0.805  "
      ]
     },
     "execution_count": 162,
     "metadata": {},
     "output_type": "execute_result"
    }
   ],
   "source": [
    "#Save best score\n",
    "result_df.loc[\"ELMo\",\"Random Forest\"] = max(rs.best_score_,gs.best_score_)\n",
    "result_df"
   ]
  },
  {
   "cell_type": "markdown",
   "id": "f6e40571",
   "metadata": {},
   "source": [
    "## GloVe"
   ]
  },
  {
   "cell_type": "code",
   "execution_count": 163,
   "id": "37136d01",
   "metadata": {},
   "outputs": [],
   "source": [
    "# urllib.request.urlretrieve('https://nlp.stanford.edu/data/glove.6B.zip','downloads/glove.6B.zip')"
   ]
  },
  {
   "cell_type": "code",
   "execution_count": 164,
   "id": "f78f270a",
   "metadata": {},
   "outputs": [],
   "source": [
    "# https://nlp.stanford.edu/data/glove.6B.zip"
   ]
  },
  {
   "cell_type": "code",
   "execution_count": 165,
   "id": "5c10891b",
   "metadata": {},
   "outputs": [
    {
     "name": "stdout",
     "output_type": "stream",
     "text": [
      "unzip:  cannot find or open downloads/glove.6B.zip, downloads/glove.6B.zip.zip or downloads/glove.6B.zip.ZIP.\r\n"
     ]
    }
   ],
   "source": [
    "# !unzip \"downloads/glove.6B.zip\" -d \"downloads/\""
   ]
  },
  {
   "cell_type": "code",
   "execution_count": 167,
   "id": "4c7aa6aa",
   "metadata": {},
   "outputs": [],
   "source": [
    "#Create dictionary holding word and its vector\n",
    "emmbed_dict = {}\n",
    "with open('downloads/glove.6B.200d.txt','r') as f:\n",
    "    for line in f:\n",
    "        values = line.split()\n",
    "        word = values[0]\n",
    "        vector = np.asarray(values[1:],'float32')\n",
    "        emmbed_dict[word]=vector"
   ]
  },
  {
   "cell_type": "code",
   "execution_count": 168,
   "id": "d48b501b",
   "metadata": {},
   "outputs": [],
   "source": [
    "#Find similar words using Euclidean distance\n",
    "def find_similar_word(emmbedes):\n",
    "  nearest = sorted(emmbed_dict.keys(), key=lambda word: spatial.distance.euclidean(emmbed_dict[word], emmbedes))\n",
    "  return nearest"
   ]
  },
  {
   "cell_type": "code",
   "execution_count": 169,
   "id": "e1ff5df3",
   "metadata": {},
   "outputs": [
    {
     "data": {
      "text/plain": [
       "['river',\n",
       " 'rivers',\n",
       " 'tributary',\n",
       " 'confluence',\n",
       " 'creek',\n",
       " 'along',\n",
       " 'tributaries',\n",
       " 'valley',\n",
       " 'flows',\n",
       " 'danube']"
      ]
     },
     "execution_count": 169,
     "metadata": {},
     "output_type": "execute_result"
    }
   ],
   "source": [
    "find_similar_word(emmbed_dict['river'])[0:10]"
   ]
  },
  {
   "cell_type": "code",
   "execution_count": 170,
   "id": "179e11ed",
   "metadata": {},
   "outputs": [
    {
     "data": {
      "text/plain": [
       "['king',\n",
       " 'prince',\n",
       " 'queen',\n",
       " 'princess',\n",
       " 'crown',\n",
       " 'throne',\n",
       " 'royal',\n",
       " 'monarch',\n",
       " 'kingdom',\n",
       " 'duke']"
      ]
     },
     "execution_count": 170,
     "metadata": {},
     "output_type": "execute_result"
    }
   ],
   "source": [
    "find_similar_word(emmbed_dict['king'] + emmbed_dict['queen'] + emmbed_dict['prince'])[0:10]"
   ]
  },
  {
   "cell_type": "markdown",
   "id": "ed01691e",
   "metadata": {},
   "source": [
    "### Visualization using t-SNE"
   ]
  },
  {
   "cell_type": "code",
   "execution_count": 171,
   "id": "adf74f01",
   "metadata": {},
   "outputs": [
    {
     "data": {
      "image/png": "[encoded data removed]",
      "text/plain": [
       "<Figure size 1400x800 with 1 Axes>"
      ]
     },
     "metadata": {},
     "output_type": "display_data"
    }
   ],
   "source": [
    "#Visualize using t-SNE\n",
    "dist = TSNE(n_components=2)\n",
    "words = list(emmbed_dict.keys())\n",
    "vectors = [emmbed_dict[word] for word in words]\n",
    "y = dist.fit_transform(vectors[700:850])\n",
    "plt.figure(figsize=(14,8))\n",
    "plt.scatter(y[:, 0],y[:,1])\n",
    "for label,x,y in zip(words,y[:, 0],y[:,1]):\n",
    "  plt.annotate(label,xy=(x,y),xytext=(0,0),textcoords='offset points')\n",
    "plt.show()"
   ]
  },
  {
   "cell_type": "code",
   "execution_count": null,
   "id": "74fb2dfc",
   "metadata": {},
   "outputs": [],
   "source": []
  },
  {
   "cell_type": "code",
   "execution_count": null,
   "id": "dccc8d24",
   "metadata": {},
   "outputs": [],
   "source": []
  },
  {
   "cell_type": "code",
   "execution_count": null,
   "id": "ca9aed3e",
   "metadata": {},
   "outputs": [],
   "source": []
  },
  {
   "cell_type": "code",
   "execution_count": null,
   "id": "d1f401bd",
   "metadata": {},
   "outputs": [],
   "source": []
  },
  {
   "cell_type": "code",
   "execution_count": null,
   "id": "75a5fdc5",
   "metadata": {},
   "outputs": [],
   "source": []
  },
  {
   "cell_type": "code",
   "execution_count": null,
   "id": "3f6bdcf6",
   "metadata": {},
   "outputs": [],
   "source": []
  },
  {
   "cell_type": "code",
   "execution_count": null,
   "id": "11cb39e8",
   "metadata": {},
   "outputs": [],
   "source": []
  }
 ],
 "metadata": {
  "kernelspec": {
   "display_name": "Python 3 (ipykernel)",
   "language": "python",
   "name": "python3"
  },
  "language_info": {
   "codemirror_mode": {
    "name": "ipython",
    "version": 3
   },
   "file_extension": ".py",
   "mimetype": "text/x-python",
   "name": "python",
   "nbconvert_exporter": "python",
   "pygments_lexer": "ipython3",
   "version": "3.8.13"
  }
 },
 "nbformat": 4,
 "nbformat_minor": 5
}
