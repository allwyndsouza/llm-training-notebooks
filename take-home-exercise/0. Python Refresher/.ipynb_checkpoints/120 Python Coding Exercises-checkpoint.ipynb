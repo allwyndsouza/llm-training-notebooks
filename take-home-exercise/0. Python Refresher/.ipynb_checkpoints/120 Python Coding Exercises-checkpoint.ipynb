{
 "cells": [
  {
   "cell_type": "code",
   "execution_count": 1,
   "id": "674f2471",
   "metadata": {},
   "outputs": [],
   "source": [
    "from IPython.display import display, HTML\n",
    "display(HTML(\"<style>.container { width:100% !important; }</style>\"))"
   ]
  },
  {
   "cell_type": "markdown",
   "id": "eef7b3ad",
   "metadata": {},
   "source": [
    "# Basics of Python"
   ]
  },
  {
   "cell_type": "code",
   "execution_count": 2,
   "id": "21c0778a",
   "metadata": {},
   "outputs": [],
   "source": [
    "import random\n",
    "import math"
   ]
  },
  {
   "cell_type": "markdown",
   "id": "b1a7f8c1",
   "metadata": {},
   "source": [
    "**Exercise 1** <br/>\n",
    "What is 6 to the power of 3?"
   ]
  },
  {
   "cell_type": "markdown",
   "id": "dab59687",
   "metadata": {},
   "source": [
    "**Exercise 2** <br/>\n",
    "Split this string into a list: \"I'm eating a lot of ice-cream lately.\""
   ]
  },
  {
   "cell_type": "code",
   "execution_count": 2,
   "id": "6406b261",
   "metadata": {},
   "outputs": [],
   "source": [
    "my_str = \"I'm eating a lot of ice-cream lately.\""
   ]
  },
  {
   "cell_type": "markdown",
   "id": "7341677d",
   "metadata": {},
   "source": [
    "**Exercise 3** <br/>\n",
    "Given *total marks = 500, marks obtained = 390*, fill in the blanks in this string and print it - \"Ankush obtained _ marks out of a total of _ , thus scoring _ percent.\""
   ]
  },
  {
   "cell_type": "markdown",
   "id": "b5997e01",
   "metadata": {},
   "source": [
    "**Exercise 4** <br/>\n",
    "Given this nested list, get the character \"%%\": `[1,2,3,[1,2,[1,2,3,\"%%\"]]]`"
   ]
  },
  {
   "cell_type": "markdown",
   "id": "73f72208",
   "metadata": {},
   "source": [
    "**Exercise 5** <br/>\n",
    "Given this nested dictionary, get the character \"%%\": `{'a':[1,2,3, {'b':[1,2, {'c': [1,2,3,\"%%\"]}]}]}`"
   ]
  },
  {
   "cell_type": "markdown",
   "id": "9e9a6940",
   "metadata": {},
   "source": [
    "**Exercise 6** <br/>\n",
    "Create a function that takes a list and returns another list with just the unique values. Test it on `[1,2,1,1,5,6,3,3]`"
   ]
  },
  {
   "cell_type": "markdown",
   "id": "6d315ca3",
   "metadata": {},
   "source": [
    "**Exercise 7** <br/>\n",
    "Create a function to return the unique even numbers from a list. Test it on `[1,2,2,1,5,6,3,6]`"
   ]
  },
  {
   "cell_type": "markdown",
   "id": "a12581d4",
   "metadata": {},
   "source": [
    "**Exercise 8** <br/>\n",
    "Create a function to return the first name assuming format of `\"<Firstname Lastname>\"`. Test it on \"John Doe\"."
   ]
  },
  {
   "cell_type": "markdown",
   "id": "84a8d1dc",
   "metadata": {},
   "source": [
    "**Exercise 9** <br/>\n",
    "Create a function to check if a value is present in a list. Test it on whether `3` is present in `[\"John\",4,1,2,3,\"Doe\"]` and `[\"John\",4,1,2,\"Doe\"]`."
   ]
  },
  {
   "cell_type": "markdown",
   "id": "4a1a786b",
   "metadata": {},
   "source": [
    "**Exercise 10** <br/>\n",
    "Create a list with odd numbers between 10 and 30 using list comprehension."
   ]
  },
  {
   "cell_type": "markdown",
   "id": "09039d5b",
   "metadata": {},
   "source": [
    "**Exercise 11** <br/>\n",
    "Create a new tuple with `5` value appended to the original tuple of `(1,2,3,4)`."
   ]
  },
  {
   "cell_type": "markdown",
   "id": "43d40c84",
   "metadata": {},
   "source": [
    "**Exercise 12** <br/>\n",
    "Drop the first value of `5` from the list `[1,2,3,6,5,4,5,5]`"
   ]
  },
  {
   "cell_type": "markdown",
   "id": "24966f68",
   "metadata": {},
   "source": [
    "**Exercise 13** <br/>\n",
    "Drop all values of `5` from the list `[1,2,3,6,5,4,5,5]`"
   ]
  },
  {
   "cell_type": "markdown",
   "id": "7bd83768",
   "metadata": {},
   "source": [
    "**Exercise 14** <br/>\n",
    "Drop all values of `5` and `7` from the list `[1,2,7,3,6,5,4,5,5,7]`"
   ]
  },
  {
   "cell_type": "markdown",
   "id": "9d8ac44f",
   "metadata": {},
   "source": [
    "**Exercise 15** <br/>\n",
    "Remove the last value of the list `[1,2,7,3,6,5,4,5,5,7]`"
   ]
  },
  {
   "cell_type": "markdown",
   "id": "d13bc04d",
   "metadata": {},
   "source": [
    "**Exercise 16** <br/>\n",
    "Get count of all `1` values in the nested list `[[1,2],[2,7],[3,6],[5,1],[5,5],[7,1]]`"
   ]
  },
  {
   "cell_type": "markdown",
   "id": "78d1ccfc",
   "metadata": {},
   "source": [
    "**Exercise 17** <br/>\n",
    "Get a list of unique values from the nested list `[[1,2],[2,7],[3,6],[5,1],[5,5],[7,1]]`"
   ]
  },
  {
   "cell_type": "markdown",
   "id": "460a4250",
   "metadata": {},
   "source": [
    "**Exercise 18** <br/>\n",
    "Return a tuple of the length and width from this statement - `The paper had length and width dimensions in centimetres of (23,12)`"
   ]
  },
  {
   "cell_type": "markdown",
   "id": "7811bb1a",
   "metadata": {},
   "source": [
    "**Exercise 19** <br/>\n",
    "Return alternate values from the list (i.e., values at 1st, 3rd, 5th positions and so on) - `[1,2,7,3,6,5,4,5,5,7]`"
   ]
  },
  {
   "cell_type": "markdown",
   "id": "d317ede9",
   "metadata": {},
   "source": [
    "**Exercise 20** <br/>\n",
    "Return the reversed list - `[1,2,7,3,6,5,4,5,5,7]`"
   ]
  },
  {
   "cell_type": "markdown",
   "id": "5d9f70d0",
   "metadata": {},
   "source": [
    "**Exercise 21** <br/>\n",
    "Generate a list of random integers (values between 10 and 30 - both not included) of a random size (values between 10 and 15 - both included)."
   ]
  },
  {
   "cell_type": "markdown",
   "id": "d7660766",
   "metadata": {},
   "source": [
    "**Exercise 22** <br/>\n",
    "Generate a list of random integers (values between 10 and 30 - both not included) of a random size (values between 10 and 15 - both included)."
   ]
  },
  {
   "cell_type": "markdown",
   "id": "27cd6df9",
   "metadata": {},
   "source": [
    "**Exercise 23** <br/>\n",
    "Print 5 random integers between 10 and 30 (both included) with the condition that the value should not be 22 or 29."
   ]
  },
  {
   "cell_type": "markdown",
   "id": "e14b76b5",
   "metadata": {},
   "source": [
    "**Exercise 24** <br/>\n",
    "Print 5 random integers between 10 and 30 (both included) with the condition that if the value is 22 or 29, then nothing more should be printed."
   ]
  },
  {
   "cell_type": "markdown",
   "id": "87679ffb",
   "metadata": {},
   "source": [
    "**Exercise 25** <br/>\n",
    "Create a function using `Lambda` to return the first name assuming format of `\"<Firstname Lastname>\"`. Test it on \"John Doe\"."
   ]
  },
  {
   "cell_type": "markdown",
   "id": "16de9ae8",
   "metadata": {},
   "source": [
    "**Exercise 26** <br/>\n",
    "Create a `Circle` class constructed using the diameter that can return the area and perimeter. Print area and perimeter of circle with diameter 10."
   ]
  },
  {
   "cell_type": "markdown",
   "id": "d92de7ac",
   "metadata": {},
   "source": [
    "**Exercise 27** <br/>\n",
    "Create a `Cylinder` class inheriting from previously created `Circle` class, that is constructed using the diameter and height. It should n return the area and perimeter. Print area and perimeter of cylinder with diameter 10 and height 2."
   ]
  },
  {
   "cell_type": "markdown",
   "id": "6dfe79f0",
   "metadata": {},
   "source": [
    "**Exercise 28** <br/>\n",
    "Create a function to return the multiplication table (1 to 10) of any number. Show results for `19`."
   ]
  },
  {
   "cell_type": "markdown",
   "id": "dffbc85e",
   "metadata": {},
   "source": [
    "**Exercise 29** <br/>\n",
    "Create a function to check if a triangle has exactly 3 sides equal, 2 sides equal or no sides equal to each other. Test it on triangle with sides `(4,5,5)`."
   ]
  },
  {
   "cell_type": "markdown",
   "id": "5eb87726",
   "metadata": {},
   "source": [
    "**Exercise 30** <br/>\n",
    "Return a dictionary with students as keys and subjects they've studied as values from this dictionary: `{\"History\":[\"Ankush\", \"John\", \"Jack\", \"Deepak\"], \"Math\":[\"Ankush\", \"Sally\", \"Peter\", \"Bani\"]}`"
   ]
  },
  {
   "cell_type": "markdown",
   "id": "30d1ae0d",
   "metadata": {},
   "source": [
    "# Data Analysis with NumPy"
   ]
  },
  {
   "cell_type": "code",
   "execution_count": 45,
   "id": "69cef965",
   "metadata": {},
   "outputs": [],
   "source": [
    "import numpy as np"
   ]
  },
  {
   "cell_type": "markdown",
   "id": "072bbfa0",
   "metadata": {},
   "source": [
    "**Exercise 31** <br/>\n",
    "Create a NumPy array of size (5,4) with random integers between 1 to 20 (both included)."
   ]
  },
  {
   "cell_type": "markdown",
   "id": "5a4edaf8",
   "metadata": {},
   "source": [
    "**Exercise 32** <br/>\n",
    "Create a NumPy array from the list `[1,2,6,5,4,7,8,9]` and return a NumPy array with the maximum value, index of maximum value, minimum value and index of minimum value."
   ]
  },
  {
   "cell_type": "markdown",
   "id": "d2f76550",
   "metadata": {},
   "source": [
    "**Exercise 33** <br/>\n",
    "Create a NumPy matrix of size (3,2) with random integers between 1 to 10 (both included). Then show the first row and column separately."
   ]
  },
  {
   "cell_type": "markdown",
   "id": "f033d132",
   "metadata": {},
   "source": [
    "**Exercise 34** <br/>\n",
    "Create a NumPy matrix of size (3,2) with random integers between 1 to 10 (both included). Then reshape it to (2,3)."
   ]
  },
  {
   "cell_type": "markdown",
   "id": "61e41baf",
   "metadata": {},
   "source": [
    "**Exercise 35** <br/>\n",
    "Create a NumPy matrix of size (3,2) with random integers between 1 to 10 (both included). Then change values of second column to 20."
   ]
  },
  {
   "cell_type": "markdown",
   "id": "c5124bd0",
   "metadata": {},
   "source": [
    "**Exercise 36** <br/>\n",
    "Create a NumPy matrix of size (5,5) with random integers between 1 to 10 (both excluded). Create a slice of first 3 rows and first 3 columns."
   ]
  },
  {
   "cell_type": "markdown",
   "id": "4a870be8",
   "metadata": {},
   "source": [
    "**Exercise 37** <br/>\n",
    "Create a NumPy array of size 20 with random integers between 1 to 10 (both excluded). Return only those values greater than 5."
   ]
  },
  {
   "cell_type": "markdown",
   "id": "d9f42729",
   "metadata": {},
   "source": [
    "**Exercise 38** <br/>\n",
    "Reshape a random matrix drawn from normal distribution of size (4,4) to (2,8)."
   ]
  },
  {
   "cell_type": "markdown",
   "id": "b4d9fbc0",
   "metadata": {},
   "source": [
    "**Exercise 39** <br/>\n",
    "Reshape a 1D array having 20 elements drawn from normal distribution to a matrix with 1 row."
   ]
  },
  {
   "cell_type": "markdown",
   "id": "6a19144d",
   "metadata": {},
   "source": [
    "**Exercise 40** <br/>\n",
    "Reshape a 1D array having 20 elements drawn from normal distribution to a matrix with 1 column."
   ]
  },
  {
   "cell_type": "markdown",
   "id": "3ab17343",
   "metadata": {},
   "source": [
    "**Exercise 41** <br/>\n",
    "Calculate mean of a 1D array having 20 elements drawn randomly between 50 and 60 (both included)."
   ]
  },
  {
   "cell_type": "markdown",
   "id": "4e71c4a3",
   "metadata": {},
   "source": [
    "**Exercise 42** <br/>\n",
    "Calculate the sum of squared values of elements of 1D array having 20 elements drawn randomly between 50 and 60 (both included)."
   ]
  },
  {
   "cell_type": "markdown",
   "id": "4e890fb5",
   "metadata": {},
   "source": [
    "**Exercise 43** <br/>\n",
    "Calculate the sum of squared values of diagonals of (4,4) matrix having elements drawn randomly between 50 and 60 (both excluded)."
   ]
  },
  {
   "cell_type": "markdown",
   "id": "dc84df9b",
   "metadata": {},
   "source": [
    "**Exercise 44** <br/>\n",
    "Multiply two random matrices of sizes (4,4) and (4,1) having elements drawn randomly between 50 and 60 (both excluded), and return result as a 1D array."
   ]
  },
  {
   "cell_type": "markdown",
   "id": "2063ae91",
   "metadata": {},
   "source": [
    "**Exercise 45** <br/>\n",
    "Multiply element-wise two random matrices both of sizes (3,3) having elements drawn randomly between 1 and 100 (both included)."
   ]
  },
  {
   "cell_type": "markdown",
   "id": "90d8f7d5",
   "metadata": {},
   "source": [
    "**Exercise 46** <br/>\n",
    "Calculate the mean of each column in a random matrix of size (10,4) having elements drawn randomly between 1 and 200 (both included)."
   ]
  },
  {
   "cell_type": "markdown",
   "id": "66138795",
   "metadata": {},
   "source": [
    "**Exercise 47** <br/>\n",
    "Calculate the variance of each row in a random matrix of size (5,30) having elements drawn randomly between 1 and 200 (both included), and round it to 2 decimals."
   ]
  },
  {
   "cell_type": "markdown",
   "id": "33c7ec55",
   "metadata": {},
   "source": [
    "**Exercise 48** <br/>\n",
    "Append two random arrays, one of size 4 and another of size 5, with elements drawn from standard uniform distribution."
   ]
  },
  {
   "cell_type": "markdown",
   "id": "adb83eef",
   "metadata": {},
   "source": [
    "**Exercise 49** <br/>\n",
    "Create a NumPy matrix of size (5,5) with random integers between 1 to 10 (both excluded). Create a slice of first 3 rows and first 3 columns, and set values of slice to 5. Note that values of original matrix should remain the same."
   ]
  },
  {
   "cell_type": "markdown",
   "id": "de43e322",
   "metadata": {},
   "source": [
    "**Exercise 50** <br/>\n",
    "Create a NumPy matrix of size (4,4) with random integers between 1 to 10 (both included). Calculate the function e<sup>(-x<sup>2</sup>)</sup> for each element."
   ]
  },
  {
   "cell_type": "markdown",
   "id": "44f8ff1f",
   "metadata": {},
   "source": [
    "# Data Analysis with Pandas"
   ]
  },
  {
   "cell_type": "code",
   "execution_count": 88,
   "id": "39414260",
   "metadata": {},
   "outputs": [],
   "source": [
    "import pandas as pd\n",
    "housing_df = pd.read_csv(\"datasets/houseprice.csv\")"
   ]
  },
  {
   "cell_type": "markdown",
   "id": "8cee858e",
   "metadata": {},
   "source": [
    "**Exercise 51** <br/>\n",
    "Print top 7 rows of the Pandas dataframe `housing_df`. Show all the columns."
   ]
  },
  {
   "cell_type": "markdown",
   "id": "65502fb1",
   "metadata": {},
   "source": [
    "**Exercise 52** <br/>\n",
    "Get most frequent category in `BsmtFinType2` column and replace NAs by that value."
   ]
  },
  {
   "cell_type": "markdown",
   "id": "524faaf8",
   "metadata": {},
   "source": [
    "**Exercise 53** <br/>\n",
    "After filling NA values in `BsmtFinType2` column by most frequent value, create a Series with index as `BsmtFinType2` category and value as average `SalePrice` of that type."
   ]
  },
  {
   "cell_type": "markdown",
   "id": "b10cf422",
   "metadata": {},
   "source": [
    "**Exercise 54** <br/>\n",
    "After filling NA values in `GarageQual` column by most frequent value, create a Dictionary with keys as `GarageQual` categories and values as average `SalePrice` of that quality."
   ]
  },
  {
   "cell_type": "markdown",
   "id": "cb64b1d3",
   "metadata": {},
   "source": [
    "**Exercise 55** <br/>\n",
    "After filling NA values in `GarageCond` column by most frequent value, create a Pandas DataFrame with columns as `GarageCond` categories and value of the row as average `SalePrice` of that quality."
   ]
  },
  {
   "cell_type": "markdown",
   "id": "0cc23810",
   "metadata": {},
   "source": [
    "**Exercise 56** <br/>\n",
    "Create an empty dataframe with columns as unique values of `GarageCond` and indices as unique values of `BsmtFinType2`."
   ]
  },
  {
   "cell_type": "markdown",
   "id": "db4b32db",
   "metadata": {},
   "source": [
    "**Exercise 57** <br/>\n",
    "Create a dataframe that returns median `SalePrice` for each combination of garage condition `GarageCond` and rating of basement finished area `BsmtFinType2`."
   ]
  },
  {
   "cell_type": "markdown",
   "id": "54a367fe",
   "metadata": {},
   "source": [
    "**Exercise 58** <br/>\n",
    "Create a dataframe that returns median `SalePrice` for each combination, with unique values of `GarageCond` as indices and unique values of `BsmtFinType2` as columns."
   ]
  },
  {
   "cell_type": "markdown",
   "id": "87a0082f",
   "metadata": {},
   "source": [
    "**Exercise 59** <br/>\n",
    "Return the number of times `SalePrice` is within 120000 and 140000 for each `Neighborhood`."
   ]
  },
  {
   "cell_type": "markdown",
   "id": "f31714cb",
   "metadata": {},
   "source": [
    "**Exercise 60** <br/>\n",
    "Return the number of times `GarageQual` is \"*Fa*\" for each `GarageCond`."
   ]
  },
  {
   "cell_type": "markdown",
   "id": "e351873e",
   "metadata": {},
   "source": [
    "**Exercise 61** <br/>\n",
    "Return average `LotFrontage` and median `LotArea` for each `MSZoning` when the `GarageQual` is \"*Fa*\" and `GarageCond` is \"*TA*\"."
   ]
  },
  {
   "cell_type": "markdown",
   "id": "d6e415ca",
   "metadata": {},
   "source": [
    "**Exercise 62** <br/>\n",
    "Return a dataframe with the count of unique `Neighborhood` in each `MSZoning` and `LandContour`."
   ]
  },
  {
   "cell_type": "markdown",
   "id": "c25f0645",
   "metadata": {},
   "source": [
    "**Exercise 63** <br/>\n",
    "Return count of houses that were sold (`YrSold`) within 5 years of being built (`YearBuilt`)."
   ]
  },
  {
   "cell_type": "markdown",
   "id": "32bf9eb4",
   "metadata": {},
   "source": [
    "**Exercise 64 Part 1** <br/>\n",
    "For the houses that were sold (`YrSold`) within a year of being built (`YearBuilt`), what was the average `MasVnrArea`?"
   ]
  },
  {
   "cell_type": "markdown",
   "id": "36a2e46f",
   "metadata": {},
   "source": [
    "**Exercise 64 Part 2** <br/>\n",
    "For the houses that were sold (`YrSold`) either within a year of being built (`YearBuilt`), or after 5 years, what was the average `MasVnrArea`?"
   ]
  },
  {
   "cell_type": "markdown",
   "id": "84a74ae3",
   "metadata": {},
   "source": [
    "**Exercise 65** <br/>\n",
    "Return the most common `ExterQual` for houses sold within 1 year. (use `YrSold`, `YearBuilt` columns)"
   ]
  },
  {
   "cell_type": "markdown",
   "id": "2225be78",
   "metadata": {},
   "source": [
    "**Exercise 66** <br/>\n",
    "Subset dataframe to two columns `ExterQual` and `ExterCond`, and the change column names `ExterQual` to `ExternalQuality` and `ExterCond` to `ExternalCondition`."
   ]
  },
  {
   "cell_type": "markdown",
   "id": "60c57e48",
   "metadata": {},
   "source": [
    "**Exercise 67** <br/>\n",
    "Change *Normal* to *Good* and *Abnorml* to *NotGood* in `SaleCondition` column."
   ]
  },
  {
   "cell_type": "markdown",
   "id": "ab5e2a22",
   "metadata": {},
   "source": [
    "**Exercise 68** <br/>\n",
    "Change *Normal* to *Good* and *Abnorml* to *NotGood* in `SaleCondition` column. Then calculate average `SalePrice` for each `SaleCondition`."
   ]
  },
  {
   "cell_type": "markdown",
   "id": "ae7b845f",
   "metadata": {},
   "source": [
    "**Exercise 69** <br/>\n",
    "What is the most common `Neighborhood`, `BldgType` and `HouseStyle` for houses with `OverallQual` greater than 6 and `SalePrice` less than 130000?"
   ]
  },
  {
   "cell_type": "markdown",
   "id": "80db450f",
   "metadata": {},
   "source": [
    "**Exercise 70** <br/>\n",
    "What is the most common `Neighborhood`, `BldgType` and `HouseStyle` for each `OverallQual` for houses with `SalePrice` less than 140000?"
   ]
  },
  {
   "cell_type": "markdown",
   "id": "22f2f7ca",
   "metadata": {},
   "source": [
    "Let's create 2 subsetted dataframes from the original data."
   ]
  },
  {
   "cell_type": "code",
   "execution_count": 118,
   "id": "5ec5effd",
   "metadata": {},
   "outputs": [],
   "source": [
    "housing_df_1 = housing_df.loc[(housing_df.LotArea > 9000), [\"Id\",\"SalePrice\", \"MasVnrArea\", \"LotFrontage\"]]\n",
    "housing_df_2 = housing_df.loc[(housing_df.HouseStyle == \"2Story\"), [\"Id\",\"Neighborhood\", \"BldgType\", \"GarageCond\"]]"
   ]
  },
  {
   "cell_type": "markdown",
   "id": "d7fd080a",
   "metadata": {},
   "source": [
    "**Exercise 71** <br/>\n",
    "What is the number of common houses in `housing_df_1` and `housing_df_2`?"
   ]
  },
  {
   "cell_type": "markdown",
   "id": "73833ec9",
   "metadata": {},
   "source": [
    "**Exercise 72** <br/>\n",
    "Create a dataframe with `Id`, `SalePrice`, `Neighborhood` and `LotFrontage` columns for the common houses in `housing_df_1` and `housing_df_2`."
   ]
  },
  {
   "cell_type": "markdown",
   "id": "cee82aeb",
   "metadata": {},
   "source": [
    "**Exercise 73** <br/>\n",
    "Create a dataframe with `Id`, `SalePrice`, `Neighborhood` and `MasVnrArea` columns for all houses in `housing_df_1` from the subsetted dataframes."
   ]
  },
  {
   "cell_type": "markdown",
   "id": "27b708a9",
   "metadata": {},
   "source": [
    "**Exercise 74** <br/>\n",
    "Create a dataframe with `Id`, `SalePrice`, `Neighborhood`, `BldgType` and `MasVnrArea` columns for all houses in either `housing_df_1` or `housing_df_1` from subsetted dataframes."
   ]
  },
  {
   "cell_type": "markdown",
   "id": "fc24731f",
   "metadata": {},
   "source": [
    "**Exercise 75** <br/>\n",
    "Create a new dataframe `housing_df_3` with `Id`, `SalePrice`, `Neighborhood`, `BldgType` and `MasVnrArea` columns for all houses in either `housing_df_1` or `housing_df_1` from **original** dataframe `housing_df`."
   ]
  },
  {
   "cell_type": "markdown",
   "id": "18cbfa4c",
   "metadata": {},
   "source": [
    "**Exercise 76** <br/>\n",
    "Create a new column in `housing_df_3` named `SalePriceCateg` with `SalePrice` buckets as follows: *`0-100K`*, *`100K-200K`*, and so on till *`700K-800K`*."
   ]
  },
  {
   "cell_type": "markdown",
   "id": "6845833a",
   "metadata": {},
   "source": [
    "**Exercise 77** <br/>\n",
    "Create a new column in `housing_df_3` named `SalePriceQuant` with 4 `SalePrice` quartiles."
   ]
  },
  {
   "cell_type": "markdown",
   "id": "eb894c90",
   "metadata": {},
   "source": [
    "**Exercise 78** <br/>\n",
    "Return the values of `SalePrice` quartiles in `housing_df_3`."
   ]
  },
  {
   "cell_type": "markdown",
   "id": "eacf6af2",
   "metadata": {},
   "source": [
    "**Exercise 79** <br/>\n",
    "Add `MasVnrArea` column to all houses in `housing_df_2` using `housing_df_3`."
   ]
  },
  {
   "cell_type": "markdown",
   "id": "a7eb0adb",
   "metadata": {},
   "source": [
    "**Exercise 80** <br/>\n",
    "Return the most frequent `SalePriceCateg` for houses in `housing_df_1`."
   ]
  },
  {
   "cell_type": "markdown",
   "id": "3a4fbbb9",
   "metadata": {},
   "source": [
    "**Exercise 81** <br/>\n",
    "Create a dataframe from `housing_df_3` with average `MasVnrArea` for each `SalePriceQuant` such that the quantiles are columns, and the average `MasVnrArea` resides in a single row."
   ]
  },
  {
   "cell_type": "markdown",
   "id": "eb6e6a84",
   "metadata": {},
   "source": [
    "**Exercise 82** <br/>\n",
    "Drop the column `SalePriceQuant` from `housing_df_3` and save the new `housing_df_3`."
   ]
  },
  {
   "cell_type": "markdown",
   "id": "3d180d36",
   "metadata": {},
   "source": [
    "**Exercise 83** <br/>\n",
    "Rename the column `SalePriceCateg` in `housing_df_3` to `SalePriceBin` and save the change."
   ]
  },
  {
   "cell_type": "markdown",
   "id": "3a6c9fa3",
   "metadata": {},
   "source": [
    "**Exercise 84** <br/>\n",
    "If `SalePrice` lies between *200000 to 300000*, then replace the value to 250000 in `housing_df_3`."
   ]
  },
  {
   "cell_type": "markdown",
   "id": "ff4ee896",
   "metadata": {},
   "source": [
    "**Exercise 85** <br/>\n",
    "Create a dataframe with indices as `BldgType`, column names as unique values of `Neighborhood` and values as median `SalePrice` from `housing_df_3`."
   ]
  },
  {
   "cell_type": "markdown",
   "id": "707f77e6",
   "metadata": {},
   "source": [
    "**Exercise 86** <br/>\n",
    "Create a dataframe from `housing_df` with 3 columns - `Id`, `AttributeName`, `AttributeValue` - for attribute columns of *(LotFrontage, Neighborhood, SalePrice, BldgType)*."
   ]
  },
  {
   "cell_type": "markdown",
   "id": "13b0baa1",
   "metadata": {},
   "source": [
    "**Exercise 87** <br/>\n",
    "Create a monthly time series starting March 2020 to October 2022, and store it in `my_ts`."
   ]
  },
  {
   "cell_type": "markdown",
   "id": "f279d6f7",
   "metadata": {},
   "source": [
    "**Exercise 88** <br/>\n",
    "Create a dataframe with two columns - `month` and `year` - using `my_ts`."
   ]
  },
  {
   "cell_type": "markdown",
   "id": "741b635b",
   "metadata": {},
   "source": [
    "**Exercise 89** <br/>\n",
    "Find the number of days between 21-March-2020 and 14-April-2022."
   ]
  },
  {
   "cell_type": "markdown",
   "id": "e74b5c2b",
   "metadata": {},
   "source": [
    "**Exercise 90** <br/>\n",
    "Return a list of strings for all dates between 21-March-2020 and 14-May-2020 that were Mondays."
   ]
  },
  {
   "cell_type": "markdown",
   "id": "0e889dfd",
   "metadata": {},
   "source": [
    "# Visualization with Matplotlib/Seaborn"
   ]
  },
  {
   "cell_type": "code",
   "execution_count": 1,
   "id": "ab3bb1df",
   "metadata": {},
   "outputs": [],
   "source": [
    "import matplotlib.pyplot as plt\n",
    "import seaborn as sns\n",
    "import numpy as np\n",
    "import warnings\n",
    "#Import Circle module\n",
    "from matplotlib.patches import Circle\n",
    "\n",
    "warnings.filterwarnings('ignore')\n",
    "#Set style of Seaborn\n",
    "sns.set_style(\"white\")\n",
    "%matplotlib inline"
   ]
  },
  {
   "cell_type": "code",
   "execution_count": 4,
   "id": "a5268ff5",
   "metadata": {},
   "outputs": [],
   "source": [
    "#Read dataset\n",
    "housing_df = pd.read_csv(\"datasets/houseprice.csv\")"
   ]
  },
  {
   "cell_type": "markdown",
   "id": "cb2f5cbf",
   "metadata": {},
   "source": [
    "**Exercise 91** <br/>\n",
    "Make a plot of y = x<sup>2</sup> using Matplotlib. Label the axes and title as equation. Set figure size to (15,5)."
   ]
  },
  {
   "cell_type": "markdown",
   "id": "87aca0eb",
   "metadata": {},
   "source": [
    "**Exercise 92** <br/>\n",
    "Create a correlogram plot from `housing_df` having features of `LotFrontage`,`LotArea`,`SalePrice`, `OverallQual`."
   ]
  },
  {
   "cell_type": "markdown",
   "id": "ccb1d471",
   "metadata": {},
   "source": [
    "**Exercise 93** <br/>\n",
    "Create a visualization to understand pairwise relationships between `LotFrontage`,`LotArea`,`SalePrice`, `OverallQual`  by `Neighborhood` from `housing_df`."
   ]
  },
  {
   "cell_type": "markdown",
   "id": "ad3158cf",
   "metadata": {},
   "source": [
    "**Exercise 94** <br/>\n",
    "Create a visualization from `housing_df` that replicates the plot shown below."
   ]
  },
  {
   "cell_type": "code",
   "execution_count": 155,
   "id": "a447eb25",
   "metadata": {
    "scrolled": false
   },
   "outputs": [
    {
     "data": {
      "text/plain": [
       "Text(0.5, 1.0, 'Scatterplot of Sales Price against Ground Living Area by Sales Condition')"
      ]
     },
     "execution_count": 155,
     "metadata": {},
     "output_type": "execute_result"
    },
    {
     "data": {
      "image/png": "[encoded data removed]",
      "text/plain": [
       "<Figure size 879.775x504 with 1 Axes>"
      ]
     },
     "metadata": {
      "needs_background": "light"
     },
     "output_type": "display_data"
    }
   ],
   "source": []
  },
  {
   "cell_type": "markdown",
   "id": "e9de6f13",
   "metadata": {},
   "source": [
    "**Exercise 95** <br/>\n",
    "Create a visualization from `housing_df` that replicates the plot shown below."
   ]
  },
  {
   "cell_type": "code",
   "execution_count": 156,
   "id": "6f6b9c55",
   "metadata": {},
   "outputs": [
    {
     "data": {
      "text/plain": [
       "Text(0.5, 1.1, 'Scatterplot of Sales Price against Ground Living Area by Sales Condition')"
      ]
     },
     "execution_count": 156,
     "metadata": {},
     "output_type": "execute_result"
    },
    {
     "data": {
      "text/plain": [
       "<Figure size 3600x3600 with 0 Axes>"
      ]
     },
     "metadata": {},
     "output_type": "display_data"
    },
    {
     "data": {
      "image/png": "[encoded data removed]",
      "text/plain": [
       "<Figure size 1140.88x360 with 3 Axes>"
      ]
     },
     "metadata": {
      "needs_background": "light"
     },
     "output_type": "display_data"
    }
   ],
   "source": []
  },
  {
   "cell_type": "markdown",
   "id": "d7652ece",
   "metadata": {},
   "source": [
    "**Exercise 96** <br/>\n",
    "Create a boxplot for `SalePrice` by `OverallQual` from `housing_df`."
   ]
  },
  {
   "cell_type": "markdown",
   "id": "cbbc30e4",
   "metadata": {},
   "source": [
    "**Exercise 97** <br/>\n",
    "Create a barplot showing number of sales by `OverallQual` from `housing_df`."
   ]
  },
  {
   "cell_type": "markdown",
   "id": "3f244126",
   "metadata": {},
   "source": [
    "**Exercise 98** <br/>\n",
    "Show a piechart of total value of sales by each neighbourhood from `housing_df` with values decreasing counterclockwise."
   ]
  },
  {
   "cell_type": "markdown",
   "id": "d16a7378",
   "metadata": {},
   "source": [
    "**Exercise 99** <br/>\n",
    "Show a joint distribution plot of `SalePrice` by `GrLivArea` with the categories of `OverallQual` as the hue using `housing_df`, along with the histograms of each variable."
   ]
  },
  {
   "cell_type": "markdown",
   "id": "141c5d73",
   "metadata": {},
   "source": [
    "**Exercise 100** <br/>\n",
    "Show a joint distribution plot of `SalePrice` by `GrLivArea` with the categories of `OverallQual` as the hue using `housing_df`, along with the boxplots of each variable."
   ]
  },
  {
   "cell_type": "markdown",
   "id": "e6bcaf8b",
   "metadata": {},
   "source": [
    "**Exercise 101** <br/>\n",
    "Show a regression fit overlayed on stripplot of `SalePrice` by `OverallQual` with `SaleCondition` as the hue using `housing_df`."
   ]
  },
  {
   "cell_type": "markdown",
   "id": "492b3ad6",
   "metadata": {},
   "source": [
    "**Exercise 102** <br/>\n",
    "Create a scatterplot of `SalePrice` against `GarageArea` by `OverallQual` and hue as `SaleCondition` where `OverallQual` is greater than 6."
   ]
  },
  {
   "cell_type": "markdown",
   "id": "3505b2d1",
   "metadata": {},
   "source": [
    "**Exercise 103** <br/>\n",
    "Show a donut chart of number of sales by each `OverallQual` from `housing_df` with values decreasing counterclockwise."
   ]
  },
  {
   "cell_type": "markdown",
   "id": "6733a4fd",
   "metadata": {},
   "source": [
    "**Exercise 104** <br/>\n",
    "Show a regression plot of number of sales by `GrLivArea` for each `OverallQual` between 5 and 8 (both included) using `housing_df`."
   ]
  },
  {
   "cell_type": "markdown",
   "id": "206e6c8b",
   "metadata": {},
   "source": [
    "**Exercise 105** <br/>\n",
    "Show a heatmap of correlations between `SalePrice`, `OverallQual`, `GrLivArea`, `GarageArea`, `LotArea` using `housing_df`."
   ]
  },
  {
   "cell_type": "markdown",
   "id": "d0010906",
   "metadata": {},
   "source": [
    "**Exercise 106** <br/>\n",
    "Show a lineplot of `SalePrice` with `YearBuilt` with hues as `SaleCondition` using `housing_df`."
   ]
  },
  {
   "cell_type": "markdown",
   "id": "3054c32d",
   "metadata": {},
   "source": [
    "**Exercise 107** <br/>\n",
    "Show a barplot of number of sales for houses sold within 1 year, 2 years and so on till 10 years of being built using `housing_df`."
   ]
  },
  {
   "cell_type": "markdown",
   "id": "ffe22a33",
   "metadata": {},
   "source": [
    "**Exercise 108** <br/>\n",
    "Show a barplot of number of sales for houses sold within 1 year, 2 years and so on till 10 years of being built, as well as remodelled using `housing_df`."
   ]
  },
  {
   "cell_type": "markdown",
   "id": "7534509b",
   "metadata": {},
   "source": [
    "**Exercise 109** <br/>\n",
    "For all the cars that were remodelled and then sold, plot the distribution of their age at sale for `SalesCondition` value of `Normal` and `Abnorml` using `housing_df`."
   ]
  },
  {
   "cell_type": "markdown",
   "id": "d646c88f",
   "metadata": {},
   "source": [
    "**Exercise 110** <br/>\n",
    "Create a swarmplot for `SalePrice` by `OverallQual` from `housing_df`."
   ]
  },
  {
   "cell_type": "markdown",
   "id": "2bf2aece",
   "metadata": {},
   "source": [
    "# Python Quiz (10 mins)"
   ]
  },
  {
   "cell_type": "markdown",
   "id": "70134d70",
   "metadata": {},
   "source": [
    "**Exercise 111** <br/>\n",
    "Retrieve the value \"$\" from this dictionary: `{'alpha':[4,5,6,7,['a','a','b',{'beta':[3,3,'8','*',{'gamma':['3','('],'delta':['2','%','$']},'('],'eta':0},'v','w']]}`"
   ]
  },
  {
   "cell_type": "markdown",
   "id": "8927bcda",
   "metadata": {},
   "source": [
    "**Exercise 112** <br/>\n",
    "Replace the alphabets `a` with the letter `e` in this string - `The quick brown fox jumps over the lazy dog`, and return a list of all words that get affected."
   ]
  },
  {
   "cell_type": "markdown",
   "id": "452c727f",
   "metadata": {},
   "source": [
    "**Exercise 113** <br/>\n",
    "Create a NumPy matrix of size (50,50) from a random normal distribution, and another matrix of size (50,1) from a random distribution with integer values between 1 and 10 both excluded. Multiply the two matrices, and return variance of the array obtained."
   ]
  },
  {
   "cell_type": "markdown",
   "id": "8c297fa7",
   "metadata": {},
   "source": [
    "**Exercise 114** <br/>\n",
    "Create a NumPy matrix of size (64,64) from a random normal distribution, and another matrix of size (64,4) from a random distribution with integer values between 10 and 20 both included. Multiply the two matrices, then reshape the matrix into size (32,8) and return mean values for each row in a (32,1) size matrix."
   ]
  },
  {
   "cell_type": "code",
   "execution_count": 188,
   "id": "da2fdd88",
   "metadata": {},
   "outputs": [],
   "source": [
    "housing_df = pd.read_csv(\"datasets/houseprice.csv\")"
   ]
  },
  {
   "cell_type": "markdown",
   "id": "ec24568d",
   "metadata": {},
   "source": [
    "**Exercise 115** <br/>\n",
    "Using the `housing_df`, return the number of sales with average sale price by median `OverallQual` for each `YearBuilt` for which number of sales was more than 10 and sort from latest year to oldest year."
   ]
  },
  {
   "cell_type": "markdown",
   "id": "c5b24cf8",
   "metadata": {},
   "source": [
    "**Exercise 116** <br/>\n",
    "Using the `housing_df`, return median number of months that a house was sold after getting remodelled for each `OverallQual`. Assume that the remodelling occurred in January of the year and ignore instances where remodelling occurred after sale."
   ]
  },
  {
   "cell_type": "markdown",
   "id": "35d0896e",
   "metadata": {},
   "source": [
    "**Exercise 117** <br/>\n",
    "Plot the variation in monthly sales and median sales price for each calendar month in a year."
   ]
  },
  {
   "cell_type": "markdown",
   "id": "0aa6437c",
   "metadata": {},
   "source": [
    "**Exercise 118** <br/>\n",
    "Plot the monthly sales against monthly median sales price for every year a house was sold, and also visualize the most frequent `OverallQual` for the month."
   ]
  },
  {
   "cell_type": "markdown",
   "id": "edbe3327",
   "metadata": {},
   "source": [
    "**Exercise 119** <br/>\n",
    "Create a dataframe with indices as `OverallQual`, columns as `SaleCondition` and values as median `SalePrice`."
   ]
  },
  {
   "cell_type": "markdown",
   "id": "90698563",
   "metadata": {},
   "source": [
    "**Exercise 120** <br/>\n",
    "For `OverallQual` greater than 5, `YearBuilt` after 2000, create a dataframe with 3 columns - `Id`, `AttributeName`, `AttributeValue` - where attributes include `OverallQual`, `YearBuilt`,`LotArea`,`SalePrice`. Display all rows."
   ]
  }
 ],
 "metadata": {
  "kernelspec": {
   "display_name": "Python 3 (ipykernel)",
   "language": "python",
   "name": "python3"
  },
  "language_info": {
   "codemirror_mode": {
    "name": "ipython",
    "version": 3
   },
   "file_extension": ".py",
   "mimetype": "text/x-python",
   "name": "python",
   "nbconvert_exporter": "python",
   "pygments_lexer": "ipython3",
   "version": "3.8.13"
  }
 },
 "nbformat": 4,
 "nbformat_minor": 5
}
